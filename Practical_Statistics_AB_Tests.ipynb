{
  "nbformat": 4,
  "nbformat_minor": 0,
  "metadata": {
    "colab": {
      "name": "Practical_Statistics_AB_Tests.ipynb",
      "provenance": [],
      "collapsed_sections": [
        "TFcRdon-UUEV",
        "HE5x8M7fF3kK",
        "gHcJ2VTvF_j0",
        "cscMtDT32Zya"
      ]
    },
    "kernelspec": {
      "name": "python3",
      "display_name": "Python 3"
    },
    "language_info": {
      "name": "python"
    }
  },
  "cells": [
    {
      "cell_type": "markdown",
      "metadata": {
        "id": "TFcRdon-UUEV"
      },
      "source": [
        "## Practical Statistics"
      ]
    },
    {
      "cell_type": "markdown",
      "metadata": {
        "id": "HE5x8M7fF3kK"
      },
      "source": [
        "### Inferential Statistics"
      ]
    },
    {
      "cell_type": "markdown",
      "metadata": {
        "id": "fHEmlJKHpXo_"
      },
      "source": [
        "#### Bootstraping and confidence intervals"
      ]
    },
    {
      "cell_type": "markdown",
      "metadata": {
        "id": "Yfqn8tOCpIZo"
      },
      "source": [
        "First let's read in the necessary libraries and the dataset. You also have the full and reduced versions of the data available. The reduced version is an example of you would actually get in practice, as it is the sample. While the full data is an example of everyone in your population."
      ]
    },
    {
      "cell_type": "code",
      "metadata": {
        "id": "i7jMgEtbF-zy"
      },
      "source": [
        "import pandas as pd\n",
        "import numpy as np\n",
        "\n",
        "np.random.seed(42)\n",
        "\n",
        "coffee_full = pd.read_csv('coffee_dataset.csv')\n",
        "coffee_red = coffee_full.sample(200) #this is the only data you might actually get in the real world.\n",
        "\n",
        "coffee_red['drinks_coffee'].mean() # Drink Coffee\n",
        "1 - coffee_red['drinks_coffee'].mean() # Don't Drink Coffee\n",
        "\n",
        "coffee_red[coffee_red['drinks_coffee'] == False]['height'].mean() # Of the individuals who do not drink coffee, what is the average height?\n",
        "\n",
        "bootsamp = coffee_red.sample(200, replace = True) # Simulate 200 \"new\" individuals from your original sample of 200.\n",
        "\n",
        "# simulate your bootstrap sample 10,000 times and take the mean height of the \n",
        "# non-coffee drinkers in each sample. Plot the distribution.\n",
        "\n",
        "boot_means = []\n",
        "for _ in range(10000):\n",
        "    bootsamp = coffee_red.sample(200, replace = True)\n",
        "    boot_mean = bootsamp[bootsamp['drinks_coffee'] == False]['height'].mean()\n",
        "    boot_means.append(boot_mean)\n",
        "    \n",
        "plt.hist(boot_means); # Looks pretty normal\n",
        "\n",
        "np.percentile(boot_means, 2.5), np.percentile(boot_means, 97.5) # pull the values necessary for a 95% confidence interval"
      ],
      "execution_count": null,
      "outputs": []
    },
    {
      "cell_type": "markdown",
      "metadata": {
        "id": "gGr9lHwRTgo1"
      },
      "source": [
        "We are 95% confident that the proportion of users that click through using Page A is higher than the average using Page B\n",
        "\n",
        "We are 95% confident that on average the drug will work for the members of this specific population"
      ]
    },
    {
      "cell_type": "markdown",
      "metadata": {
        "id": "ReXROBbSKuGk"
      },
      "source": [
        "#### A/B Tests"
      ]
    },
    {
      "cell_type": "markdown",
      "metadata": {
        "id": "nbvdm7mmK0hj"
      },
      "source": [
        "Let's recap the steps we took to analyze the results of this A/B test.\n",
        "\n",
        "1. We computed the observed difference between the metric, click through rate, for the control and experiment group.\n",
        "2. We simulated the sampling distribution for the difference in proportions (or difference in click through rates).\n",
        "3. We used this sampling distribution to simulate the distribution under the null hypothesis, by creating a random normal distribution centered at 0 with the same spread and size.\n",
        "4. We computed the p-value by finding the proportion of values in the null distribution that were greater than our observed difference.\n",
        "5. We used this p-value to determine the statistical significance of our observed difference"
      ]
    },
    {
      "cell_type": "code",
      "metadata": {
        "id": "i0AappUTKx3H"
      },
      "source": [
        "# Pegar na pasta"
      ],
      "execution_count": null,
      "outputs": []
    },
    {
      "cell_type": "markdown",
      "metadata": {
        "id": "DCvMd2YjLPBF"
      },
      "source": [
        "The second change Audacity is A/B testing is a more career focused description on a course overview page. They hope that this change may encourage more users to enroll and complete this course. In this experiment, we’re going to analyze the following metrics:\n",
        "\n",
        "* Enrollment Rate: Click through rate for the Enroll button the course overview page\n",
        "* Average Reading Duration: Average number of seconds spent on the course overview page\n",
        "* Average Classroom Time: Average number of days spent in the classroom for students enrolled in the course\n",
        "* Completion Rate: Course completion rate for students enrolled in the course\n",
        "\n",
        "First, let's determine if the difference observed for each metric is statistically significant individually.\n",
        "\n"
      ]
    },
    {
      "cell_type": "code",
      "metadata": {
        "id": "HJzevwjbLsld"
      },
      "source": [
        "# Pegar na pasta"
      ],
      "execution_count": null,
      "outputs": []
    },
    {
      "cell_type": "markdown",
      "metadata": {
        "id": "gHcJ2VTvF_j0"
      },
      "source": [
        "### Probability"
      ]
    },
    {
      "cell_type": "code",
      "metadata": {
        "colab": {
          "base_uri": "https://localhost:8080/"
        },
        "id": "m0QcNTh5GCfX",
        "outputId": "aad11494-e807-4fac-e4f3-b6fd459789c7"
      },
      "source": [
        "import numpy as np\n",
        "import matplotlib.pyplot as plt\n",
        "% matplotlib inline\n",
        "\n",
        "# outcome of one coin flip \n",
        "np.random.randint(low=0, high=2, size=None)\n",
        "\n",
        "# outcomes of ten thousand coin flips\n",
        "np.random.randint(2, size=10000)\n",
        "\n",
        "# mean outcome of ten thousand coin flips\n",
        "np.random.randint(2, size=10000).mean()\n",
        "\n",
        "# outcome of one coin flip\n",
        "np.random.choice([0, 1])\n",
        "\n",
        "# outcome of ten thousand coin flips\n",
        "np.random.choice([0, 1], size=10000)\n",
        "\n",
        "# mean outcome of ten thousand coin flips\n",
        "np.random.choice([0, 1], size=10000).mean()\n",
        "\n",
        "# outcomes of ten thousand biased coin flips\n",
        "np.random.choice([0, 1], size=10000, p=[0.8, 0.2])\n",
        "\n",
        "# mean outcome of ten thousand biased coin flips\n",
        "np.random.choice([0, 1], size=10000, p=[0.8, 0.2]).mean()"
      ],
      "execution_count": null,
      "outputs": [
        {
          "output_type": "execute_result",
          "data": {
            "text/plain": [
              "0.20177"
            ]
          },
          "metadata": {},
          "execution_count": 32
        }
      ]
    },
    {
      "cell_type": "code",
      "metadata": {
        "colab": {
          "base_uri": "https://localhost:8080/"
        },
        "id": "yjINGQaW1OhY",
        "outputId": "43ff8815-b233-4ce4-a27b-947bf81d00de"
      },
      "source": [
        "# simulate 1 million tests of two fair coin flips\n",
        "tests = np.random.randint(2, size=(int(1e6), 2))\n",
        "\n",
        "# sums of all tests\n",
        "test_sums = tests.sum(axis=1)\n",
        "\n",
        "# proportion of tests that produced exactly two heads\n",
        "(test_sums == 0).mean()\n",
        "\n",
        "# simulate 1 million tests of three fair coin flips\n",
        "tests = np.random.randint(2, size=(int(1e6), 3))\n",
        "\n",
        "# sums of all tests\n",
        "test_sums = tests.sum(axis=1)\n",
        "\n",
        "# proportion of tests that produced exactly one head\n",
        "(test_sums == 2).mean()\n",
        "\n",
        "# simulate 1 million tests of three biased coin flips\n",
        "# hint: use np.random.choice()\n",
        "tests = np.random.choice([0, 1], size=(int(1e6), 3), p=[0.6, 0.4])\n",
        "\n",
        "# sums of all tests\n",
        "test_sums = tests.sum(axis=1)\n",
        "\n",
        "# proportion of tests that produced exactly one head\n",
        "(test_sums == 2).mean()\n",
        "\n",
        "# simulate 1 million tests of one die roll\n",
        "tests = np.random.choice(np.arange(1, 7), size=(int(1e6), 1))\n",
        "\n",
        "# proportion of tests that produced an even number\n",
        "(tests%2 == 0).mean()\n",
        "\n",
        "# simulate the first million die rolls\n",
        "first = np.random.choice(np.arange(1, 7), size=(int(1e6), 1))\n",
        "\n",
        "# simulate the second million die rolls\n",
        "second = np.random.choice(np.arange(1, 7), size=(int(1e6), 1))\n",
        "\n",
        "# proportion of tests where the 1st and 2nd die rolled the same number\n",
        "(first == second).mean()"
      ],
      "execution_count": null,
      "outputs": [
        {
          "output_type": "execute_result",
          "data": {
            "text/plain": [
              "0.249943"
            ]
          },
          "metadata": {},
          "execution_count": 36
        }
      ]
    },
    {
      "cell_type": "markdown",
      "metadata": {
        "id": "WgIVXl0-cjOy"
      },
      "source": [
        "You found the following proportions from the cancer results dataset.\n",
        "\n",
        "Patients with cancer: 0.105\n",
        "Patients without cancer: 0.895\n",
        "Patients with cancer who tested positive: 0.905\n",
        "Patients with cancer who tested negative: 0.095\n",
        "Patients without cancer who tested positive: 0.204\n",
        "Patients without cancer who tested negative: 0.796\n",
        "Based on the above proportions observed in the data, we can assume the following probabilities."
      ]
    },
    {
      "cell_type": "code",
      "metadata": {
        "id": "WBrAmomzcmvt"
      },
      "source": [
        "# load dataset\n",
        "import pandas as pd\n",
        "\n",
        "df = pd.read_csv('cancer_test_data.csv')\n",
        "df.head()\n",
        "\n",
        "# What proportion of patients who tested positive has cancer?\n",
        "df.query('test_result == \"Positive\"')['has_cancer'].mean()\n",
        "\n",
        "# What proportion of patients who tested positive doesn't have cancer?\n",
        "1 - df.query('test_result == \"Positive\"')['has_cancer'].mean()\n",
        "\n",
        "# What proportion of patients who tested negative has cancer?\n",
        "df.query('test_result == \"Negative\"')['has_cancer'].mean()\n",
        "\n",
        "# What proportion of patients who tested negative doesn't have cancer?\n",
        "1 - df.query('test_result == \"Negative\"')['has_cancer'].mean()"
      ],
      "execution_count": null,
      "outputs": []
    },
    {
      "cell_type": "markdown",
      "metadata": {
        "id": "RY0veDKt57ZH"
      },
      "source": [
        "#### Binomial Distribution"
      ]
    },
    {
      "cell_type": "code",
      "metadata": {
        "colab": {
          "base_uri": "https://localhost:8080/",
          "height": 265
        },
        "id": "LCcVZa1h53k1",
        "outputId": "eeb56596-09ff-430a-b61e-9b83e6199164"
      },
      "source": [
        "import numpy as np\n",
        "\n",
        "# number of heads from 10 fair coin flips\n",
        "np.random.binomial(10, 0.5)\n",
        "\n",
        "# results from 20 tests with 10 coin flips\n",
        "np.random.binomial(10, 0.5, 20)\n",
        "\n",
        "# mean number of heads from the 20 tests\n",
        "np.random.binomial(10, 0.5, 20).mean()\n",
        "\n",
        "# reflects the fairness of the coin more closely as # tests increases\n",
        "np.random.binomial(10, 0.5, 1000000).mean()\n",
        "\n",
        "import matplotlib.pyplot as plt\n",
        "% matplotlib inline\n",
        "\n",
        "plt.hist(np.random.binomial(10, 0.5, 1000000));\n",
        "\n",
        "# gets more narrow as number of flips increase per test\n",
        "plt.hist(np.random.binomial(100, 0.5, 1000000));"
      ],
      "execution_count": null,
      "outputs": [
        {
          "output_type": "display_data",
          "data": {
            "image/png": "[encoded data removed]",
            "text/plain": [
              "<Figure size 432x288 with 1 Axes>"
            ]
          },
          "metadata": {
            "needs_background": "light"
          }
        }
      ]
    },
    {
      "cell_type": "code",
      "metadata": {
        "id": "eHDzib5q7jMV"
      },
      "source": [
        "# simulate 1 million tests of one fair coin flip\n",
        "# remember, the output of these tests are the # successes, or # heads\n",
        "tests = np.random.binomial(1, 0.5, int(1e6))\n",
        "\n",
        "# proportion of tests that produced heads\n",
        "(tests == 1).mean()\n",
        "\n",
        "# simulate 1 million tests of five fair coin flips\n",
        "tests = np.random.binomial(5, 0.5, int(1e6))\n",
        "\n",
        "# proportion of tests that produced 1 head\n",
        "(tests == 1).mean()\n",
        "\n",
        "# simulate 1 million tests of five biased coin flips with P(H) = 0.8\n",
        "tests = np.random.binomial(5, 0.8, int(1e6))\n",
        "\n",
        "# proportion of tests that produced 5 heads\n",
        "(tests == 5).mean()"
      ],
      "execution_count": null,
      "outputs": []
    },
    {
      "cell_type": "markdown",
      "metadata": {
        "id": "LawVJvT0Er2O"
      },
      "source": [
        "#### Sampling Distribution"
      ]
    },
    {
      "cell_type": "code",
      "metadata": {
        "id": "BeaKHRpZEvBc"
      },
      "source": [
        "import numpy as np\n",
        "import matplotlib.pyplot as plt\n",
        "np.random.seed(42)\n",
        "\n",
        "students = np.array([1,0,1,1,1,1,0,0,0,0,1,1,1,1,1,1,1,1,1,1,0])\n",
        "\n",
        "students.mean()\n",
        "\n",
        "p = students.mean()\n",
        "\n",
        "sample1 = np.random.choice(students, 5, replace=True)\n",
        "sample1.mean()\n",
        "\n",
        "sample_props = []\n",
        "for _ in range(10000):\n",
        "    sample = np.random.choice(students, 5, replace=True)\n",
        "    sample_props.append(sample.mean())\n",
        "\n",
        "sample_props = np.array(sample_props)\n",
        "sample_props.mean()\n",
        "\n",
        "print('The standard deviation for the original data is {}'.format(students.std()))\n",
        "print('The variance for the original data is {}'.format(students.var()))\n",
        "\n",
        "p*(1-p) # The variance of the original data\n",
        "\n",
        "print('The standard deviation of the sampling distribution of the mean of 5 draws is {}'.format(sample_props.std()))\n",
        "print('The variance for the sampling distribution of the mean of 5 draws is {}'.format(sample_props.var()))\n",
        "\n",
        "p*(1-p)/5 # The variance of the sample mean of size 5"
      ],
      "execution_count": null,
      "outputs": []
    },
    {
      "cell_type": "markdown",
      "metadata": {
        "id": "cscMtDT32Zya"
      },
      "source": [
        "## A/B Tests"
      ]
    },
    {
      "cell_type": "markdown",
      "metadata": {
        "id": "LFy5voyo27ky"
      },
      "source": [
        "### Study Case\n",
        "\n",
        "1. __Scenario Description__: \n",
        "\n",
        "Let's say that you're working for a fictional productivity software company that is looking for ways to increase the number of people who pay for their software. The way that the software is currently set up, users can download and use the software free of charge, for a 7-day trial. After the end of the trial, users are required to pay for a license to continue using the software.\n",
        "\n",
        "One idea that the company wants to try is to change the layout of the homepage to emphasize more prominently and higher up on the page that there is a 7-day trial available for the company's software. The current fear is that some potential users are missing out on using the software because of a lack of awareness of the trial period. If more people download the software and use it in the trial period, the hope is that this entices more people to make a purchase after seeing what the software can do.\n",
        "\n",
        "In this case study, you'll go through steps for planning out an experiment to test the new homepage. You will start by constructing a user funnel and deciding on metrics to track. You'll also perform experiment sizing to see how long it should be run. Afterwards, you'll be given some data collected for the experiment, perform statistical tests to analyze the results, and come to conclusions regarding how effective the new homepage changes were for bringing in more users.\n",
        "\n",
        "2. __Building a funnel__: \n",
        "\n",
        "Before we do anything else, the first thing we should do is specify the objective or goal of our study:\n",
        "\n",
        "> _Revising the structure of the homepage will increase the number of people that download the software and, ultimately, the number of people that purchase a license._\n",
        "\n",
        "Now, we should think about the activities that a user will take on the site that are relevant to measuring our objective. This path or funnel will help us figure out how we will create experimental condition groups and which metrics we'll need to track to measure the experiment's effect. To help you construct the funnel, here's some information about the way the company's website is structured, and how the software induces users to purchase a license.\n",
        "\n",
        "The company's website has five main sections:\n",
        "\n",
        "* the homepage;\n",
        "* a section with additional information, gallery, and examples;\n",
        "* a page for users to download the software;\n",
        "* a page for users to purchase a license; and\n",
        "* a support sub-site with documentation and FAQs for the software.\n",
        "\n",
        "For the software itself, the website requires that users create an account in order to download the software program. The program is usable freely for seven days after download. When the trial period is hit, the program will bring up a dialog box that takes the user to the license page. After purchasing a license, the user will receive a unique code associated with their site account. This code can then be used with the program to register it with that user, and the program can be used thereafter without issue.\n",
        "\n",
        "Using the information above, fill in your responses to the questions below regarding the construction of a user funnel, then check on the next page for my thoughts.\n",
        "\n",
        "3. __Expected Flow__\n",
        "\n",
        "A straightforward flow might include the following steps:\n",
        "\n",
        "* Visit homepage\n",
        "* Visit download page\n",
        "* Sign up for an account\n",
        "* Download software\n",
        "* After 7-day trial, software takes user to license-purchase page\n",
        "* Purchase license\n",
        "\n",
        "Note that it is possible for the visitor to drop from the flow after each step, forming a funnel. There might be additional steps that a user might take between visiting the homepage and visiting the download page that aren't accounted for in the above flow. For example, someone might want to check out the additional informational pages before visiting the download page, or even visit the license purchase page to check the license price before even deciding to download. Considering the amount of browsing that a visitor could perform on the page, it might be simplest just to track whether or not a user gets to the download page at some point, without worrying about the many paths that they could have taken to get there.\n",
        "\n",
        "4. __Atypical events__\n",
        "\n",
        "There are a few events in the expected flow that might not correspond with the visitors we want to target. For example, there might be users on the homepage who aren't new users. Users who already have a license might just be visiting the homepage as a way to access the support sub-site. A user who wants to buy a license might also come in to the license page through the homepage, rather than directly from the software.\n",
        "\n",
        "When it comes to license purchasing, it's possible that users don't come back after exactly seven days. Some users might come back early and make their purchase during their trial period. Alternatively, a user might end up taking more than seven days to decide to make their purchase, coming back days after the end of the trial. Anticipating scenarios like this can be useful for planning the design, and coming up with metrics that come as close as possible to measuring desired effects.\n",
        "\n",
        "5. __Deciding on Metrics__\n",
        "\n",
        "From our user funnel, we should consider two things: where and how we should split users into experiment groups, and what metrics we will use to track the success or failure of the experimental manipulation. The choice of unit of diversion (the point at which we divide observations into groups) may affect what metrics we can use, and whether the metrics we record should be considered invariant or evaluation metrics. To start, decide on a unit of diversion and brainstorm some ideas for metrics to capture.\n",
        "\n",
        "To be clear, the overall plan is to test the effect of the new homepage using a true experiment; in particular, we'll be using an A/B testing framework. This means that prospective users should be split into two groups. The control, or 'A' group, will see the old homepage, while the experimental, or 'B' group, will see the new homepage that emphasizes the 7-day trial.\n",
        "\n",
        "6. __Unit of Diversion__\n",
        "\n",
        "hree main categories of diversion were presented in the course: event-based diversion, cookie-based diversion, and account-based diversion.\n",
        "\n",
        "An event-based diversion (like a pageview) can provide many observations to draw conclusions from, but doesn't quite hit the mark for this case. If the condition changes on each pageview, then a visitor might get a different experience on each homepage visit. Event-based diversion is much better when the changes aren't as easily visible to users, to avoid disruption of experience. In addition, pageview-based diversion would let us know how many times the download page was accessed from each condition, but can't go any further in tracking how many actual downloads were generated from each condition.\n",
        "\n",
        "Diverting based on account or user ID can be stable, but it's not the right choice in this case. Since visitors only register after getting to the download page, this is too late to introduce the new homepage to people who should be assigned to the experimental condition.\n",
        "\n",
        "So this leaves the consideration of cookie-based diversion, which feels like the right choice. We can assign a cookie to each visitor upon their first page hit, which allows them to be separated into the control and experimental groups. Cookies also allow tracking of each visitor hitting each page, recording whether or not they eventually hit the download page and then whether or not they actually register an account and perform the download.\n",
        "\n",
        "That's not to say that the cookie-based diversion is perfect. The usual cookie-based diversion issues apply: we can get some inconsistency in counts if users enter the site via incognito window, different browsers, or cookies that expire or get deleted before they make a download. This kind of assignment 'dilution' could dampen the true effect of our experimental manipulation. As a simplification, however, we'll assume that this kind of assignment dilution will be small, and ignore its potential effects."
      ]
    },
    {
      "cell_type": "markdown",
      "metadata": {
        "id": "zIINXafSB65a"
      },
      "source": [
        "### Experiment Sizing\n",
        "\n",
        "The basics in sample size determination for A/B Tests\n",
        "\n",
        "* Baseline conversion rate: the approximate percent of the population that satisfies the hypothesis.\n",
        "* Statistical significance: the probability of the study rejecting the null hypothesis, given that the null hypothesis was assumed to be true.\n",
        "* Minimum detectable effect: the lift is the minimum difference between the  A and B samples we want to be able to detect.\n",
        "* The confident level: How confident we need to be."
      ]
    },
    {
      "cell_type": "code",
      "metadata": {
        "id": "ycTBySwkIBED"
      },
      "source": [
        "import numpy as np\n",
        "import scipy.stats as stats\n",
        "import matplotlib.pyplot as plt\n",
        "\n",
        "def power(p_null, p_alt, n, alpha, plot):\n",
        "    \"\"\"\n",
        "    Compute the power of detecting the difference in two populations with \n",
        "    different proportion parameters, given a desired alpha rate.\n",
        "    \n",
        "    Input parameters:\n",
        "        p_null: base success rate under null hypothesis\n",
        "        p_alt : desired success rate to be detected, must be larger than\n",
        "                p_null\n",
        "        n     : number of observations made in each group\n",
        "        alpha : Type-I error rate\n",
        "        plot  : boolean for whether or not a plot of distributions will be\n",
        "                created\n",
        "    \n",
        "    Output value:\n",
        "        power : Power to detect the desired difference, under the null.\n",
        "    \"\"\"\n",
        "    \n",
        "    # Compute the power\n",
        "    \n",
        "    # compute standard deviation\n",
        "    se_null = np.sqrt((p_null * (1-p_null) + p_null * (1-p_null)) / n)\n",
        "    # create the distribution\n",
        "    null_dist = stats.norm(loc=0, scale=se_null)\n",
        "    # compute critical value\n",
        "    p_crit = null_dist.ppf(1- alpha)\n",
        "\n",
        "    se_alt = np.sqrt((p_null * (1-p_null) + p_alt * (1-p_alt) ) /n)\n",
        "    alt_dist = stats.norm(loc=p_alt - p_null, scale=se_alt)\n",
        "    beta = alt_dist.cdf(p_crit)\n",
        "    \n",
        "    if plot:\n",
        "        # Compute distribution heights\n",
        "        low_bound = null_dist.ppf(.01)\n",
        "        high_bound = alt_dist.ppf(.99)\n",
        "        x = np.linspace(low_bound, high_bound, 201)\n",
        "        y_null = null_dist.pdf(x)\n",
        "        y_alt = alt_dist.pdf(x)\n",
        "\n",
        "        # Plot the distributions\n",
        "        plt.plot(x, y_null)\n",
        "        plt.plot(x, y_alt)\n",
        "        plt.vlines(p_crit, 0, np.amax([null_dist.pdf(p_crit), alt_dist.pdf(p_crit)]),\n",
        "                   linestyles = '--')\n",
        "        plt.fill_between(x, y_null, 0, where = (x >= p_crit), alpha = .5)\n",
        "        plt.fill_between(x, y_alt , 0, where = (x <= p_crit), alpha = .5)\n",
        "        \n",
        "        plt.legend(['null','alt'])\n",
        "        plt.xlabel('difference')\n",
        "        plt.ylabel('density')\n",
        "        plt.show()\n",
        "    \n",
        "    # return power\n",
        "    return (1 - beta)"
      ],
      "execution_count": null,
      "outputs": []
    },
    {
      "cell_type": "code",
      "metadata": {
        "id": "9O2ynK_rIezo"
      },
      "source": [
        "p_null = .02\n",
        "p_alt = .023\n",
        "alpha = .025\n",
        "plot = False\n",
        "max_n = 40000\n",
        "\n",
        "for n in range(10000, max_n):\n",
        "    p = power(p_null, p_alt, n, alpha, plot)\n",
        "    if (np.isclose(p, 0.8, atol = 1e-4)) == True:\n",
        "        print(n, '   ', p)\n",
        "    elif n == (max_n - 1):\n",
        "        print(n, '   ', p)"
      ],
      "execution_count": null,
      "outputs": []
    },
    {
      "cell_type": "code",
      "metadata": {
        "colab": {
          "base_uri": "https://localhost:8080/"
        },
        "id": "iXvRTI9wLjVE",
        "outputId": "d4e422fb-8d67-4927-aae6-807f259235ae"
      },
      "source": [
        "34930/1625"
      ],
      "execution_count": null,
      "outputs": [
        {
          "output_type": "execute_result",
          "data": {
            "text/plain": [
              "21.495384615384616"
            ]
          },
          "metadata": {},
          "execution_count": 49
        }
      ]
    },
    {
      "cell_type": "markdown",
      "metadata": {
        "id": "1mW03h9iTpP5"
      },
      "source": [
        "### Analyze Data\n",
        "\n",
        "Let's assume that the experiment was given the green light to go ahead, and data was collected for 29 days. As a reminder of the discussion on experiment sizing, it was found that a three-week period was needed to collect enough visitors to achieve our desired power level. Eight additional days of collection were added to allow visitors in the last week to complete their trials and come back to make a purchase – if you look at the data linked in the next paragraph, you will see that it takes about eight days before the license purchases reaches its steady level.\n",
        "\n",
        "The collected data can be found here. The data file reports the daily counts for the number of unique cookies, number of downloads, and number of license purchases attributed to each group: the experimental group with the new homepage, or the control group with the old homepage. The number of license purchases only includes purchases by users who joined after the start of the experiment, so there will be some time before the counts reach their steady state. As noted earlier, we'll assume that the potentially muddying effects of visits across multiple days, established user visits, and 'lost' cookie tracking will be ignorable, at least unless we find reason to doubt our findings.\n",
        "\n",
        "### Invariant Metric\n",
        "\n",
        "First, we should check our invariant metric, the number of cookies assigned to each group. If there is a statistically significant difference detected, then we shouldn't move on to the evaluation metrics right away. We'd need to first dig deeper to see if there was an issue with the group-assignment procedure, or if there is something about the manipulation that affected the number of cookies observed, before we feel secure about analyzing and interpreting the evaluation metrics."
      ]
    },
    {
      "cell_type": "code",
      "metadata": {
        "colab": {
          "base_uri": "https://localhost:8080/",
          "height": 221
        },
        "id": "hKPVLl6TUPi3",
        "outputId": "a4a1b81b-1cc7-4798-9698-16d758da5024"
      },
      "source": [
        "import pandas as pd\n",
        "import numpy as np\n",
        "import matplotlib.pyplot as plt\n",
        "\n",
        "\n",
        "df = pd.read_csv('data.csv')\n",
        "df.head()"
      ],
      "execution_count": null,
      "outputs": [
        {
          "output_type": "execute_result",
          "data": {
            "text/html": [
              "<div>\n",
              "<style scoped>\n",
              "    .dataframe tbody tr th:only-of-type {\n",
              "        vertical-align: middle;\n",
              "    }\n",
              "\n",
              "    .dataframe tbody tr th {\n",
              "        vertical-align: top;\n",
              "    }\n",
              "\n",
              "    .dataframe thead th {\n",
              "        text-align: right;\n",
              "    }\n",
              "</style>\n",
              "<table border=\"1\" class=\"dataframe\">\n",
              "  <thead>\n",
              "    <tr style=\"text-align: right;\">\n",
              "      <th></th>\n",
              "      <th>Day</th>\n",
              "      <th>Control Cookies</th>\n",
              "      <th>Control Downloads</th>\n",
              "      <th>Control Licenses</th>\n",
              "      <th>Experiment Cookies</th>\n",
              "      <th>Experiment Downloads</th>\n",
              "      <th>Experiment Licenses</th>\n",
              "    </tr>\n",
              "  </thead>\n",
              "  <tbody>\n",
              "    <tr>\n",
              "      <th>0</th>\n",
              "      <td>1</td>\n",
              "      <td>1764</td>\n",
              "      <td>246</td>\n",
              "      <td>1</td>\n",
              "      <td>1850</td>\n",
              "      <td>339</td>\n",
              "      <td>3</td>\n",
              "    </tr>\n",
              "    <tr>\n",
              "      <th>1</th>\n",
              "      <td>2</td>\n",
              "      <td>1541</td>\n",
              "      <td>234</td>\n",
              "      <td>2</td>\n",
              "      <td>1590</td>\n",
              "      <td>281</td>\n",
              "      <td>2</td>\n",
              "    </tr>\n",
              "    <tr>\n",
              "      <th>2</th>\n",
              "      <td>3</td>\n",
              "      <td>1457</td>\n",
              "      <td>240</td>\n",
              "      <td>1</td>\n",
              "      <td>1515</td>\n",
              "      <td>274</td>\n",
              "      <td>1</td>\n",
              "    </tr>\n",
              "    <tr>\n",
              "      <th>3</th>\n",
              "      <td>4</td>\n",
              "      <td>1587</td>\n",
              "      <td>224</td>\n",
              "      <td>1</td>\n",
              "      <td>1541</td>\n",
              "      <td>284</td>\n",
              "      <td>2</td>\n",
              "    </tr>\n",
              "    <tr>\n",
              "      <th>4</th>\n",
              "      <td>5</td>\n",
              "      <td>1606</td>\n",
              "      <td>253</td>\n",
              "      <td>2</td>\n",
              "      <td>1643</td>\n",
              "      <td>292</td>\n",
              "      <td>3</td>\n",
              "    </tr>\n",
              "  </tbody>\n",
              "</table>\n",
              "</div>"
            ],
            "text/plain": [
              "   Day  Control Cookies  ...  Experiment Downloads  Experiment Licenses\n",
              "0    1             1764  ...                   339                    3\n",
              "1    2             1541  ...                   281                    2\n",
              "2    3             1457  ...                   274                    1\n",
              "3    4             1587  ...                   284                    2\n",
              "4    5             1606  ...                   292                    3\n",
              "\n",
              "[5 rows x 7 columns]"
            ]
          },
          "metadata": {},
          "execution_count": 163
        }
      ]
    },
    {
      "cell_type": "code",
      "metadata": {
        "colab": {
          "base_uri": "https://localhost:8080/",
          "height": 142
        },
        "id": "PeeuucJiVhpk",
        "outputId": "2082354a-141a-4e80-e71d-c93a1d66700a"
      },
      "source": [
        "# Get dataframe from control group\n",
        "control_df = pd.DataFrame(df.sum()[1:4].values, index=df.sum()[1:4].index, columns=['Summary'])\n",
        "\n",
        "# Get Control Cookies\n",
        "control_co = control_df.loc['Control Cookies'][0]\n",
        "\n",
        "# Get Control Downloads\n",
        "control_do = control_df.loc['Control Downloads'][0]\n",
        "\n",
        "# Get Control Licenses\n",
        "control_li = control_df.loc['Control Downloads'][0]\n",
        "\n",
        "control_df.head()"
      ],
      "execution_count": null,
      "outputs": [
        {
          "output_type": "execute_result",
          "data": {
            "text/html": [
              "<div>\n",
              "<style scoped>\n",
              "    .dataframe tbody tr th:only-of-type {\n",
              "        vertical-align: middle;\n",
              "    }\n",
              "\n",
              "    .dataframe tbody tr th {\n",
              "        vertical-align: top;\n",
              "    }\n",
              "\n",
              "    .dataframe thead th {\n",
              "        text-align: right;\n",
              "    }\n",
              "</style>\n",
              "<table border=\"1\" class=\"dataframe\">\n",
              "  <thead>\n",
              "    <tr style=\"text-align: right;\">\n",
              "      <th></th>\n",
              "      <th>Summary</th>\n",
              "    </tr>\n",
              "  </thead>\n",
              "  <tbody>\n",
              "    <tr>\n",
              "      <th>Control Cookies</th>\n",
              "      <td>46851</td>\n",
              "    </tr>\n",
              "    <tr>\n",
              "      <th>Control Downloads</th>\n",
              "      <td>7554</td>\n",
              "    </tr>\n",
              "    <tr>\n",
              "      <th>Control Licenses</th>\n",
              "      <td>710</td>\n",
              "    </tr>\n",
              "  </tbody>\n",
              "</table>\n",
              "</div>"
            ],
            "text/plain": [
              "                   Summary\n",
              "Control Cookies      46851\n",
              "Control Downloads     7554\n",
              "Control Licenses       710"
            ]
          },
          "metadata": {},
          "execution_count": 164
        }
      ]
    },
    {
      "cell_type": "code",
      "metadata": {
        "colab": {
          "base_uri": "https://localhost:8080/",
          "height": 142
        },
        "id": "KUW27qByXyZF",
        "outputId": "53acbd6f-867c-48ac-b82d-86bc24f66884"
      },
      "source": [
        "# Get dataframe from experiment group\n",
        "experiment_df = pd.DataFrame(df.sum()[4:7].values, index=df.sum()[4:7].index, columns=['Summary'])\n",
        "\n",
        "# Get Experiment Cookies\n",
        "experiment_co = experiment_df.loc['Experiment Cookies'][0]\n",
        "\n",
        "# Get Experiment Downloads\n",
        "experiment_do = experiment_df.loc['Experiment Downloads'][0]\n",
        "\n",
        "# Get Experiment Licenses\n",
        "experiment_li = experiment_df.loc['Experiment Downloads'][0]\n",
        "\n",
        "experiment_df.head()"
      ],
      "execution_count": null,
      "outputs": [
        {
          "output_type": "execute_result",
          "data": {
            "text/html": [
              "<div>\n",
              "<style scoped>\n",
              "    .dataframe tbody tr th:only-of-type {\n",
              "        vertical-align: middle;\n",
              "    }\n",
              "\n",
              "    .dataframe tbody tr th {\n",
              "        vertical-align: top;\n",
              "    }\n",
              "\n",
              "    .dataframe thead th {\n",
              "        text-align: right;\n",
              "    }\n",
              "</style>\n",
              "<table border=\"1\" class=\"dataframe\">\n",
              "  <thead>\n",
              "    <tr style=\"text-align: right;\">\n",
              "      <th></th>\n",
              "      <th>Summary</th>\n",
              "    </tr>\n",
              "  </thead>\n",
              "  <tbody>\n",
              "    <tr>\n",
              "      <th>Experiment Cookies</th>\n",
              "      <td>47346</td>\n",
              "    </tr>\n",
              "    <tr>\n",
              "      <th>Experiment Downloads</th>\n",
              "      <td>8548</td>\n",
              "    </tr>\n",
              "    <tr>\n",
              "      <th>Experiment Licenses</th>\n",
              "      <td>732</td>\n",
              "    </tr>\n",
              "  </tbody>\n",
              "</table>\n",
              "</div>"
            ],
            "text/plain": [
              "                      Summary\n",
              "Experiment Cookies      47346\n",
              "Experiment Downloads     8548\n",
              "Experiment Licenses       732"
            ]
          },
          "metadata": {},
          "execution_count": 165
        }
      ]
    },
    {
      "cell_type": "markdown",
      "metadata": {
        "id": "Ockuu4iOY9pC"
      },
      "source": [
        "Analyze only invariant metric\n",
        "\n",
        "Simulation approach"
      ]
    },
    {
      "cell_type": "code",
      "metadata": {
        "colab": {
          "base_uri": "https://localhost:8080/"
        },
        "id": "gX51oxyvY5wM",
        "outputId": "a3fb3dab-ce66-439a-c849-53f2b9608a59"
      },
      "source": [
        "# Compute observed difference in cookies\n",
        "obs_diff = experiment_co - control_co\n",
        "\n",
        "# Display observed difference in cookies\n",
        "obs_diff"
      ],
      "execution_count": null,
      "outputs": [
        {
          "output_type": "execute_result",
          "data": {
            "text/plain": [
              "495"
            ]
          },
          "metadata": {},
          "execution_count": 166
        }
      ]
    },
    {
      "cell_type": "code",
      "metadata": {
        "id": "jRNgPeJOZYev"
      },
      "source": [
        "# Create sampling distribution for difference in completion rates\n",
        "# with boostrapping\n",
        "diffs = []\n",
        "size = df.shape[0]\n",
        "for _ in range(20000):\n",
        "    b_samp = df.sample(size, replace=True)\n",
        "    control_df = pd.DataFrame(b_samp.sum()[1:4].values, index=b_samp.sum()[1:4].index, columns=['Summary'])\n",
        "    experiment_df = pd.DataFrame(b_samp.sum()[4:7].values, index=b_samp.sum()[4:7].index, columns=['Summary'])\n",
        "    ctrl_co = control_df.loc['Control Cookies'][0]\n",
        "    exp_co = experiment_df.loc['Experiment Cookies'][0]\n",
        "    diffs.append(exp_co - ctrl_co)"
      ],
      "execution_count": null,
      "outputs": []
    },
    {
      "cell_type": "code",
      "metadata": {
        "colab": {
          "base_uri": "https://localhost:8080/",
          "height": 269
        },
        "id": "dyJnX1afc3Qg",
        "outputId": "a5823a56-1828-48f5-c65a-af9ae88d3ace"
      },
      "source": [
        "# convert to numpy array\n",
        "diffs = np.array(diffs)\n",
        "\n",
        "# plot distribution\n",
        "plt.hist(diffs);"
      ],
      "execution_count": null,
      "outputs": [
        {
          "output_type": "display_data",
          "data": {
            "image/png": "[encoded data removed]",
            "text/plain": [
              "<Figure size 432x288 with 1 Axes>"
            ]
          },
          "metadata": {
            "needs_background": "light"
          }
        }
      ]
    },
    {
      "cell_type": "code",
      "metadata": {
        "colab": {
          "base_uri": "https://localhost:8080/",
          "height": 282
        },
        "id": "inKyXOkJdVDY",
        "outputId": "5adb2b97-10fd-48ab-bce8-036a55ddc90d"
      },
      "source": [
        "# create distribution under the null hypothesis\n",
        "null_vals = np.random.normal(0, diffs.std(), diffs.size)\n",
        "\n",
        "# plot null distribution\n",
        "plt.hist(null_vals)\n",
        "\n",
        "# plot line for observed statistic\n",
        "plt.axvline(obs_diff,  c='red')"
      ],
      "execution_count": null,
      "outputs": [
        {
          "output_type": "execute_result",
          "data": {
            "text/plain": [
              "<matplotlib.lines.Line2D at 0x7f6867ee6510>"
            ]
          },
          "metadata": {},
          "execution_count": 169
        },
        {
          "output_type": "display_data",
          "data": {
            "image/png": "[encoded data removed]",
            "text/plain": [
              "<Figure size 432x288 with 1 Axes>"
            ]
          },
          "metadata": {
            "needs_background": "light"
          }
        }
      ]
    },
    {
      "cell_type": "code",
      "metadata": {
        "colab": {
          "base_uri": "https://localhost:8080/"
        },
        "id": "R-eG82V_eIQt",
        "outputId": "397a8660-cd66-4488-8bdb-0b5706cfe07d"
      },
      "source": [
        "# for a two sided hypothesis, we want to look at anything \n",
        "# more extreme from the null in both directions\n",
        "null_diff = 0\n",
        "\n",
        "proportion = (null_vals >= obs_diff).mean()\n",
        "p_val = 2*min(proportion , 1-proportion)\n",
        "\n",
        "print(proportion)\n",
        "print(p_val)"
      ],
      "execution_count": null,
      "outputs": [
        {
          "output_type": "stream",
          "name": "stdout",
          "text": [
            "0.07248\n",
            "0.14496\n"
          ]
        }
      ]
    },
    {
      "cell_type": "markdown",
      "metadata": {
        "id": "-N0wFQ7Jk296"
      },
      "source": [
        "Analytical Approach - Considering a Binomial Distribution"
      ]
    },
    {
      "cell_type": "code",
      "metadata": {
        "id": "I-djMB7nkeQT"
      },
      "source": [
        "import scipy.stats as stats\n",
        "from statsmodels.stats import proportion as proptests\n",
        "\n",
        "# get number of trials and number of 'successes'\n",
        "n_obs = experiment_co + control_co\n",
        "n_control = control_co"
      ],
      "execution_count": null,
      "outputs": []
    },
    {
      "cell_type": "code",
      "metadata": {
        "colab": {
          "base_uri": "https://localhost:8080/"
        },
        "id": "Fb7kIVoDkhpR",
        "outputId": "1e75b4e8-baa5-4d5d-8b55-72a9f4b995de"
      },
      "source": [
        "# Compute a z-score and p-value\n",
        "p = 0.5\n",
        "sd = np.sqrt(p * (1-p) * n_obs)\n",
        "\n",
        "z = ((n_control + 0.5) - p * n_obs) / sd\n",
        "\n",
        "print(z)\n",
        "print(2 * stats.norm.cdf(z))"
      ],
      "execution_count": null,
      "outputs": [
        {
          "output_type": "stream",
          "name": "stdout",
          "text": [
            "-1.6095646049678511\n",
            "0.10749294050130412\n"
          ]
        }
      ]
    },
    {
      "cell_type": "markdown",
      "metadata": {
        "id": "T6RSp0MO9Jlv"
      },
      "source": [
        "Simulation Approach - Considering a Binomial Distribution"
      ]
    },
    {
      "cell_type": "code",
      "metadata": {
        "id": "I7576CAt9HwS"
      },
      "source": [
        "import scipy.stats as stats\n",
        "from statsmodels.stats import proportion as proptests\n",
        "\n",
        "# get number of trials and number of 'successes'\n",
        "n_obs = experiment_co + control_co\n",
        "n_control = control_co"
      ],
      "execution_count": null,
      "outputs": []
    },
    {
      "cell_type": "code",
      "metadata": {
        "colab": {
          "base_uri": "https://localhost:8080/"
        },
        "id": "AzM_ONhDpRkI",
        "outputId": "3564f88e-9148-450c-808f-8fa07f316538"
      },
      "source": [
        "# # simulate outcomes under null, compare to observed outcome\n",
        "p = 0.5\n",
        "n_trials = 10_000_000\n",
        "\n",
        "samples = np.random.binomial(n_obs, p, n_trials)\n",
        "\n",
        "print(np.logical_or(samples <= n_control, samples >= (n_obs - n_control)).mean())\n",
        "\n",
        "# Can use n_control or n_experiment (lead to the same result)"
      ],
      "execution_count": null,
      "outputs": [
        {
          "output_type": "stream",
          "name": "stdout",
          "text": [
            "0.1075741\n"
          ]
        }
      ]
    },
    {
      "cell_type": "markdown",
      "metadata": {
        "id": "I6NFQYx8pjue"
      },
      "source": [
        "Simulation Approach - Considering a normal approximation (Central Limit)"
      ]
    },
    {
      "cell_type": "code",
      "metadata": {
        "id": "Ud3rh8zXpykV"
      },
      "source": [
        "# get number of trials and overall 'success' rate under null\n",
        "n_control = control_co\n",
        "n_exper = experiment_co\n",
        "p_null = 0.5\n",
        "\n",
        "# Null Hypothesis\n",
        "null_diff = 0\n",
        "\n",
        "obs_diff = n_exper - n_control"
      ],
      "execution_count": null,
      "outputs": []
    },
    {
      "cell_type": "code",
      "metadata": {
        "colab": {
          "base_uri": "https://localhost:8080/",
          "height": 446
        },
        "id": "9ySQBHdHp01V",
        "outputId": "b6f0b123-0ce7-4461-9ca0-0ffe21de1ade"
      },
      "source": [
        "# simulate outcomes under null, compare to observed outcome\n",
        "n_trials = 10_000_000\n",
        "\n",
        "ctrl_co = np.random.binomial(n_control, p_null, n_trials)\n",
        "exp_co = np.random.binomial(n_exper, p_null, n_trials)\n",
        "null_vals = exp_co - ctrl_co\n",
        "\n",
        "# plot null distribution\n",
        "plt.hist(null_vals)\n",
        "\n",
        "# plot line for observed statistic\n",
        "plt.axvline(obs_diff,  c='red')\n",
        "\n",
        "print(null_vals, type(null_vals), '\\n')\n",
        "print(n_control, type(n_control), '\\n')\n",
        "print(n_obs, type(n_obs), '\\n')\n",
        "print(n_control, type(n_control), '\\n')\n",
        "\n",
        "proportion = (null_vals >= obs_diff).mean()\n",
        "p_val = 2*min(proportion , 1-proportion)\n",
        "\n",
        "print(proportion)\n",
        "print(p_val)"
      ],
      "execution_count": null,
      "outputs": [
        {
          "output_type": "stream",
          "name": "stdout",
          "text": [
            "[469 330 157 ... 341 337 498] <class 'numpy.ndarray'> \n",
            "\n",
            "46851 <class 'numpy.int64'> \n",
            "\n",
            "94197 <class 'numpy.int64'> \n",
            "\n",
            "46851 <class 'numpy.int64'> \n",
            "\n",
            "0.0536725\n",
            "0.107345\n"
          ]
        },
        {
          "output_type": "display_data",
          "data": {
            "image/png": "[encoded data removed]",
            "text/plain": [
              "<Figure size 432x288 with 1 Axes>"
            ]
          },
          "metadata": {
            "needs_background": "light"
          }
        }
      ]
    }
  ]
}