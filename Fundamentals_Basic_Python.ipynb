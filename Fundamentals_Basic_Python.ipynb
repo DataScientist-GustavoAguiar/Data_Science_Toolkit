{
  "nbformat": 4,
  "nbformat_minor": 0,
  "metadata": {
    "colab": {
      "name": "Fundamentals_Basic_Python.ipynb",
      "provenance": [],
      "collapsed_sections": [
        "4GslNqULEu2D",
        "tGDakaJEFyma",
        "v03BVmWJHIo1",
        "_Fhpd8TF6Sbl",
        "hUu68yQJ9kIK",
        "CeT6yOo99viv",
        "H_Qwn5lmAPcE",
        "pTACUXhGAnFZ",
        "9hHh4H5y_uBG",
        "ot6dvr-MAt52",
        "rk0GBWxBAwfO",
        "8SyGBPVwAyu5",
        "5ytoQmhyPGLP",
        "aHy8MY9SPHPc",
        "ip8Rx5npJVJi",
        "Fn6p1Dy-KC9z",
        "sBxSCM7zK4n-",
        "B5hZhg1QSyUk",
        "yq1Rk_ZGPDig",
        "6qHVBhkdPIt8",
        "KI8_3aPoQKF6",
        "n9jCNJyvRU1G",
        "tSq4c48CS_Xi",
        "EUGK7mUBTQAX",
        "GctAOQR6JH1C",
        "jNSm9ftbPumy",
        "PYNWHK1Uh3Rm",
        "KuCdlzOpkfax",
        "EiHeXdbQFJ4-",
        "Wva64ukeFtDY",
        "UGMb33lpG9cK",
        "3NnI9vXSH-Iy",
        "9HCgqMcAJrhc",
        "G34JVqnMNEKT",
        "bsTiwigeZ7UL",
        "etPmTHLoa3xS",
        "BAw2TermcVRR",
        "1MWBUzM8dF8h",
        "3iDPpNMEf9G4",
        "5weATQt9gZVK",
        "0EDGwIMxhDuE",
        "ui2LAN7chgc7",
        "7hXjb7OIhl5w",
        "-3zbBOB4h49c",
        "HVYJ-IgfTEqA",
        "FqgJq9qrV7DI",
        "rORM6zopWBYm",
        "VX3wgKyAWMxa",
        "qtnNri2fWcik",
        "bdbPIFObWNMo",
        "JaBTzckgWNm1",
        "rF_jEjYUWN6h",
        "hE_ZSjk5WORy",
        "CpnIJFeZWOqh",
        "HeT9nkZjPk2n",
        "waKlM_JzTKOP",
        "uiXPa_jnSsSD",
        "A9UgE3TAUFID",
        "YVTbUOnaU3N2",
        "ybZCH1M4Wb6Z",
        "GaEuBbZUYQuc",
        "lq-C2RL5Z9rb"
      ]
    },
    "kernelspec": {
      "name": "python3",
      "display_name": "Python 3"
    },
    "language_info": {
      "name": "python"
    }
  },
  "cells": [
    {
      "cell_type": "markdown",
      "metadata": {
        "id": "I6EE5gZDAILc"
      },
      "source": [
        "## Fundamentals and Basic of Python"
      ]
    },
    {
      "cell_type": "markdown",
      "metadata": {
        "id": "4GslNqULEu2D"
      },
      "source": [
        "### Data Types and Operators"
      ]
    },
    {
      "cell_type": "markdown",
      "metadata": {
        "id": "qPgZD5JNE_Lw"
      },
      "source": [
        "`+` Addition\n",
        "\n",
        "`-` Subtraction\n",
        "\n",
        "`*` Multiplication\n",
        "\n",
        "`/` Division\n",
        "\n",
        "`%` Mod (the remainder after dividing)\n",
        "\n",
        "`**`Exponentiation (note that ^ does not do this operation, as you might have seen in other languages)\n",
        "\n",
        "`//` Divides and rounds down to the nearest integer"
      ]
    },
    {
      "cell_type": "markdown",
      "metadata": {
        "id": "tGDakaJEFyma"
      },
      "source": [
        "#### Variables\n",
        "\n",
        "Variables are used all the time in Python! Below is the example you saw in the video where we performed the following:\n",
        "\n",
        "`mv_population = 74728`\n",
        "\n",
        "Here mv_population is a variable, which holds the value of 74728. This assigns the item on the right to the name on the left, which is actually a little different than mathematical equality, as 74728 does not hold the value of mv_population.\n",
        "\n",
        "In any case, whatever term is on the left side, is now a name for whatever value is on the right side. Once a value has been assigned to a variable name, you can access the value from the variable name.\n",
        "\n",
        "Besides writing variable names that are descriptive, there are a few things to watch out for when naming variables in Python.\n",
        "\n",
        "1. Only use ordinary letters, numbers and underscores in your variable names. They can’t have spaces, and need to start with a letter or underscore.\n",
        "\n",
        "2. You can’t use Python's reserved words, or \"keywords,\" as variable names. There are reserved words in every programming language that have important purposes, and you’ll learn about some of these throughout this course. Creating names that are descriptive of the values often will help you avoid using any of these keywords. Here you can see a table of Python's reserved words.\n",
        "\n",
        "3. The pythonic way to name variables is to use all lowercase letters and underscores to separate words.\n",
        "\n",
        "Example:\n",
        "`my_height = 58;\n",
        "my_lat = 40;\n",
        "my_long = 105`"
      ]
    },
    {
      "cell_type": "markdown",
      "metadata": {
        "id": "v03BVmWJHIo1"
      },
      "source": [
        "#### Python Best Practices\n",
        "For all the best practices, see the PEP8 Guidelines.\n",
        "\n",
        "You can use the atom package linter-python-pep8 to use pep8 within your own programming environment in the Atom text editor, but more on this later. If you aren't familiar with text editors yet, and you are performing all of your programming in the classroom, no need to worry about this right now.\n",
        "\n",
        "Follow these guidelines to make other programmers and future you happy!"
      ]
    },
    {
      "cell_type": "markdown",
      "source": [
        "#### String Methods"
      ],
      "metadata": {
        "id": "_Fhpd8TF6Sbl"
      }
    },
    {
      "cell_type": "markdown",
      "source": [
        "A method in Python behaves similarly to a function. Methods actually are functions that are called using dot notation. For example, lower() is a string method that can be used like this, on a string called \"sample string\": sample_string.lower().\n",
        "\n",
        "Methods are specific to the data type for a particular variable. So there are some built-in methods that are available for all strings, different methods that are available for all integers, etc.\n",
        "\n",
        "Below is an image that shows some methods that are possible with any string.\n",
        "\n",
        "Each of these methods accepts the string itself as the first argument of the method. However, they also could receive additional arguments, that are passed inside the parentheses. Let's look at the output for a few examples."
      ],
      "metadata": {
        "id": "IwOv1KZr7n9m"
      }
    },
    {
      "cell_type": "markdown",
      "source": [
        "###### BASIC METHODS"
      ],
      "metadata": {
        "id": "hUu68yQJ9kIK"
      }
    },
    {
      "cell_type": "code",
      "source": [
        "my_string = 'Gustavo Aguiar'"
      ],
      "metadata": {
        "id": "NWEJ7acq7FP4"
      },
      "execution_count": null,
      "outputs": []
    },
    {
      "cell_type": "code",
      "source": [
        "my_string.lower()"
      ],
      "metadata": {
        "colab": {
          "base_uri": "https://localhost:8080/",
          "height": 35
        },
        "id": "aTMF1HW8_8DD",
        "outputId": "18bfa889-0fe2-4285-d9b6-78a956231efd"
      },
      "execution_count": null,
      "outputs": [
        {
          "output_type": "execute_result",
          "data": {
            "application/vnd.google.colaboratory.intrinsic+json": {
              "type": "string"
            },
            "text/plain": [
              "'gustavo aguiar'"
            ]
          },
          "metadata": {},
          "execution_count": 27
        }
      ]
    },
    {
      "cell_type": "code",
      "source": [
        "my_string.upper()"
      ],
      "metadata": {
        "colab": {
          "base_uri": "https://localhost:8080/",
          "height": 35
        },
        "id": "VtgDtEgG_-ML",
        "outputId": "70ee5dfa-9c2e-4b9a-e1d1-1073de32ecec"
      },
      "execution_count": null,
      "outputs": [
        {
          "output_type": "execute_result",
          "data": {
            "application/vnd.google.colaboratory.intrinsic+json": {
              "type": "string"
            },
            "text/plain": [
              "'GUSTAVO AGUIAR'"
            ]
          },
          "metadata": {},
          "execution_count": 28
        }
      ]
    },
    {
      "cell_type": "code",
      "source": [
        "my_string.islower()"
      ],
      "metadata": {
        "colab": {
          "base_uri": "https://localhost:8080/"
        },
        "id": "CDzUKw-J8ovR",
        "outputId": "0ce0eef7-3317-435f-8fd1-8b47c194ab19"
      },
      "execution_count": null,
      "outputs": [
        {
          "output_type": "execute_result",
          "data": {
            "text/plain": [
              "False"
            ]
          },
          "metadata": {},
          "execution_count": 2
        }
      ]
    },
    {
      "cell_type": "code",
      "source": [
        "my_string.isupper()"
      ],
      "metadata": {
        "colab": {
          "base_uri": "https://localhost:8080/"
        },
        "id": "8B1p0yyR-N9E",
        "outputId": "a9f25e54-5fe4-4bdc-c81a-c359785440e6"
      },
      "execution_count": null,
      "outputs": [
        {
          "output_type": "execute_result",
          "data": {
            "text/plain": [
              "False"
            ]
          },
          "metadata": {},
          "execution_count": 8
        }
      ]
    },
    {
      "cell_type": "code",
      "source": [
        "my_string.count('a')"
      ],
      "metadata": {
        "colab": {
          "base_uri": "https://localhost:8080/"
        },
        "id": "P42AEUfM8p9-",
        "outputId": "663b1963-63aa-43ea-cbd9-53e74cb3f8e0"
      },
      "execution_count": null,
      "outputs": [
        {
          "output_type": "execute_result",
          "data": {
            "text/plain": [
              "2"
            ]
          },
          "metadata": {},
          "execution_count": 3
        }
      ]
    },
    {
      "cell_type": "code",
      "source": [
        "my_string.find('a')"
      ],
      "metadata": {
        "colab": {
          "base_uri": "https://localhost:8080/"
        },
        "id": "b3OrwiQe8q9s",
        "outputId": "01854ff0-eb8f-4dd1-fb92-9b99016b472a"
      },
      "execution_count": null,
      "outputs": [
        {
          "output_type": "execute_result",
          "data": {
            "text/plain": [
              "4"
            ]
          },
          "metadata": {},
          "execution_count": 4
        }
      ]
    },
    {
      "cell_type": "code",
      "source": [
        "my_string.lstrip('Gus')"
      ],
      "metadata": {
        "colab": {
          "base_uri": "https://localhost:8080/",
          "height": 35
        },
        "id": "PaU3MgRW-U8h",
        "outputId": "3c424a8b-18de-4250-9184-73bdb7a1d0cd"
      },
      "execution_count": null,
      "outputs": [
        {
          "output_type": "execute_result",
          "data": {
            "application/vnd.google.colaboratory.intrinsic+json": {
              "type": "string"
            },
            "text/plain": [
              "'tavo Aguiar'"
            ]
          },
          "metadata": {},
          "execution_count": 21
        }
      ]
    },
    {
      "cell_type": "code",
      "source": [
        "my_string.replace('Aguiar', 'Martins')"
      ],
      "metadata": {
        "colab": {
          "base_uri": "https://localhost:8080/",
          "height": 35
        },
        "id": "d1y5mCP7-2NE",
        "outputId": "25871325-0b1a-42b3-9a61-c6768f9d7fe1"
      },
      "execution_count": null,
      "outputs": [
        {
          "output_type": "execute_result",
          "data": {
            "application/vnd.google.colaboratory.intrinsic+json": {
              "type": "string"
            },
            "text/plain": [
              "'Gustavo Martins'"
            ]
          },
          "metadata": {},
          "execution_count": 23
        }
      ]
    },
    {
      "cell_type": "code",
      "source": [
        "my_string.rsplit()"
      ],
      "metadata": {
        "colab": {
          "base_uri": "https://localhost:8080/"
        },
        "id": "kLb_fL9j_bkQ",
        "outputId": "d5322b16-c5fb-4339-e2b7-32128e1f3463"
      },
      "execution_count": null,
      "outputs": [
        {
          "output_type": "execute_result",
          "data": {
            "text/plain": [
              "['Gustavo', 'Aguiar']"
            ]
          },
          "metadata": {},
          "execution_count": 25
        }
      ]
    },
    {
      "cell_type": "code",
      "source": [
        "my_string.rstrip()"
      ],
      "metadata": {
        "colab": {
          "base_uri": "https://localhost:8080/",
          "height": 35
        },
        "id": "fBb4-mYL_mZK",
        "outputId": "bc2a277a-45bb-42ed-b9ba-2b87cca97818"
      },
      "execution_count": null,
      "outputs": [
        {
          "output_type": "execute_result",
          "data": {
            "application/vnd.google.colaboratory.intrinsic+json": {
              "type": "string"
            },
            "text/plain": [
              "'Gustavo Aguiar'"
            ]
          },
          "metadata": {},
          "execution_count": 26
        }
      ]
    },
    {
      "cell_type": "markdown",
      "source": [
        "###### FORMAT()"
      ],
      "metadata": {
        "id": "CeT6yOo99viv"
      }
    },
    {
      "cell_type": "markdown",
      "source": [
        "One important string method: format()\n",
        "\n",
        "We will be using the format() string method a good bit in our future work in Python, and you will find it very valuable in your coding, especially with your print statements."
      ],
      "metadata": {
        "id": "xPUTh6IT86a0"
      }
    },
    {
      "cell_type": "code",
      "source": [
        "print(\"Mohammed has {} balloons\".format(27))"
      ],
      "metadata": {
        "colab": {
          "base_uri": "https://localhost:8080/"
        },
        "id": "yh41g8oq8-97",
        "outputId": "d0e4a56b-8612-49db-985e-3d2470c5b293"
      },
      "execution_count": null,
      "outputs": [
        {
          "output_type": "stream",
          "name": "stdout",
          "text": [
            "Mohammed has 27 balloons\n"
          ]
        }
      ]
    },
    {
      "cell_type": "code",
      "source": [
        "animal = \"dog\"\n",
        "action = \"bite\"\n",
        "print(\"Does your {} {}?\".format(animal, action))"
      ],
      "metadata": {
        "colab": {
          "base_uri": "https://localhost:8080/"
        },
        "id": "mj-bW6d49BRM",
        "outputId": "d8277a3b-0f41-4a3f-d038-ae3f24c14a21"
      },
      "execution_count": null,
      "outputs": [
        {
          "output_type": "stream",
          "name": "stdout",
          "text": [
            "Does your dog bite?\n"
          ]
        }
      ]
    },
    {
      "cell_type": "code",
      "source": [
        "maria_string = \"Maria loves {} and {}\"\n",
        "print(maria_string.format(\"math\", \"statistics\"))"
      ],
      "metadata": {
        "colab": {
          "base_uri": "https://localhost:8080/"
        },
        "id": "8ymaV_TI9DP0",
        "outputId": "ca2db170-8c39-433f-8bb9-64829c3c896f"
      },
      "execution_count": null,
      "outputs": [
        {
          "output_type": "stream",
          "name": "stdout",
          "text": [
            "Maria loves math and statistics\n"
          ]
        }
      ]
    },
    {
      "cell_type": "markdown",
      "source": [
        "Notice how in each example, the number of pairs of curly braces {} you use inside the string is the same as the number of replacements you want to make using the values inside format()."
      ],
      "metadata": {
        "id": "7PUpUMou9Muu"
      }
    },
    {
      "cell_type": "markdown",
      "source": [
        "Another important string method: split()\n",
        "\n",
        "A helpful string method when working with strings is the .split method. This function or method returns a data container called a list that contains the words from the input string. We will be introducing you to the concept of lists in the next video.\n",
        "\n",
        "The split method has two additional arguments (sep and maxsplit). The sep argument stands for \"separator\". It can be used to identify how the string should be split up (e.g., whitespace characters like space, tab, return, newline; specific punctuation (e.g., comma, dashes)). If the sep argument is not provided, the default separator is whitespace."
      ],
      "metadata": {
        "id": "AVHEMZmw9aW1"
      }
    },
    {
      "cell_type": "markdown",
      "source": [
        "###### SPLIT"
      ],
      "metadata": {
        "id": "H_Qwn5lmAPcE"
      }
    },
    {
      "cell_type": "markdown",
      "source": [
        "A helpful string method when working with strings is the .split method. This function or method returns a data container called a list that contains the words from the input string. We will be introducing you to the concept of lists in the next video.\n",
        "\n",
        "The split method has two additional arguments (sep and maxsplit). The sep argument stands for \"separator\". It can be used to identify how the string should be split up (e.g., whitespace characters like space, tab, return, newline; specific punctuation (e.g., comma, dashes)). If the sep argument is not provided, the default separator is whitespace.\n",
        "\n",
        "True to its name, the maxsplit argument provides the maximum number of splits. The argument gives maxsplit + 1 number of elements in the new list, with the remaining string being returned as the last element in the list. You can read more about these methods in the Python documentation too.\n",
        "\n",
        "Here are some examples for the .split() method."
      ],
      "metadata": {
        "id": "CYoSZfs4AUx5"
      }
    },
    {
      "cell_type": "code",
      "source": [
        "new_str = \"The cow jumped over the moon.\"\n",
        "new_str.split()"
      ],
      "metadata": {
        "colab": {
          "base_uri": "https://localhost:8080/"
        },
        "id": "GqjV6668ASTv",
        "outputId": "0ecba3f8-557f-4656-8c85-58464b0f2b02"
      },
      "execution_count": null,
      "outputs": [
        {
          "output_type": "execute_result",
          "data": {
            "text/plain": [
              "['The', 'cow', 'jumped', 'over', 'the', 'moon.']"
            ]
          },
          "metadata": {},
          "execution_count": 29
        }
      ]
    },
    {
      "cell_type": "code",
      "source": [
        "new_str.split(' ', 3)"
      ],
      "metadata": {
        "colab": {
          "base_uri": "https://localhost:8080/"
        },
        "id": "pN_K0Ni8AZs7",
        "outputId": "241e900d-9e77-49e5-eb74-4a2b910bf5e5"
      },
      "execution_count": null,
      "outputs": [
        {
          "output_type": "execute_result",
          "data": {
            "text/plain": [
              "['The', 'cow', 'jumped', 'over the moon.']"
            ]
          },
          "metadata": {},
          "execution_count": 30
        }
      ]
    },
    {
      "cell_type": "code",
      "source": [
        "new_str.split('.')"
      ],
      "metadata": {
        "colab": {
          "base_uri": "https://localhost:8080/"
        },
        "id": "ycDjgW3oAb9l",
        "outputId": "4971a7e9-84de-4277-9ad4-533169784eff"
      },
      "execution_count": null,
      "outputs": [
        {
          "output_type": "execute_result",
          "data": {
            "text/plain": [
              "['The cow jumped over the moon', '']"
            ]
          },
          "metadata": {},
          "execution_count": 31
        }
      ]
    },
    {
      "cell_type": "code",
      "source": [
        "new_str.split(None, 3)"
      ],
      "metadata": {
        "colab": {
          "base_uri": "https://localhost:8080/"
        },
        "id": "c6bK0uj_AeGb",
        "outputId": "4397e19b-3eb6-4f5d-fea0-beb91ec21d58"
      },
      "execution_count": null,
      "outputs": [
        {
          "output_type": "execute_result",
          "data": {
            "text/plain": [
              "['The', 'cow', 'jumped', 'over the moon.']"
            ]
          },
          "metadata": {},
          "execution_count": 32
        }
      ]
    },
    {
      "cell_type": "markdown",
      "source": [
        "#### Lists"
      ],
      "metadata": {
        "id": "pTACUXhGAnFZ"
      }
    },
    {
      "cell_type": "code",
      "source": [
        "month = 8\n",
        "days_in_month = [31,28,31,30,31,30,31,31,30,31,30,31] # or days_in_month = list(31,28,31,30,31,30,31,31,30,31,30,31)"
      ],
      "metadata": {
        "id": "t7xdDOf2-kks"
      },
      "execution_count": null,
      "outputs": []
    },
    {
      "cell_type": "markdown",
      "source": [
        "Use list indexing to determine how many days are in a particular month based on the integer variable month, and store that value in the integer variable num_days. For example, if month is 8, num_days should be set to 31, since the eighth month, August, has 31 days."
      ],
      "metadata": {
        "id": "WquzxZg8-35z"
      }
    },
    {
      "cell_type": "code",
      "source": [
        "num_days = days_in_month[month - 1]\n",
        "print(num_days)"
      ],
      "metadata": {
        "id": "I-scgw__AtRz",
        "colab": {
          "base_uri": "https://localhost:8080/"
        },
        "outputId": "6224498e-f877-4cc1-81fc-3135a417da9b"
      },
      "execution_count": null,
      "outputs": [
        {
          "output_type": "stream",
          "name": "stdout",
          "text": [
            "31\n"
          ]
        }
      ]
    },
    {
      "cell_type": "markdown",
      "source": [
        "Select the three most recent dates from this list using list slicing notation. Hint: negative indexes work in slices!"
      ],
      "metadata": {
        "id": "LxhhafG5-8XP"
      }
    },
    {
      "cell_type": "code",
      "source": [
        "eclipse_dates = ['June 21, 2001', 'December 4, 2002', 'November 23, 2003',\n",
        "                 'March 29, 2006', 'August 1, 2008', 'July 22, 2009',\n",
        "                 'July 11, 2010', 'November 13, 2012', 'March 20, 2015',\n",
        "                 'March 9, 2016']\n",
        "                 \n",
        "print(eclipse_dates[-3:])"
      ],
      "metadata": {
        "colab": {
          "base_uri": "https://localhost:8080/"
        },
        "id": "Hoey8oEW-vOm",
        "outputId": "9636fa85-5621-4a5d-bec0-1e77dd667d48"
      },
      "execution_count": null,
      "outputs": [
        {
          "output_type": "stream",
          "name": "stdout",
          "text": [
            "['November 13, 2012', 'March 20, 2015', 'March 9, 2016']\n"
          ]
        }
      ]
    },
    {
      "cell_type": "markdown",
      "source": [
        "###### List Methods"
      ],
      "metadata": {
        "id": "9hHh4H5y_uBG"
      }
    },
    {
      "cell_type": "markdown",
      "source": [
        "Useful methods:\n",
        "\n",
        "* len() returns how many elements are in a list.\n",
        "\n",
        "* max() returns the greatest element of the list. How the greatest element is determined depends on what type objects are in the list. The maximum element in a list of numbers is the largest number. The maximum elements in a list of strings is element that would occur last if the list were sorted alphabetically. This works because the the max function is defined in terms of the greater than comparison operator. The max function is undefined for lists that contain elements from different, incomparable types.\n",
        "\n",
        "* min() returns the smallest element in a list. min is the opposite of max, which returns the largest element in a list.\n",
        "\n",
        "* sorted() returns a copy of a list in order from smallest to largest, leaving the list unchanged"
      ],
      "metadata": {
        "id": "3JFjovYS_zC4"
      }
    },
    {
      "cell_type": "markdown",
      "source": [
        "Join Method"
      ],
      "metadata": {
        "id": "LidQyDxLARwy"
      }
    },
    {
      "cell_type": "code",
      "source": [
        "new_str = \"\\n\".join([\"fore\", \"aft\", \"starboard\", \"port\"])\n",
        "print(new_str)"
      ],
      "metadata": {
        "colab": {
          "base_uri": "https://localhost:8080/"
        },
        "id": "IcZvEiD6AUct",
        "outputId": "daedc162-4e0d-42a9-8e4c-30192e442c8b"
      },
      "execution_count": null,
      "outputs": [
        {
          "output_type": "stream",
          "name": "stdout",
          "text": [
            "fore\n",
            "aft\n",
            "starboard\n",
            "port\n"
          ]
        }
      ]
    },
    {
      "cell_type": "code",
      "source": [
        "name = \"-\".join([\"García\", \"O'Kelly\"])\n",
        "print(name)"
      ],
      "metadata": {
        "colab": {
          "base_uri": "https://localhost:8080/"
        },
        "id": "ruaGQtVkAa-6",
        "outputId": "c667829a-a7ac-4014-d46a-7a255afac997"
      },
      "execution_count": null,
      "outputs": [
        {
          "output_type": "stream",
          "name": "stdout",
          "text": [
            "García-O'Kelly\n"
          ]
        }
      ]
    },
    {
      "cell_type": "markdown",
      "source": [
        "Append Method"
      ],
      "metadata": {
        "id": "MabFaBD0AUq7"
      }
    },
    {
      "cell_type": "code",
      "source": [
        "letters = ['a', 'b', 'c', 'd']\n",
        "letters.append('z')\n",
        "print(letters)"
      ],
      "metadata": {
        "colab": {
          "base_uri": "https://localhost:8080/"
        },
        "id": "3GCnMOpoAWXL",
        "outputId": "be9a4f77-2581-466c-c874-0c72da90ca50"
      },
      "execution_count": null,
      "outputs": [
        {
          "output_type": "stream",
          "name": "stdout",
          "text": [
            "['a', 'b', 'c', 'd', 'z']\n"
          ]
        }
      ]
    },
    {
      "cell_type": "markdown",
      "source": [
        "#### Tuples"
      ],
      "metadata": {
        "id": "ot6dvr-MAt52"
      }
    },
    {
      "cell_type": "markdown",
      "source": [
        "A tuple is another useful container. It's a data type for immutable ordered sequences of elements. They are often used to store related pieces of information. Consider this example involving latitude and longitude:"
      ],
      "metadata": {
        "id": "nhefrgilBFy9"
      }
    },
    {
      "cell_type": "code",
      "source": [
        "location = (13.4125, 103.866667)\n",
        "print(\"Latitude:\", location[0])\n",
        "print(\"Longitude:\", location[1])"
      ],
      "metadata": {
        "id": "zmOmgsRTAwMc",
        "colab": {
          "base_uri": "https://localhost:8080/"
        },
        "outputId": "574ea9c7-5e7d-4635-d081-48957bc5f7ec"
      },
      "execution_count": null,
      "outputs": [
        {
          "output_type": "stream",
          "name": "stdout",
          "text": [
            "Latitude: 13.4125\n",
            "Longitude: 103.866667\n"
          ]
        }
      ]
    },
    {
      "cell_type": "markdown",
      "source": [
        "Tuples are similar to lists in that they store an ordered collection of objects which can be accessed by their indices. Unlike lists, however, tuples are immutable - you can't add and remove items from tuples, or sort them in place.\n",
        "\n",
        "Tuples can also be used to assign multiple variables in a compact way."
      ],
      "metadata": {
        "id": "LSz8hUe3BWEP"
      }
    },
    {
      "cell_type": "code",
      "source": [
        "dimensions = tuple(52, 40, 100) # or dimensions = 52, 40, 100\n",
        "length, width, height = dimensions\n",
        "print(\"The dimensions are {} x {} x {}\".format(length, width, height))"
      ],
      "metadata": {
        "colab": {
          "base_uri": "https://localhost:8080/"
        },
        "id": "JTjplM5nBbpH",
        "outputId": "61b67537-cee6-4882-9813-0fd021ee6aa3"
      },
      "execution_count": null,
      "outputs": [
        {
          "output_type": "stream",
          "name": "stdout",
          "text": [
            "The dimensions are 52 x 40 x 100\n"
          ]
        }
      ]
    },
    {
      "cell_type": "markdown",
      "source": [
        "The parentheses are optional when defining tuples, and programmers frequently omit them if parentheses don't clarify the code.\n",
        "\n",
        "In the second line, three variables are assigned from the content of the tuple dimensions. This is called tuple unpacking. You can use tuple unpacking to assign the information from a tuple into multiple variables without having to access them one by one and make multiple assignment statements.\n",
        "\n",
        "If we won't need to use dimensions directly, we could shorten those two lines of code into a single line that assigns three variables in one go!"
      ],
      "metadata": {
        "id": "cSBFnI_jBeZw"
      }
    },
    {
      "cell_type": "code",
      "source": [
        "length, width, height = 52, 40, 100\n",
        "print(\"The dimensions are {} x {} x {}\".format(length, width, height))"
      ],
      "metadata": {
        "colab": {
          "base_uri": "https://localhost:8080/"
        },
        "id": "xZozP0pABgaT",
        "outputId": "2f95b739-d165-4814-a7b9-0dd32f9bc943"
      },
      "execution_count": null,
      "outputs": [
        {
          "output_type": "stream",
          "name": "stdout",
          "text": [
            "The dimensions are 52 x 40 x 100\n"
          ]
        }
      ]
    },
    {
      "cell_type": "markdown",
      "source": [
        "#### Sets"
      ],
      "metadata": {
        "id": "rk0GBWxBAwfO"
      }
    },
    {
      "cell_type": "markdown",
      "source": [
        "A set is a data type for mutable unordered collections of unique elements. One application of a set is to quickly remove duplicates from a list."
      ],
      "metadata": {
        "id": "ITm6EXXGCBYI"
      }
    },
    {
      "cell_type": "code",
      "source": [
        "numbers = [1, 2, 6, 3, 1, 1, 6]\n",
        "unique_nums = set(numbers)\n",
        "print(unique_nums)"
      ],
      "metadata": {
        "id": "9q8UDnAiAydJ",
        "colab": {
          "base_uri": "https://localhost:8080/"
        },
        "outputId": "5aa5a6e2-0b94-4052-b9d5-333c40391db2"
      },
      "execution_count": null,
      "outputs": [
        {
          "output_type": "stream",
          "name": "stdout",
          "text": [
            "{1, 2, 3, 6}\n"
          ]
        }
      ]
    },
    {
      "cell_type": "markdown",
      "source": [
        "Sets support the in operator the same as lists do. You can add elements to sets using the add method, and remove elements using the pop method, similar to lists. Although, when you pop an element from a set, a random element is removed. Remember that sets, unlike lists, are unordered so there is no \"last element\"."
      ],
      "metadata": {
        "id": "GOT1dba1CJWa"
      }
    },
    {
      "cell_type": "code",
      "source": [
        "fruit = {\"apple\", \"banana\", \"orange\", \"grapefruit\"}  # define a set\n",
        "\n",
        "print(\"watermelon\" in fruit)  # check for element\n",
        "\n",
        "fruit.add(\"watermelon\")  # add an element\n",
        "print(fruit)\n",
        "\n",
        "print(fruit.pop())  # remove a random element\n",
        "print(fruit)"
      ],
      "metadata": {
        "colab": {
          "base_uri": "https://localhost:8080/"
        },
        "id": "tr7ruAhoCN9J",
        "outputId": "86ab7cf0-944c-40f5-b28c-fc7938c115ee"
      },
      "execution_count": null,
      "outputs": [
        {
          "output_type": "stream",
          "name": "stdout",
          "text": [
            "False\n",
            "{'apple', 'grapefruit', 'orange', 'banana', 'watermelon'}\n",
            "apple\n",
            "{'grapefruit', 'orange', 'banana', 'watermelon'}\n"
          ]
        }
      ]
    },
    {
      "cell_type": "markdown",
      "source": [
        "#### Dictionaries"
      ],
      "metadata": {
        "id": "8SyGBPVwAyu5"
      }
    },
    {
      "cell_type": "markdown",
      "source": [
        "A dictionary is a mutable data type that stores mappings of unique keys to values. Here's a dictionary that stores elements and their atomic numbers."
      ],
      "metadata": {
        "id": "caAkv4KnMHnM"
      }
    },
    {
      "cell_type": "code",
      "source": [
        "elements = {\"hydrogen\": 1, \"helium\": 2, \"carbon\": 6}"
      ],
      "metadata": {
        "id": "hlha-KUdA0rS"
      },
      "execution_count": null,
      "outputs": []
    },
    {
      "cell_type": "markdown",
      "source": [
        "Dictionaries can have keys of any immutable type, like integers or tuples, not just strings. It's not even necessary for every key to have the same type! We can look up values or insert new values in the dictionary using square brackets that enclose the key."
      ],
      "metadata": {
        "id": "_YI41v7GMJbU"
      }
    },
    {
      "cell_type": "code",
      "source": [
        "print(elements[\"helium\"])  # print the value mapped to \"helium\"\n",
        "elements[\"lithium\"] = 3  # insert \"lithium\" with a value of 3 into the dictionary"
      ],
      "metadata": {
        "colab": {
          "base_uri": "https://localhost:8080/"
        },
        "id": "m_ofZ1xwMNow",
        "outputId": "d89abf91-187e-4c6f-ff90-8120a37d2b0c"
      },
      "execution_count": null,
      "outputs": [
        {
          "output_type": "stream",
          "name": "stdout",
          "text": [
            "2\n"
          ]
        }
      ]
    },
    {
      "cell_type": "code",
      "source": [
        "print(\"carbon\" in elements)\n",
        "print(elements.get(\"dilithium\"))"
      ],
      "metadata": {
        "colab": {
          "base_uri": "https://localhost:8080/"
        },
        "id": "MPM2maawMPkr",
        "outputId": "61c8b313-1596-4f0f-bf65-8027bcd490df"
      },
      "execution_count": null,
      "outputs": [
        {
          "output_type": "stream",
          "name": "stdout",
          "text": [
            "True\n",
            "None\n"
          ]
        }
      ]
    },
    {
      "cell_type": "markdown",
      "source": [
        "Carbon is in the dictionary, so True is printed. Dilithium isn’t in our dictionary so None is returned by get and then printed. If you expect lookups to sometimes fail, get might be a better tool than normal square bracket lookups because errors can crash your program."
      ],
      "metadata": {
        "id": "0iXBAC6nMriK"
      }
    },
    {
      "cell_type": "markdown",
      "source": [
        "We can define the dictionary like this:"
      ],
      "metadata": {
        "id": "py5hPTgBNW8i"
      }
    },
    {
      "cell_type": "code",
      "source": [
        "population = {'Shanghai': 17.8,\n",
        "              'Istanbul': 13.3,\n",
        "              'Karachi': 13.0,\n",
        "              'Mumbai': 12.5}\n",
        "print(population)"
      ],
      "metadata": {
        "colab": {
          "base_uri": "https://localhost:8080/"
        },
        "id": "kj5feKP5NVRe",
        "outputId": "b3320df7-c8fc-44c2-c254-d8861d2f4761"
      },
      "execution_count": null,
      "outputs": [
        {
          "output_type": "stream",
          "name": "stdout",
          "text": [
            "{'Shanghai': 17.8, 'Istanbul': 13.3, 'Karachi': 13.0, 'Mumbai': 12.5}\n"
          ]
        }
      ]
    },
    {
      "cell_type": "markdown",
      "source": [
        "I chose to put each key-value pair on its own line to make this dictionary definition easier to read, but where and whether you use line breaks is simply a stylistic choice. This code works just as well:"
      ],
      "metadata": {
        "id": "1ihBXnmwNeta"
      }
    },
    {
      "cell_type": "code",
      "source": [
        "population = {'Shanghai': 17.8, 'Istanbul': 13.3, 'Karachi': 13.0, 'Mumbai': 12.5}"
      ],
      "metadata": {
        "id": "yuemrIW3NhGr"
      },
      "execution_count": null,
      "outputs": []
    },
    {
      "cell_type": "markdown",
      "source": [
        "We can include containers in other containers to create compound data structures. For example, this dictionary maps keys to values that are also dictionaries!"
      ],
      "metadata": {
        "id": "7a0f2Jx9NrfP"
      }
    },
    {
      "cell_type": "code",
      "source": [
        "elements = {\"hydrogen\": {\"number\": 1,\n",
        "                         \"weight\": 1.00794,\n",
        "                         \"symbol\": \"H\"},\n",
        "              \"helium\": {\"number\": 2,\n",
        "                         \"weight\": 4.002602,\n",
        "                         \"symbol\": \"He\"}}"
      ],
      "metadata": {
        "id": "zyyr6pogNvIu"
      },
      "execution_count": null,
      "outputs": []
    },
    {
      "cell_type": "code",
      "source": [
        "helium = elements[\"helium\"]  # get the helium dictionary\n",
        "print(helium)\n",
        "hydrogen_weight = elements[\"hydrogen\"][\"weight\"]  # get hydrogen's weight\n",
        "print(hydrogen_weight)"
      ],
      "metadata": {
        "colab": {
          "base_uri": "https://localhost:8080/"
        },
        "id": "zMcwgkX4N1dV",
        "outputId": "cfb92902-81e6-461f-8ef4-11d4244e1526"
      },
      "execution_count": null,
      "outputs": [
        {
          "output_type": "stream",
          "name": "stdout",
          "text": [
            "{'number': 2, 'weight': 4.002602, 'symbol': 'He'}\n",
            "1.00794\n"
          ]
        }
      ]
    },
    {
      "cell_type": "code",
      "source": [
        "oxygen = {\"number\":8,\"weight\":15.999,\"symbol\":\"O\"}  # create a new oxygen dictionary \n",
        "elements[\"oxygen\"] = oxygen  # assign 'oxygen' as a key to the elements dictionary\n",
        "print('elements = ', elements)"
      ],
      "metadata": {
        "colab": {
          "base_uri": "https://localhost:8080/"
        },
        "id": "mZiYc0WoOC9N",
        "outputId": "7754e42e-c663-4276-8607-e958e65b9c00"
      },
      "execution_count": null,
      "outputs": [
        {
          "output_type": "stream",
          "name": "stdout",
          "text": [
            "elements =  {'hydrogen': {'number': 1, 'weight': 1.00794, 'symbol': 'H'}, 'helium': {'number': 2, 'weight': 4.002602, 'symbol': 'He'}, 'oxygen': {'number': 8, 'weight': 15.999, 'symbol': 'O'}}\n"
          ]
        }
      ]
    },
    {
      "cell_type": "code",
      "source": [
        "elements = {'hydrogen': {'number': 1, 'weight': 1.00794, 'symbol': 'H'},\n",
        "            'helium': {'number': 2, 'weight': 4.002602, 'symbol': 'He'}}\n",
        "\n",
        "elements['hydrogen']['is_noble_gas'] = False\n",
        "elements['helium']['is_noble_gas'] = True"
      ],
      "metadata": {
        "id": "lOCJL-5SOVk8"
      },
      "execution_count": null,
      "outputs": []
    },
    {
      "cell_type": "code",
      "source": [
        "print(elements)"
      ],
      "metadata": {
        "colab": {
          "base_uri": "https://localhost:8080/"
        },
        "id": "mztdNmgvOX0c",
        "outputId": "442f65e9-b058-4cab-c548-fe286b2eb070"
      },
      "execution_count": null,
      "outputs": [
        {
          "output_type": "stream",
          "name": "stdout",
          "text": [
            "{'hydrogen': {'number': 1, 'weight': 1.00794, 'symbol': 'H', 'is_noble_gas': False}, 'helium': {'number': 2, 'weight': 4.002602, 'symbol': 'He', 'is_noble_gas': True}}\n"
          ]
        }
      ]
    },
    {
      "cell_type": "markdown",
      "metadata": {
        "id": "5ytoQmhyPGLP"
      },
      "source": [
        "### Control Flow"
      ]
    },
    {
      "cell_type": "markdown",
      "source": [
        "###### Building Dictionaries"
      ],
      "metadata": {
        "id": "aHy8MY9SPHPc"
      }
    },
    {
      "cell_type": "code",
      "source": [
        "book_title =  ['great', 'expectations','the', 'adventures', 'of', 'sherlock','holmes','the','great','gasby','hamlet','adventures','of','huckleberry','fin']"
      ],
      "metadata": {
        "id": "Ak7NwAeLHt5Q"
      },
      "execution_count": null,
      "outputs": []
    },
    {
      "cell_type": "code",
      "source": [
        "word_counter = {}\n",
        "\n",
        "for word in book_title:\n",
        "    if word not in word_counter:\n",
        "        word_counter[word] = 1\n",
        "    else:\n",
        "        word_counter[word] += 1\n",
        "\n",
        "print(word_counter)"
      ],
      "metadata": {
        "colab": {
          "base_uri": "https://localhost:8080/"
        },
        "id": "CJeaSzsmIFvm",
        "outputId": "734f271f-e4fc-4d38-eaec-44bf0f89057c"
      },
      "execution_count": null,
      "outputs": [
        {
          "output_type": "stream",
          "name": "stdout",
          "text": [
            "{'great': 2, 'expectations': 1, 'the': 2, 'adventures': 2, 'of': 2, 'sherlock': 1, 'holmes': 1, 'gasby': 1, 'hamlet': 1, 'huckleberry': 1, 'fin': 1}\n"
          ]
        }
      ]
    },
    {
      "cell_type": "markdown",
      "source": [
        "What's happening here?\n",
        "\n",
        "The for loop iterates through each element in the list. For the first iteration, word takes the value 'great'.\n",
        "\n",
        "Next, the if statement checks if word is in the word_counter dictionary.\n",
        "Since it doesn't yet, the statement word_counter[word] = 1 adds great as a key to the dictionary with a value of 1.\n",
        "\n",
        "Then, it leaves the if else statement and moves on to the next iteration of the for loop. word now takes the value expectations and repeats the process.\n",
        "\n",
        "When the if condition is not met, it is because thatword already exists in the word_counter dictionary, and the statement word_counter[word] = word_counter[word] + 1 increases the count of that word by 1.\n",
        "\n",
        "Once the for loop finishes iterating through the list, the for loop is complete."
      ],
      "metadata": {
        "id": "8luL6envISUS"
      }
    },
    {
      "cell_type": "markdown",
      "source": [
        "Using .get() method"
      ],
      "metadata": {
        "id": "ZthQ2V3bIfKa"
      }
    },
    {
      "cell_type": "code",
      "source": [
        "word_counter = {}\n",
        "\n",
        "for word in book_title:\n",
        "    word_counter[word] = word_counter.get(word, 0) + 1\n",
        "\n",
        "print(word_counter)"
      ],
      "metadata": {
        "colab": {
          "base_uri": "https://localhost:8080/"
        },
        "id": "RJN34CZuIpoZ",
        "outputId": "13d17468-59e8-4fa5-8281-ff383f7fd55d"
      },
      "execution_count": null,
      "outputs": [
        {
          "output_type": "stream",
          "name": "stdout",
          "text": [
            "{'great': 2, 'expectations': 1, 'the': 2, 'adventures': 2, 'of': 2, 'sherlock': 1, 'holmes': 1, 'gasby': 1, 'hamlet': 1, 'huckleberry': 1, 'fin': 1}\n"
          ]
        }
      ]
    },
    {
      "cell_type": "markdown",
      "source": [
        "What's happening here?\n",
        "\n",
        "The for loop iterates through the list as we saw earlier. The for loop feeds 'great' to the next statement in the body of the for loop.\n",
        "\n",
        "In this line: word_counter[word] = word_counter.get(word,0) + 1, since the key 'great' doesn't yet exist in the dictionary, get() will return the value 0 and word_counter[word] will be set to 1.\n",
        "\n",
        "Once it encounters a word that already exists in word_counter (e.g. the second appearance of 'the'), the value for that key is incremented by 1. On the second appearance of 'the', the key's value would add 1 again, resulting in 2.\n",
        "Once the for loop finishes iterating through the list, the for loop is complete.\n"
      ],
      "metadata": {
        "id": "ZD0P84DBJNZO"
      }
    },
    {
      "cell_type": "markdown",
      "source": [
        "###### Iterating through dicts"
      ],
      "metadata": {
        "id": "ip8Rx5npJVJi"
      }
    },
    {
      "cell_type": "code",
      "source": [
        "cast = {\n",
        "           \"Jerry Seinfeld\": \"Jerry Seinfeld\",\n",
        "           \"Julia Louis-Dreyfus\": \"Elaine Benes\",\n",
        "           \"Jason Alexander\": \"George Costanza\",\n",
        "           \"Michael Richards\": \"Cosmo Kramer\"\n",
        "       }\n",
        "\n",
        "for key in cast:\n",
        "    print(key)"
      ],
      "metadata": {
        "colab": {
          "base_uri": "https://localhost:8080/"
        },
        "id": "2deFzg-4Ja2q",
        "outputId": "625e5a8c-1f0c-48bf-9697-1378e446dd64"
      },
      "execution_count": null,
      "outputs": [
        {
          "output_type": "stream",
          "name": "stdout",
          "text": [
            "Jerry Seinfeld\n",
            "Julia Louis-Dreyfus\n",
            "Jason Alexander\n",
            "Michael Richards\n"
          ]
        }
      ]
    },
    {
      "cell_type": "code",
      "source": [
        "for key, value in cast.items():\n",
        "    print(\"Actor: {}    Role: {}\".format(key, value))"
      ],
      "metadata": {
        "colab": {
          "base_uri": "https://localhost:8080/"
        },
        "id": "08FHfrRxJyrx",
        "outputId": "6b656366-6796-4d2d-8c0a-85848dd62f58"
      },
      "execution_count": null,
      "outputs": [
        {
          "output_type": "stream",
          "name": "stdout",
          "text": [
            "Actor: Jerry Seinfeld    Role: Jerry Seinfeld\n",
            "Actor: Julia Louis-Dreyfus    Role: Elaine Benes\n",
            "Actor: Jason Alexander    Role: George Costanza\n",
            "Actor: Michael Richards    Role: Cosmo Kramer\n"
          ]
        }
      ]
    },
    {
      "cell_type": "code",
      "source": [
        "result = 0\n",
        "basket_items = {'apples': 4, 'oranges': 19, 'kites': 3, 'sandwiches': 8}\n",
        "fruits = ['apples', 'oranges', 'pears', 'peaches', 'grapes', 'bananas']\n",
        "\n",
        "for object, count in basket_items.items():\n",
        "   if object in fruits:\n",
        "       result += count\n",
        "\n",
        "print(\"There are {} fruits in the basket.\".format(result))"
      ],
      "metadata": {
        "colab": {
          "base_uri": "https://localhost:8080/"
        },
        "id": "CJIjyLKXJ5pl",
        "outputId": "e9a7985b-8ef5-4991-dfc4-34dd29af0bc7"
      },
      "execution_count": null,
      "outputs": [
        {
          "output_type": "stream",
          "name": "stdout",
          "text": [
            "There are 23 fruits in the basket.\n"
          ]
        }
      ]
    },
    {
      "cell_type": "code",
      "source": [
        "fruit_count, not_fruit_count = 0, 0\n",
        "basket_items = {'apples': 4, 'oranges': 19, 'kites': 3, 'sandwiches': 8}\n",
        "fruits = ['apples', 'oranges', 'pears', 'peaches', 'grapes', 'bananas']\n",
        "\n",
        "#Iterate through the dictionary\n",
        "for object, count in basket_items.items():\n",
        "    if object in fruits:\n",
        "       fruit_count += count\n",
        "    else:\n",
        "        not_fruit_count += count\n",
        "\n",
        "print(\"The number of fruits is {}.  There are {} objects that are not fruits.\".format(fruit_count, not_fruit_count))"
      ],
      "metadata": {
        "colab": {
          "base_uri": "https://localhost:8080/"
        },
        "id": "JBStNVX6J6fM",
        "outputId": "d16ce29b-b214-4566-ff96-276b0b343575"
      },
      "execution_count": null,
      "outputs": [
        {
          "output_type": "stream",
          "name": "stdout",
          "text": [
            "The number of fruits is 23.  There are 11 objects that are not fruits.\n"
          ]
        }
      ]
    },
    {
      "cell_type": "markdown",
      "source": [
        "##### ZIP"
      ],
      "metadata": {
        "id": "Fn6p1Dy-KC9z"
      }
    },
    {
      "cell_type": "markdown",
      "source": [
        "zip returns an iterator that combines multiple iterables into one sequence of tuples. Each tuple contains the elements in that position from all the iterables. For example, printing\n",
        "\n",
        "list(zip(['a', 'b', 'c'], [1, 2, 3])) would output [('a', 1), ('b', 2), ('c', 3)].\n",
        "\n",
        "Like we did for range() we need to convert it to a list or iterate through it with a loop to see the elements.\n",
        "\n",
        "You could unpack each tuple in a for loop like this."
      ],
      "metadata": {
        "id": "rKmVcrYJKMP7"
      }
    },
    {
      "cell_type": "code",
      "source": [
        "letters = ['a', 'b', 'c']\n",
        "nums = [1, 2, 3]\n",
        "\n",
        "for letter, num in zip(letters, nums):\n",
        "    print(\"{}: {}\".format(letter, num))"
      ],
      "metadata": {
        "colab": {
          "base_uri": "https://localhost:8080/"
        },
        "id": "JOHr0iSXKFmZ",
        "outputId": "815ede99-c40c-43db-89a6-2edd98a0d4bb"
      },
      "execution_count": null,
      "outputs": [
        {
          "output_type": "stream",
          "name": "stdout",
          "text": [
            "a: 1\n",
            "b: 2\n",
            "c: 3\n"
          ]
        }
      ]
    },
    {
      "cell_type": "code",
      "source": [
        "some_list = [('a', 1), ('b', 2), ('c', 3)]\n",
        "letters, nums = zip(*some_list)\n",
        "print(letters, nums)"
      ],
      "metadata": {
        "colab": {
          "base_uri": "https://localhost:8080/"
        },
        "id": "QpVnvnICKQHu",
        "outputId": "59c4828e-bcbc-4b81-8886-2efb599450c0"
      },
      "execution_count": null,
      "outputs": [
        {
          "output_type": "stream",
          "name": "stdout",
          "text": [
            "('a', 'b', 'c') (1, 2, 3)\n"
          ]
        }
      ]
    },
    {
      "cell_type": "code",
      "source": [
        "x_coord = [23, 53, 2, -12, 95, 103, 14, -5]\n",
        "y_coord = [677, 233, 405, 433, 905, 376, 432, 445]\n",
        "z_coord = [4, 16, -6, -42, 3, -6, 23, -1]\n",
        "labels = [\"F\", \"J\", \"A\", \"Q\", \"Y\", \"B\", \"W\", \"X\"]\n",
        "\n",
        "points = []\n",
        "for point in zip(labels, x_coord, y_coord, z_coord):\n",
        "    points.append(\"{}: {}, {}, {}\".format(*point))\n",
        "\n",
        "for point in points:\n",
        "    print(point)"
      ],
      "metadata": {
        "colab": {
          "base_uri": "https://localhost:8080/"
        },
        "id": "XAcAkQVzKXrg",
        "outputId": "c9e86a49-b82d-4257-e3f2-3a7f1c5eb9c7"
      },
      "execution_count": null,
      "outputs": [
        {
          "output_type": "stream",
          "name": "stdout",
          "text": [
            "F: 23, 677, 4\n",
            "J: 53, 233, 16\n",
            "A: 2, 405, -6\n",
            "Q: -12, 433, -42\n",
            "Y: 95, 905, 3\n",
            "B: 103, 376, -6\n",
            "W: 14, 432, 23\n",
            "X: -5, 445, -1\n"
          ]
        }
      ]
    },
    {
      "cell_type": "markdown",
      "source": [
        "Build dict from lists"
      ],
      "metadata": {
        "id": "ywH2O0xqKf4h"
      }
    },
    {
      "cell_type": "code",
      "source": [
        "cast_names = [\"Barney\", \"Robin\", \"Ted\", \"Lily\", \"Marshall\"]\n",
        "cast_heights = [72, 68, 72, 66, 76]\n",
        "\n",
        "cast = dict(zip(cast_names, cast_heights))\n",
        "print(cast)"
      ],
      "metadata": {
        "colab": {
          "base_uri": "https://localhost:8080/"
        },
        "id": "oVYPA2C7Ke7P",
        "outputId": "61002adf-de27-405f-8f67-f8fcff4e0e59"
      },
      "execution_count": null,
      "outputs": [
        {
          "output_type": "stream",
          "name": "stdout",
          "text": [
            "{'Barney': 72, 'Robin': 68, 'Ted': 72, 'Lily': 66, 'Marshall': 76}\n"
          ]
        }
      ]
    },
    {
      "cell_type": "markdown",
      "source": [
        "Transpose with Zip"
      ],
      "metadata": {
        "id": "p9bEFiscKjKi"
      }
    },
    {
      "cell_type": "code",
      "source": [
        "data = ((0, 1, 2), (3, 4, 5), (6, 7, 8), (9, 10, 11))\n",
        "\n",
        "data_transpose = tuple(zip(*data))\n",
        "print(data_transpose)"
      ],
      "metadata": {
        "colab": {
          "base_uri": "https://localhost:8080/"
        },
        "id": "MQ0CdTbEKim6",
        "outputId": "16de3ed3-8814-4f3f-8ba5-7196aac03956"
      },
      "execution_count": null,
      "outputs": [
        {
          "output_type": "stream",
          "name": "stdout",
          "text": [
            "((0, 3, 6, 9), (1, 4, 7, 10), (2, 5, 8, 11))\n"
          ]
        }
      ]
    },
    {
      "cell_type": "markdown",
      "source": [
        "Using enumerate"
      ],
      "metadata": {
        "id": "okERedMYK06t"
      }
    },
    {
      "cell_type": "code",
      "source": [
        "cast = [\"Barney Stinson\", \"Robin Scherbatsky\", \"Ted Mosby\", \"Lily Aldrin\", \"Marshall Eriksen\"]\n",
        "heights = [72, 68, 72, 66, 76]\n",
        "\n",
        "for i, character in enumerate(cast):\n",
        "    cast[i] = character + \" \" + str(heights[i])\n",
        "\n",
        "print(cast)"
      ],
      "metadata": {
        "colab": {
          "base_uri": "https://localhost:8080/"
        },
        "id": "YvZ1VTDZKz-B",
        "outputId": "33ea4d0e-bc3f-49cc-b5b9-7bc410c88631"
      },
      "execution_count": null,
      "outputs": [
        {
          "output_type": "stream",
          "name": "stdout",
          "text": [
            "['Barney Stinson 72', 'Robin Scherbatsky 68', 'Ted Mosby 72', 'Lily Aldrin 66', 'Marshall Eriksen 76']\n"
          ]
        }
      ]
    },
    {
      "cell_type": "markdown",
      "source": [
        "###### List Comprehension"
      ],
      "metadata": {
        "id": "sBxSCM7zK4n-"
      }
    },
    {
      "cell_type": "markdown",
      "source": [
        "In Python, you can create lists really quickly and concisely with list comprehensions. This example from earlier:"
      ],
      "metadata": {
        "id": "-ICmxsYqMBRv"
      }
    },
    {
      "cell_type": "code",
      "source": [
        "cities = ('rio de janeiro', 'são paulo', 'brasília', 'recife', 'salvador')\n",
        "capitalized_cities = []\n",
        "for city in cities:\n",
        "    capitalized_cities.append(city.title())\n",
        "print(capitalized_cities)"
      ],
      "metadata": {
        "colab": {
          "base_uri": "https://localhost:8080/"
        },
        "id": "jF5IM2vSL_xY",
        "outputId": "1b81a3f7-7466-4371-c364-58030fe6860e"
      },
      "execution_count": null,
      "outputs": [
        {
          "output_type": "stream",
          "name": "stdout",
          "text": [
            "['Rio De Janeiro', 'São Paulo', 'Brasília', 'Recife', 'Salvador']\n"
          ]
        }
      ]
    },
    {
      "cell_type": "markdown",
      "source": [
        "can be reduced to:"
      ],
      "metadata": {
        "id": "RgKPriqOMH6s"
      }
    },
    {
      "cell_type": "code",
      "source": [
        "capitalized_cities = [city.title() for city in cities]\n",
        "print(capitalized_cities)"
      ],
      "metadata": {
        "colab": {
          "base_uri": "https://localhost:8080/"
        },
        "id": "y5O0waSIMKd1",
        "outputId": "737e225f-2407-4ceb-eddc-07e059f3d46c"
      },
      "execution_count": null,
      "outputs": [
        {
          "output_type": "stream",
          "name": "stdout",
          "text": [
            "['Rio De Janeiro', 'São Paulo', 'Brasília', 'Recife', 'Salvador']\n"
          ]
        }
      ]
    },
    {
      "cell_type": "markdown",
      "source": [
        "List comprehensions allow us to create a list using a for loop in one step.\n",
        "\n",
        "You create a list comprehension with brackets [], including an expression to evaluate for each element in an iterable. This list comprehension above calls city.title() for each element city in cities, to create each element in the new list, capitalized_cities."
      ],
      "metadata": {
        "id": "TIC_MjNiMNJd"
      }
    },
    {
      "cell_type": "code",
      "source": [
        "squares = [x**2 if x % 2 == 0 else x + 3 for x in range(9)]\n",
        "print(squares)"
      ],
      "metadata": {
        "colab": {
          "base_uri": "https://localhost:8080/"
        },
        "id": "JZZcrOu_NGN4",
        "outputId": "a9b21d24-adc7-415d-8171-0179e4c843b9"
      },
      "execution_count": null,
      "outputs": [
        {
          "output_type": "stream",
          "name": "stdout",
          "text": [
            "[0, 4, 4, 6, 16, 8, 36, 10, 64]\n"
          ]
        }
      ]
    },
    {
      "cell_type": "code",
      "source": [
        "scores = {\n",
        "             \"Rick Sanchez\": 70,\n",
        "             \"Morty Smith\": 35,\n",
        "             \"Summer Smith\": 82,\n",
        "             \"Jerry Smith\": 23,\n",
        "             \"Beth Smith\": 98\n",
        "          }\n",
        "\n",
        "passed = [name for name, score in scores.items() if score >= 65]\n",
        "print(passed)"
      ],
      "metadata": {
        "colab": {
          "base_uri": "https://localhost:8080/"
        },
        "id": "jNmvM2M5NZZt",
        "outputId": "01581411-9c0b-4162-94b6-e01ea63ba876"
      },
      "execution_count": null,
      "outputs": [
        {
          "output_type": "stream",
          "name": "stdout",
          "text": [
            "['Rick Sanchez', 'Summer Smith', 'Beth Smith']\n"
          ]
        }
      ]
    },
    {
      "cell_type": "markdown",
      "metadata": {
        "id": "B5hZhg1QSyUk"
      },
      "source": [
        "### Function"
      ]
    },
    {
      "cell_type": "markdown",
      "source": [
        "###### Function Structure"
      ],
      "metadata": {
        "id": "yq1Rk_ZGPDig"
      }
    },
    {
      "cell_type": "markdown",
      "source": [
        "Function Header\n",
        "\n",
        "Let's start with the function header, which is the first line of a function definition.\n",
        "\n",
        "The function header always starts with the def keyword, which indicates that this is a function definition.\n",
        "\n",
        "Then comes the function name (here, cylinder_volume), which follows the same naming conventions as variables. You can revisit the naming conventions below.\n",
        "Immediately after the name are parentheses that may include arguments \n",
        "separated by commas (here, height and radius). Arguments, or parameters, are values that are passed in as inputs when the function is called, and are used in the function body. If a function doesn't take arguments, these parentheses are left empty.\n",
        "\n",
        "The header always end with a colon :."
      ],
      "metadata": {
        "id": "PqfFOwlrSyUm"
      }
    },
    {
      "cell_type": "markdown",
      "source": [
        "Function Body\n",
        "\n",
        "The rest of the function is contained in the body, which is where the function does its work.\n",
        "\n",
        "The body of a function is the code indented after the header line. Here, it's the two lines that define pi and return the volume.\n",
        "\n",
        "Within this body, we can refer to the argument variables and define new variables, which can only be used within these indented lines.\n",
        "\n",
        "The body will often include a return statement, which is used to send back an output value from the function to the statement that called the function. A return statement consists of the return keyword followed by an expression that is evaluated to get the output value for the function. If there is no return statement, the function simply returns None."
      ],
      "metadata": {
        "id": "7aprHiolN_95"
      }
    },
    {
      "cell_type": "markdown",
      "source": [
        "Naming Conventions for Functions\n",
        "\n",
        "Function names follow the same naming conventions as variables.\n",
        "\n",
        "Only use ordinary letters, numbers and underscores in your function names. They can’t have spaces, and need to start with a letter or underscore.\n",
        "\n",
        "You can’t use Python's reserved words or keywords for function names, as discussed earlier with variable names. Here again is that table of Python's reserved words.\n",
        "\n",
        "Try to use descriptive names that can help readers understand what the function does."
      ],
      "metadata": {
        "id": "8DqT17Q8OK50"
      }
    },
    {
      "cell_type": "markdown",
      "source": [
        "Example 1"
      ],
      "metadata": {
        "id": "MvckrAxdOck5"
      }
    },
    {
      "cell_type": "code",
      "source": [
        "def population_density(population, land_area):\n",
        "    return population/land_area\n",
        "\n",
        "# test cases for your function\n",
        "test1 = population_density(10, 1)\n",
        "expected_result1 = 10\n",
        "print(\"expected result: {}, actual result: {}\".format(expected_result1, test1))\n",
        "\n",
        "test2 = population_density(864816, 121.4)\n",
        "expected_result2 = 7123.6902801\n",
        "print(\"expected result: {}, actual result: {}\".format(expected_result2, test2))"
      ],
      "metadata": {
        "colab": {
          "base_uri": "https://localhost:8080/"
        },
        "id": "VAYq_VAYOeCL",
        "outputId": "e5d365c6-232c-46e0-ff52-ef1c21edd7b4"
      },
      "execution_count": null,
      "outputs": [
        {
          "output_type": "stream",
          "name": "stdout",
          "text": [
            "expected result: 10, actual result: 10.0\n",
            "expected result: 7123.6902801, actual result: 7123.690280065897\n"
          ]
        }
      ]
    },
    {
      "cell_type": "markdown",
      "source": [
        "Example 2"
      ],
      "metadata": {
        "id": "BxzLqmXvO-Cm"
      }
    },
    {
      "cell_type": "code",
      "source": [
        "def readable_timedelta(days):\n",
        "    # use integer division to get the number of weeks\n",
        "    weeks = days // 7\n",
        "    # use % to get the number of days that remain\n",
        "    remainder = days % 7\n",
        "    return \"{} week(s) and {} day(s).\".format(weeks, remainder)\n",
        "\n",
        "# test your function\n",
        "print(readable_timedelta(10))"
      ],
      "metadata": {
        "colab": {
          "base_uri": "https://localhost:8080/"
        },
        "id": "TVeB79U0Ofso",
        "outputId": "9838d6b2-ab05-4496-9298-f69053bdcf50"
      },
      "execution_count": null,
      "outputs": [
        {
          "output_type": "stream",
          "name": "stdout",
          "text": [
            "1 week(s) and 3 day(s).\n"
          ]
        }
      ]
    },
    {
      "cell_type": "markdown",
      "source": [
        "###### Documentation"
      ],
      "metadata": {
        "id": "6qHVBhkdPIt8"
      }
    },
    {
      "cell_type": "markdown",
      "source": [
        "Documentation is used to make your code easier to understand and use. Functions are especially readable because they often use documentation strings, or docstrings. Docstrings are a type of comment used to explain the purpose of a function, and how it should be used. Here's a function for population density with a docstring."
      ],
      "metadata": {
        "id": "Mtn7go52PNwt"
      }
    },
    {
      "cell_type": "code",
      "source": [
        "def population_density(population, land_area):\n",
        "    \"\"\"Calculate the population density of an area. \"\"\"\n",
        "    return population / land_area"
      ],
      "metadata": {
        "id": "Z1WOH0rYPNIy"
      },
      "execution_count": null,
      "outputs": []
    },
    {
      "cell_type": "markdown",
      "source": [
        "Docstrings are surrounded by triple quotes. The first line of the docstring is a brief explanation of the function's purpose. If you feel that this is sufficient documentation you can end the docstring at this point; single line docstrings are perfectly acceptable, as in the example above."
      ],
      "metadata": {
        "id": "KBCKdeG_PUGn"
      }
    },
    {
      "cell_type": "code",
      "source": [
        "def population_density(population, land_area):\n",
        "    \"\"\"Calculate the population density of an area.\n",
        "\n",
        "    INPUT:\n",
        "    population: int. The population of that area\n",
        "    land_area: int or float. This function is unit-agnostic, if you pass in values in terms\n",
        "    of square km or square miles the function will return a density in those units.\n",
        "\n",
        "    OUTPUT: \n",
        "    population_density: population / land_area. The population density of a particular area.\n",
        "    \"\"\"\n",
        "    return population / land_area"
      ],
      "metadata": {
        "id": "nj1ml_4_PWYT"
      },
      "execution_count": null,
      "outputs": []
    },
    {
      "cell_type": "markdown",
      "source": [
        "If you think that a longer description would be appropriate for the function, you can add more information after the one-line summary. In the example above, you can see that we wrote an explanation of the function's arguments, stating the purpose and types of each one. It's also common to provide some description of the function's output.\n",
        "\n",
        "Every piece of the docstring is optional, however, docstrings are a part of good coding practice. You can read more about docstring conventions here."
      ],
      "metadata": {
        "id": "Fnh3l3SbPYfr"
      }
    },
    {
      "cell_type": "markdown",
      "source": [
        "Example 1"
      ],
      "metadata": {
        "id": "NEu_kk1DPuV0"
      }
    },
    {
      "cell_type": "code",
      "source": [
        "def readable_timedelta(days):\n",
        "    \"\"\"Return a string of the number of weeks and days included in days.\n",
        "\n",
        "    Args:\n",
        "        days (int): number of days to convert\n",
        "\n",
        "    Returns:\n",
        "        string of the number of weeks and days included in days\n",
        "    \"\"\"\n",
        "    weeks = days // 7\n",
        "    remainder = days % 7\n",
        "    return \"{} week(s) and {} day(s)\".format(weeks, remainder)"
      ],
      "metadata": {
        "id": "UkTK372CPvc8"
      },
      "execution_count": null,
      "outputs": []
    },
    {
      "cell_type": "code",
      "source": [
        "help(readable_timedelta)"
      ],
      "metadata": {
        "colab": {
          "base_uri": "https://localhost:8080/"
        },
        "id": "46RnNr4JMxcT",
        "outputId": "c8ea4318-6904-4753-cab7-df4ac05a347d"
      },
      "execution_count": null,
      "outputs": [
        {
          "output_type": "stream",
          "name": "stdout",
          "text": [
            "Help on function readable_timedelta in module __main__:\n",
            "\n",
            "readable_timedelta(days)\n",
            "    Return a string of the number of weeks and days included in days.\n",
            "    \n",
            "    Args:\n",
            "        days (int): number of days to convert\n",
            "    \n",
            "    Returns:\n",
            "        string of the number of weeks and days included in days\n",
            "\n"
          ]
        }
      ]
    },
    {
      "cell_type": "markdown",
      "source": [
        "###### Lambda Functions"
      ],
      "metadata": {
        "id": "KI8_3aPoQKF6"
      }
    },
    {
      "cell_type": "markdown",
      "source": [
        "You can use lambda expressions to create anonymous functions. That is, functions that don’t have a name. They are helpful for creating quick functions that aren’t needed later in your code. This can be especially useful for higher order functions, or functions that take in other functions as arguments.\n",
        "\n",
        "With a lambda expression, this function:"
      ],
      "metadata": {
        "id": "o1eOodUAQNgQ"
      }
    },
    {
      "cell_type": "code",
      "source": [
        "def multiply(x, y):\n",
        "    return x * y"
      ],
      "metadata": {
        "id": "QXJEY9S_QQXb"
      },
      "execution_count": null,
      "outputs": []
    },
    {
      "cell_type": "markdown",
      "source": [
        "can be reduced to:"
      ],
      "metadata": {
        "id": "kpF8C-7-QRDw"
      }
    },
    {
      "cell_type": "code",
      "source": [
        "multiply = lambda x, y: x * y"
      ],
      "metadata": {
        "id": "kmn5L283QT49"
      },
      "execution_count": null,
      "outputs": []
    },
    {
      "cell_type": "code",
      "source": [
        "multiply(4, 7)"
      ],
      "metadata": {
        "colab": {
          "base_uri": "https://localhost:8080/"
        },
        "id": "jq1kJ8njQYNw",
        "outputId": "63c8fa70-515c-4265-e0bb-962a3d213037"
      },
      "execution_count": null,
      "outputs": [
        {
          "output_type": "execute_result",
          "data": {
            "text/plain": [
              "28"
            ]
          },
          "metadata": {},
          "execution_count": 37
        }
      ]
    },
    {
      "cell_type": "markdown",
      "source": [
        "**Components of a Lambda Function**\n",
        "\n",
        "The lambda keyword is used to indicate that this is a lambda expression.\n",
        "\n",
        "Following lambda are one or more arguments for the anonymous function separated by commas, followed by a colon :. Similar to functions, the way the arguments are named in a lambda expression is arbitrary.\n",
        "\n",
        "Last is an expression that is evaluated and returned in this function. This is a lot like an expression you might see as a return statement in a function.\n",
        "With this structure, lambda expressions aren’t ideal for complex functions, but can be very useful for short, simple functions."
      ],
      "metadata": {
        "id": "W_xOT5sAQcud"
      }
    },
    {
      "cell_type": "markdown",
      "source": [
        "**Lambda with Map**\n",
        "\n",
        "map() is a higher-order built-in function that takes a function and iterable as inputs, and returns an iterator that applies the function to each element of the iterable. The code below uses map() to find the mean of each list in numbers to create the list averages. Give it a test run to see what happens.\n",
        "\n",
        "Rewrite this code to be more concise by replacing the mean function with a lambda expression defined within the call to map()."
      ],
      "metadata": {
        "id": "nLZhS3ogQqXr"
      }
    },
    {
      "cell_type": "code",
      "source": [
        "numbers = [\n",
        "              [34, 63, 88, 71, 29],\n",
        "              [90, 78, 51, 27, 45],\n",
        "              [63, 37, 85, 46, 22],\n",
        "              [51, 22, 34, 11, 18]\n",
        "           ]\n",
        "\n",
        "averages = list(map(lambda x: sum(x) / len(x), numbers))\n",
        "print(averages)"
      ],
      "metadata": {
        "colab": {
          "base_uri": "https://localhost:8080/"
        },
        "id": "-XTgfb3gQ29w",
        "outputId": "2f157495-9328-4639-a7df-b77ebacdb1a2"
      },
      "execution_count": null,
      "outputs": [
        {
          "output_type": "stream",
          "name": "stdout",
          "text": [
            "[57.0, 58.2, 50.6, 27.2]\n"
          ]
        }
      ]
    },
    {
      "cell_type": "code",
      "source": [
        "cities = [\"New York City\", \"Los Angeles\", \"Chicago\", \"Mountain View\", \"Denver\", \"Boston\"]\n",
        "\n",
        "short_cities = list(filter(lambda x: len(x) < 10, cities))\n",
        "print(short_cities)"
      ],
      "metadata": {
        "colab": {
          "base_uri": "https://localhost:8080/"
        },
        "id": "DNJvGPKjQ9wn",
        "outputId": "da73c899-7d86-4882-f4ae-d32581d68cbe"
      },
      "execution_count": null,
      "outputs": [
        {
          "output_type": "stream",
          "name": "stdout",
          "text": [
            "['Chicago', 'Denver', 'Boston']\n"
          ]
        }
      ]
    },
    {
      "cell_type": "markdown",
      "source": [
        "###### Iterators & Generators"
      ],
      "metadata": {
        "id": "n9jCNJyvRU1G"
      }
    },
    {
      "cell_type": "markdown",
      "source": [
        "Iterables are objects that can return one of their elements at a time, such as a list. Many of the built-in functions we’ve used so far, like 'enumerate,' return an iterator.\n",
        "\n",
        "An iterator is an object that represents a stream of data. This is different from a list, which is also an iterable, but is not an iterator because it is not a stream of data.\n",
        "\n",
        "Generators are a simple way to create iterators using functions. You can also define iterators using classes, which you can read more about here.\n",
        "\n",
        "Here is an example of a generator function called my_range, which produces an iterator that is a stream of numbers from 0 to (x - 1)."
      ],
      "metadata": {
        "id": "d5HV7MClRdZK"
      }
    },
    {
      "cell_type": "code",
      "source": [
        "def my_range(x):\n",
        "    i = 0\n",
        "    while i < x:\n",
        "        yield i\n",
        "        i += 1"
      ],
      "metadata": {
        "id": "64lYyMblRa4D"
      },
      "execution_count": null,
      "outputs": []
    },
    {
      "cell_type": "markdown",
      "source": [
        "Notice that instead of using the return keyword, it uses yield. This allows the function to return values one at a time, and start where it left off each time it’s called. This yield keyword is what differentiates a generator from a typical function.\n",
        "\n",
        "Remember, since this returns an iterator, we can convert it to a list or iterate through it in a loop to view its contents. For example, this code:"
      ],
      "metadata": {
        "id": "dRUn44aqRiYk"
      }
    },
    {
      "cell_type": "code",
      "source": [
        "for x in my_range(5):\n",
        "    print(x)"
      ],
      "metadata": {
        "colab": {
          "base_uri": "https://localhost:8080/"
        },
        "id": "7R083-RXRktz",
        "outputId": "0d409613-5ff6-45f1-86d2-6daf649bf6e3"
      },
      "execution_count": null,
      "outputs": [
        {
          "output_type": "stream",
          "name": "stdout",
          "text": [
            "0\n",
            "1\n",
            "2\n",
            "3\n",
            "4\n"
          ]
        }
      ]
    },
    {
      "cell_type": "markdown",
      "source": [
        "**Why Generators?**\n",
        "\n",
        "You may be wondering why we'd use generators over lists. Here’s an excerpt from a stack overflow page that addresses this:\n",
        "\n",
        "Generators are a lazy way to build iterables. They are useful when the fully realized list would not fit in memory, or when the cost to calculate each list element is high and you want to do it as late as possible. But they can only be iterated over once."
      ],
      "metadata": {
        "id": "relb7Si8SBW1"
      }
    },
    {
      "cell_type": "code",
      "source": [
        "lessons = [\"Why Python Programming\", \"Data Types and Operators\", \"Control Flow\", \"Functions\", \"Scripting\"]\n",
        "\n",
        "def my_enumerate(iterable, start=0):\n",
        "    count = start\n",
        "    for element in iterable:\n",
        "        yield count, element\n",
        "        count += 1\n",
        "\n",
        "for i, lesson in my_enumerate(lessons, 1):\n",
        "    print(\"Lesson {}: {}\".format(i, lesson))"
      ],
      "metadata": {
        "colab": {
          "base_uri": "https://localhost:8080/"
        },
        "id": "P3OiPNqASMRm",
        "outputId": "2dc0b372-4b56-4854-ffad-d689c8402693"
      },
      "execution_count": null,
      "outputs": [
        {
          "output_type": "stream",
          "name": "stdout",
          "text": [
            "Lesson 1: Why Python Programming\n",
            "Lesson 2: Data Types and Operators\n",
            "Lesson 3: Control Flow\n",
            "Lesson 4: Functions\n",
            "Lesson 5: Scripting\n"
          ]
        }
      ]
    },
    {
      "cell_type": "code",
      "source": [
        "def chunker(iterable, size):\n",
        "    \"\"\"Yield successive chunks from iterable of length size.\"\"\"\n",
        "    for i in range(0, len(iterable), size):\n",
        "        yield iterable[i:i + size]\n",
        "\n",
        "for chunk in chunker(range(25), 4):\n",
        "    print(list(chunk))"
      ],
      "metadata": {
        "colab": {
          "base_uri": "https://localhost:8080/"
        },
        "id": "1wqor0HCSQ79",
        "outputId": "5138b1e7-2c46-4d1e-ca3a-97110f2e345d"
      },
      "execution_count": null,
      "outputs": [
        {
          "output_type": "stream",
          "name": "stdout",
          "text": [
            "[0, 1, 2, 3]\n",
            "[4, 5, 6, 7]\n",
            "[8, 9, 10, 11]\n",
            "[12, 13, 14, 15]\n",
            "[16, 17, 18, 19]\n",
            "[20, 21, 22, 23]\n",
            "[24]\n"
          ]
        }
      ]
    },
    {
      "cell_type": "markdown",
      "source": [
        "**Generator Expressions**\n",
        "\n",
        "Here's a cool concept that combines generators and list comprehensions! You can actually create a generator in the same way you'd normally write a list comprehension, except with parentheses instead of square brackets. For example:"
      ],
      "metadata": {
        "id": "jFgYtwFESWQM"
      }
    },
    {
      "cell_type": "code",
      "source": [
        "sq_list = [x**2 for x in range(10)]  # this produces a list of squares\n",
        "\n",
        "sq_iterator = (x**2 for x in range(10))  # this produces an iterator of squares\n",
        "\n",
        "print(sq_list, sq_iterator)"
      ],
      "metadata": {
        "colab": {
          "base_uri": "https://localhost:8080/"
        },
        "id": "K07hGqm6SawK",
        "outputId": "9c4e6030-50fe-45f7-f07c-4a66b9b155ea"
      },
      "execution_count": null,
      "outputs": [
        {
          "output_type": "stream",
          "name": "stdout",
          "text": [
            "[0, 1, 4, 9, 16, 25, 36, 49, 64, 81] <generator object <genexpr> at 0x7fa2c3834750>\n"
          ]
        }
      ]
    },
    {
      "cell_type": "markdown",
      "metadata": {
        "id": "tSq4c48CS_Xi"
      },
      "source": [
        "### Scripting"
      ]
    },
    {
      "cell_type": "markdown",
      "source": [
        "* Python Installation and Environment Setup\n",
        "\n",
        "* Running and Editing Python Scripts\n",
        "\n",
        "* Interacting with User Input\n",
        "\n",
        "* Handling Exceptions\n",
        "\n",
        "* Reading and Writing Files\n",
        "\n",
        "* Importing Local, Standard, and Third-Party Modules\n",
        "\n",
        "* Experimenting with an Interpreter"
      ],
      "metadata": {
        "id": "KHjOo5LvTXJS"
      }
    },
    {
      "cell_type": "markdown",
      "source": [
        "###### Python Installation"
      ],
      "metadata": {
        "id": "EUGK7mUBTQAX"
      }
    },
    {
      "cell_type": "markdown",
      "source": [
        "Before We Install Python:\n",
        "\n",
        "1. **Prepare to Use Command Line**\n",
        "\n",
        "To install Python and follow this lesson, you will need to use the command line. We will walk you through all the details, so don't worry if you have never used it before! If you would like to learn or refresh on command lines, we strongly recommend going through this free Shell Workshop lesson, where you can set up and learn how to use Unix Shell commands.\n",
        "\n",
        "** Note to Windows Users: Install Git Bash\n",
        "As noted in the free Shell Workshop linked above, we recommend you install Git Bash here and use this as your terminal for this lesson. Please note that during installation you should select the checkbox Use Git and Optional Unix tools from the Windows Command Prompt. This will allow you to use Unix commands while in Windows. If you'd rather use PowerShell, those commands are also provided in this lesson. For more information on the different command shells, check out the Shell Workshop lesson linked above.\n",
        "\n",
        "2. **Is Python Already Installed On Your Computer?**\n",
        "\n",
        "In this course, we're using the most recent major version of Python - Python 3. Although Python 2 is still being used in many places, it is no longer being updated. In order to keep up compatibility with future improvements to Python, we recommend using Python 3.\n",
        "\n",
        "Mac OS X and Linux usually come with Python 2 already installed. We DO NOT recommend that you make any changes to this Python, since parts of the operating system are using Python. However, it shouldn't do any harm to your system to install Python 3 separately, too.\n",
        "\n",
        "Windows doesn't usually come with Python included, but you can still check whether you have it installed before going ahead. So, first, check that you’ve not already got Python 3 installed.\n",
        "\n",
        "Open up your Terminal or Command Line (this would be Git Bash on Windows).\n",
        "\n",
        "In a new terminal or command prompt, type\n",
        "\n",
        "$ python --version\n",
        "and press Enter.\n",
        "\n",
        "You might get a response that the Python version installed is something like Python 2.7.9. In that case, it would tell you that you have Python 2 installed, and you'll want to follow the steps in the next couple of sections to update it to Python 3.\n",
        "\n",
        "If instead the version number starts with a 3, then you already have Python 3 installed! Don't install Python again!\n",
        "\n",
        "Alternatively, you might see an error message - don't worry about that for now, just try the steps in the next couple of sections.\n",
        "\n"
      ],
      "metadata": {
        "id": "3sSFcfvdTf1x"
      }
    },
    {
      "cell_type": "markdown",
      "source": [
        "###### Anaconda Installation"
      ],
      "metadata": {
        "id": "GctAOQR6JH1C"
      }
    },
    {
      "cell_type": "markdown",
      "source": [
        "* O que é o Anaconda?\n",
        "\n",
        "Bem-vindo(a) à aula sobre o uso do Anaconda para gerenciar seus pacotes e ambientes ao trabalhar com Python. Com o Anaconda, é simples instalar os pacotes que você usará com frequência ao analisar dados. Você também o usará para criar ambientes virtuais que tornam a tarefa de trabalhar em diversos projetos simultaneamente muito mais simples. O Anaconda simplificou meu fluxo de trabalho e resolveu diversas questões que apareciam quando eu precisava lidar com diversos pacotes e versões do Python ao mesmo tempo.\n",
        "\n",
        "O Anaconda é, na verdade, a distribuição de software que contém o conda, o Python e mais de 150 pacotes científicos e suas dependências. A aplicação conda é o gerenciador de pacotes e ambientes. O Anaconda é um download relativamente pesado (~500 MB), porque vem com os pacotes mais comuns de data science do Python. Se você não precisa de todos os pacotes ou quer economizar no volume de dados baixados/salvos, existe também o Miniconda, uma distribuição menor, que inclui apenas o conda e o Python. Ainda é possível instalar qualquer um dos pacotes disponíveis usando o conda, mas eles não vêm nessa distribuição.\n",
        "\n",
        "OConda é um programa que você usará apenas na linha de comando, então, caso não esteja confortável com isso, dê uma olhada neste tutorial para linha de comando do Windows ou em nosso curso para OSX/Linux de Linha de comando Linux nível básico.\n",
        "\n",
        "Você provavelmente já tem o Python instalado e deve estar se perguntando o porquê de fazer tudo isso. Em primeiro lugar, como o Anaconda vem com um monte de pacotes de data science, você já estará preparado para trabalhar com dados. Segundo, usar o conda para gerenciar seus pacotes e ambientes reduzirá o número de problemas futuros decorrentes das diversas bibliotecas que você usará."
      ],
      "metadata": {
        "id": "3rgdo9_SJi2H"
      }
    },
    {
      "cell_type": "markdown",
      "source": [
        "* Gerenciando pacotes\n",
        "\n",
        "Gerenciadores de pacotes são utilizados para instalar bibliotecas e outros programas em seu computador. Você provavelmente já conhece o pip, que é o gerenciador de pacotes padrão das bibliotecas Python. O conda é parecido com o pip, exceto pelo fato de que os pacotes disponíveis são mais focados em data science, enquanto o pip é mais generalista. No entanto, o conda não é específico para o Python, tal como o pip; ele também pode instalar pacotes que não são do Python. Trata-se de um gerenciador de pacotes para qualquer software. Dito isso, nem todas as bibliotecas Python estão disponíveis para a distribuição Anaconda e para o conda. Você também pode (e de fato, irá) utilizar o pip junto ao conda para instalar pacotes.\n",
        "\n",
        "O conda instala pacotes pré-compilados. Por exemplo, a distribuição Anaconda contém as bibliotecas Numpy, Scipy e Scikit-learn compiladas com a biblioteca MKL, o que acelera diversas operações matemáticas. Os pacotes são mantidos por colaboradores da distribuição, o que significa que nem sempre as últimas versões estão disponíveis automaticamente. Mas, graças ao fato de que alguém precisou montar os pacotes para diversos sistemas, eles tendem a ser mais estáveis (e, por isso, mais convenientes)."
      ],
      "metadata": {
        "id": "wEwCsvNjJy49"
      }
    },
    {
      "cell_type": "markdown",
      "source": [
        "* Ambientes\n",
        "\n",
        "Além de administrar pacotes, o Conda também gerencia ambientes virtuais, similar ao virtualenv e ao pyenv, outros gerenciadores de ambientes famosos.\n",
        "\n",
        "Ambientes permitem que você separe e isole pacotes que estão sendo utilizados para projetos diferentes. Códigos que dependem de versões diferentes de uma mesma biblioteca serão utilizados com frequência. Por exemplo, é possível ter código que use aspectos novos do Numpy ou então códigos que usem aspectos antigos que foram removidos das versões novas. É praticamente impossível ter duas versões do Numpy instaladas ao mesmo tempo. Em vez disso, cada versão do Numpy deve estar presente em um ambiente e, então, o projeto que precisa de uma versão será feito em determinado ambiente.\n",
        "\n",
        "Essa questão também surge quando se lida com Python 2 e Python 3. É possível trabalhar com código antigo que não funciona em Python 3 ou código novo que não roda em Python 2. Ter ambas as versões instaladas evita muita confusão e bugs. É muito melhor ter ambientes separados.\n",
        "\n",
        "Você também pode exportar a lista de pacotes de um ambiente para um arquivo e, então, incluir esse arquivo no código. Isso permite que outras pessoas consigam instalar com facilidade todas as dependências para seu código rodar. O pip tem uma funcionalidade parecida com o comando pip freeze > requirements.txt."
      ],
      "metadata": {
        "id": "kgsNdoiBJ8kl"
      }
    },
    {
      "cell_type": "markdown",
      "source": [
        "* Instalação\n",
        "\n",
        "O Anaconda está disponível para Windows, Mac OS X e Linux. É possível encontrar os instaladores e as instruções de instalação no site https://www.continuum.io/downloads.\n",
        "\n",
        "Caso já tenha o Python instalado em seu computador, essa instalação não estragará nada. Em vez disso, o Python padrão usado nos scripts e programas passará a ser o que vem dentro da distribuição Anaconda.\n",
        "\n",
        "Escolha a versão com o Python 3.6. Caso queira, é possível instalar o Python 2.0 depois. Também é importante escolher a versão do instalador 64-bit caso seu computador tenha um sistema operacional 64-bit. Caso contrário, escolha o instalador 32-bit. Escolha a versão apropriada e então a instale. Continue depois de fazer isso!\n",
        "\n",
        "Depois da instalação, você estará automaticamente no ambiente conda padrão com todos os pacotes instalados, como mostrado abaixo. É possível checar sua instalação digitando conda list no terminal."
      ],
      "metadata": {
        "id": "00zE-K3sKgXk"
      }
    },
    {
      "cell_type": "markdown",
      "source": [
        "Diversas aplicações são instaladas junto ao Anaconda:\n",
        "\n",
        "Anaconda Navigator, uma interface para gerenciar seus pacotes e ambientes\n",
        "Anaconda Prompt, um terminal para usar a interface de linha de comando para gerenciar seus ambientes e pacotes Spyder, uma interface equipada para o desenvolvimento científico.\n",
        "\n",
        "Para evitar problemas futuros, é melhor atualizar todos os pacotes do ambiente padrão. Abra o programa Anaconda Prompt, digite os seguintes comandos:\n",
        "\n",
        "```\n",
        "conda upgrade conda\n",
        "conda upgrade --all\n",
        "```\n",
        "\n",
        "e confirme quando for pedido. Os pacotes que vêm com a instalação inicial tendem a não ser a versão mais atual. Ao fazer essa atualização agora, você evita erros futuros causados por pacotes antigos.\n",
        "\n",
        "Observação: na etapa anterior, rodar conda upgrade conda não deveria ser necessário, pois o comando seguinte contém --all, que deveria incluir o pacote conda, mas alguns usuários reportaram erros ao não fazer isso.\n",
        "\n",
        "Para o restante desta aula, será necessário digitar diversos comandos no terminal. Recomendo fortemente que comece a trabalhar com o Anaconda desta maneira e só depois passe a usar uma interface gráfica, caso você queira."
      ],
      "metadata": {
        "id": "kWVBSzxpKts5"
      }
    },
    {
      "cell_type": "markdown",
      "source": [
        "* Gerenciando pacotes\n",
        "\n",
        "Uma vez instalado o Anaconda, gerenciar pacotes é bastante simples. Para instalar um pacote, digite conda install nome_do_pacote no terminal. Por exemplo, para instalar o numpy, digite `conda install numpy`.\n",
        "\n",
        "É possível instalar diversos pacotes ao mesmo tempo. Ao digitar algo como `conda install numpy scipy pandas`, todos os pacotes serão instalados simultaneamente. Também é possível especificar qual versão de um pacote você quer ao adicionar o número da versão, tal como em `conda install numpy=1.10`.\n",
        "\n",
        "O conda também instala automaticamente as dependências para você. Por exemplo, o pacote scipy depende do pacote numpy, ele usa e exige o numpy. Caso você instale apenas o scipy (`conda install scipy`), o Conda também instalará o numpy, caso ainda não esteja instalado.\n",
        "\n",
        "A maioria dos comandos é intuitiva. Para remover, use conda remove nome_do_pacote. Para atualizar um pacote, `conda update nome_do_pacote`. Caso você queira atualizar todos os pacotes de um ambiente, o que pode ser bem útil, use `onda update --all`. Por fim, para listar os pacotes instalados, use o comando conda list que vimos anteriormente.\n",
        "\n",
        "Caso você não saiba exatamente o nome do pacote que está buscando, é possível tentar encontrá-lo com o comando `conda search termo_de_busca`. Por exemplo, eu sei que quero instalar o pacote Beautiful Soup, porém, não tenho certeza do nome exato, então, eu digito `conda search beautifulsoup`. O programa retorna uma lista com os pacotes Beautiful Soup disponíveis com o nome apropriado do pacote, beautifulsoup4."
      ],
      "metadata": {
        "id": "svtKL7lUd3O0"
      }
    },
    {
      "cell_type": "markdown",
      "source": [
        "We can check the version of python in our newly created Conda environment with the following command:"
      ],
      "metadata": {
        "id": "3QQIVCg1O2-q"
      }
    },
    {
      "cell_type": "code",
      "source": [
        "python --version"
      ],
      "metadata": {
        "id": "e3A13VOHO2i8"
      },
      "execution_count": null,
      "outputs": []
    },
    {
      "cell_type": "markdown",
      "source": [
        "To create a new Conda environment, open up your terminal and type the following command:"
      ],
      "metadata": {
        "id": "jT1PP6jbO50M"
      }
    },
    {
      "cell_type": "code",
      "source": [
        "conda create -n datasci-env pandas, numpy, scikit-learn, matplotlib, seaborn"
      ],
      "metadata": {
        "id": "R4CtIEHbO5Md"
      },
      "execution_count": null,
      "outputs": []
    },
    {
      "cell_type": "markdown",
      "source": [
        "If you have an existing file containing project dependencies, you can recreate the environment by running the following:"
      ],
      "metadata": {
        "id": "cJrt6Tk0O_tw"
      }
    },
    {
      "cell_type": "code",
      "source": [
        "conda env create -f environment.yaml"
      ],
      "metadata": {
        "id": "1WUmYwXCPDf9"
      },
      "execution_count": null,
      "outputs": []
    },
    {
      "cell_type": "markdown",
      "source": [
        "Once your environment is created, you can activate it using:"
      ],
      "metadata": {
        "id": "emqJxb3uPFhV"
      }
    },
    {
      "cell_type": "code",
      "source": [
        "conda activate datasci-env"
      ],
      "metadata": {
        "id": "pc11FLLzPHl7"
      },
      "execution_count": null,
      "outputs": []
    },
    {
      "cell_type": "markdown",
      "source": [
        "Let’s deactivate the environment we just created:"
      ],
      "metadata": {
        "id": "Nt2_kC_CPLFN"
      }
    },
    {
      "cell_type": "code",
      "source": [
        "conda deactivate"
      ],
      "metadata": {
        "id": "bZfqqTzwPMCN"
      },
      "execution_count": null,
      "outputs": []
    },
    {
      "cell_type": "markdown",
      "source": [
        "You can list all available environments using:"
      ],
      "metadata": {
        "id": "ZbykTGzoPQyF"
      }
    },
    {
      "cell_type": "code",
      "source": [
        "conda env list"
      ],
      "metadata": {
        "id": "m0dxVy9tPRlm"
      },
      "execution_count": null,
      "outputs": []
    },
    {
      "cell_type": "markdown",
      "source": [
        "If you’re done with a project and no longer need an environment, you can remove it using the following command"
      ],
      "metadata": {
        "id": "1sloUNjAPnUF"
      }
    },
    {
      "cell_type": "code",
      "source": [
        "conda env remove -n datasci-env"
      ],
      "metadata": {
        "id": "CoIJ059hPm20"
      },
      "execution_count": null,
      "outputs": []
    },
    {
      "cell_type": "markdown",
      "source": [
        "* Gerenciando Ambientes\n",
        "\n",
        "Conforme mencionado anteriormente, o conda pode ser utilizado para criar ambientes que isolem seus projetos. Para criar um ambiente, use `conda create -n nome_amb lista de pacotes` no terminal. Aqui, `-n nome_amb` dá o nome do seu ambiente (-n de nome), e lista de pacotes é a lista de pacotes que você quer instalada no ambiente. Por exemplo, para criar um ambiente chamado my_env e instalar o numpy nele, digite `conda create -n my_env numpy`.\n",
        "\n",
        "Ao criar um ambiente, você pode especificar qual versão do Python quer que seja instalada nele. Isso é útil para quando você trabalha com código tanto em Python 2.x como em Python 3.x. Para criar um ambiente com uma versão específica de Python, faça algo como `conda create -n py3 python=3` ou `conda create -n py2 python=2`. Eu tenho ambos os ambientes em meu computador pessoal. Eu uso os dois como ambientes gerais que não estão atrelados a nenhum projeto específico, mas sim para trabalhos gerais com cada versão do Python facilmente acessível. Esses comandos instalarão as versões mais recentes de Python 3 e Python 2, respectivamente. Para instalar uma versão específica, use, por exemplo, `conda create -n py python=3.3` para a versão 3.3 do Python."
      ],
      "metadata": {
        "id": "JLDSH1VgefDG"
      }
    },
    {
      "cell_type": "markdown",
      "source": [
        "* Entrando em um ambiente\n",
        "\n",
        "Ume vez criado o ambiente, use o comando source activate my_env para entrar nele no OSX/Linux. No Windows, use `activate my_env`.\n",
        "\n",
        "Quando estiver no ambiente, você verá o nome dele no prompt do terminal. Algo como (meu_amb) ~ $. O ambiente tem apenas alguns pacotes instalados automaticamente, além daqueles inseridos no comando de criação. É possível checar isso usando o comando conda list. Instalar pacotes no ambiente é feito da mesma maneira: `conda install nome_do_pacote`, apenas com uma diferença: desta vez, os pacotes específicos que forem instalados estarão disponíveis apenas enquanto o ambiente estiver ativo. Para sair do ambiente, digite source deactivate (no OSX/Linux). No Windows, use deactivate."
      ],
      "metadata": {
        "id": "8x9ftTpggHis"
      }
    },
    {
      "cell_type": "markdown",
      "source": [
        "Qual comando você usaria para criar um ambiente chamado data com Python 3.6, Numpy e Pandas instalados? \n",
        "\n",
        "`conda create -n data python=3.6 numpy pandas`"
      ],
      "metadata": {
        "id": "Crb3J6cEgjw-"
      }
    },
    {
      "cell_type": "markdown",
      "source": [
        "* Salvando e carregando ambientes\n",
        "\n",
        "Uma ótima característica de compartilhar ambientes é que outras pessoas podem instalar todos os pacotes utilizados em seu código com a versão correta. Você pode salvar os pacotes em um arquivo YAML usando o comando `conda env export > environment.yaml`. A primeira parte, conda env export, escreve todos os pacotes no ambiente, incluindo a versão Python.\n",
        "\n",
        "É possível ver, acima, o nome do ambiente e todas as dependências (assim como suas versões). A segunda parte do comando de exportar, > environment.yaml, escreve o texto exportado em um arquivo YAML chamado environment.yaml. Esse arquivo pode, então, ser compartilhado com outros para criar o mesmo ambiente usado em seu projeto.\n",
        "\n",
        "Para criar um ambiente de um arquivo de ambiente, use o comando `conda env create -f environment.yaml`. Isso criará um novo ambiente com o mesmo nome contido no arquivo environment.yaml."
      ],
      "metadata": {
        "id": "nxpz1-Q2gzXS"
      }
    },
    {
      "cell_type": "markdown",
      "source": [
        "* Listando ambientes\n",
        "\n",
        "Caso esqueça os nomes dos ambientes (acontece comigo às vezes), use o comando `conda env list` para listar todos os ambientes criados por você. Deveria aparecer uma lista de ambientes, assim como um asterisco ao lado do ambiente ativo. O ambiente padrão, aquele usado quando nenhum outro está ativo, é chamado de root.\n",
        "\n",
        "* Removendo ambientes\n",
        "\n",
        "Caso existam ambientes que não são mais úteis, `conda env remove -n nome_amb` é o comando que remove o ambiente escolhido (no caso, o nomeado nome_amb)."
      ],
      "metadata": {
        "id": "OSd9LJBHhFPc"
      }
    },
    {
      "cell_type": "markdown",
      "source": [
        "* Recomendações\n",
        "\n",
        "Algo que me ajudou demais foi ter ambientes separados para o Python 2 e Python 3. Eu usei os comandos conda create -n py2 python=2 e conda create -n py3 python=3 para criar dois ambientes separados, py2 e py3. Agora, tenho um ambiente de uso geral para cada uma das versões de Python. Em cada um deles, instalei a maioria dos pacotes padrão de data science (Numpy, Scipy, Pandas, etc.).\n",
        "\n",
        "Também achei útil criar ambientes para cada projeto em que estou trabalhando. Isso funciona muito bem até para projetos não relacionados a dados, como aplicações web com Flask. Por exemplo, eu tenho um ambiente para meu blog pessoal usando o Pelican.\n",
        "\n",
        "**Compartilhando ambientes**\n",
        "\n",
        "Ao compartilhar seu código no GitHub, é uma boa prática fazer um arquivo de ambiente e inclui-lo no repositório. Isso facilitará a instalação de todas as dependências de seu código pelos usuários. Eu sempre incluo também um arquivo requirements.txt usando o pip freeze (saiba mais aqui) para quem não estiver usando o conda."
      ],
      "metadata": {
        "id": "Bv_rKOyyhWtB"
      }
    },
    {
      "cell_type": "markdown",
      "source": [
        "###### Summary"
      ],
      "metadata": {
        "id": "jNSm9ftbPumy"
      }
    },
    {
      "cell_type": "code",
      "source": [
        "# create new environment\n",
        "conda create -n ENV_NAME\n",
        "\n",
        "# create new environment with different version of python\n",
        "conda create -n ENV_NAME python=VERSION\n",
        "\n",
        "# create environment from existing environment.yaml\n",
        "conda env create -f environment.yaml\n",
        "\n",
        "# update existing environment from environment.yaml\n",
        "conda env update --file environment.yaml\n",
        "\n",
        "# activate environment\n",
        "conda activate ENV_NAME\n",
        "\n",
        "# deactivate environment\n",
        "conda deactivate\n",
        "\n",
        "# delete/remove environment\n",
        "conda env remove -n ENV_NAME\n",
        "\n",
        "# list all environments\n",
        "conda env list\n",
        "\n",
        "# export requirements.txt with conda\n",
        "conda list --export > requirements.txt\n",
        "\n",
        "# export requirements.txt with pip\n",
        "pip freeze > requirements.txt\n",
        "\n",
        "# export environment.yaml\n",
        "conda env export > environment.yaml\n",
        "\n",
        "# export environment.yaml with no builds\n",
        "conda env export --no-builds > environment.yaml\n",
        "\n",
        "# install dependencies\n",
        "conda install PACKAGE_NAME\n",
        "OR\n",
        "conda install -c conda-forge PACKAGE_NAME\n",
        "\n",
        "# install dependencies with a specific version\n",
        "conda install PACKAGE_NAME=VERSION\n",
        "\n",
        "# uninstall dependencies\n",
        "conda uninstall PACKAGE_NAME\n",
        "\n",
        "# list all dependencies\n",
        "conda list\n",
        "\n",
        "# create ipython kernel (for jupyter and jupyterlab)\n",
        "conda install -c conda-forge jupyterlab ipykernel\n",
        "ipython kernel install --user --name=KERNEL_NAME\n",
        "\n",
        "# list all ipython kernels\n",
        "jupyter kernelspec list\n",
        "\n",
        "# uninstall/remove existing ipython kernel\n",
        "jupyter kernelspec uninstall KERNEL_NAME"
      ],
      "metadata": {
        "id": "REM41p4rP0kv"
      },
      "execution_count": null,
      "outputs": []
    },
    {
      "cell_type": "markdown",
      "source": [
        "###### Jupyter Notebooks"
      ],
      "metadata": {
        "id": "PYNWHK1Uh3Rm"
      }
    },
    {
      "cell_type": "markdown",
      "source": [
        "* O que são os notebooks Jupyter?\n",
        "\n",
        "Boas-vindas à aula sobre utilização dos notebooks Jupyter. O notebook é uma aplicação web que permite que você combine texto explicativo, equações matemáticas, código e visualizações em um único documento facilmente compartilhável. Por exemplo, eis um dos meus notebooks favoritos, a análise de ondas gravitacionais vindas de dois buracos negros colidindo, detectadas pelo experimento LIGO. Você pode baixar os dados, rodar o código do notebook e repetir a análise, ou seja, detectar você mesmo as ondas gravitacionais! Os notebooks se tornaram rapidamente uma ferramenta essencial para trabalhar com dados. Você os verá sendo usados para a limpeza e exploração de dados, visualização, machine learning e até análise de big data. \n",
        "\n",
        "Eis um notebook de exemplo, que eu fiz para meu blog pessoal, que demonstra diversas das possibilidades dos notebooks. Normalmente, você fará esse trabalho em um terminal, seja no Python shell ou então usando o IPython. As visualizações, então, são demonstradas em janelas separadas, e a documentação está salva em outros arquivos, assim como os vários scripts para diferentes funções e classes. No entanto, ao usar os notebooks, tudo isso fica em um único lugar e é facilmente lido de uma vez. Os notebooks também são carregados automaticamente no GitHub. Essa é uma característica muito poderosa na hora de compartilhar o trabalho feito. Existe também o site http://nbviewer.jupyter.org/, que carrega os notebooks de um repositório Github ou de qualquer outro lugar."
      ],
      "metadata": {
        "id": "iZiJe4eAh8Eo"
      }
    },
    {
      "cell_type": "markdown",
      "source": [
        "* Programação literária\n",
        "\n",
        "Os notebooks são uma forma de programação literária. Essa proposta, feita por Donald Knuth, em 1984, faz com que a documentação seja escrita como uma narrativa junto ao código em vez de ser uma coisa independente. Nas próprias palavras de Donald Knuth:\n",
        "\n",
        "Em vez de pensar que nossa tarefa principal é dizer ao computador o que fazer, vamos nos concentrar em explicar para outros seres humanos o que queremos que o computador faça.\n",
        "\n",
        "Afinal, o código é escrito para humanos, não computadores. Os notebooks nos ajudam muito com isso. É possível escrever a documentação como um texto narrativo, feito em paralelo ao código. Isso não é útil apenas para pessoas que leem seus notebooks, mas também para você mesmo, quando for retomar aquele código.\n",
        "\n",
        "Apenas uma nota: recentemente, a ideia de programação literária foi estendida para uma linguagem de programação própria, chamada Eve."
      ],
      "metadata": {
        "id": "VKHGC4qTiL3_"
      }
    },
    {
      "cell_type": "markdown",
      "source": [
        "* Como os notebooks funcionam\n",
        "\n",
        "Os notebooks Jupyter surgiram a partir do projeto IPython, iniciado por Fernando Perez. IPython é um terminal interativo, similar ao terminal Python normal, mas com recursos ótimos como destaques de sintaxe e autopreenchimento para código. Originalmente, os notebooks funcionavam ao mandar mensagens do aplicativo web (o notebook que você visualiza no navegador) para um núcleo IPython (uma aplicação IPython que rodava em segundo plano). O núcleo executava o código e, então, mandava-o de volta para o notebook.\n",
        "\n",
        "O ponto central é o servidor do notebook. A conexão é feita no servidor por seu navegador, e o notebook é carregado como um aplicativo web. O código escrito nesse aplicativo é mandado pelo servidor para o núcleo. O núcleo roda o código e o manda de volta para o servidor, então, o output é carregado no navegador. Ao salvar um notebook, ele é escrito no servidor como um arquivo JSON com a extensão .ipynb.\n",
        "\n",
        "O ponto forte dessa arquitetura é que o núcleo não precisa rodar em Python. Como o notebook e o núcleo estão separados, o código em qualquer linguagem pode ser mandado entre eles. Por exemplo, dois dos primeiros núcleos não Python foram nas linguagens R e Julia. Com um núcleo R, o código escrito em R será enviado ao núcleo R, onde ele é executado, exatamente como aconteceu com o núcleo Python. Os notebooks IPython foram, então, renomeados quando se transformaram em algo independente de uma linguagem específica. O novo nome, Jupyter, vem da combinação dos nomes Julia, Python e R. Caso tenha interesse, aqui segue uma lista dos núcleos possíveis.\n",
        "\n",
        "Outra vantagem é que o servidor pode ser rodado e acessado via Internet. Normalmente, você rodará o servidor em sua própria máquina, onde todos os dados e arquivos notebook estão salvos. Mas, é possível também configurar um servidor em uma máquina remota ou instância de nuvem, como a EC2, da Amazon. Então, você pode acessar os notebooks em um navegador de qualquer lugar do planeta."
      ],
      "metadata": {
        "id": "5H_bnnpUiYxk"
      }
    },
    {
      "cell_type": "markdown",
      "source": [
        "* Instalando o notebook Jupyter\n",
        "\n",
        "O jeito mais fácil de instalar o Jupyter é claramente baixando o Anaconda. Os notebooks Jupyter vêm embutidos na distribuição. É possível usar os notebooks já no ambiente padrão.\n",
        "\n",
        "Para instalar os notebooks Jupyter em um ambiente do conda, use `conda install jupyter notebook`.\n",
        "\n",
        "Os notebooks Jupyter também estão disponíveis no pip, digitando `pip install jupyter notebook`."
      ],
      "metadata": {
        "id": "iBJDbbzaitOb"
      }
    },
    {
      "cell_type": "markdown",
      "source": [
        "* Lançando o servidor do notebook\n",
        "\n",
        "Para lançar um servidor notebook, digite `jupyter notebook` no terminal ou prompt. Isso inicializará o servidor no diretório em que você lançou o comando. Isso significa que os arquivos do notebook serão salvos neste diretório. A prática padrão é inicializar o servidor no diretório onde os notebooks se encontram. No entanto, é possível navegar pelo sistema de arquivos para o local onde se encontram os seus notebooks.\n",
        "\n",
        "Ao rodar esse comando (faça uma tentativa!), a página inicial do servidor deve se abrir em seu navegador. Na definição padrão, o notebook roda no endereço http://localhost:8888. Caso não esteja familiarizado com isso, localhost significa o seu computador e 8888 é a porta que o servidor está usando. Enquanto o servidor estiver rodando, sempre será possível voltar para ele ao digitar http://localhost:8888 em seu navegador.\n",
        "\n",
        "Caso inicie outro servidor, ele tentará usar a porta 8888, mas, como ela está ocupada, o novo servidor rodará na porta 8889. Então, para conectar-se a este novo servidor, é só digitar http://localhost:8889. Cada servidor adicional incrementará o número da porta dessa maneira.\n",
        "\n",
        "É possível que haja alguns arquivos e pastas listados aqui, isso depende do diretório onde você inicializou o servidor.\n",
        "\n",
        "No canto direito superior, você pode clicar em \"New\" para criar um notebook, arquivo de texto, pasta ou terminal novo. A lista abaixo de \"notebooks\" mostra os núcleos (kernels) que você tem instalados. No meu caso, estou rodando o servidor em um ambiente Python 3, então, tenho um núcleo Python 3 disponível. Você pode ver o Python 2 aqui. Eu também instalei os núcleos para Scala 2.10 e 2.11, que também aparecem na lista.\n",
        "\n",
        "Caso você rode o servidor do notebook Jupyter de um ambiente conda, também será possível escolher os núcleos de quaisquer outros ambientes. Para criar um notebook novo, clique no núcleo que deseja usar.\n",
        "\n",
        "As abas no topo mostram Files, Running e Cluster. Files mostra todos os arquivos e pastas do diretório atual. Clicar na aba Running listará todos os notebooks atualmente ativos. Neste ponto, é possível gerenciá-los.\n",
        "\n",
        "Clusters era onde antes você podia criar núcleos múltiplos para usar em computação paralela. Agora, isso foi tomado pelo ipyparallel, então, não há nada demais a ser feito aqui.\n",
        "\n",
        "Caso esteja rodando o servidor do notebook de um ambiente conda, você também terá acesso a uma aba nomeada \"Conda\", como mostraremos abaixo. Aqui, é possível administrar os ambientes de dentro do Jupyter. É possível criar ambientes, instalar pacotes, atualizar pacotes, exportar ambientes e muito mais.\n"
      ],
      "metadata": {
        "id": "OGpw4fzii-1g"
      }
    },
    {
      "cell_type": "markdown",
      "source": [
        "* Desligando o Jupyter\n",
        "\n",
        "É possível desligar os notebooks individualmente ao marcar as caixas ao lado de cada notebook na página inicial do servidor e, depois, clicar em \"Shutdown\". É bom garantir que todas as mudanças tenham sido salvas antes de fazer isso! Quaisquer mudanças feitas desde a última vez que o arquivo foi salvo serão perdidas. Também será necessário rodar novamente todos os códigos escritos da próxima vez que iniciar o notebook.\n",
        "\n",
        "Também é possível desligar o servidor inteiro ao pressionar as teclas control + C duas vezes no terminal. De novo, isso desligará imediatamente todos os notebooks, então, tenha certeza de que tudo está salvo!"
      ],
      "metadata": {
        "id": "-zzXVlLLjXpt"
      }
    },
    {
      "cell_type": "markdown",
      "source": [
        "##### Running and Editing a Python Script"
      ],
      "metadata": {
        "id": "KuCdlzOpkfax"
      }
    },
    {
      "cell_type": "markdown",
      "source": [
        "* Running\n",
        "\n",
        "Download the zip file first_script attached at the bottom of this page (click it to unzip the file, then move it to an appropriate directory on your computer). This might be a good time to set up a new directory for your learning if you don't have one already.\n",
        "\n",
        "Open your terminal and use cd to navigate to the directory containing that downloaded file.\n",
        "\n",
        "Now that you’re in the directory with the file, you can run it by typing `python first_script.py` and pressing enter. Note: You may have to enter python3 instead of python to execute Python 3 if you have both versions installed on your computer.\n",
        "\n",
        "You’ll know you’ve run the script successfully if you see this message printed to your terminal:\n",
        "\n",
        "Congratulations on running this script!!"
      ],
      "metadata": {
        "id": "2WG5PuTKkTKn"
      }
    },
    {
      "cell_type": "markdown",
      "source": [
        "* Configure Your Own Python Programming Setup\n",
        "\n",
        "Now you've seen my setup, take a moment to get yourself comfortable on your own computer.\n",
        "\n",
        "Below you will find a number of different options for code editors. We recommend for all of our courses using Atom, which will work on all operating systems. If you decide not to use Atom, for first time coders Sublime is also popular.\n",
        "\n",
        "For Mac and Linux:\n",
        "\n",
        "1. Visual Studio Code\n",
        "\n",
        "2. Atom\n",
        "\n",
        "3. Sublime Text\n",
        "\n",
        "4. emacs\n",
        "\n",
        "5. vim\n",
        "\n",
        "For Windows:\n",
        "\n",
        "1. Visual Studio Code\n",
        "\n",
        "2. Atom\n",
        "\n",
        "3. Sublime Text\n",
        "\n",
        "4. Notepad++\n",
        "\n",
        "Get your screen set up with a text editor, terminal/command line and the Udacity classroom in a web browser, so you can iterate on your Python script. Play with the display options to see what you find most comfortable to look at, and see if you can find a tab-to-four-spaces option - that'll be very useful for Python indentation."
      ],
      "metadata": {
        "id": "e8JEtKcckaCx"
      }
    },
    {
      "cell_type": "markdown",
      "source": [
        "#### Scripting With Raw Input"
      ],
      "metadata": {
        "id": "EiHeXdbQFJ4-"
      }
    },
    {
      "cell_type": "markdown",
      "source": [
        "We can get raw input from the user with the built-in function input, which takes in an optional string argument that you can use to specify a message to show to the user when asking for input."
      ],
      "metadata": {
        "id": "DbvB3d_TFOcS"
      }
    },
    {
      "cell_type": "code",
      "source": [
        "name = input(\"Enter your name: \")\n",
        "print(\"Hello there, {}!\".format(name.title()))"
      ],
      "metadata": {
        "id": "IrHgV76GFOwo"
      },
      "execution_count": null,
      "outputs": []
    },
    {
      "cell_type": "markdown",
      "source": [
        "This prompts the user to enter a name and then uses the input in a greeting. The input function takes in whatever the user types and stores it as a string. If you want to interpret their input as something other than a string, like an integer, as in the example below, you need to wrap the result with the new type to convert it from a string."
      ],
      "metadata": {
        "id": "lBe1YODhFfqS"
      }
    },
    {
      "cell_type": "code",
      "source": [
        "num = int(input(\"Enter an integer\"))\n",
        "print(\"hello\" * num)"
      ],
      "metadata": {
        "id": "kdD7_WGwFhJQ"
      },
      "execution_count": null,
      "outputs": []
    },
    {
      "cell_type": "markdown",
      "source": [
        "We can also interpret user input as a Python expression using the built-in function eval. This function evaluates a string as a line of Python."
      ],
      "metadata": {
        "id": "TlhFLf3MFjAS"
      }
    },
    {
      "cell_type": "code",
      "source": [
        "result = eval(input(\"Enter an expression: \"))\n",
        "print(result)"
      ],
      "metadata": {
        "id": "6mjD_YPsFlE0"
      },
      "execution_count": null,
      "outputs": []
    },
    {
      "cell_type": "markdown",
      "source": [
        "If the user inputs 2 * 3, this outputs 6."
      ],
      "metadata": {
        "id": "CHtLj2MdFovu"
      }
    },
    {
      "cell_type": "markdown",
      "source": [
        "##### Generate Messages"
      ],
      "metadata": {
        "id": "Wva64ukeFtDY"
      }
    },
    {
      "cell_type": "markdown",
      "source": [
        "Imagine you're a teacher who needs to send a message to each of your students reminding them of their missing assignments and grade in the class. You have each of their names, number of missing assignments, and grades on a spreadsheet and just have to insert them into placeholders in this message you came up with:\n",
        "\n",
        "Hi [insert student name],\n",
        "\n",
        "This is a reminder that you have [insert number of missing assignments] assignments left to submit before you can graduate. Your current grade is [insert current grade] and can increase to [insert potential grade] if you submit all assignments before the due date.\n",
        "\n",
        "You can just copy and paste this message to each student and manually insert the appropriate values each time, but instead you're going to write a program that does this for you.\n",
        "\n",
        "Write a script that does the following:\n",
        "\n",
        "Ask for user input 3 times. Once for a list of names, once for a list of missing assignment counts, and once for a list of grades. Use this input to create lists for names, assignments, and grades.\n",
        "\n",
        "Use a loop to print the message for each student with the correct values. The potential grade is simply the current grade added to two times the number of missing assignments."
      ],
      "metadata": {
        "id": "JiRljwztFvsq"
      }
    },
    {
      "cell_type": "code",
      "source": [
        "names = input(\"Enter names separated by commas: \").title().split(\",\")\n",
        "assignments = input(\"Enter assignment counts separated by commas: \").split(\",\")\n",
        "grades = input(\"Enter grades separated by commas: \").split(\",\")\n",
        "\n",
        "message = \"Hi {},\\n\\nThis is a reminder that you have {} assignments left to \\\n",
        "submit before you can graduate. You're current grade is {} and can increase \\\n",
        "to {} if you submit all assignments before the due date.\\n\\n\"\n",
        "\n",
        "for name, assignment, grade in zip(names, assignments, grades):\n",
        "    print(message.format(name, assignment, grade, int(grade) + int(assignment)*2))"
      ],
      "metadata": {
        "colab": {
          "base_uri": "https://localhost:8080/"
        },
        "id": "nGlkXUviF7ZI",
        "outputId": "ee226d92-bba9-40cb-da3f-c1c1973943db"
      },
      "execution_count": null,
      "outputs": [
        {
          "output_type": "stream",
          "name": "stdout",
          "text": [
            "Enter names separated by commas: Gustavo\n",
            "Enter assignment counts separated by commas: 2\n",
            "Enter grades separated by commas: 6\n",
            "Hi Gustavo,\n",
            "\n",
            "This is a reminder that you have 2 assignments left to submit before you can graduate. You're current grade is 6 and can increase to 10 if you submit all assignments before the due date.\n",
            "\n",
            "\n"
          ]
        }
      ]
    },
    {
      "cell_type": "markdown",
      "source": [
        "#### Errors and Exceptions"
      ],
      "metadata": {
        "id": "UGMb33lpG9cK"
      }
    },
    {
      "cell_type": "markdown",
      "source": [
        "* Syntax errors occur when Python can’t interpret our code, since we didn’t follow the correct syntax for Python. These are errors you’re likely to get when you make a typo, or you’re first starting to learn Python.\n",
        "\n",
        "* Exceptions occur when unexpected things happen during execution of a program, even if the code is syntactically correct. There are different types of built-in exceptions in Python, and you can see which exception is thrown in the error message."
      ],
      "metadata": {
        "id": "Uufjw1f4HBjY"
      }
    },
    {
      "cell_type": "markdown",
      "source": [
        "ValueError: An object of the correct type but inappropriate value is passed as input to a built-in operation or function.\n",
        "\n",
        "\n",
        "AssertionError: An assert statement fails.\n",
        "\n",
        "\n",
        "IndexError: A sequence subscript is out of range.\n",
        "\n",
        "\n",
        "KeyError: A key can't be found in a dictionary.\n",
        "\n",
        "\n",
        "TypeError: An object of an unsupported type is passed as input to an operation or function."
      ],
      "metadata": {
        "id": "sLfa8oMnHaM8"
      }
    },
    {
      "cell_type": "markdown",
      "source": [
        "#### Try Statement"
      ],
      "metadata": {
        "id": "3NnI9vXSH-Iy"
      }
    },
    {
      "cell_type": "markdown",
      "source": [
        "We can use try statements to handle exceptions. There are four clauses you can use (one more in addition to those shown in the video).\n",
        "\n",
        "* try: This is the only mandatory clause in a try statement. The code in this block is the first thing that Python runs in a try statement.\n",
        "* except: If Python runs into an exception while running the try block, it will jump to the except block that handles that exception.\n",
        "* else: If Python runs into no exceptions while running the try block, it will run the code in this block after running the try block.\n",
        "* finally: Before Python leaves this try statement, it will run the code in this finally block under any conditions, even if it's ending the program. E.g., if Python ran into an error while running code in the except or else block, this finally block will still be executed before stopping the program."
      ],
      "metadata": {
        "id": "3oqmdQeLIApz"
      }
    },
    {
      "cell_type": "markdown",
      "source": [
        "We can actually specify which error we want to handle in an except block like this:"
      ],
      "metadata": {
        "id": "fTwlB_ZpITsH"
      }
    },
    {
      "cell_type": "code",
      "source": [
        "try:\n",
        "    # some code\n",
        "except ValueError:\n",
        "    # some code"
      ],
      "metadata": {
        "id": "7652iFLKIVfj"
      },
      "execution_count": null,
      "outputs": []
    },
    {
      "cell_type": "markdown",
      "source": [
        "Now, it catches the ValueError exception, but not other exceptions. If we want this handler to address more than one type of exception, we can include a parenthesized tuple after the except with the exceptions."
      ],
      "metadata": {
        "id": "4pMH7sJIIXAP"
      }
    },
    {
      "cell_type": "code",
      "source": [
        "try:\n",
        "    # some code\n",
        "except (ValueError, KeyboardInterrupt):\n",
        "    # some code"
      ],
      "metadata": {
        "id": "w4ZToDTYIYZw"
      },
      "execution_count": null,
      "outputs": []
    },
    {
      "cell_type": "markdown",
      "source": [
        "Or, if we want to execute different blocks of code depending on the exception, you can have multiple except blocks."
      ],
      "metadata": {
        "id": "Giy5dafWIa3X"
      }
    },
    {
      "cell_type": "code",
      "source": [
        "try:\n",
        "    # some code\n",
        "except ValueError:\n",
        "    # some code\n",
        "except KeyboardInterrupt:\n",
        "    # some code"
      ],
      "metadata": {
        "id": "xScT31WFIcpK"
      },
      "execution_count": null,
      "outputs": []
    },
    {
      "cell_type": "markdown",
      "source": [
        "##### Example of handling errors"
      ],
      "metadata": {
        "id": "9HCgqMcAJrhc"
      }
    },
    {
      "cell_type": "markdown",
      "source": [
        "The party_planner function below takes as input a number of party people and cookies and figures out how many cookies each person gets at the party, assuming equitable distribution of cookies. Then, it returns that number along with how many cookies will be left over.\n",
        "\n",
        "Right now, calling the function with an input of 0 people will cause an error, because it creates a ZeroDivisionError exception. Edit the party_planner function to handle this invalid input. If it runs into this exception, it should print a warning message to the user and request they input a different number of people.\n",
        "\n",
        "After you've edited the function, try running the file again and make sure it does what you intended. Try it with several different input values, including 0 and other values for the number of people."
      ],
      "metadata": {
        "id": "JSolP8AUJokj"
      }
    },
    {
      "cell_type": "code",
      "source": [
        "def party_planner(cookies, people):\n",
        "    leftovers = None\n",
        "    num_each = None\n",
        "    # TODO: Add a try-except block here to\n",
        "    #       make sure no ZeroDivisionError occurs.\n",
        "    if people > cookies:\n",
        "        num_each = round(cookies / people, 1)\n",
        "        leftovers = 0\n",
        "    else:\n",
        "        try:\n",
        "            num_each = cookies // people\n",
        "            leftovers = cookies % people\n",
        "        except ZeroDivisionError:\n",
        "            print(\"Oops, you entered 0 people will be attending.\")\n",
        "            print(\"Please enter a good number of people for a party.\")\n",
        "\n",
        "    return(num_each, leftovers)\n",
        "\n",
        "# The main code block is below; do not edit this\n",
        "lets_party = 'y'\n",
        "while lets_party == 'y':\n",
        "\n",
        "    cookies = int(input(\"How many cookies are you baking? \"))\n",
        "    people = int(input(\"How many people are attending? \"))\n",
        "\n",
        "    cookies_each, leftovers = party_planner(cookies, people)\n",
        "\n",
        "    if cookies_each:  # if cookies_each is not None\n",
        "        message = \"\\nLet's party! We'll have {} people attending, they'll each get to eat {} cookies, and we'll have {} left over.\"\n",
        "        print(message.format(people, cookies_each, leftovers))\n",
        "    if cookies_each == 0:\n",
        "        print(\"No cookie = No party\")\n",
        "\n",
        "    lets_party = input(\"\\nWould you like to party more? (y or n) \")"
      ],
      "metadata": {
        "id": "TdAwN5BoM6uy"
      },
      "execution_count": null,
      "outputs": []
    },
    {
      "cell_type": "markdown",
      "source": [
        "#### Acessing Errors Messages"
      ],
      "metadata": {
        "id": "G34JVqnMNEKT"
      }
    },
    {
      "cell_type": "markdown",
      "source": [
        "When you handle an exception, you can still access its error message like this:"
      ],
      "metadata": {
        "id": "u-_aAeFWM41m"
      }
    },
    {
      "cell_type": "code",
      "source": [
        "try:\n",
        "    # some code\n",
        "except ZeroDivisionError as e:\n",
        "   # some code\n",
        "   print(\"ZeroDivisionError occurred: {}\".format(e))"
      ],
      "metadata": {
        "id": "GjTqpbWBNIFR"
      },
      "execution_count": null,
      "outputs": []
    },
    {
      "cell_type": "markdown",
      "source": [
        "ZeroDivisionError occurred: integer division or modulo by zero"
      ],
      "metadata": {
        "id": "xti02PM1NIpN"
      }
    },
    {
      "cell_type": "markdown",
      "source": [
        "So you can still access error messages, even if you handle them to keep your program from crashing!\n",
        "\n",
        "If you don't have a specific error you're handling, you can still access the message like this:"
      ],
      "metadata": {
        "id": "xeNJmp2cNSzn"
      }
    },
    {
      "cell_type": "code",
      "source": [
        "try:\n",
        "    # some code\n",
        "except Exception as e:\n",
        "   # some code\n",
        "   print(\"Exception occurred: {}\".format(e))"
      ],
      "metadata": {
        "id": "1eaJYLCKNVXx"
      },
      "execution_count": null,
      "outputs": []
    },
    {
      "cell_type": "markdown",
      "source": [
        "#### Reading and Writing Files"
      ],
      "metadata": {
        "id": "bsTiwigeZ7UL"
      }
    },
    {
      "cell_type": "markdown",
      "source": [
        "Here's how we read files in Python."
      ],
      "metadata": {
        "id": "33vi9FPrZ_KV"
      }
    },
    {
      "cell_type": "code",
      "source": [
        "f = open('my_path/my_file.txt', 'r')\n",
        "file_data = f.read()\n",
        "f.close()"
      ],
      "metadata": {
        "id": "oO62qj7qaEQp"
      },
      "execution_count": null,
      "outputs": []
    },
    {
      "cell_type": "markdown",
      "source": [
        "First open the file using the built-in function, open. This requires a string that shows the path to the file. The open function returns a file object, which is a Python object through which Python interacts with the file itself. Here, we assign this object to the variable f.\n",
        "\n",
        "There are optional parameters you can specify in the open function. One is the mode in which we open the file. Here, we use r or read only. This is actually the default value for the mode argument.\n",
        "\n",
        "Use the read method to access the contents from the file object. This read method takes the text contained in a file and puts it into a string. Here, we assign the string returned from this method into the variable file_data.\n",
        "\n",
        "When finished with the file, use the close method to free up any system resources taken up by the file."
      ],
      "metadata": {
        "id": "DBZaXHkoaJI8"
      }
    },
    {
      "cell_type": "markdown",
      "source": [
        "Writing to a File"
      ],
      "metadata": {
        "id": "osOyT5amaN20"
      }
    },
    {
      "cell_type": "code",
      "source": [
        "f = open('my_path/my_file.txt', 'w')\n",
        "f.write(\"Hello there!\")\n",
        "f.close()"
      ],
      "metadata": {
        "id": "eyOz-GKAaQZ4"
      },
      "execution_count": null,
      "outputs": []
    },
    {
      "cell_type": "markdown",
      "source": [
        "Open the file in writing ('w') mode. If the file does not exist, Python will create it for you. If you open an existing file in writing mode, any content that it had contained previously will be deleted. If you're interested in adding to an existing file, without deleting its content, you should use the append ('a') mode instead of write.\n",
        "\n",
        "Use the write method to add text to the file.\n",
        "\n",
        "Close the file when finished."
      ],
      "metadata": {
        "id": "e9l-dGcJaRsO"
      }
    },
    {
      "cell_type": "markdown",
      "source": [
        "Python provides a special syntax that auto-closes a file for you once you're finished using it."
      ],
      "metadata": {
        "id": "WFJuDguoahVe"
      }
    },
    {
      "cell_type": "code",
      "source": [
        "with open('my_path/my_file.txt', 'r') as f:\n",
        "    file_data = f.read()"
      ],
      "metadata": {
        "id": "yNPBWQLaanhf"
      },
      "execution_count": null,
      "outputs": []
    },
    {
      "cell_type": "markdown",
      "source": [
        "This with keyword allows you to open a file, do operations on it, and automatically close it after the indented code is executed, in this case, reading from the file. Now, we don’t have to call f.close()! You can only access the file object, f, within this indented block"
      ],
      "metadata": {
        "id": "U9zPC8sCat6F"
      }
    },
    {
      "cell_type": "markdown",
      "source": [
        "##### Reading Line by Line"
      ],
      "metadata": {
        "id": "etPmTHLoa3xS"
      }
    },
    {
      "cell_type": "markdown",
      "source": [
        "\\n in blocks of text are newline characters. The newline character marks the end of a line, and tells a program (such as a text editor) to go down to the next line. However, looking at the stream of characters in the file, \\n is just another character.\n",
        "\n",
        "Fortunately, Python knows that these are special characters and you can ask it to read one line at a time. Let's try it!\n",
        "\n",
        "txt: \n",
        "\n",
        "We're the knights of the round table\n",
        "\n",
        "We dance whenever we're able"
      ],
      "metadata": {
        "id": "LOjULXV0a8XF"
      }
    },
    {
      "cell_type": "markdown",
      "source": [
        "Conveniently, Python will loop over the lines of a file using the syntax for line in file. I can use this to create a list of lines in the file. Because each line still has its newline character attached, I remove this using .strip()."
      ],
      "metadata": {
        "id": "JSrdsqdbbCF0"
      }
    },
    {
      "cell_type": "code",
      "source": [
        "camelot_lines = []\n",
        "with open(\"camelot.txt\") as f:\n",
        "    for line in f:\n",
        "        camelot_lines.append(line.strip())\n",
        "\n",
        "print(camelot_lines)"
      ],
      "metadata": {
        "id": "5SGyEIgWbIpi"
      },
      "execution_count": null,
      "outputs": []
    },
    {
      "cell_type": "markdown",
      "source": [
        "Graham Chapman,  Various / ... (46 episodes, 1969-1974)\n",
        "Eric Idle,  Various / ... (46 episodes, 1969-1974)\n",
        "Terry Jones,  Various / ... (46 episodes, 1969-1974)\n",
        "Michael Palin,  It's Man / ... (46 episodes, 1969-1974)\n",
        "Terry Gilliam,  Various / ... (46 episodes, 1969-1974)\n",
        "John Cleese,  Announcer / ... (40 episodes, 1969-1973)\n",
        "Carol Cleveland,  Various / ... (34 episodes, 1969-1974)"
      ],
      "metadata": {
        "id": "HzUv161lbko1"
      }
    },
    {
      "cell_type": "markdown",
      "source": [
        "You're going to create a list of the actors who appeared in the television programme Monty Python's Flying Circus.\n",
        "\n",
        "Write a function called create_cast_list that takes a filename as input and returns a list of actors' names. It will be run on the file flying_circus_cast.txt (this information was collected from imdb.com). Each line of that file consists of an actor's name, a comma, and then some (messy) information about roles they played in the programme. You'll need to extract only the name and add it to a list. You might use the .split() method to process each line."
      ],
      "metadata": {
        "id": "Ajx0e36Mbn8E"
      }
    },
    {
      "cell_type": "code",
      "source": [
        "def create_cast_list(filename):\n",
        "    cast_list = []\n",
        "    with open(filename) as f:\n",
        "        for line in f:\n",
        "            name = line.split(\",\")[0]\n",
        "            cast_list.append(name)\n",
        "\n",
        "    return cast_list\n",
        "\n",
        "cast_list = create_cast_list('flying_circus_cast.txt')\n",
        "for actor in cast_list:\n",
        "    print(actor)"
      ],
      "metadata": {
        "id": "Liv52CMcblnZ"
      },
      "execution_count": null,
      "outputs": []
    },
    {
      "cell_type": "markdown",
      "source": [
        "#### Importing Local Scripts"
      ],
      "metadata": {
        "id": "BAw2TermcVRR"
      }
    },
    {
      "cell_type": "markdown",
      "source": [
        "We can actually import Python code from other scripts, which is helpful if you are working on a bigger project where you want to organize your code into multiple files and reuse code in those files. If the Python script you want to import is in the same directory as your current script, you just type import followed by the name of the file, without the .py extension."
      ],
      "metadata": {
        "id": "osoOVdtFcYFz"
      }
    },
    {
      "cell_type": "code",
      "source": [
        "import useful_functions"
      ],
      "metadata": {
        "id": "mh451Q01cdRR"
      },
      "execution_count": null,
      "outputs": []
    },
    {
      "cell_type": "markdown",
      "source": [
        "It's the standard convention for import statements to be written at the top of a Python script, each one on a separate line. This import statement creates a module object called useful_functions. Modules are just Python files that contain definitions and statements. To access objects from an imported module, you need to use dot notation."
      ],
      "metadata": {
        "id": "WPcGN01qcs3v"
      }
    },
    {
      "cell_type": "code",
      "source": [
        "import useful_functions\n",
        "useful_functions.add_five([1, 2, 3, 4])"
      ],
      "metadata": {
        "id": "aWd6yq5-cvRP"
      },
      "execution_count": null,
      "outputs": []
    },
    {
      "cell_type": "markdown",
      "source": [
        "We can add an alias to an imported module to reference it with a different name."
      ],
      "metadata": {
        "id": "i2A-Eb3jcxrN"
      }
    },
    {
      "cell_type": "code",
      "source": [
        "import useful_functions as uf\n",
        "uf.add_five([1, 2, 3, 4])"
      ],
      "metadata": {
        "id": "Ui5Zj_o6cxQr"
      },
      "execution_count": null,
      "outputs": []
    },
    {
      "cell_type": "markdown",
      "source": [
        "It is nice to have assertions in functions scripts to test the results"
      ],
      "metadata": {
        "id": "mqwH0Ehrc-HV"
      }
    },
    {
      "cell_type": "markdown",
      "source": [
        "##### Using a main block"
      ],
      "metadata": {
        "id": "1MWBUzM8dF8h"
      }
    },
    {
      "cell_type": "markdown",
      "source": [
        "To avoid running executable statements in a script when it's imported as a module in another script, include these lines in an if __name__ == \"__main__\" block. Or alternatively, include them in a function called main() and call this in the if main block.\n",
        "\n",
        "Whenever we run a script like this, Python actually sets a special built-in variable called __name__ for any module. When we run a script, Python recognizes this module as the main program, and sets the __name__ variable for this module to the string \"__main__\". For any modules that are imported in this script, this built-in __name__ variable is just set to the name of that module. Therefore, the condition if __name__ == \"__main__\"is just checking whether this module is the main program."
      ],
      "metadata": {
        "id": "JphYEz4-dDV_"
      }
    },
    {
      "cell_type": "markdown",
      "source": [
        "Create these scripts in the same directory and run them in your terminal! Experiment with the if main block and accessing objects from the imported module"
      ],
      "metadata": {
        "id": "G9oLo9DOdX21"
      }
    },
    {
      "cell_type": "code",
      "source": [
        "# demo.py\n",
        "\n",
        "import useful_functions as uf\n",
        "\n",
        "scores = [88, 92, 79, 93, 85]\n",
        "\n",
        "mean = uf.mean(scores)\n",
        "curved = uf.add_five(scores)\n",
        "\n",
        "mean_c = uf.mean(curved)\n",
        "\n",
        "print(\"Scores:\", scores)\n",
        "print(\"Original Mean:\", mean, \" New Mean:\", mean_c)\n",
        "\n",
        "print(__name__)\n",
        "print(uf.__name__)"
      ],
      "metadata": {
        "id": "B7JwdwaudTHY"
      },
      "execution_count": null,
      "outputs": []
    },
    {
      "cell_type": "code",
      "source": [
        "# useful_functions.py\n",
        "\n",
        "def mean(num_list):\n",
        "    return sum(num_list) / len(num_list)\n",
        "\n",
        "def add_five(num_list):\n",
        "    return [n + 5 for n in num_list]\n",
        "\n",
        "def main():\n",
        "    print(\"Testing mean function\")\n",
        "    n_list = [34, 44, 23, 46, 12, 24]\n",
        "    correct_mean = 30.5\n",
        "    assert(mean(n_list) == correct_mean)\n",
        "\n",
        "    print(\"Testing add_five function\")\n",
        "    correct_list = [39, 49, 28, 51, 17, 29]\n",
        "    assert(add_five(n_list) == correct_list)\n",
        "\n",
        "    print(\"All tests passed!\")\n",
        "\n",
        "if __name__ == '__main__':\n",
        "    main()"
      ],
      "metadata": {
        "id": "i-Xcfj5RdVg4"
      },
      "execution_count": null,
      "outputs": []
    },
    {
      "cell_type": "markdown",
      "source": [
        "#### Best Standard Python Modules"
      ],
      "metadata": {
        "id": "3iDPpNMEf9G4"
      }
    },
    {
      "cell_type": "markdown",
      "source": [
        "\n",
        "The Python Standard Library has a lot of modules! To help you get familiar with what's available, here are a selection of our favourite Python Standard Library modules and why we use them!\n",
        "\n",
        "* csv: very convenient for reading and writing csv files\n",
        "* collections: useful extensions of the usual data types including OrderedDict, defaultdict and namedtuple\n",
        "* random: generates pseudo-random numbers, shuffles sequences randomly and chooses random items\n",
        "* string: more functions on strings. This module also contains useful collections of letters like string.digits (a string containing all characters which are valid digits).\n",
        "* re: pattern-matching in strings via regular expressions\n",
        "* math: some standard mathematical functions\n",
        "* os: interacting with operating systems\n",
        "* os.path: submodule of os for manipulating path names\n",
        "* sys: work directly with the Python interpreter\n",
        "* json: good for reading and writing json files (good for web work)"
      ],
      "metadata": {
        "id": "kHuWO3iCf7kQ"
      }
    },
    {
      "cell_type": "markdown",
      "source": [
        "#### Techniques for Importing Modules"
      ],
      "metadata": {
        "id": "5weATQt9gZVK"
      }
    },
    {
      "cell_type": "markdown",
      "source": [
        "To import an individual function or class from a module:"
      ],
      "metadata": {
        "id": "XifGx_POgcga"
      }
    },
    {
      "cell_type": "code",
      "source": [
        "from module_name import object_name"
      ],
      "metadata": {
        "id": "eXrHST9mgeS7"
      },
      "execution_count": null,
      "outputs": []
    },
    {
      "cell_type": "markdown",
      "source": [
        "To import multiple individual objects from a module"
      ],
      "metadata": {
        "id": "eMRWmGiNggjd"
      }
    },
    {
      "cell_type": "code",
      "source": [
        "from module_name import first_object, second_object"
      ],
      "metadata": {
        "id": "GTekwujoggjd"
      },
      "execution_count": null,
      "outputs": []
    },
    {
      "cell_type": "markdown",
      "source": [
        "To rename a module:"
      ],
      "metadata": {
        "id": "_dXvBRkpgg7M"
      }
    },
    {
      "cell_type": "code",
      "source": [
        "import module_name as new_name"
      ],
      "metadata": {
        "id": "34gU7NKFgg7N"
      },
      "execution_count": null,
      "outputs": []
    },
    {
      "cell_type": "markdown",
      "source": [
        "To import an object from a module and rename it"
      ],
      "metadata": {
        "id": "4u0vHssIghGk"
      }
    },
    {
      "cell_type": "code",
      "source": [
        "from module_name import object_name as new_name"
      ],
      "metadata": {
        "id": "GOohVV2cghGl"
      },
      "execution_count": null,
      "outputs": []
    },
    {
      "cell_type": "markdown",
      "source": [
        "To import every object individually from a module"
      ],
      "metadata": {
        "id": "A2UKvk63g48q"
      }
    },
    {
      "cell_type": "code",
      "source": [
        "from module_name import *"
      ],
      "metadata": {
        "id": "qaWkMEjAg4Tn"
      },
      "execution_count": null,
      "outputs": []
    },
    {
      "cell_type": "markdown",
      "source": [
        "If you really want to use all of the objects from a module, use the standard import module_name statement instead and access each of the objects with the dot notation"
      ],
      "metadata": {
        "id": "fyqiaWN-g71v"
      }
    },
    {
      "cell_type": "code",
      "source": [
        "import module_name"
      ],
      "metadata": {
        "id": "faV9MaE4g7YE"
      },
      "execution_count": null,
      "outputs": []
    },
    {
      "cell_type": "markdown",
      "source": [
        "#### Modules, Packages, and Names"
      ],
      "metadata": {
        "id": "0EDGwIMxhDuE"
      }
    },
    {
      "cell_type": "markdown",
      "source": [
        "In order to manage the code better, modules in the Python Standard Library are split down into sub-modules that are contained within a package. A package is simply a module that contains sub-modules. A sub-module is specified with the usual dot notation.\n",
        "\n",
        "Modules that are submodules are specified by the package name and then the submodule name separated by a dot. You can import the submodule like this."
      ],
      "metadata": {
        "id": "uN-xdR_ghGhn"
      }
    },
    {
      "cell_type": "code",
      "source": [
        "import package_name.submodule_name"
      ],
      "metadata": {
        "id": "3It8ha7RhdtR"
      },
      "execution_count": null,
      "outputs": []
    },
    {
      "cell_type": "markdown",
      "source": [
        "#### Third-Party Libraries"
      ],
      "metadata": {
        "id": "ui2LAN7chgc7"
      }
    },
    {
      "cell_type": "markdown",
      "source": [
        "There are tens of thousands of third-party libraries written by independent developers! You can install them using pip, a package manager that is included with Python 3. pip is the standard package manager for Python, but it isn't the only one. One popular alternative is Anaconda which is designed specifically for data science.\n",
        "\n",
        "To install a package using pip, just enter \"pip install\" followed by the name of the package in your command line like this: pip install package_name. This downloads and installs the package so that it's available to import in your programs. Once installed, you can import third-party packages using the same syntax used to import from the standard library."
      ],
      "metadata": {
        "id": "PVI13hT3hjHD"
      }
    },
    {
      "cell_type": "markdown",
      "source": [
        "##### Using a requirements.txt File"
      ],
      "metadata": {
        "id": "7hXjb7OIhl5w"
      }
    },
    {
      "cell_type": "markdown",
      "source": [
        "Larger Python programs might depend on dozens of third party packages. To make it easier to share these programs, programmers often list a project's dependencies in a file called requirements.txt. This is an example of a requirements.txt file."
      ],
      "metadata": {
        "id": "vEsOM7uUhpR8"
      }
    },
    {
      "cell_type": "code",
      "source": [
        "beautifulsoup4==4.5.1\n",
        "bs4==0.0.1\n",
        "pytz==2016.7\n",
        "requests==2.11.1"
      ],
      "metadata": {
        "id": "XfMFq3YhhrdK"
      },
      "execution_count": null,
      "outputs": []
    },
    {
      "cell_type": "markdown",
      "source": [
        "Each line of the file includes the name of a package and its version number. The version number is optional, but it usually should be included. Libraries can change subtly, or dramatically, between versions, so it's important to use the same library versions that the program's author used when they wrote the program.\n",
        "\n",
        "You can use pip to install all of a project's dependencies at once by typing `pip list --format=freeze > requirements.txt` in your command line."
      ],
      "metadata": {
        "id": "IH2lwxoGhwjK"
      }
    },
    {
      "cell_type": "markdown",
      "source": [
        "##### Useful Third-Party Packages"
      ],
      "metadata": {
        "id": "-3zbBOB4h49c"
      }
    },
    {
      "cell_type": "markdown",
      "source": [
        "Being able to install and import third party libraries is useful, but to be an effective programmer you also need to know what libraries are available for you to use. People typically learn about useful new libraries from online recommendations or from colleagues. If you're a new Python programmer you may not have many colleagues, so to get you started here's a list of packages that are popular with engineers at Udacity.\n",
        "\n",
        "* IPython - A better interactive Python interpreter\n",
        "requests - Provides easy to use methods to make web requests. Useful for accessing web APIs.\n",
        "* Flask - a lightweight framework for making web applications and APIs.\n",
        "* Django - A more featureful framework for making web applications. Django is particularly good for designing complex, content heavy, web applications.\n",
        "* Beautiful Soup - Used to parse HTML and extract information from it. Great for web scraping.\n",
        "* pytest - extends Python's builtin assertions and unittest module.\n",
        "* PyYAML - For reading and writing YAML files.\n",
        "* NumPy - The fundamental package for scientific computing with Python. It contains among other things a powerful N-dimensional array object and useful linear algebra capabilities.\n",
        "* pandas - A library containing high-performance, data structures and data analysis tools. In particular, pandas provides dataframes!\n",
        "* matplotlib - a 2D plotting library which produces publication quality figures in a variety of hardcopy formats and interactive environments.\n",
        "* ggplot - Another 2D plotting library, based on R's ggplot2 library.\n",
        "* Pillow - The Python Imaging Library adds image processing capabilities to your Python interpreter.\n",
        "* pyglet - A cross-platform application framework intended for game development.\n",
        "* Pygame - A set of Python modules designed for writing games.\n",
        "* pytz - World Timezone Definitions for Python"
      ],
      "metadata": {
        "id": "-KZl69Zph8Qq"
      }
    },
    {
      "cell_type": "markdown",
      "metadata": {
        "id": "HVYJ-IgfTEqA"
      },
      "source": [
        "### Numpy"
      ]
    },
    {
      "cell_type": "markdown",
      "source": [
        "Even though Python lists are great on their own, NumPy has a number of key features that give it great advantages over Python lists. Below are a few convincingly strong features:\n",
        "\n",
        "One such feature is speed. When performing operations on large arrays NumPy can often perform several orders of magnitude faster than Python lists. This speed comes from the nature of NumPy arrays being memory-efficient and from optimized algorithms used by NumPy for doing arithmetic, statistical, and linear algebra operations.\n",
        "\n",
        "Another great feature of NumPy is that it has multidimensional array data structures that can represent vectors and matrices. You will learn all about vectors and matrices in the Linear Algebra section of this course later on, and as you will soon see, a lot of machine learning algorithms rely on matrix operations. For example, when training a Neural Network, you often have to carry out many matrix multiplications. NumPy is optimized for matrix operations and it allows us to do Linear Algebra operations effectively and efficiently, making it very suitable for solving machine learning problems.\n",
        "\n",
        "Another great advantage of NumPy over Python lists is that NumPy has a large number of optimized built-in mathematical functions. These functions allow you to do a variety of complex mathematical computations very fast and with very little code (avoiding the use of complicated loops) making your programs more readable and easier to understand.\n",
        "\n",
        "These are just some of the key features that have made NumPy an essential package for scientific computing in Python. In fact, NumPy has become so popular that a lot of Python packages, such as Pandas, are built on top of NumPy."
      ],
      "metadata": {
        "id": "-LzlcWelUofV"
      }
    },
    {
      "cell_type": "code",
      "source": [
        "# Why use NumPy?\n",
        "import time\n",
        "import numpy as np\n",
        "x = np.random.random(100000000)\n",
        "\n",
        "# Case 1\n",
        "start = time.time()\n",
        "sum(x) / len(x)\n",
        "print(time.time() - start)\n",
        "\n",
        "# Case 2\n",
        "start = time.time()\n",
        "np.mean(x)\n",
        "print(time.time() - start)"
      ],
      "metadata": {
        "colab": {
          "base_uri": "https://localhost:8080/"
        },
        "id": "wLoKsgB2Uj3B",
        "outputId": "0ca89bed-f270-483d-a828-caa5c6b26826"
      },
      "execution_count": null,
      "outputs": [
        {
          "output_type": "stream",
          "name": "stdout",
          "text": [
            "19.353888034820557\n",
            "0.0756673812866211\n"
          ]
        }
      ]
    },
    {
      "cell_type": "markdown",
      "source": [
        "But before we can dive in and start using NumPy to create ndarrays we need to import it into Python. We can import packages into Python using the import command and it has become a convention to import NumPy as np. Therefore, you can import NumPy by typing the following command in your Jupyter notebook:"
      ],
      "metadata": {
        "id": "uIEeFs6RTEqC"
      }
    },
    {
      "cell_type": "code",
      "source": [
        "import numpy as np"
      ],
      "metadata": {
        "id": "VW5rTEvuU1-J"
      },
      "execution_count": null,
      "outputs": []
    },
    {
      "cell_type": "markdown",
      "source": [
        "###### NDARRAY"
      ],
      "metadata": {
        "id": "FqgJq9qrV7DI"
      }
    },
    {
      "cell_type": "markdown",
      "source": [
        "At the core of NumPy is the ndarray, where nd stands for n-dimensional. An ndarray is a multidimensional array of elements all of the same type. In other words, an ndarray is a grid that can take on many shapes and can hold either numbers or strings. In many Machine Learning problems you will often find yourself using ndarrays in many different ways. For instance, you might use an ndarray to hold the pixel values of an image that will be fed into a Neural Network for image classification."
      ],
      "metadata": {
        "id": "ZnrCz3mMVLHv"
      }
    },
    {
      "cell_type": "markdown",
      "source": [
        "There are several ways to create ndarrays in NumPy. In the following lessons we will see two ways to create ndarrays:\n",
        "\n",
        "Using regular Python lists\n",
        "\n",
        "Using built-in NumPy functions\n",
        "\n",
        "In this section, we will create ndarrays by providing Python lists to the NumPy np.array() function. This can create some confusion for beginners, but it is important to remember that np.array() is NOT a class, it is just a function that returns an ndarray. We should note that for the purposes of clarity, the examples throughout these lessons will use small and simple ndarrays. Let's start by creating 1-Dimensional (1D) ndarrays."
      ],
      "metadata": {
        "id": "gec7xqPlU2gV"
      }
    },
    {
      "cell_type": "code",
      "source": [
        "# We import NumPy into Python\n",
        "import numpy as np\n",
        "\n",
        "# We create a 1D ndarray that contains only integers\n",
        "x = np.array([1, 2, 3, 4, 5])\n",
        "\n",
        "# Let's print the ndarray we just created using the print() command\n",
        "print('x = ', x)"
      ],
      "metadata": {
        "colab": {
          "base_uri": "https://localhost:8080/"
        },
        "id": "9LO8pA2wU7Sd",
        "outputId": "aad10c9c-a7c4-4c19-e8a1-d4522c0a2231"
      },
      "execution_count": null,
      "outputs": [
        {
          "output_type": "stream",
          "name": "stdout",
          "text": [
            "x =  [1 2 3 4 5]\n"
          ]
        }
      ]
    },
    {
      "cell_type": "markdown",
      "source": [
        "###### NDIM"
      ],
      "metadata": {
        "id": "rORM6zopWBYm"
      }
    },
    {
      "cell_type": "markdown",
      "source": [
        "It returns the number of array dimensions.\n",
        "\n",
        "Let's pause for a second to introduce some useful terminology. We refer to 1D arrays as rank 1 arrays. In general N-Dimensional arrays have rank N. Therefore, we refer to a 2D array as a rank 2 array."
      ],
      "metadata": {
        "id": "3Vge3uK0WK11"
      }
    },
    {
      "cell_type": "code",
      "source": [
        "# 1-D array\n",
        "x = np.array([1, 2, 3])\n",
        "x.ndim\n",
        "\n",
        "# 2-D array\n",
        "Y = np.array([[1,2,3],[4,5,6],[7,8,9], [10,11,12]])\n",
        "Y.ndim\n",
        "\n",
        "# Here the`zeros()` is an inbuilt function that you'll study on the next page. \n",
        "# The tuple (2, 3, 4( passed as an argument represents the shape of the ndarray\n",
        "y = np.zeros((2, 3, 4))\n",
        "y.ndim"
      ],
      "metadata": {
        "colab": {
          "base_uri": "https://localhost:8080/"
        },
        "id": "ZDdOy_T-U_j4",
        "outputId": "dcd0b5c0-7185-4888-bb4a-c4ee176164f5"
      },
      "execution_count": null,
      "outputs": [
        {
          "output_type": "execute_result",
          "data": {
            "text/plain": [
              "3"
            ]
          },
          "metadata": {},
          "execution_count": 54
        }
      ]
    },
    {
      "cell_type": "markdown",
      "source": [
        "###### SHAPE"
      ],
      "metadata": {
        "id": "VX3wgKyAWMxa"
      }
    },
    {
      "cell_type": "markdown",
      "source": [
        "It returns a tuple representing the array dimensions. Refer more details here.\n",
        "\n",
        "Another important property of arrays is their shape. The shape of an array is the size along each of its dimensions. For example, the shape of a rank 2 array will correspond to the number of rows and columns of the array. As you will see, NumPy ndarrays have attributes that allow us to get information about them in a very intuitive way. For example, the shape of an ndarray can be obtained using the .shape attribute. The shape attribute returns a tuple of N positive integers that specify the sizes of each dimension."
      ],
      "metadata": {
        "id": "-HZzHdBOWMxb"
      }
    },
    {
      "cell_type": "markdown",
      "source": [
        "###### DTYPE"
      ],
      "metadata": {
        "id": "qtnNri2fWcik"
      }
    },
    {
      "cell_type": "markdown",
      "source": [
        "The type tells us the data-type of the elements. Remember, a NumPy array is homogeneous, meaning all elements will have the same data-type. In the example below, we will create a rank 1 array and learn how to obtain its shape, its type, and the data-type (dtype) of its elements."
      ],
      "metadata": {
        "id": "BeiOisxLWtwf"
      }
    },
    {
      "cell_type": "code",
      "source": [
        "# We create a 1D ndarray that contains only integers\n",
        "x = np.array([1, 2, 3, 4, 5])\n",
        "\n",
        "# We print information about x\n",
        "print('x = ', x)\n",
        "print('x has dimensions:', x.shape)\n",
        "print('x is an object of type:', type(x))\n",
        "print('The elements in x are of type:', x.dtype)"
      ],
      "metadata": {
        "colab": {
          "base_uri": "https://localhost:8080/"
        },
        "id": "EayomsvmWmOO",
        "outputId": "ca2efff3-0736-485c-c7d4-b6ee505f2fa2"
      },
      "execution_count": null,
      "outputs": [
        {
          "output_type": "stream",
          "name": "stdout",
          "text": [
            "x =  [1 2 3 4 5]\n",
            "x has dimensions: (5,)\n",
            "x is an object of type: <class 'numpy.ndarray'>\n",
            "The elements in x are of type: int64\n"
          ]
        }
      ]
    },
    {
      "cell_type": "markdown",
      "source": [
        "We can see that the shape attribute returns the tuple (5,) telling us that x is of rank 1 (i.e. x only has 1 dimension ) and it has 5 elements. The type() function tells us that x is indeed a NumPy ndarray. Finally, the .dtype attribute tells us that the elements of x are stored in memory as signed 64-bit integers. Another great advantage of NumPy is that it can handle more data-types than Python lists. You can check out all the different data types NumPy supports in the link below:\n",
        "\n",
        "NumPy Data Types\n",
        "\n",
        "As mentioned earlier, ndarrays can also hold strings. Let's see how we can create a rank 1 ndarray of strings in the same manner as before, by providing the np.array() function a Python list of strings."
      ],
      "metadata": {
        "id": "v1ws98dbWyVv"
      }
    },
    {
      "cell_type": "code",
      "source": [
        "# We create a rank 1 ndarray of floats but set the dtype to int64\n",
        "x = np.array([1.5, 2.2, 3.7, 4.0, 5.9], dtype = np.int64)\n",
        "\n",
        "# We print the dtype x\n",
        "print('x = ', x)\n",
        "print('The elements in x are of type:', x.dtype)"
      ],
      "metadata": {
        "colab": {
          "base_uri": "https://localhost:8080/"
        },
        "id": "-RiCuL8EYGOA",
        "outputId": "26a19834-8ef3-49da-92ef-d1e5f99b3796"
      },
      "execution_count": null,
      "outputs": [
        {
          "output_type": "stream",
          "name": "stdout",
          "text": [
            "x =  [1 2 3 4 5]\n",
            "The elements in x are of type: int64\n"
          ]
        }
      ]
    },
    {
      "cell_type": "code",
      "source": [
        "# We create a rank 2 ndarray that only contains integers\n",
        "Y = np.array([[1,2,3],[4,5,6],[7,8,9], [10,11,12]])\n",
        "\n",
        "print('Y = \\n', Y)\n",
        "\n",
        "# We print information about Y\n",
        "print('Y has dimensions:', Y.shape)\n",
        "print('Y has a total of', Y.size, 'elements')\n",
        "print('Y is an object of type:', type(Y))\n",
        "print('The elements in Y are of type:', Y.dtype)"
      ],
      "metadata": {
        "colab": {
          "base_uri": "https://localhost:8080/"
        },
        "id": "MXQ7TugQYKeu",
        "outputId": "53023e94-42c8-41d4-c030-05828bed2980"
      },
      "execution_count": null,
      "outputs": [
        {
          "output_type": "stream",
          "name": "stdout",
          "text": [
            "Y = \n",
            " [[ 1  2  3]\n",
            " [ 4  5  6]\n",
            " [ 7  8  9]\n",
            " [10 11 12]]\n",
            "Y has dimensions: (4, 3)\n",
            "Y has a total of 12 elements\n",
            "Y is an object of type: <class 'numpy.ndarray'>\n",
            "The elements in Y are of type: int64\n"
          ]
        }
      ]
    },
    {
      "cell_type": "markdown",
      "source": [
        "###### Save Arrays"
      ],
      "metadata": {
        "id": "bdbPIFObWNMo"
      }
    },
    {
      "cell_type": "markdown",
      "source": [
        "Once you create an ndarray, you may want to save it to a file to be read later or to be used by another program. NumPy provides a way to save the arrays into files for later use"
      ],
      "metadata": {
        "id": "s-msixckWNMo"
      }
    },
    {
      "cell_type": "code",
      "source": [
        "# We create a rank 1 ndarray\n",
        "x = np.array([1, 2, 3, 4, 5])\n",
        "\n",
        "# We save x into the current directory as \n",
        "np.save('my_array', x)\n",
        "\n",
        "# We load the saved array from our current directory into variable y\n",
        "y = np.load('my_array.npy')\n",
        "\n",
        "# We print y\n",
        "print()\n",
        "print('y = ', y)\n",
        "print()\n",
        "\n",
        "# We print information about the ndarray we loaded\n",
        "print('y is an object of type:', type(y))\n",
        "print('The elements in y are of type:', y.dtype)"
      ],
      "metadata": {
        "colab": {
          "base_uri": "https://localhost:8080/"
        },
        "id": "oOgLu29-YWB9",
        "outputId": "62a8712a-090d-4d73-ef04-6cc37a6d2efb"
      },
      "execution_count": null,
      "outputs": [
        {
          "output_type": "stream",
          "name": "stdout",
          "text": [
            "\n",
            "y =  [1 2 3 4 5]\n",
            "\n",
            "y is an object of type: <class 'numpy.ndarray'>\n",
            "The elements in y are of type: int64\n"
          ]
        }
      ]
    },
    {
      "cell_type": "markdown",
      "source": [
        "###### Built-in functions to create arrays"
      ],
      "metadata": {
        "id": "JaBTzckgWNm1"
      }
    },
    {
      "cell_type": "markdown",
      "source": [
        "One great time-saving feature of NumPy is its ability to create ndarrays using built-in functions. These functions allow us to create certain kinds of ndarrays with just one line of code. Below we will see a few of the most useful built-in functions for creating ndarrays that you will come across when doing AI programming.\n",
        "\n",
        "Let's start by creating an ndarray with a specified shape that is full of zeros. We can do this by using the np.zeros() function. The function np.zeros(shape) creates an ndarray full of zeros with the given shape. So, for example, if you wanted to create a rank 2 array with 3 rows and 4 columns, you will pass the shape to the function in the form of (rows, columns), as in the example below:"
      ],
      "metadata": {
        "id": "ui1aNb2tWNm2"
      }
    },
    {
      "cell_type": "code",
      "source": [
        "# We create a 3 x 4 ndarray full of zeros. \n",
        "X = np.zeros((3,4))\n",
        "\n",
        "# We print X\n",
        "print()\n",
        "print('X = \\n', X)\n",
        "print()\n",
        "\n",
        "# We print information about X\n",
        "print('X has dimensions:', X.shape)\n",
        "print('X is an object of type:', type(X))\n",
        "print('The elements in X are of type:', X.dtype)"
      ],
      "metadata": {
        "colab": {
          "base_uri": "https://localhost:8080/"
        },
        "id": "pmgGAFHyYpIn",
        "outputId": "8953b926-b1b8-4cb8-ea69-2a3bf27bcbe6"
      },
      "execution_count": null,
      "outputs": [
        {
          "output_type": "stream",
          "name": "stdout",
          "text": [
            "\n",
            "X = \n",
            " [[0. 0. 0. 0.]\n",
            " [0. 0. 0. 0.]\n",
            " [0. 0. 0. 0.]]\n",
            "\n",
            "X has dimensions: (3, 4)\n",
            "X is an object of type: <class 'numpy.ndarray'>\n",
            "The elements in X are of type: float64\n"
          ]
        }
      ]
    },
    {
      "cell_type": "markdown",
      "source": [
        "As we can see, the np.zeros() function creates by default an array with dtype float64. If desired, the data type can be changed by using the keyword dtype.\n",
        "\n",
        "Similarly, we can create an ndarray with a specified shape that is full of ones. We can do this by using the np.ones() function. Just like the np.zeros() function, the np.ones() function takes as an argument the shape of the ndarray you want to make. Let's see an example:"
      ],
      "metadata": {
        "id": "M6BnrTlOYvMS"
      }
    },
    {
      "cell_type": "code",
      "source": [
        "# We create a 3 x 2 ndarray full of ones. \n",
        "X = np.ones((3,2))\n",
        "\n",
        "# We print X\n",
        "print()\n",
        "print('X = \\n', X)\n",
        "print()\n",
        "\n",
        "# We print information about X\n",
        "print('X has dimensions:', X.shape)\n",
        "print('X is an object of type:', type(X))\n",
        "print('The elements in X are of type:', X.dtype) "
      ],
      "metadata": {
        "colab": {
          "base_uri": "https://localhost:8080/"
        },
        "id": "Y_sEy_thYsWE",
        "outputId": "4e32477b-6f81-447a-b1a8-881e74bdfb1a"
      },
      "execution_count": null,
      "outputs": [
        {
          "output_type": "stream",
          "name": "stdout",
          "text": [
            "\n",
            "X = \n",
            " [[1. 1.]\n",
            " [1. 1.]\n",
            " [1. 1.]]\n",
            "\n",
            "X has dimensions: (3, 2)\n",
            "X is an object of type: <class 'numpy.ndarray'>\n",
            "The elements in X are of type: float64\n"
          ]
        }
      ]
    },
    {
      "cell_type": "markdown",
      "source": [
        "As we can see, thenp.ones() function also creates by default an array with dtype float64. If desired, the data type can be changed by using the keyword dtype.\n",
        "\n",
        "We can also create an ndarray with a specified shape that is full of any number we want. We can do this by using the np.full() function. The np.full(shape, constant value) function takes two arguments. The first argument is the shape of the ndarray you want to make and the second is the constant value you want to populate the array with. Let's see an example:"
      ],
      "metadata": {
        "id": "nIFX0-_3YyHi"
      }
    },
    {
      "cell_type": "code",
      "source": [
        "# We create a 2 x 3 ndarray full of fives. \n",
        "X = np.full((2,3), 5) \n",
        "\n",
        "# We print X\n",
        "print()\n",
        "print('X = \\n', X)\n",
        "print()\n",
        "\n",
        "# We print information about X\n",
        "print('X has dimensions:', X.shape)\n",
        "print('X is an object of type:', type(X))\n",
        "print('The elements in X are of type:', X.dtype)  "
      ],
      "metadata": {
        "colab": {
          "base_uri": "https://localhost:8080/"
        },
        "id": "A-VNfunwY2Rj",
        "outputId": "67931229-e071-4559-97d4-2e63464e08dd"
      },
      "execution_count": null,
      "outputs": [
        {
          "output_type": "stream",
          "name": "stdout",
          "text": [
            "\n",
            "X = \n",
            " [[5 5 5]\n",
            " [5 5 5]]\n",
            "\n",
            "X has dimensions: (2, 3)\n",
            "X is an object of type: <class 'numpy.ndarray'>\n",
            "The elements in X are of type: int64\n"
          ]
        }
      ]
    },
    {
      "cell_type": "markdown",
      "source": [
        "The np.full() function creates by default an array with the same data type as the constant value used to fill in the array. If desired, the data type can be changed by using the keyword dtype.\n",
        "\n",
        "As you will learn later, a fundamental array in Linear Algebra is the Identity Matrix. An Identity matrix is a square matrix that has only 1s in its main diagonal and zeros everywhere else. The function np.eye(N) creates a square N x N ndarray corresponding to the Identity matrix. Since all Identity Matrices are square, the np.eye() function only takes a single integer as an argument. Let's see an example:"
      ],
      "metadata": {
        "id": "KwYN408fY5fm"
      }
    },
    {
      "cell_type": "code",
      "source": [
        "# We create a 5 x 5 Identity matrix. \n",
        "X = np.eye(5)\n",
        "\n",
        "# We print X\n",
        "print()\n",
        "print('X = \\n', X)\n",
        "print()\n",
        "\n",
        "# We print information about X\n",
        "print('X has dimensions:', X.shape)\n",
        "print('X is an object of type:', type(X))\n",
        "print('The elements in X are of type:', X.dtype)  "
      ],
      "metadata": {
        "colab": {
          "base_uri": "https://localhost:8080/"
        },
        "id": "N-OiXJLTY903",
        "outputId": "e791e347-314a-4ade-9f1e-91707da5a348"
      },
      "execution_count": null,
      "outputs": [
        {
          "output_type": "stream",
          "name": "stdout",
          "text": [
            "\n",
            "X = \n",
            " [[1. 0. 0. 0. 0.]\n",
            " [0. 1. 0. 0. 0.]\n",
            " [0. 0. 1. 0. 0.]\n",
            " [0. 0. 0. 1. 0.]\n",
            " [0. 0. 0. 0. 1.]]\n",
            "\n",
            "X has dimensions: (5, 5)\n",
            "X is an object of type: <class 'numpy.ndarray'>\n",
            "The elements in X are of type: float64\n"
          ]
        }
      ]
    },
    {
      "cell_type": "code",
      "source": [
        "# Create a 4 x 4 diagonal matrix that contains the numbers 10,20,30, and 50\n",
        "# on its main diagonal\n",
        "X = np.diag([10,20,30,50])\n",
        "\n",
        "# We print X\n",
        "print()\n",
        "print('X = \\n', X)\n",
        "print()"
      ],
      "metadata": {
        "colab": {
          "base_uri": "https://localhost:8080/"
        },
        "id": "DCQFuvWZZKtJ",
        "outputId": "6c60ff52-4fca-4ce5-c259-32bda1868c81"
      },
      "execution_count": null,
      "outputs": [
        {
          "output_type": "stream",
          "name": "stdout",
          "text": [
            "\n",
            "X = \n",
            " [[10  0  0  0]\n",
            " [ 0 20  0  0]\n",
            " [ 0  0 30  0]\n",
            " [ 0  0  0 50]]\n",
            "\n"
          ]
        }
      ]
    },
    {
      "cell_type": "code",
      "source": [
        "# We create a rank 1 ndarray that has evenly spaced integers from 1 to 13 in steps of 3.\n",
        "x = np.arange(1,14,3)\n",
        "\n",
        "# We print the ndarray\n",
        "print()\n",
        "print('x = ', x)\n",
        "print()\n",
        "\n",
        "# We print information about the ndarray\n",
        "print('x has dimensions:', x.shape)\n",
        "print('x is an object of type:', type(x))\n",
        "print('The elements in x are of type:', x.dtype) "
      ],
      "metadata": {
        "colab": {
          "base_uri": "https://localhost:8080/"
        },
        "id": "zV2Fpnc9aHY7",
        "outputId": "aeedd340-4158-42bf-9caa-70123c7a8dad"
      },
      "execution_count": null,
      "outputs": [
        {
          "output_type": "stream",
          "name": "stdout",
          "text": [
            "\n",
            "x =  [ 1  4  7 10 13]\n",
            "\n",
            "x has dimensions: (5,)\n",
            "x is an object of type: <class 'numpy.ndarray'>\n",
            "The elements in x are of type: int64\n"
          ]
        }
      ]
    },
    {
      "cell_type": "code",
      "source": [
        "# We create a rank 1 ndarray that has 10 integers evenly spaced between 0 and 25.\n",
        "x = np.linspace(0,25,10)\n",
        "\n",
        "# We print the ndarray\n",
        "print()\n",
        "print('x = \\n', x)\n",
        "print()\n",
        "\n",
        "# We print information about the ndarray\n",
        "print('x has dimensions:', x.shape)\n",
        "print('x is an object of type:', type(x))\n",
        "print('The elements in x are of type:', x.dtype) "
      ],
      "metadata": {
        "colab": {
          "base_uri": "https://localhost:8080/"
        },
        "id": "R8HpH-IFaQ7z",
        "outputId": "0398ba5b-ac2a-4069-815b-5d2877f94ad4"
      },
      "execution_count": null,
      "outputs": [
        {
          "output_type": "stream",
          "name": "stdout",
          "text": [
            "\n",
            "x = \n",
            " [ 0.          2.77777778  5.55555556  8.33333333 11.11111111 13.88888889\n",
            " 16.66666667 19.44444444 22.22222222 25.        ]\n",
            "\n",
            "x has dimensions: (10,)\n",
            "x is an object of type: <class 'numpy.ndarray'>\n",
            "The elements in x are of type: float64\n"
          ]
        }
      ]
    },
    {
      "cell_type": "code",
      "source": [
        "# We create a rank 1 ndarray that has 10 integers evenly spaced between 0 and 25,\n",
        "# with 25 excluded.\n",
        "x = np.linspace(0,25,10, endpoint = False)\n",
        "\n",
        "# We print the ndarray\n",
        "print()\n",
        "print('x = ', x)\n",
        "print()\n",
        "\n",
        "# We print information about the ndarray\n",
        "print('x has dimensions:', x.shape)\n",
        "print('x is an object of type:', type(x))\n",
        "print('The elements in x are of type:', x.dtype) "
      ],
      "metadata": {
        "colab": {
          "base_uri": "https://localhost:8080/"
        },
        "id": "5dJaUKKPaYoC",
        "outputId": "47eb8084-12cf-4627-dfeb-c22694273fcc"
      },
      "execution_count": null,
      "outputs": [
        {
          "output_type": "stream",
          "name": "stdout",
          "text": [
            "\n",
            "x =  [ 0.   2.5  5.   7.5 10.  12.5 15.  17.5 20.  22.5]\n",
            "\n",
            "x has dimensions: (10,)\n",
            "x is an object of type: <class 'numpy.ndarray'>\n",
            "The elements in x are of type: float64\n"
          ]
        }
      ]
    },
    {
      "cell_type": "markdown",
      "source": [
        "So far, we have only used the built-in functions np.arange() and np.linspace() to create rank 1 ndarrays. However, we can use these functions to create rank 2 ndarrays of any shape by combining them with the np.reshape() function. The np.reshape(ndarray, new_shape) function converts the given ndarray into the specified new_shape. It is important to note that the new_shape should be compatible with the number of elements in the given ndarray. For example, you can convert a rank 1 ndarray with 6 elements, into a 3 x 2 rank 2 ndarray, or a 2 x 3 rank 2 ndarray, since both of these rank 2 arrays will have a total of 6 elements. However, you can't reshape the rank 1 ndarray with 6 elements into a 3 x 3 rank 2 ndarray, since this rank 2 array will have 9 elements, which is greater than the number of elements in the original ndarray"
      ],
      "metadata": {
        "id": "KMeC9NGaalBV"
      }
    },
    {
      "cell_type": "markdown",
      "source": [
        "Using the function reshape"
      ],
      "metadata": {
        "id": "G3rjl7pea4-P"
      }
    },
    {
      "cell_type": "code",
      "source": [
        "# We create a rank 1 ndarray with sequential integers from 0 to 19\n",
        "x = np.arange(20)\n",
        "\n",
        "# We print x\n",
        "print()\n",
        "print('Original x = ', x)\n",
        "print()\n",
        "\n",
        "# We reshape x into a 4 x 5 ndarray \n",
        "x = np.reshape(x, (4,5))\n",
        "\n",
        "# We print the reshaped x\n",
        "print()\n",
        "print('Reshaped x = \\n', x)\n",
        "print()\n",
        "\n",
        "# We print information about the reshaped x\n",
        "print('x has dimensions:', x.shape)\n",
        "print('x is an object of type:', type(x))\n",
        "print('The elements in x are of type:', x.dtype) "
      ],
      "metadata": {
        "colab": {
          "base_uri": "https://localhost:8080/"
        },
        "id": "r7UAm9MSal1o",
        "outputId": "eb0e4457-7da6-4c2a-f509-0c9126ae0cc7"
      },
      "execution_count": null,
      "outputs": [
        {
          "output_type": "stream",
          "name": "stdout",
          "text": [
            "\n",
            "Original x =  [ 0  1  2  3  4  5  6  7  8  9 10 11 12 13 14 15 16 17 18 19]\n",
            "\n",
            "\n",
            "Reshaped x = \n",
            " [[ 0  1  2  3  4]\n",
            " [ 5  6  7  8  9]\n",
            " [10 11 12 13 14]\n",
            " [15 16 17 18 19]]\n",
            "\n",
            "x has dimensions: (4, 5)\n",
            "x is an object of type: <class 'numpy.ndarray'>\n",
            "The elements in x are of type: int64\n"
          ]
        }
      ]
    },
    {
      "cell_type": "markdown",
      "source": [
        "Using the method reshape"
      ],
      "metadata": {
        "id": "qbox3mL2a2yz"
      }
    },
    {
      "cell_type": "code",
      "source": [
        "# We create a a rank 1 ndarray with sequential integers from 0 to 19 and\n",
        "# reshape it to a 4 x 5 array \n",
        "Y = np.arange(20).reshape(4, 5)\n",
        "\n",
        "# We print Y\n",
        "print()\n",
        "print('Y = \\n', Y)\n",
        "print()\n",
        "\n",
        "# We print information about Y\n",
        "print('Y has dimensions:', Y.shape)\n",
        "print('Y is an object of type:', type(Y))\n",
        "print('The elements in Y are of type:', Y.dtype) "
      ],
      "metadata": {
        "colab": {
          "base_uri": "https://localhost:8080/"
        },
        "id": "jmL635Wta1oL",
        "outputId": "9a65554f-155d-44c2-e584-ea2e7d2a42d3"
      },
      "execution_count": null,
      "outputs": [
        {
          "output_type": "stream",
          "name": "stdout",
          "text": [
            "\n",
            "Y = \n",
            " [[ 0  1  2  3  4]\n",
            " [ 5  6  7  8  9]\n",
            " [10 11 12 13 14]\n",
            " [15 16 17 18 19]]\n",
            "\n",
            "Y has dimensions: (4, 5)\n",
            "Y is an object of type: <class 'numpy.ndarray'>\n",
            "The elements in Y are of type: int64\n"
          ]
        }
      ]
    },
    {
      "cell_type": "markdown",
      "source": [
        "The last type of ndarrays we are going to create are random ndarrays. Random ndarrays are arrays that contain random numbers. Often in Machine Learning, you need to create random matrices, for example, when initializing the weights of a Neural Network. NumPy offers a variety of random functions to help us create random ndarrays of any shape.\n",
        "\n",
        "Let's start by using the np.random.random(shape) function to create an ndarray of the given shape with random floats in the half-open interval [0.0, 1.0)."
      ],
      "metadata": {
        "id": "kGDHG3yabGgM"
      }
    },
    {
      "cell_type": "code",
      "source": [
        "# We create a 3 x 3 ndarray with random floats in the half-open interval [0.0, 1.0).\n",
        "X = np.random.random((3,3))\n",
        "\n",
        "# We print X\n",
        "print()\n",
        "print('X = \\n', X)\n",
        "print()\n",
        "\n",
        "# We print information about X\n",
        "print('X has dimensions:', X.shape)\n",
        "print('X is an object of type:', type(X))\n",
        "print('The elements in x are of type:', X.dtype)"
      ],
      "metadata": {
        "colab": {
          "base_uri": "https://localhost:8080/"
        },
        "id": "eB2Oi6oSbI83",
        "outputId": "575b90a2-990a-4d10-adcb-8bb898b7dd12"
      },
      "execution_count": null,
      "outputs": [
        {
          "output_type": "stream",
          "name": "stdout",
          "text": [
            "\n",
            "X = \n",
            " [[0.07693719 0.15896112 0.86752101]\n",
            " [0.77757925 0.86280979 0.26035322]\n",
            " [0.27586422 0.74377315 0.49344008]]\n",
            "\n",
            "X has dimensions: (3, 3)\n",
            "X is an object of type: <class 'numpy.ndarray'>\n",
            "The elements in x are of type: float64\n"
          ]
        }
      ]
    },
    {
      "cell_type": "markdown",
      "source": [
        "NumPy also allows us to create ndarrays with random integers within a particular interval. The function np.random.randint(start, stop, size = shape) creates an ndarray of the given shape with random integers in the half-open interval [start, stop). Let's see an example:"
      ],
      "metadata": {
        "id": "RNkRPdEfbMl7"
      }
    },
    {
      "cell_type": "code",
      "source": [
        "# We create a 3 x 2 ndarray with random integers in the half-open interval [4, 15).\n",
        "X = np.random.randint(4,15,size=(3,2))\n",
        "\n",
        "# We print X\n",
        "print()\n",
        "print('X = \\n', X)\n",
        "print()\n",
        "\n",
        "# We print information about X\n",
        "print('X has dimensions:', X.shape)\n",
        "print('X is an object of type:', type(X))\n",
        "print('The elements in X are of type:', X.dtype)"
      ],
      "metadata": {
        "colab": {
          "base_uri": "https://localhost:8080/"
        },
        "id": "EOKw0RQCbP0T",
        "outputId": "294ed672-6d1b-4b37-ed40-1f45d3701c23"
      },
      "execution_count": null,
      "outputs": [
        {
          "output_type": "stream",
          "name": "stdout",
          "text": [
            "\n",
            "X = \n",
            " [[9 8]\n",
            " [8 8]\n",
            " [7 5]]\n",
            "\n",
            "X has dimensions: (3, 2)\n",
            "X is an object of type: <class 'numpy.ndarray'>\n",
            "The elements in X are of type: int64\n"
          ]
        }
      ]
    },
    {
      "cell_type": "markdown",
      "source": [
        "In some cases, you may need to create ndarrays with random numbers that satisfy certain statistical properties. For example, you may want the random numbers in the ndarray to have an average of 0. NumPy allows you create random ndarrays with numbers drawn from various probability distributions. The function np.random.normal(mean, standard deviation, size=shape), for example, creates an ndarray with the given shape that contains random numbers picked from a normal (Gaussian) distribution with the given mean and standard deviation. Let's create a 1,000 x 1,000 ndarray of random floating point numbers drawn from a normal distribution with a mean (average) of zero and a standard deviation of 0.1."
      ],
      "metadata": {
        "id": "t2ZHGP_bbTWt"
      }
    },
    {
      "cell_type": "code",
      "source": [
        "# We create a 1000 x 1000 ndarray of random floats drawn from normal (Gaussian) distribution\n",
        "# with a mean of zero and a standard deviation of 0.1.\n",
        "X = np.random.normal(0, 0.1, size=(1000,1000))\n",
        "\n",
        "# We print X\n",
        "print()\n",
        "print('X = \\n', X)\n",
        "print()\n",
        "\n",
        "# We print information about X\n",
        "print('X has dimensions:', X.shape)\n",
        "print('X is an object of type:', type(X))\n",
        "print('The elements in X are of type:', X.dtype)\n",
        "print('The elements in X have a mean of:', X.mean())\n",
        "print('The maximum value in X is:', X.max())\n",
        "print('The minimum value in X is:', X.min())\n",
        "print('X has', (X < 0).sum(), 'negative numbers')\n",
        "print('X has', (X > 0).sum(), 'positive numbers')"
      ],
      "metadata": {
        "colab": {
          "base_uri": "https://localhost:8080/"
        },
        "id": "YoOA5DgpbWER",
        "outputId": "52e951d1-4831-476b-bccc-08fc5310d2d1"
      },
      "execution_count": null,
      "outputs": [
        {
          "output_type": "stream",
          "name": "stdout",
          "text": [
            "\n",
            "X = \n",
            " [[ 0.11062096 -0.18848199 -0.13933814 ... -0.22922672  0.08560342\n",
            "   0.09494847]\n",
            " [-0.21465375  0.17890888  0.08674283 ... -0.02971678 -0.06704127\n",
            "  -0.16835026]\n",
            " [ 0.01510206 -0.0979285   0.15652037 ...  0.0947675  -0.07576427\n",
            "  -0.00190856]\n",
            " ...\n",
            " [ 0.01065001 -0.13870851 -0.08652141 ... -0.07782912  0.08430694\n",
            "  -0.06871916]\n",
            " [ 0.11884119  0.03570906  0.02110066 ...  0.1519784  -0.11096837\n",
            "   0.1534686 ]\n",
            " [ 0.05319877  0.09314124 -0.12593448 ... -0.03214836  0.10479879\n",
            "  -0.10768772]]\n",
            "\n",
            "X has dimensions: (1000, 1000)\n",
            "X is an object of type: <class 'numpy.ndarray'>\n",
            "The elements in X are of type: float64\n",
            "The elements in X have a mean of: 4.261350583990718e-05\n",
            "The maximum value in X is: 0.4594371834520016\n",
            "The minimum value in X is: -0.4963215962662151\n",
            "X has 500553 negative numbers\n",
            "X has 499447 positive numbers\n"
          ]
        }
      ]
    },
    {
      "cell_type": "markdown",
      "source": [
        "As we can see, the average of the random numbers in the ndarray is close to zero, both the maximum and minimum values in X are symmetric about zero (the average), and we have about the same amount of positive and negative numbers."
      ],
      "metadata": {
        "id": "29GHtyvYbZBf"
      }
    },
    {
      "cell_type": "markdown",
      "source": [
        "###### Acessing elements"
      ],
      "metadata": {
        "id": "rF_jEjYUWN6h"
      }
    },
    {
      "cell_type": "markdown",
      "source": [
        "See how NumPy allows us to effectively manipulate the data within the ndarrays. NumPy ndarrays are mutable, meaning that the elements in ndarrays can be changed after the ndarray has been created. NumPy ndarrays can also be sliced, which means that ndarrays can be split in many different ways. This allows us, for example, to retrieve any subset of the ndarray that we want. Often in Machine Learning you will use slicing to separate data, as for example when dividing a data set into training, cross validation, and testing sets.\n",
        "\n",
        "We will start by looking at how the elements of an ndarray can be accessed or modified by indexing. Elements can be accessed using indices inside square brackets, [ ]. NumPy allows you to use both positive and negative indices to access elements in the ndarray. Positive indices are used to access elements from the beginning of the array, while negative indices are used to access elements from the end of the array. Let's see how we can access elements in rank 1 ndarrays:"
      ],
      "metadata": {
        "id": "d-T5C3IAp424"
      }
    },
    {
      "cell_type": "code",
      "source": [
        "# We create a rank 1 ndarray that contains integers from 1 to 5\n",
        "x = np.array([1, 2, 3, 4, 5])\n",
        "\n",
        "# We print x\n",
        "print()\n",
        "print('x = ', x)\n",
        "print()\n",
        "\n",
        "# Let's access some elements with positive indices\n",
        "print('This is First Element in x:', x[0]) \n",
        "print('This is Second Element in x:', x[1])\n",
        "print('This is Fifth (Last) Element in x:', x[4])\n",
        "print()\n",
        "\n",
        "# Let's access the same elements with negative indices\n",
        "print('This is First Element in x:', x[-5])\n",
        "print('This is Second Element in x:', x[-4])\n",
        "print('This is Fifth (Last) Element in x:', x[-1])"
      ],
      "metadata": {
        "colab": {
          "base_uri": "https://localhost:8080/"
        },
        "id": "qiaBpv0Ap1Ah",
        "outputId": "3656523c-66b0-4ccd-e742-b9d751d0d081"
      },
      "execution_count": null,
      "outputs": [
        {
          "output_type": "stream",
          "name": "stdout",
          "text": [
            "\n",
            "x =  [1 2 3 4 5]\n",
            "\n",
            "This is First Element in x: 1\n",
            "This is Second Element in x: 2\n",
            "This is Fifth (Last) Element in x: 5\n",
            "\n",
            "This is First Element in x: 1\n",
            "This is Second Element in x: 2\n",
            "This is Fifth (Last) Element in x: 5\n"
          ]
        }
      ]
    },
    {
      "cell_type": "code",
      "source": [
        "# We create a rank 1 ndarray that contains integers from 1 to 5\n",
        "x = np.array([1, 2, 3, 4, 5])\n",
        "\n",
        "# We print the original x\n",
        "print()\n",
        "print('Original:\\n x = ', x)\n",
        "print()\n",
        "\n",
        "# We change the fourth element in x from 4 to 20\n",
        "x[3] = 20\n",
        "\n",
        "# We print x after it was modified \n",
        "print('Modified:\\n x = ', x)"
      ],
      "metadata": {
        "colab": {
          "base_uri": "https://localhost:8080/"
        },
        "id": "YTdAmeqDp-ZQ",
        "outputId": "113f96ec-67b7-40d5-b9a3-6f0d8ebb0fad"
      },
      "execution_count": null,
      "outputs": [
        {
          "output_type": "stream",
          "name": "stdout",
          "text": [
            "\n",
            "Original:\n",
            " x =  [1 2 3 4 5]\n",
            "\n",
            "Modified:\n",
            " x =  [ 1  2  3 20  5]\n"
          ]
        }
      ]
    },
    {
      "cell_type": "code",
      "source": [
        "# We create a 3 x 3 rank 2 ndarray that contains integers from 1 to 9\n",
        "X = np.array([[1,2,3],[4,5,6],[7,8,9]])\n",
        "\n",
        "# We print X\n",
        "print()\n",
        "print('X = \\n', X)\n",
        "print()\n",
        "\n",
        "# Let's access some elements in X\n",
        "print('This is (0,0) Element in X:', X[0,0])\n",
        "print('This is (0,1) Element in X:', X[0,1])\n",
        "print('This is (2,2) Element in X:', X[2,2])"
      ],
      "metadata": {
        "colab": {
          "base_uri": "https://localhost:8080/"
        },
        "id": "mGfkJih0qETG",
        "outputId": "4c272626-c2fa-40c6-dea2-e099a59d2391"
      },
      "execution_count": null,
      "outputs": [
        {
          "output_type": "stream",
          "name": "stdout",
          "text": [
            "\n",
            "X = \n",
            " [[1 2 3]\n",
            " [4 5 6]\n",
            " [7 8 9]]\n",
            "\n",
            "This is (0,0) Element in X: 1\n",
            "This is (0,1) Element in X: 2\n",
            "This is (2,2) Element in X: 9\n"
          ]
        }
      ]
    },
    {
      "cell_type": "code",
      "source": [
        "# We create a 3 x 3 rank 2 ndarray that contains integers from 1 to 9\n",
        "X = np.array([[1,2,3],[4,5,6],[7,8,9]])\n",
        "\n",
        "# We print the original x\n",
        "print()\n",
        "print('Original:\\n X = \\n', X)\n",
        "print()\n",
        "\n",
        "# We change the (0,0) element in X from 1 to 20\n",
        "X[0,0] = 20\n",
        "\n",
        "# We print X after it was modified \n",
        "print('Modified:\\n X = \\n', X)"
      ],
      "metadata": {
        "colab": {
          "base_uri": "https://localhost:8080/"
        },
        "id": "qwgRWBwiqHuc",
        "outputId": "ca6686cf-0bf3-4582-b857-a584e761dbbe"
      },
      "execution_count": null,
      "outputs": [
        {
          "output_type": "stream",
          "name": "stdout",
          "text": [
            "\n",
            "Original:\n",
            " X = \n",
            " [[1 2 3]\n",
            " [4 5 6]\n",
            " [7 8 9]]\n",
            "\n",
            "Modified:\n",
            " X = \n",
            " [[20  2  3]\n",
            " [ 4  5  6]\n",
            " [ 7  8  9]]\n"
          ]
        }
      ]
    },
    {
      "cell_type": "code",
      "source": [
        "# We create a 3 x 3 rank 2 ndarray that contains integers from 1 to 9\n",
        "X = np.array([[1,2,3],[4,5,6],[7,8,9]])\n",
        "\n",
        "# We print the original x\n",
        "print()\n",
        "print('Original:\\n X = \\n', X)\n",
        "print()\n",
        "\n",
        "# We change the (0,0) element in X from 1 to 20\n",
        "X[0,0] = 20\n",
        "\n",
        "# We print X after it was modified \n",
        "print('Modified:\\n X = \\n', X)"
      ],
      "metadata": {
        "colab": {
          "base_uri": "https://localhost:8080/"
        },
        "id": "el3V4_WRqKIH",
        "outputId": "50eb4eda-5f0c-4df5-d262-5007adb1d1e0"
      },
      "execution_count": null,
      "outputs": [
        {
          "output_type": "stream",
          "name": "stdout",
          "text": [
            "\n",
            "Original:\n",
            " X = \n",
            " [[1 2 3]\n",
            " [4 5 6]\n",
            " [7 8 9]]\n",
            "\n",
            "Modified:\n",
            " X = \n",
            " [[20  2  3]\n",
            " [ 4  5  6]\n",
            " [ 7  8  9]]\n"
          ]
        }
      ]
    },
    {
      "cell_type": "markdown",
      "source": [
        "Delete"
      ],
      "metadata": {
        "id": "pQwwsKlDrCbL"
      }
    },
    {
      "cell_type": "code",
      "source": [
        "# We create a rank 1 ndarray \n",
        "x = np.array([1, 2, 3, 4, 5])\n",
        "\n",
        "# We create a rank 2 ndarray\n",
        "Y = np.array([[1,2,3],[4,5,6],[7,8,9]])\n",
        "\n",
        "# We print x\n",
        "print()\n",
        "print('Original x = ', x)\n",
        "\n",
        "# We delete the first and last element of x\n",
        "x = np.delete(x, [0,4])\n",
        "\n",
        "# We print x with the first and last element deleted\n",
        "print()\n",
        "print('Modified x = ', x)\n",
        "\n",
        "# We print Y\n",
        "print()\n",
        "print('Original Y = \\n', Y)\n",
        "\n",
        "# We delete the first row of y\n",
        "w = np.delete(Y, 0, axis=0)\n",
        "\n",
        "# We delete the first and last column of y\n",
        "v = np.delete(Y, [0,2], axis=1)\n",
        "\n",
        "# We print w\n",
        "print()\n",
        "print('w = \\n', w)\n",
        "\n",
        "# We print v\n",
        "print()\n",
        "print('v = \\n', v)"
      ],
      "metadata": {
        "id": "ssiWnMDjrAXJ"
      },
      "execution_count": null,
      "outputs": []
    },
    {
      "cell_type": "markdown",
      "source": [
        "Append"
      ],
      "metadata": {
        "id": "CcbWVtuKqoKk"
      }
    },
    {
      "cell_type": "code",
      "source": [
        "# We create a rank 1 ndarray \n",
        "x = np.array([1, 2, 3, 4, 5])\n",
        "\n",
        "# We create a rank 2 ndarray \n",
        "Y = np.array([[1,2,3],[4,5,6]])\n",
        "\n",
        "# We print x\n",
        "print()\n",
        "print('Original x = ', x)\n",
        "\n",
        "# We append the integer 6 to x\n",
        "x = np.append(x, 6)\n",
        "\n",
        "# We print x\n",
        "print()\n",
        "print('x = ', x)\n",
        "\n",
        "# We append the integer 7 and 8 to x\n",
        "x = np.append(x, [7,8])\n",
        "\n",
        "# We print x\n",
        "print()\n",
        "print('x = ', x)\n",
        "\n",
        "# We print Y\n",
        "print()\n",
        "print('Original Y = \\n', Y)\n",
        "\n",
        "# We append a new row containing 7,8,9 to y\n",
        "v = np.append(Y, [[7,8,9]], axis=0)\n",
        "\n",
        "# We append a new column containing 9 and 10 to y\n",
        "q = np.append(Y,[[9],[10]], axis=1)\n",
        "\n",
        "# We print v\n",
        "print()\n",
        "print('v = \\n', v)\n",
        "\n",
        "# We print q\n",
        "print()\n",
        "print('q = \\n', q)"
      ],
      "metadata": {
        "colab": {
          "base_uri": "https://localhost:8080/"
        },
        "id": "T231kBwqqbIU",
        "outputId": "58bfd4b7-a1a2-4394-9988-4cf74e7188e9"
      },
      "execution_count": null,
      "outputs": [
        {
          "output_type": "stream",
          "name": "stdout",
          "text": [
            "\n",
            "Original x =  [1 2 3 4 5]\n",
            "\n",
            "x =  [1 2 3 4 5 6]\n",
            "\n",
            "x =  [1 2 3 4 5 6 7 8]\n",
            "\n",
            "Original Y = \n",
            " [[1 2 3]\n",
            " [4 5 6]]\n",
            "\n",
            "v = \n",
            " [[1 2 3]\n",
            " [4 5 6]\n",
            " [7 8 9]]\n",
            "\n",
            "q = \n",
            " [[ 1  2  3  9]\n",
            " [ 4  5  6 10]]\n"
          ]
        }
      ]
    },
    {
      "cell_type": "markdown",
      "source": [
        "Insert"
      ],
      "metadata": {
        "id": "eip5CUWdqqCd"
      }
    },
    {
      "cell_type": "code",
      "source": [
        "# We create a rank 1 ndarray \n",
        "x = np.array([1, 2, 5, 6, 7])\n",
        "\n",
        "# We create a rank 2 ndarray \n",
        "Y = np.array([[1,2,3],[7,8,9]])\n",
        "\n",
        "# We print x\n",
        "print()\n",
        "print('Original x = ', x)\n",
        "\n",
        "# We insert the integer 3 and 4 between 2 and 5 in x. \n",
        "x = np.insert(x,2,[3,4])\n",
        "\n",
        "# We print x with the inserted elements\n",
        "print()\n",
        "print('x = ', x)\n",
        "\n",
        "# We print Y\n",
        "print()\n",
        "print('Original Y = \\n', Y)\n",
        "\n",
        "# We insert a row between the first and last row of y\n",
        "w = np.insert(Y,1,[4,5,6],axis=0)\n",
        "\n",
        "# We insert a column full of 5s between the first and second column of y\n",
        "v = np.insert(Y,1,5, axis=1)\n",
        "\n",
        "# We print w\n",
        "print()\n",
        "print('w = \\n', w)\n",
        "\n",
        "# We print v\n",
        "print()\n",
        "print('v = \\n', v)"
      ],
      "metadata": {
        "colab": {
          "base_uri": "https://localhost:8080/"
        },
        "id": "00U23Ic3qmdM",
        "outputId": "da8206bf-e612-429f-8f36-1038dfc8c7f9"
      },
      "execution_count": null,
      "outputs": [
        {
          "output_type": "stream",
          "name": "stdout",
          "text": [
            "\n",
            "Original x =  [1 2 5 6 7]\n",
            "\n",
            "x =  [1 2 3 4 5 6 7]\n",
            "\n",
            "Original Y = \n",
            " [[1 2 3]\n",
            " [7 8 9]]\n",
            "\n",
            "w = \n",
            " [[1 2 3]\n",
            " [4 5 6]\n",
            " [7 8 9]]\n",
            "\n",
            "v = \n",
            " [[1 5 2 3]\n",
            " [7 5 8 9]]\n"
          ]
        }
      ]
    },
    {
      "cell_type": "markdown",
      "source": [
        "HSTACK & VSTACK"
      ],
      "metadata": {
        "id": "0aCIU5eTrPfh"
      }
    },
    {
      "cell_type": "markdown",
      "source": [
        "It returns a stacked array formed by stacking the given arrays in sequence horizontally (column-wise). See the in-depth details here.\n",
        "\n",
        "It returns a stacked array formed by stacking the given arrays, will be at least 2-D, in sequence vertically (row-wise). See the in-depth details here.\n",
        "\n",
        "NumPy also allows us to stack ndarrays on top of each other, or to stack them side by side. The stacking is done using either the np.vstack() function for vertical stacking, or the np.hstack() function for horizontal stacking. It is important to note that in order to stack ndarrays, the shape of the ndarrays must match. Let's see some examples:"
      ],
      "metadata": {
        "id": "ym3odyYmrU1B"
      }
    },
    {
      "cell_type": "code",
      "source": [
        "# We create a rank 1 ndarray \n",
        "x = np.array([1,2])\n",
        "\n",
        "# We create a rank 2 ndarray \n",
        "Y = np.array([[3,4],[5,6]])\n",
        "\n",
        "# We print x\n",
        "print()\n",
        "print('x = ', x)\n",
        "\n",
        "# We print Y\n",
        "print()\n",
        "print('Y = \\n', Y)\n",
        "\n",
        "# We stack x on top of Y\n",
        "z = np.vstack((x,Y))\n",
        "\n",
        "# We stack x on the right of Y. We need to reshape x in order to stack it on the right of Y. \n",
        "w = np.hstack((Y,x.reshape(2,1)))\n",
        "\n",
        "# We print z\n",
        "print()\n",
        "print('z = \\n', z)\n",
        "\n",
        "# We print w\n",
        "print()\n",
        "print('w = \\n', w)"
      ],
      "metadata": {
        "colab": {
          "base_uri": "https://localhost:8080/"
        },
        "id": "rPY9a5DCrbL8",
        "outputId": "43731cf9-390c-40d0-9842-8c149ef00d37"
      },
      "execution_count": null,
      "outputs": [
        {
          "output_type": "stream",
          "name": "stdout",
          "text": [
            "\n",
            "x =  [1 2]\n",
            "\n",
            "Y = \n",
            " [[3 4]\n",
            " [5 6]]\n",
            "\n",
            "z = \n",
            " [[1 2]\n",
            " [3 4]\n",
            " [5 6]]\n",
            "\n",
            "w = \n",
            " [[3 4 1]\n",
            " [5 6 2]]\n"
          ]
        }
      ]
    },
    {
      "cell_type": "markdown",
      "source": [
        "###### Slicing Ndarrays"
      ],
      "metadata": {
        "id": "hE_ZSjk5WORy"
      }
    },
    {
      "cell_type": "markdown",
      "source": [
        "As we mentioned earlier, in addition to being able to access individual elements one at a time, NumPy provides a way to access subsets of ndarrays. This is known as slicing. Slicing is performed by combining indices with the colon : symbol inside the square brackets. In general you will come across three types of slicing:\n",
        "\n"
      ],
      "metadata": {
        "id": "Rx0-abgsrm3V"
      }
    },
    {
      "cell_type": "markdown",
      "source": [
        "As we mentioned earlier, in addition to being able to access individual elements one at a time, NumPy provides a way to access subsets of ndarrays. This is known as slicing. Slicing is performed by combining indices with the colon : symbol inside the square brackets. In general you will come across three types of slicing:\n",
        "\n"
      ],
      "metadata": {
        "id": "PjQPNA9krozn"
      }
    },
    {
      "cell_type": "code",
      "source": [
        "# We create a 4 x 5 ndarray that contains integers from 0 to 19\n",
        "X = np.arange(20).reshape(4, 5)\n",
        "\n",
        "# We print X\n",
        "print()\n",
        "print('X = \\n', X)\n",
        "print()\n",
        "\n",
        "# We select all the elements that are in the 2nd through 4th rows and in the 3rd to 5th columns\n",
        "Z = X[1:4,2:5]\n",
        "\n",
        "# We print Z\n",
        "print('Z = \\n', Z)\n",
        "\n",
        "# We can select the same elements as above using method 2\n",
        "W = X[1:,2:5]\n",
        "\n",
        "# We print W\n",
        "print()\n",
        "print('W = \\n', W)\n",
        "\n",
        "# We select all the elements that are in the 1st through 3rd rows and in the 3rd to 4th columns\n",
        "Y = X[:3,2:5]\n",
        "\n",
        "# We print Y\n",
        "print()\n",
        "print('Y = \\n', Y)\n",
        "\n",
        "# We select all the elements in the 3rd row\n",
        "v = X[2,:]\n",
        "\n",
        "# We print v\n",
        "print()\n",
        "print('v = ', v)\n",
        "\n",
        "# We select all the elements in the 3rd column\n",
        "q = X[:,2]\n",
        "\n",
        "# We print q\n",
        "print()\n",
        "print('q = ', q)\n",
        "\n",
        "# We select all the elements in the 3rd column but return a rank 2 ndarray\n",
        "R = X[:,2:3]\n",
        "\n",
        "# We print R\n",
        "print()\n",
        "print('R = \\n', R)"
      ],
      "metadata": {
        "colab": {
          "base_uri": "https://localhost:8080/"
        },
        "id": "R0RcuQuYqHQN",
        "outputId": "1b8886aa-5c51-41a4-f6af-b2ecd49ceed4"
      },
      "execution_count": null,
      "outputs": [
        {
          "output_type": "stream",
          "name": "stdout",
          "text": [
            "\n",
            "X = \n",
            " [[ 0  1  2  3  4]\n",
            " [ 5  6  7  8  9]\n",
            " [10 11 12 13 14]\n",
            " [15 16 17 18 19]]\n",
            "\n",
            "Z = \n",
            " [[ 7  8  9]\n",
            " [12 13 14]\n",
            " [17 18 19]]\n",
            "\n",
            "W = \n",
            " [[ 7  8  9]\n",
            " [12 13 14]\n",
            " [17 18 19]]\n",
            "\n",
            "Y = \n",
            " [[ 2  3  4]\n",
            " [ 7  8  9]\n",
            " [12 13 14]]\n",
            "\n",
            "v =  [10 11 12 13 14]\n",
            "\n",
            "q =  [ 2  7 12 17]\n",
            "\n",
            "R = \n",
            " [[ 2]\n",
            " [ 7]\n",
            " [12]\n",
            " [17]]\n"
          ]
        }
      ]
    },
    {
      "cell_type": "markdown",
      "source": [
        "Notice that when we selected all the elements in the 3rd column, variable q above, the slice returned a rank 1 ndarray instead of a rank 2 ndarray. However, slicing X in a slightly different way, variable R above, we can actually get a rank 2 ndarray instead.\n",
        "\n",
        "It is important to note that when we perform slices on ndarrays and save them into new variables, as we did above, the data is not copied into the new variable. This is one feature that often causes confusion for beginners. Therefore, we will look at this in a bit more detail.\n",
        "\n",
        "In the above examples, when we make assignments, such as:"
      ],
      "metadata": {
        "id": "Vw6FXfhoWORy"
      }
    },
    {
      "cell_type": "code",
      "source": [
        "Z = X[1:4,2:5]"
      ],
      "metadata": {
        "id": "Uz73x0cMr3Up"
      },
      "execution_count": null,
      "outputs": []
    },
    {
      "cell_type": "markdown",
      "source": [
        "the slice of the original array X is not copied in the variable Z. Rather, X and Z are now just two different names for the same ndarray. We say that slicing only creates a view of the original array. This means that if you make changes in Z you will be in effect changing the elements in X as well. Let's see this with an example:"
      ],
      "metadata": {
        "id": "wHzTek-Ar5xD"
      }
    },
    {
      "cell_type": "code",
      "source": [
        "# We create a 4 x 5 ndarray that contains integers from 0 to 19\n",
        "X = np.arange(20).reshape(4, 5)\n",
        "\n",
        "# We print X\n",
        "print()\n",
        "print('X = \\n', X)\n",
        "print()\n",
        "\n",
        "# We select all the elements that are in the 2nd through 4th rows and in the 3rd to 4th columns\n",
        "Z = X[1:4,2:5]\n",
        "\n",
        "# We print Z\n",
        "print()\n",
        "print('Z = \\n', Z)\n",
        "print()\n",
        "\n",
        "# We change the last element in Z to 555\n",
        "Z[2,2] = 555\n",
        "\n",
        "# We print X\n",
        "print()\n",
        "print('X = \\n', X)\n",
        "print()"
      ],
      "metadata": {
        "colab": {
          "base_uri": "https://localhost:8080/"
        },
        "id": "-yxr0MaFr8QJ",
        "outputId": "51d3e8c3-893f-4471-87d1-df7e67d869f0"
      },
      "execution_count": null,
      "outputs": [
        {
          "output_type": "stream",
          "name": "stdout",
          "text": [
            "\n",
            "X = \n",
            " [[ 0  1  2  3  4]\n",
            " [ 5  6  7  8  9]\n",
            " [10 11 12 13 14]\n",
            " [15 16 17 18 19]]\n",
            "\n",
            "\n",
            "Z = \n",
            " [[ 7  8  9]\n",
            " [12 13 14]\n",
            " [17 18 19]]\n",
            "\n",
            "\n",
            "X = \n",
            " [[  0   1   2   3   4]\n",
            " [  5   6   7   8   9]\n",
            " [ 10  11  12  13  14]\n",
            " [ 15  16  17  18 555]]\n",
            "\n"
          ]
        }
      ]
    },
    {
      "cell_type": "markdown",
      "source": [
        "numpy.ndarray.copy"
      ],
      "metadata": {
        "id": "rp2lVLyiMKaG"
      }
    },
    {
      "cell_type": "markdown",
      "source": [
        "It returns a copy of the array. More details about the arguments are available here.\n",
        "\n",
        "However, if we want to create a new ndarray that contains a copy of the values in the slice we need to use the np.copy() function. The np.copy(ndarray) function creates a copy of the given ndarray. This function can also be used as a method, in the same way as we did before with the reshape function. Let's do the same example we did before but now with copies of the arrays. We'll use copy both as a function and as a method."
      ],
      "metadata": {
        "id": "Rr79ivzVMO4t"
      }
    },
    {
      "cell_type": "code",
      "source": [
        "# We create a 4 x 5 ndarray that contains integers from 0 to 19\n",
        "X = np.arange(20).reshape(4, 5)\n",
        "\n",
        "# We print X\n",
        "print()\n",
        "print('X = \\n', X)\n",
        "print()\n",
        "\n",
        "# create a copy of the slice using the np.copy() function\n",
        "Z = np.copy(X[1:4,2:5])\n",
        "\n",
        "#  create a copy of the slice using the copy as a method\n",
        "W = X[1:4,2:5].copy()\n",
        "\n",
        "# We change the last element in Z to 555\n",
        "Z[2,2] = 555\n",
        "\n",
        "# We change the last element in W to 444\n",
        "W[2,2] = 444\n",
        "\n",
        "# We print X\n",
        "print()\n",
        "print('X = \\n', X)\n",
        "\n",
        "# We print Z\n",
        "print()\n",
        "print('Z = \\n', Z)\n",
        "\n",
        "# We print W\n",
        "print()\n",
        "print('W = \\n', W)"
      ],
      "metadata": {
        "colab": {
          "base_uri": "https://localhost:8080/"
        },
        "id": "id6sVMLCMM3G",
        "outputId": "92f0bd00-b1a8-4525-b156-b4f6c5da18b4"
      },
      "execution_count": null,
      "outputs": [
        {
          "output_type": "stream",
          "name": "stdout",
          "text": [
            "\n",
            "X = \n",
            " [[ 0  1  2  3  4]\n",
            " [ 5  6  7  8  9]\n",
            " [10 11 12 13 14]\n",
            " [15 16 17 18 19]]\n",
            "\n",
            "\n",
            "X = \n",
            " [[ 0  1  2  3  4]\n",
            " [ 5  6  7  8  9]\n",
            " [10 11 12 13 14]\n",
            " [15 16 17 18 19]]\n",
            "\n",
            "Z = \n",
            " [[  7   8   9]\n",
            " [ 12  13  14]\n",
            " [ 17  18 555]]\n",
            "\n",
            "W = \n",
            " [[  7   8   9]\n",
            " [ 12  13  14]\n",
            " [ 17  18 444]]\n"
          ]
        }
      ]
    },
    {
      "cell_type": "code",
      "source": [
        "# We create a 4 x 5 ndarray that contains integers from 0 to 19\n",
        "X = np.arange(20).reshape(4, 5)\n",
        "\n",
        "# We create a rank 1 ndarray that will serve as indices to select elements from X\n",
        "indices = np.array([1,3])\n",
        "\n",
        "# We print X\n",
        "print()\n",
        "print('X = \\n', X)\n",
        "print()\n",
        "\n",
        "# We print indices\n",
        "print('indices = ', indices)\n",
        "print()\n",
        "\n",
        "# We use the indices ndarray to select the 2nd and 4th row of X\n",
        "Y = X[indices,:]\n",
        "\n",
        "# We use the indices ndarray to select the 2nd and 4th column of X\n",
        "Z = X[:, indices]\n",
        "\n",
        "# We print Y\n",
        "print()\n",
        "print('Y = \\n', Y)\n",
        "\n",
        "# We print Z\n",
        "print()\n",
        "print('Z = \\n', Z)"
      ],
      "metadata": {
        "colab": {
          "base_uri": "https://localhost:8080/"
        },
        "id": "ZQoNPk33Mb-v",
        "outputId": "c810f188-0cba-4291-afa7-f41cee952c3b"
      },
      "execution_count": null,
      "outputs": [
        {
          "output_type": "stream",
          "name": "stdout",
          "text": [
            "\n",
            "X = \n",
            " [[ 0  1  2  3  4]\n",
            " [ 5  6  7  8  9]\n",
            " [10 11 12 13 14]\n",
            " [15 16 17 18 19]]\n",
            "\n",
            "indices =  [1 3]\n",
            "\n",
            "\n",
            "Y = \n",
            " [[ 5  6  7  8  9]\n",
            " [15 16 17 18 19]]\n",
            "\n",
            "Z = \n",
            " [[ 1  3]\n",
            " [ 6  8]\n",
            " [11 13]\n",
            " [16 18]]\n"
          ]
        }
      ]
    },
    {
      "cell_type": "markdown",
      "source": [
        "numpy.diag"
      ],
      "metadata": {
        "id": "9NiCbuOeM3wb"
      }
    },
    {
      "cell_type": "markdown",
      "source": [
        "It extracts or constructs the diagonal elements. More details about the arguments are available here.\n",
        "\n",
        "NumPy also offers built-in functions to select specific elements within ndarrays. For example, the np.diag(ndarray, k=N) function extracts the elements along the diagonal defined by N. As default is k=0, which refers to the main diagonal. Values of k > 0 are used to select elements in diagonals above the main diagonal, and values of k < 0 are used to select elements in diagonals below the main diagonal. Let's see an example:"
      ],
      "metadata": {
        "id": "aVTVOeT3M6sB"
      }
    },
    {
      "cell_type": "code",
      "source": [
        "# We create a 4 x 5 ndarray that contains integers from 0 to 24\n",
        "X = np.arange(25).reshape(5, 5)\n",
        "\n",
        "# We print X\n",
        "print()\n",
        "print('X = \\n', X)\n",
        "print()\n",
        "\n",
        "# We print the elements in the main diagonal of X\n",
        "print('z =', np.diag(X))\n",
        "print()\n",
        "\n",
        "# We print the elements above the main diagonal of X\n",
        "print('y =', np.diag(X, k=1))\n",
        "print()\n",
        "\n",
        "# We print the elements below the main diagonal of X\n",
        "print('w = ', np.diag(X, k=-1))"
      ],
      "metadata": {
        "colab": {
          "base_uri": "https://localhost:8080/"
        },
        "id": "m7UJ75YvM9ql",
        "outputId": "a02c2bbf-383c-4de3-c73b-1e604b72ebe9"
      },
      "execution_count": null,
      "outputs": [
        {
          "output_type": "stream",
          "name": "stdout",
          "text": [
            "\n",
            "X = \n",
            " [[ 0  1  2  3  4]\n",
            " [ 5  6  7  8  9]\n",
            " [10 11 12 13 14]\n",
            " [15 16 17 18 19]\n",
            " [20 21 22 23 24]]\n",
            "\n",
            "z = [ 0  6 12 18 24]\n",
            "\n",
            "y = [ 1  7 13 19]\n",
            "\n",
            "w =  [ 5 11 17 23]\n"
          ]
        }
      ]
    },
    {
      "cell_type": "markdown",
      "source": [
        "numpy.unique"
      ],
      "metadata": {
        "id": "ozYsawxUNFjm"
      }
    },
    {
      "cell_type": "code",
      "source": [
        "# Create 3 x 3 ndarray with repeated values\n",
        "X = np.array([[1,2,3],[5,2,8],[1,2,3]])\n",
        "\n",
        "# We print X\n",
        "print()\n",
        "print('X = \\n', X)\n",
        "print()\n",
        "\n",
        "# We print the unique elements of X \n",
        "print('The unique elements in X are:',np.unique(X))"
      ],
      "metadata": {
        "colab": {
          "base_uri": "https://localhost:8080/"
        },
        "id": "wElS0QpxNHz0",
        "outputId": "5a221152-8798-4ca5-bfe1-77dbb4e5d37d"
      },
      "execution_count": null,
      "outputs": [
        {
          "output_type": "stream",
          "name": "stdout",
          "text": [
            "\n",
            "X = \n",
            " [[1 2 3]\n",
            " [5 2 8]\n",
            " [1 2 3]]\n",
            "\n",
            "The unique elements in X are: [1 2 3 5 8]\n"
          ]
        }
      ]
    },
    {
      "cell_type": "markdown",
      "source": [
        "###### Boolean Indexing, Set Operations, and Sorting"
      ],
      "metadata": {
        "id": "CpnIJFeZWOqh"
      }
    },
    {
      "cell_type": "markdown",
      "source": [
        "Up to now we have seen how to make slices and select elements of an ndarray using indices. This is useful when we know the exact indices of the elements we want to select. However, there are many situations in which we don't know the indices of the elements we want to select. For example, suppose we have a 10,000 x 10,000 ndarray of random integers ranging from 1 to 15,000 and we only want to select those integers that are less than 20. Boolean indexing can help us in these cases, by allowing us select elements using logical arguments instead of explicit indices. Let's see some examples:"
      ],
      "metadata": {
        "id": "WJN8PvyLWOqh"
      }
    },
    {
      "cell_type": "code",
      "source": [
        "# We create a 5 x 5 ndarray that contains integers from 0 to 24\n",
        "X = np.arange(25).reshape(5, 5)\n",
        "\n",
        "# We print X\n",
        "print()\n",
        "print('Original X = \\n', X)\n",
        "print()\n",
        "\n",
        "# We use Boolean indexing to select elements in X:\n",
        "print('The elements in X that are greater than 10:', X[X > 10])\n",
        "print('The elements in X that less than or equal to 7:', X[X <= 7])\n",
        "print('The elements in X that are between 10 and 17:', X[(X > 10) & (X < 17)])\n",
        "\n",
        "# We use Boolean indexing to assign the elements that are between 10 and 17 the value of -1\n",
        "X[(X > 10) & (X < 17)] = -1\n",
        "\n",
        "# We print X\n",
        "print()\n",
        "print('X = \\n', X)\n",
        "print()"
      ],
      "metadata": {
        "colab": {
          "base_uri": "https://localhost:8080/"
        },
        "id": "e3ryDUjBOXma",
        "outputId": "cad92008-5987-4976-9f18-6ba584b16171"
      },
      "execution_count": null,
      "outputs": [
        {
          "output_type": "stream",
          "name": "stdout",
          "text": [
            "\n",
            "Original X = \n",
            " [[ 0  1  2  3  4]\n",
            " [ 5  6  7  8  9]\n",
            " [10 11 12 13 14]\n",
            " [15 16 17 18 19]\n",
            " [20 21 22 23 24]]\n",
            "\n",
            "The elements in X that are greater than 10: [11 12 13 14 15 16 17 18 19 20 21 22 23 24]\n",
            "The elements in X that less than or equal to 7: [0 1 2 3 4 5 6 7]\n",
            "The elements in X that are between 10 and 17: [11 12 13 14 15 16]\n",
            "\n",
            "X = \n",
            " [[ 0  1  2  3  4]\n",
            " [ 5  6  7  8  9]\n",
            " [10 -1 -1 -1 -1]\n",
            " [-1 -1 17 18 19]\n",
            " [20 21 22 23 24]]\n",
            "\n"
          ]
        }
      ]
    },
    {
      "cell_type": "markdown",
      "source": [
        "In addition to Boolean Indexing NumPy also allows for set operations. This useful when comparing ndarrays, for example, to find common elements between two ndarrays. Let's see some examples:"
      ],
      "metadata": {
        "id": "NA2hqTrHOhI9"
      }
    },
    {
      "cell_type": "code",
      "source": [
        "# We create a rank 1 ndarray\n",
        "x = np.array([1,2,3,4,5])\n",
        "\n",
        "# We create a rank 1 ndarray\n",
        "y = np.array([6,7,2,8,4])\n",
        "\n",
        "# We print x\n",
        "print()\n",
        "print('x = ', x)\n",
        "\n",
        "# We print y\n",
        "print()\n",
        "print('y = ', y)\n",
        "\n",
        "# We use set operations to compare x and y:\n",
        "print()\n",
        "print('The elements that are both in x and y:', np.intersect1d(x,y))\n",
        "print('The elements that are in x that are not in y:', np.setdiff1d(x,y))\n",
        "print('All the elements of x and y:',np.union1d(x,y))"
      ],
      "metadata": {
        "colab": {
          "base_uri": "https://localhost:8080/"
        },
        "id": "biRDPSjMOiSN",
        "outputId": "969df2dd-758d-4411-ffa5-ad6b5cf130ec"
      },
      "execution_count": null,
      "outputs": [
        {
          "output_type": "stream",
          "name": "stdout",
          "text": [
            "\n",
            "x =  [1 2 3 4 5]\n",
            "\n",
            "y =  [6 7 2 8 4]\n",
            "\n",
            "The elements that are both in x and y: [2 4]\n",
            "The elements that are in x that are not in y: [1 3 5]\n",
            "All the elements of x and y: [1 2 3 4 5 6 7 8]\n"
          ]
        }
      ]
    },
    {
      "cell_type": "markdown",
      "source": [
        "numpy.ndarray.sort method"
      ],
      "metadata": {
        "id": "67mMbB0VOpwQ"
      }
    },
    {
      "cell_type": "markdown",
      "source": [
        "The method sorts an array in-place.\n",
        "\n",
        "Like with other functions we saw before, the sort can be used as a method as well as a function. The difference lies in how the data is stored in memory in this case.\n",
        "\n",
        "When numpy.sort() is used as a function, it sorts the ndrrays out of place, meaning, that it doesn't change the original ndarray being sorted.\n",
        "On the other hand, when you use numpy.ndarray.sort() as a method, ndarray.sort() sorts the ndarray in place, meaning, that the original array will be changed to the sorted one.\n",
        "Let's see some examples:"
      ],
      "metadata": {
        "id": "PnAHeu4nOswz"
      }
    },
    {
      "cell_type": "code",
      "source": [
        "# We create an unsorted rank 1 ndarray\n",
        "x = np.random.randint(1,11,size=(10,))\n",
        "\n",
        "# We print x\n",
        "print()\n",
        "print('Original x = ', x)\n",
        "\n",
        "# We sort x and print the sorted array using sort as a function.\n",
        "print()\n",
        "print('Sorted x (out of place):', np.sort(x))\n",
        "\n",
        "# When we sort out of place the original array remains intact. To see this we print x again\n",
        "print()\n",
        "print('x after sorting:', x)"
      ],
      "metadata": {
        "colab": {
          "base_uri": "https://localhost:8080/"
        },
        "id": "Zapc_F9ROpDc",
        "outputId": "a10ac776-918e-4ca5-f872-d685e6d934b0"
      },
      "execution_count": null,
      "outputs": [
        {
          "output_type": "stream",
          "name": "stdout",
          "text": [
            "\n",
            "Original x =  [10  5  7  3  2  3  4  2  2 10]\n",
            "\n",
            "Sorted x (out of place): [ 2  2  2  3  3  4  5  7 10 10]\n",
            "\n",
            "x after sorting: [10  5  7  3  2  3  4  2  2 10]\n"
          ]
        }
      ]
    },
    {
      "cell_type": "code",
      "source": [
        "# We create an unsorted rank 1 ndarray\n",
        "x = np.random.randint(1,11,size=(10,))\n",
        "\n",
        "# We print x\n",
        "print()\n",
        "print('Original x = ', x)\n",
        "\n",
        "# We sort x and print the sorted array using sort as a method.\n",
        "x.sort()\n",
        "\n",
        "# When we sort in place the original array is changed to the sorted array. To see this we print x again\n",
        "print()\n",
        "print('x after sorting:', x)"
      ],
      "metadata": {
        "colab": {
          "base_uri": "https://localhost:8080/"
        },
        "id": "7V5xV0OrPKuC",
        "outputId": "326485f1-89ab-4409-f549-3032f52a8820"
      },
      "execution_count": null,
      "outputs": [
        {
          "output_type": "stream",
          "name": "stdout",
          "text": [
            "\n",
            "Original x =  [5 9 8 9 8 2 1 4 7 3]\n",
            "\n",
            "x after sorting: [1 2 3 4 5 7 8 8 9 9]\n"
          ]
        }
      ]
    },
    {
      "cell_type": "code",
      "source": [
        "# We create an unsorted rank 2 ndarray\n",
        "X = np.random.randint(1,11,size=(5,5))\n",
        "\n",
        "# We print X\n",
        "print()\n",
        "print('Original X = \\n', X)\n",
        "print()\n",
        "\n",
        "# We sort the columns of X and print the sorted array\n",
        "print()\n",
        "print('X with sorted columns :\\n', np.sort(X, axis = 0))\n",
        "\n",
        "# We sort the rows of X and print the sorted array\n",
        "print()\n",
        "print('X with sorted rows :\\n', np.sort(X, axis = 1))"
      ],
      "metadata": {
        "colab": {
          "base_uri": "https://localhost:8080/"
        },
        "id": "kizFjIm7PWHW",
        "outputId": "2452f51b-ac33-4009-c263-7d9582cdc67f"
      },
      "execution_count": null,
      "outputs": [
        {
          "output_type": "stream",
          "name": "stdout",
          "text": [
            "\n",
            "Original X = \n",
            " [[ 8  5  1  8  5]\n",
            " [ 7  2  3  4  9]\n",
            " [ 1  1  7  8  9]\n",
            " [ 7  8  3  8  8]\n",
            " [ 7  2 10  5  4]]\n",
            "\n",
            "\n",
            "X with sorted columns :\n",
            " [[ 1  1  1  4  4]\n",
            " [ 7  2  3  5  5]\n",
            " [ 7  2  3  8  8]\n",
            " [ 7  5  7  8  9]\n",
            " [ 8  8 10  8  9]]\n",
            "\n",
            "X with sorted rows :\n",
            " [[ 1  5  5  8  8]\n",
            " [ 2  3  4  7  9]\n",
            " [ 1  1  7  8  9]\n",
            " [ 3  7  8  8  8]\n",
            " [ 2  4  5  7 10]]\n"
          ]
        }
      ]
    },
    {
      "cell_type": "markdown",
      "source": [
        "###### Arithmetic operations and Broadcasting"
      ],
      "metadata": {
        "id": "HeT9nkZjPk2n"
      }
    },
    {
      "cell_type": "markdown",
      "source": [
        "We have reached the last lesson in this Introduction to NumPy. In this last lesson we will see how NumPy does arithmetic operations on ndarrays. NumPy allows element-wise operations on ndarrays as well as matrix operations. In this lesson we will only be looking at element-wise operations on ndarrays. In order to do element-wise operations, NumPy sometimes uses something called Broadcasting. Broadcasting is the term used to describe how NumPy handles element-wise arithmetic operations with ndarrays of different shapes. For example, broadcasting is used implicitly when doing arithmetic operations between scalars and ndarrays.\n",
        "\n",
        "Let's start by doing element-wise addition, subtraction, multiplication, and division, between ndarrays. To do this, NumPy provides a functional approach, where we use functions such as np.add(), or by using arithmetic symbols, such as +, that resembles more how we write mathematical equations. Both forms will do the same operation, the only difference is that if you use the function approach, the functions usually have options that you can tweak using keywords. It is important to note that when performing element-wise operations, the shapes of the ndarrays being operated on, must have the same shape or be broadcastable. We'll explain more about this later in this lesson. Let's start by performing element-wise arithmetic operations on rank 1 ndarrays:"
      ],
      "metadata": {
        "id": "CIZ6jKoEPxlb"
      }
    },
    {
      "cell_type": "code",
      "source": [
        "# We create two rank 1 ndarrays\n",
        "x = np.array([1,2,3,4])\n",
        "y = np.array([5.5,6.5,7.5,8.5])\n",
        "\n",
        "# We print x\n",
        "print()\n",
        "print('x = ', x)\n",
        "\n",
        "# We print y\n",
        "print()\n",
        "print('y = ', y)\n",
        "print()\n",
        "\n",
        "# We perfrom basic element-wise operations using arithmetic symbols and functions\n",
        "print('x + y = ', x + y)\n",
        "print('add(x,y) = ', np.add(x,y))\n",
        "print()\n",
        "print('x - y = ', x - y)\n",
        "print('subtract(x,y) = ', np.subtract(x,y))\n",
        "print()\n",
        "print('x * y = ', x * y)\n",
        "print('multiply(x,y) = ', np.multiply(x,y))\n",
        "print()\n",
        "print('x / y = ', x / y)\n",
        "print('divide(x,y) = ', np.divide(x,y))"
      ],
      "metadata": {
        "colab": {
          "base_uri": "https://localhost:8080/"
        },
        "id": "D8inTlyaPnqS",
        "outputId": "8b218fe2-4cda-4998-ac53-0e7f8b3cbda4"
      },
      "execution_count": null,
      "outputs": [
        {
          "output_type": "stream",
          "name": "stdout",
          "text": [
            "\n",
            "x =  [1 2 3 4]\n",
            "\n",
            "y =  [5.5 6.5 7.5 8.5]\n",
            "\n",
            "x + y =  [ 6.5  8.5 10.5 12.5]\n",
            "add(x,y) =  [ 6.5  8.5 10.5 12.5]\n",
            "\n",
            "x - y =  [-4.5 -4.5 -4.5 -4.5]\n",
            "subtract(x,y) =  [-4.5 -4.5 -4.5 -4.5]\n",
            "\n",
            "x * y =  [ 5.5 13.  22.5 34. ]\n",
            "multiply(x,y) =  [ 5.5 13.  22.5 34. ]\n",
            "\n",
            "x / y =  [0.18181818 0.30769231 0.4        0.47058824]\n",
            "divide(x,y) =  [0.18181818 0.30769231 0.4        0.47058824]\n"
          ]
        }
      ]
    },
    {
      "cell_type": "code",
      "source": [
        "# We create two rank 2 ndarrays\n",
        "X = np.array([1,2,3,4]).reshape(2,2)\n",
        "Y = np.array([5.5,6.5,7.5,8.5]).reshape(2,2)\n",
        "\n",
        "# We print X\n",
        "print()\n",
        "print('X = \\n', X)\n",
        "\n",
        "# We print Y\n",
        "print()\n",
        "print('Y = \\n', Y)\n",
        "print()\n",
        "\n",
        "# We perform basic element-wise operations using arithmetic symbols and functions\n",
        "print('X + Y = \\n', X + Y)\n",
        "print()\n",
        "print('add(X,Y) = \\n', np.add(X,Y))\n",
        "print()\n",
        "print('X - Y = \\n', X - Y)\n",
        "print()\n",
        "print('subtract(X,Y) = \\n', np.subtract(X,Y))\n",
        "print()\n",
        "print('X * Y = \\n', X * Y)\n",
        "print()\n",
        "print('multiply(X,Y) = \\n', np.multiply(X,Y))\n",
        "print()\n",
        "print('X / Y = \\n', X / Y)\n",
        "print()\n",
        "print('divide(X,Y) = \\n', np.divide(X,Y))"
      ],
      "metadata": {
        "colab": {
          "base_uri": "https://localhost:8080/"
        },
        "id": "FLI-0R61P34V",
        "outputId": "adc69248-29cc-4ef9-9f26-5f7daeeb7795"
      },
      "execution_count": null,
      "outputs": [
        {
          "output_type": "stream",
          "name": "stdout",
          "text": [
            "\n",
            "X = \n",
            " [[1 2]\n",
            " [3 4]]\n",
            "\n",
            "Y = \n",
            " [[5.5 6.5]\n",
            " [7.5 8.5]]\n",
            "\n",
            "X + Y = \n",
            " [[ 6.5  8.5]\n",
            " [10.5 12.5]]\n",
            "\n",
            "add(X,Y) = \n",
            " [[ 6.5  8.5]\n",
            " [10.5 12.5]]\n",
            "\n",
            "X - Y = \n",
            " [[-4.5 -4.5]\n",
            " [-4.5 -4.5]]\n",
            "\n",
            "subtract(X,Y) = \n",
            " [[-4.5 -4.5]\n",
            " [-4.5 -4.5]]\n",
            "\n",
            "X * Y = \n",
            " [[ 5.5 13. ]\n",
            " [22.5 34. ]]\n",
            "\n",
            "multiply(X,Y) = \n",
            " [[ 5.5 13. ]\n",
            " [22.5 34. ]]\n",
            "\n",
            "X / Y = \n",
            " [[0.18181818 0.30769231]\n",
            " [0.4        0.47058824]]\n",
            "\n",
            "divide(X,Y) = \n",
            " [[0.18181818 0.30769231]\n",
            " [0.4        0.47058824]]\n"
          ]
        }
      ]
    },
    {
      "cell_type": "code",
      "source": [
        "# We create a rank 1 ndarray\n",
        "x = np.array([1,2,3,4])\n",
        "\n",
        "# We print x\n",
        "print()\n",
        "print('x = ', x)\n",
        "\n",
        "# We apply different mathematical functions to all elements of x\n",
        "print()\n",
        "print('EXP(x) =', np.exp(x))\n",
        "print()\n",
        "print('SQRT(x) =',np.sqrt(x))\n",
        "print()\n",
        "print('POW(x,2) =',np.power(x,2)) # We raise all elements to the power of 2"
      ],
      "metadata": {
        "colab": {
          "base_uri": "https://localhost:8080/"
        },
        "id": "l2Z6QnqvP-l-",
        "outputId": "54f93f6f-ce99-410b-c9b1-7492e2763efa"
      },
      "execution_count": null,
      "outputs": [
        {
          "output_type": "stream",
          "name": "stdout",
          "text": [
            "\n",
            "x =  [1 2 3 4]\n",
            "\n",
            "EXP(x) = [ 2.71828183  7.3890561  20.08553692 54.59815003]\n",
            "\n",
            "SQRT(x) = [1.         1.41421356 1.73205081 2.        ]\n",
            "\n",
            "POW(x,2) = [ 1  4  9 16]\n"
          ]
        }
      ]
    },
    {
      "cell_type": "markdown",
      "source": [
        "Another great feature of NumPy is that it has a wide variety of statistical functions. Statistical functions provide us with statistical information about the elements in an ndarray."
      ],
      "metadata": {
        "id": "9EhiTtkzQFHf"
      }
    },
    {
      "cell_type": "code",
      "source": [
        "# We create a 2 x 2 ndarray\n",
        "X = np.array([[1,2], [3,4]])\n",
        "\n",
        "# We print x\n",
        "print()\n",
        "print('X = \\n', X)\n",
        "print()\n",
        "\n",
        "print('Average of all elements in X:', X.mean())\n",
        "print('Average of all elements in the columns of X:', X.mean(axis=0))\n",
        "print('Average of all elements in the rows of X:', X.mean(axis=1))\n",
        "print()\n",
        "print('Sum of all elements in X:', X.sum())\n",
        "print('Sum of all elements in the columns of X:', X.sum(axis=0))\n",
        "print('Sum of all elements in the rows of X:', X.sum(axis=1))\n",
        "print()\n",
        "print('Standard Deviation of all elements in X:', X.std())\n",
        "print('Standard Deviation of all elements in the columns of X:', X.std(axis=0))\n",
        "print('Standard Deviation of all elements in the rows of X:', X.std(axis=1))\n",
        "print()\n",
        "print('Median of all elements in X:', np.median(X))\n",
        "print('Median of all elements in the columns of X:', np.median(X,axis=0))\n",
        "print('Median of all elements in the rows of X:', np.median(X,axis=1))\n",
        "print()\n",
        "print('Maximum value of all elements in X:', X.max())\n",
        "print('Maximum value of all elements in the columns of X:', X.max(axis=0))\n",
        "print('Maximum value of all elements in the rows of X:', X.max(axis=1))\n",
        "print()\n",
        "print('Minimum value of all elements in X:', X.min())\n",
        "print('Minimum value of all elements in the columns of X:', X.min(axis=0))\n",
        "print('Minimum value of all elements in the rows of X:', X.min(axis=1))"
      ],
      "metadata": {
        "colab": {
          "base_uri": "https://localhost:8080/"
        },
        "id": "uLe4gXCwQKjP",
        "outputId": "5d0bc028-1fc9-4d51-cb25-7392823c88a4"
      },
      "execution_count": null,
      "outputs": [
        {
          "output_type": "stream",
          "name": "stdout",
          "text": [
            "\n",
            "X = \n",
            " [[1 2]\n",
            " [3 4]]\n",
            "\n",
            "Average of all elements in X: 2.5\n",
            "Average of all elements in the columns of X: [2. 3.]\n",
            "Average of all elements in the rows of X: [1.5 3.5]\n",
            "\n",
            "Sum of all elements in X: 10\n",
            "Sum of all elements in the columns of X: [4 6]\n",
            "Sum of all elements in the rows of X: [3 7]\n",
            "\n",
            "Standard Deviation of all elements in X: 1.118033988749895\n",
            "Standard Deviation of all elements in the columns of X: [1. 1.]\n",
            "Standard Deviation of all elements in the rows of X: [0.5 0.5]\n",
            "\n",
            "Median of all elements in X: 2.5\n",
            "Median of all elements in the columns of X: [2. 3.]\n",
            "Median of all elements in the rows of X: [1.5 3.5]\n",
            "\n",
            "Maximum value of all elements in X: 4\n",
            "Maximum value of all elements in the columns of X: [3 4]\n",
            "Maximum value of all elements in the rows of X: [2 4]\n",
            "\n",
            "Minimum value of all elements in X: 1\n",
            "Minimum value of all elements in the columns of X: [1 2]\n",
            "Minimum value of all elements in the rows of X: [1 3]\n"
          ]
        }
      ]
    },
    {
      "cell_type": "code",
      "source": [
        "# We create a 2 x 2 ndarray\n",
        "X = np.array([[1,2], [3,4]])\n",
        "\n",
        "# We print x\n",
        "print()\n",
        "print('X = \\n', X)\n",
        "print()\n",
        "\n",
        "print('3 * X = \\n', 3 * X)\n",
        "print()\n",
        "print('3 + X = \\n', 3 + X)\n",
        "print()\n",
        "print('X - 3 = \\n', X - 3)\n",
        "print()\n",
        "print('X / 3 = \\n', X / 3)"
      ],
      "metadata": {
        "colab": {
          "base_uri": "https://localhost:8080/"
        },
        "id": "onaSCVzyQW9g",
        "outputId": "3cbd337c-940e-44f9-b25b-2742edd30379"
      },
      "execution_count": null,
      "outputs": [
        {
          "output_type": "stream",
          "name": "stdout",
          "text": [
            "\n",
            "X = \n",
            " [[1 2]\n",
            " [3 4]]\n",
            "\n",
            "3 * X = \n",
            " [[ 3  6]\n",
            " [ 9 12]]\n",
            "\n",
            "3 + X = \n",
            " [[4 5]\n",
            " [6 7]]\n",
            "\n",
            "X - 3 = \n",
            " [[-2 -1]\n",
            " [ 0  1]]\n",
            "\n",
            "X / 3 = \n",
            " [[0.33333333 0.66666667]\n",
            " [1.         1.33333333]]\n"
          ]
        }
      ]
    },
    {
      "cell_type": "code",
      "source": [
        "# We create a rank 1 ndarray\n",
        "x = np.array([1,2,3])\n",
        "\n",
        "# We create a 3 x 3 ndarray\n",
        "Y = np.array([[1,2,3],[4,5,6],[7,8,9]])\n",
        "\n",
        "# We create a 3 x 1 ndarray\n",
        "Z = np.array([1,2,3]).reshape(3,1)\n",
        "\n",
        "# We print x\n",
        "print()\n",
        "print('x = ', x)\n",
        "print()\n",
        "\n",
        "# We print Y\n",
        "print()\n",
        "print('Y = \\n', Y)\n",
        "print()\n",
        "\n",
        "# We print Z\n",
        "print()\n",
        "print('Z = \\n', Z)\n",
        "print()\n",
        "\n",
        "print('x + Y = \\n', x + Y)\n",
        "print()\n",
        "print('Z + Y = \\n',Z + Y)"
      ],
      "metadata": {
        "colab": {
          "base_uri": "https://localhost:8080/"
        },
        "id": "3OkiuPk8Qsqm",
        "outputId": "1ea16d24-3caa-445e-c997-0e72d2ce21bb"
      },
      "execution_count": null,
      "outputs": [
        {
          "output_type": "stream",
          "name": "stdout",
          "text": [
            "\n",
            "x =  [1 2 3]\n",
            "\n",
            "\n",
            "Y = \n",
            " [[1 2 3]\n",
            " [4 5 6]\n",
            " [7 8 9]]\n",
            "\n",
            "\n",
            "Z = \n",
            " [[1]\n",
            " [2]\n",
            " [3]]\n",
            "\n",
            "x + Y = \n",
            " [[ 2  4  6]\n",
            " [ 5  7  9]\n",
            " [ 8 10 12]]\n",
            "\n",
            "Z + Y = \n",
            " [[ 2  3  4]\n",
            " [ 6  7  8]\n",
            " [10 11 12]]\n"
          ]
        }
      ]
    },
    {
      "cell_type": "markdown",
      "metadata": {
        "id": "waKlM_JzTKOP"
      },
      "source": [
        "### Pandas"
      ]
    },
    {
      "cell_type": "markdown",
      "source": [
        "Pandas is a package for data manipulation and analysis in Python. The name Pandas is derived from the econometrics term Panel Data. Pandas incorporates two additional data structures into Python, namely Pandas Series and Pandas DataFrame. These data structures allow us to work with labeled and relational data in an easy and intuitive manner. These lessons are intended as a basic overview of Pandas and introduces some of its most important features.\n",
        "\n",
        "In the following lessons you will learn:\n",
        "\n",
        "How to import Pandas\n",
        "How to create Pandas Series and DataFrames using various methods\n",
        "How to access and change elements in Series and DataFrames\n",
        "How to perform arithmetic operations on Series\n",
        "How to load data into a DataFrame\n",
        "How to deal with Not a Number (NaN) values\n",
        "The following lessons assume that you are already familiar with NumPy and have gone over the previous NumPy lessons. Therefore, to avoid being repetitive we will omit a lot of details already given in the NumPy lessons. Consequently, if you haven't seen the NumPy lessons we suggest you go over them first."
      ],
      "metadata": {
        "id": "2RdFONqnTKOQ"
      }
    },
    {
      "cell_type": "markdown",
      "source": [
        "**Why Use Pandas?**\n",
        "\n",
        "The recent success of machine learning algorithms is partly due to the huge amounts of data that we have available to train our algorithms on. However, when it comes to data, quantity is not the only thing that matters, the quality of your data is just as important. It often happens that large datasets don’t come ready to be fed into your learning algorithms. More often than not, large datasets will often have missing values, outliers, incorrect values, etc… Having data with a lot of missing or bad values, for example, is not going to allow your machine learning algorithms to perform well. \n",
        "\n",
        "Therefore, one very important step in machine learning is to look at your data first and make sure it is well suited for your training algorithm by doing some basic data analysis. This is where Pandas come in. Pandas Series and DataFrames are designed for fast data analysis and manipulation, as well as being flexible and easy to use. Below are just a few features that makes Pandas an excellent package for data analysis:\n",
        "\n",
        "* Allows the use of labels for rows and columns\n",
        "\n",
        "* Can calculate rolling statistics on time series data\n",
        "\n",
        "* Easy handling of NaN values\n",
        "\n",
        "* Is able to load data of different formats into DataFrames\n",
        "\n",
        "* Can join and merge different datasets together\n",
        "\n",
        "* It integrates with NumPy and Matplotlib\n",
        "\n",
        "For these and other reasons, Pandas DataFrames have become one of the most commonly used Pandas object for data analysis in Python.\n",
        "\n"
      ],
      "metadata": {
        "id": "glFOEBY-SLtf"
      }
    },
    {
      "cell_type": "markdown",
      "source": [
        "Let's start by importing Pandas into Python. It has become a convention to import Pandas as pd, therefore, you can import Pandas by typing the following command in your Jupyter notebook:"
      ],
      "metadata": {
        "id": "YRzdyb_OSyF_"
      }
    },
    {
      "cell_type": "code",
      "source": [
        "import pandas as pd"
      ],
      "metadata": {
        "id": "1amctzk-S0fX"
      },
      "execution_count": null,
      "outputs": []
    },
    {
      "cell_type": "markdown",
      "source": [
        "###### Pandas Series"
      ],
      "metadata": {
        "id": "uiXPa_jnSsSD"
      }
    },
    {
      "cell_type": "markdown",
      "source": [
        "A Pandas series is a one-dimensional array-like object that can hold many data types, such as numbers or strings, and has an option to provide axis labels.\n",
        "\n",
        "Difference between NumPy ndarrays and Pandas Series\n",
        "One of the main differences between Pandas Series and NumPy ndarrays is that you can assign an index label to each element in the Pandas Series. In other words, you can name the indices of your Pandas Series anything you want.\n",
        "Another big difference between Pandas Series and NumPy ndarrays is that Pandas Series can hold data of different data types."
      ],
      "metadata": {
        "id": "4qPyhvQQSuYg"
      }
    },
    {
      "cell_type": "markdown",
      "source": [
        "Let's begin by creating a Pandas Series. You can create Pandas Series by using the command pd.Series(data, index), where index is a list of index labels. Let's use a Pandas Series to store a grocery list. We will use the food items as index labels and the quantity we need to buy of each item as our data"
      ],
      "metadata": {
        "id": "ME5JvW8NS41S"
      }
    },
    {
      "cell_type": "code",
      "source": [
        "# We import Pandas as pd into Python\n",
        "import pandas as pd\n",
        "\n",
        "# We create a Pandas Series that stores a grocery list\n",
        "groceries = pd.Series(data = [30, 6, 'Yes', 'No'], index = ['eggs', 'apples', 'milk', 'bread'])\n",
        "\n",
        "# We display the Groceries Pandas Series\n",
        "groceries"
      ],
      "metadata": {
        "colab": {
          "base_uri": "https://localhost:8080/"
        },
        "id": "QeqCkqI9S4RX",
        "outputId": "760a4787-c80d-401d-e2e2-0923b282d104"
      },
      "execution_count": null,
      "outputs": [
        {
          "output_type": "execute_result",
          "data": {
            "text/plain": [
              "eggs       30\n",
              "apples      6\n",
              "milk      Yes\n",
              "bread      No\n",
              "dtype: object"
            ]
          },
          "metadata": {},
          "execution_count": 99
        }
      ]
    },
    {
      "cell_type": "markdown",
      "source": [
        "We see that Pandas Series are displayed with the indices in the first column and the data in the second column. Notice that the data is not indexed 0 to 3 but rather it is indexed with the names of the food we put in, namely eggs, apples, etc... Also, notice that the data in our Pandas Series has both integers and strings.\n",
        "\n",
        "Just like NumPy ndarrays, Pandas Series have attributes that allow us to get information from the series in an easy way. Let's see some of them:"
      ],
      "metadata": {
        "id": "b6tjOD3qTFLN"
      }
    },
    {
      "cell_type": "code",
      "source": [
        "# We print some information about Groceries\n",
        "print('Groceries has shape:', groceries.shape)\n",
        "print('Groceries has dimension:', groceries.ndim)\n",
        "print('Groceries has a total of', groceries.size, 'elements')"
      ],
      "metadata": {
        "colab": {
          "base_uri": "https://localhost:8080/"
        },
        "id": "nBjKFgwKTHLa",
        "outputId": "9eb8c79e-b1b9-4f1c-e9a0-f8761e5c050b"
      },
      "execution_count": null,
      "outputs": [
        {
          "output_type": "stream",
          "name": "stdout",
          "text": [
            "Groceries has shape: (4,)\n",
            "Groceries has dimension: 1\n",
            "Groceries has a total of 4 elements\n"
          ]
        }
      ]
    },
    {
      "cell_type": "markdown",
      "source": [
        "We can also print the index labels and the data of the Pandas Series separately. This is useful if you don't happen to know what the index labels of the Pandas Series are."
      ],
      "metadata": {
        "id": "eKlroZrGTMBW"
      }
    },
    {
      "cell_type": "code",
      "source": [
        "# We print the index and data of Groceries\n",
        "print('The data in Groceries is:', groceries.values)\n",
        "print('The index of Groceries is:', groceries.index)"
      ],
      "metadata": {
        "colab": {
          "base_uri": "https://localhost:8080/"
        },
        "id": "nc68BfNTTOTq",
        "outputId": "92b01176-7c03-4476-a185-1743ec33ecde"
      },
      "execution_count": null,
      "outputs": [
        {
          "output_type": "stream",
          "name": "stdout",
          "text": [
            "The data in Groceries is: [30 6 'Yes' 'No']\n",
            "The index of Groceries is: Index(['eggs', 'apples', 'milk', 'bread'], dtype='object')\n"
          ]
        }
      ]
    },
    {
      "cell_type": "markdown",
      "source": [
        "Now let's look at how we can access or modify elements in a Pandas Series. One great advantage of Pandas Series is that it allows us to access data in many different ways. Elements can be accessed using index labels or numerical indices inside square brackets, [ ], similar to how we access elements in NumPy ndarrays. Since we can use numerical indices, we can use both positive and negative integers to access data from the beginning or from the end of the Series, respectively. Since we can access elements in various ways, in order to remove any ambiguity to whether we are referring to an index label or numerical index, Pandas Series have two attributes, .loc and .iloc to explicitly state what we mean. The attribute .loc stands for location and it is used to explicitly state that we are using a labeled index. Similarly, the attribute .iloc stands for integer location and it is used to explicitly state that we are using a numerical index. Let's see some examples:"
      ],
      "metadata": {
        "id": "48WekUpbTX8T"
      }
    },
    {
      "cell_type": "code",
      "source": [
        "# We access elements in Groceries using index labels:\n",
        "\n",
        "# We use a single index label\n",
        "print('How many eggs do we need to buy:', groceries['eggs'])\n",
        "print()\n",
        "\n",
        "# we can access multiple index labels\n",
        "print('Do we need milk and bread:\\n', groceries[['milk', 'bread']]) \n",
        "print()\n",
        "\n",
        "# we use loc to access multiple index labels\n",
        "print('How many eggs and apples do we need to buy:\\n', groceries.loc[['eggs', 'apples']]) \n",
        "print()\n",
        "\n",
        "# We access elements in Groceries using numerical indices:\n",
        "\n",
        "# we use multiple numerical indices\n",
        "print('How many eggs and apples do we need to buy:\\n',  groceries[[0, 1]]) \n",
        "print()\n",
        "\n",
        "# We use a negative numerical index\n",
        "print('Do we need bread:\\n', groceries[[-1]]) \n",
        "print()\n",
        "\n",
        "# We use a single numerical index\n",
        "print('How many eggs do we need to buy:', groceries[0]) \n",
        "print()\n",
        "# we use iloc to access multiple numerical indices\n",
        "print('Do we need milk and bread:\\n', groceries.iloc[[2, 3]]) "
      ],
      "metadata": {
        "colab": {
          "base_uri": "https://localhost:8080/"
        },
        "id": "0gEQP3dYTXY_",
        "outputId": "e7e3550c-7a9c-461e-ad56-9a2dc8fb3311"
      },
      "execution_count": null,
      "outputs": [
        {
          "output_type": "stream",
          "name": "stdout",
          "text": [
            "How many eggs do we need to buy: 30\n",
            "\n",
            "Do we need milk and bread:\n",
            " milk     Yes\n",
            "bread     No\n",
            "dtype: object\n",
            "\n",
            "How many eggs and apples do we need to buy:\n",
            " eggs      30\n",
            "apples     6\n",
            "dtype: object\n",
            "\n",
            "How many eggs and apples do we need to buy:\n",
            " eggs      30\n",
            "apples     6\n",
            "dtype: object\n",
            "\n",
            "Do we need bread:\n",
            " bread    No\n",
            "dtype: object\n",
            "\n",
            "How many eggs do we need to buy: 30\n",
            "\n",
            "Do we need milk and bread:\n",
            " milk     Yes\n",
            "bread     No\n",
            "dtype: object\n"
          ]
        }
      ]
    },
    {
      "cell_type": "markdown",
      "source": [
        "Pandas Series are also mutable like NumPy ndarrays, which means we can change the elements of a Pandas Series after it has been created. For example, let's change the number of eggs we need to buy from our grocery list"
      ],
      "metadata": {
        "id": "FaA7BMZ-TimK"
      }
    },
    {
      "cell_type": "code",
      "source": [
        "# We display the original grocery list\n",
        "print('Original Grocery List:\\n', groceries)\n",
        "\n",
        "# We change the number of eggs to 2\n",
        "groceries['eggs'] = 2\n",
        "\n",
        "# We display the changed grocery list\n",
        "print()\n",
        "print('Modified Grocery List:\\n', groceries)"
      ],
      "metadata": {
        "colab": {
          "base_uri": "https://localhost:8080/"
        },
        "id": "6l1xe4n7Tj1h",
        "outputId": "8e7e0425-29e9-4f56-d77e-d7cc151b66d3"
      },
      "execution_count": null,
      "outputs": [
        {
          "output_type": "stream",
          "name": "stdout",
          "text": [
            "Original Grocery List:\n",
            " eggs       30\n",
            "apples      6\n",
            "milk      Yes\n",
            "bread      No\n",
            "dtype: object\n",
            "\n",
            "Modified Grocery List:\n",
            " eggs        2\n",
            "apples      6\n",
            "milk      Yes\n",
            "bread      No\n",
            "dtype: object\n"
          ]
        }
      ]
    },
    {
      "cell_type": "markdown",
      "source": [
        "We can also delete items from a Pandas Series by using the .drop() method. The Series.drop(label) method removes the given label from the given Series. We should note that the Series.drop(label) method drops elements from the Series out-of-place, meaning that it doesn't change the original Series being modified. Let's see how this works:"
      ],
      "metadata": {
        "id": "zHHQ-7pzTqMm"
      }
    },
    {
      "cell_type": "code",
      "source": [
        "# We display the original grocery list\n",
        "print('Original Grocery List:\\n', groceries)\n",
        "\n",
        "# We remove apples from our grocery list. The drop function removes elements out of place\n",
        "print()\n",
        "print('We remove apples (out of place):\\n', groceries.drop('apples'))\n",
        "\n",
        "# When we remove elements out of place the original Series remains intact. To see this\n",
        "# we display our grocery list again\n",
        "print()\n",
        "print('Grocery List after removing apples out of place:\\n', groceries)"
      ],
      "metadata": {
        "colab": {
          "base_uri": "https://localhost:8080/"
        },
        "id": "KH_EzIRbTrop",
        "outputId": "1a3d1502-f198-45c8-b5b5-5f6e7f45f65a"
      },
      "execution_count": null,
      "outputs": [
        {
          "output_type": "stream",
          "name": "stdout",
          "text": [
            "Original Grocery List:\n",
            " eggs        2\n",
            "apples      6\n",
            "milk      Yes\n",
            "bread      No\n",
            "dtype: object\n",
            "\n",
            "We remove apples (out of place):\n",
            " eggs       2\n",
            "milk     Yes\n",
            "bread     No\n",
            "dtype: object\n",
            "\n",
            "Grocery List after removing apples out of place:\n",
            " eggs        2\n",
            "apples      6\n",
            "milk      Yes\n",
            "bread      No\n",
            "dtype: object\n"
          ]
        }
      ]
    },
    {
      "cell_type": "code",
      "source": [
        "# We display the original grocery list\n",
        "print('Original Grocery List:\\n', groceries)\n",
        "\n",
        "# We remove apples from our grocery list. The drop function removes elements out of place\n",
        "print()\n",
        "print('We remove apples (out of place):\\n', groceries.drop('apples'))\n",
        "\n",
        "# When we remove elements out of place the original Series remains intact. To see this\n",
        "# we display our grocery list again\n",
        "print()\n",
        "print('Grocery List after removing apples out of place:\\n', groceries)"
      ],
      "metadata": {
        "colab": {
          "base_uri": "https://localhost:8080/"
        },
        "id": "a83ATe1YT0xO",
        "outputId": "35975f92-4063-4098-aec8-fed73bf40a7b"
      },
      "execution_count": null,
      "outputs": [
        {
          "output_type": "stream",
          "name": "stdout",
          "text": [
            "Original Grocery List:\n",
            " eggs        2\n",
            "apples      6\n",
            "milk      Yes\n",
            "bread      No\n",
            "dtype: object\n",
            "\n",
            "We remove apples (out of place):\n",
            " eggs       2\n",
            "milk     Yes\n",
            "bread     No\n",
            "dtype: object\n",
            "\n",
            "Grocery List after removing apples out of place:\n",
            " eggs        2\n",
            "apples      6\n",
            "milk      Yes\n",
            "bread      No\n",
            "dtype: object\n"
          ]
        }
      ]
    },
    {
      "cell_type": "markdown",
      "source": [
        "###### Arithmetic Operations"
      ],
      "metadata": {
        "id": "A9UgE3TAUFID"
      }
    },
    {
      "cell_type": "markdown",
      "source": [
        "Just like with NumPy ndarrays, we can perform element-wise arithmetic operations on Pandas Series. In this lesson we will look at arithmetic operations between Pandas Series and single numbers. Let's create a new Pandas Series that will hold a grocery list of just fruits."
      ],
      "metadata": {
        "id": "G0eoRH3OUIT0"
      }
    },
    {
      "cell_type": "code",
      "source": [
        "# We create a Pandas Series that stores a grocery list of just fruits\n",
        "fruits= pd.Series(data = [10, 6, 3,], index = ['apples', 'oranges', 'bananas'])\n",
        "\n",
        "# We print fruits for reference\n",
        "print('Original grocery list of fruits:\\n ', fruits)\n",
        "\n",
        "# We perform basic element-wise operations using arithmetic symbols\n",
        "print()\n",
        "print('fruits + 2:\\n', fruits + 2) # We add 2 to each item in fruits\n",
        "print()\n",
        "print('fruits - 2:\\n', fruits - 2) # We subtract 2 to each item in fruits\n",
        "print()\n",
        "print('fruits * 2:\\n', fruits * 2) # We multiply each item in fruits by 2 \n",
        "print()\n",
        "print('fruits / 2:\\n', fruits / 2) # We divide each item in fruits by 2\n",
        "print()"
      ],
      "metadata": {
        "colab": {
          "base_uri": "https://localhost:8080/"
        },
        "id": "cSSqNZtUUOa1",
        "outputId": "2cc2d71e-e91c-4fe7-e004-7158d19a107e"
      },
      "execution_count": null,
      "outputs": [
        {
          "output_type": "stream",
          "name": "stdout",
          "text": [
            "Original grocery list of fruits:\n",
            "  apples     10\n",
            "oranges     6\n",
            "bananas     3\n",
            "dtype: int64\n",
            "\n",
            "fruits + 2:\n",
            " apples     12\n",
            "oranges     8\n",
            "bananas     5\n",
            "dtype: int64\n",
            "\n",
            "fruits - 2:\n",
            " apples     8\n",
            "oranges    4\n",
            "bananas    1\n",
            "dtype: int64\n",
            "\n",
            "fruits * 2:\n",
            " apples     20\n",
            "oranges    12\n",
            "bananas     6\n",
            "dtype: int64\n",
            "\n",
            "fruits / 2:\n",
            " apples     5.0\n",
            "oranges    3.0\n",
            "bananas    1.5\n",
            "dtype: float64\n",
            "\n"
          ]
        }
      ]
    },
    {
      "cell_type": "code",
      "source": [
        "# We import NumPy as np to be able to use the mathematical functions\n",
        "import numpy as np\n",
        "\n",
        "# We print fruits for reference\n",
        "print('Original grocery list of fruits:\\n', fruits)\n",
        "\n",
        "# We apply different mathematical functions to all elements of fruits\n",
        "print()\n",
        "print('EXP(X) = \\n', np.exp(fruits))\n",
        "print() \n",
        "print('SQRT(X) =\\n', np.sqrt(fruits))\n",
        "print()\n",
        "print('POW(X,2) =\\n',np.power(fruits,2)) # We raise all elements of fruits to the power of 2"
      ],
      "metadata": {
        "colab": {
          "base_uri": "https://localhost:8080/"
        },
        "id": "Auki8G7fUTsc",
        "outputId": "04843847-36f7-4007-bce4-cd1cae7ef831"
      },
      "execution_count": null,
      "outputs": [
        {
          "output_type": "stream",
          "name": "stdout",
          "text": [
            "Original grocery list of fruits:\n",
            " apples     10\n",
            "oranges     6\n",
            "bananas     3\n",
            "dtype: int64\n",
            "\n",
            "EXP(X) = \n",
            " apples     22026.465795\n",
            "oranges      403.428793\n",
            "bananas       20.085537\n",
            "dtype: float64\n",
            "\n",
            "SQRT(X) =\n",
            " apples     3.162278\n",
            "oranges    2.449490\n",
            "bananas    1.732051\n",
            "dtype: float64\n",
            "\n",
            "POW(X,2) =\n",
            " apples     100\n",
            "oranges     36\n",
            "bananas      9\n",
            "dtype: int64\n"
          ]
        }
      ]
    },
    {
      "cell_type": "markdown",
      "source": [
        "###### Creating DataFrames"
      ],
      "metadata": {
        "id": "YVTbUOnaU3N2"
      }
    },
    {
      "cell_type": "markdown",
      "source": [
        "Pandas DataFrames are two-dimensional data structures with labeled rows and columns, that can hold many data types. If you are familiar with Excel, you can think of Pandas DataFrames as being similar to a spreadsheet. We can create Pandas DataFrames manually or by loading data from a file. In this lesson, we will start by learning how to create Pandas DataFrames manually from dictionaries, and later we will see how we can load data into a DataFrame from a data file.\n",
        "\n",
        "**Create a DataFrame manually**\n",
        "\n",
        "We will start by creating a DataFrame manually from a dictionary of Pandas Series. It is a two-step process:\n",
        "\n",
        "The first step is to create the dictionary of Pandas Series.\n",
        "\n",
        "After the dictionary is created we can then pass the dictionary to the pd.DataFrame() function.\n",
        "\n",
        "We will create a dictionary that contains items purchased by two people, Alice and Bob, on an online store. The Pandas Series will use the price of the items purchased as data, and the purchased items will be used as the index labels to the Pandas Series. Let's see how this done in code:"
      ],
      "metadata": {
        "id": "uWK0sU8IU8Ip"
      }
    },
    {
      "cell_type": "code",
      "source": [
        "# We import Pandas as pd into Python\n",
        "import pandas as pd\n",
        "\n",
        "# We create a dictionary of Pandas Series \n",
        "items = {'Bob' : pd.Series(data = [245, 25, 55], index = ['bike', 'pants', 'watch']),\n",
        "         'Alice' : pd.Series(data = [40, 110, 500, 45], index = ['book', 'glasses', 'bike', 'pants'])}\n",
        "\n",
        "# We print the type of items to see that it is a dictionary\n",
        "print(type(items))"
      ],
      "metadata": {
        "colab": {
          "base_uri": "https://localhost:8080/"
        },
        "id": "-bbL1D8QU7i7",
        "outputId": "50fd9ff9-8535-436e-b62a-52a26438d618"
      },
      "execution_count": null,
      "outputs": [
        {
          "output_type": "stream",
          "name": "stdout",
          "text": [
            "<class 'dict'>\n"
          ]
        }
      ]
    },
    {
      "cell_type": "markdown",
      "source": [
        "Now that we have a dictionary, we are ready to create a DataFrame by passing it to the pd.DataFrame() function. We will create a DataFrame that could represent the shopping carts of various users, in this case we have only two users, Alice and Bob."
      ],
      "metadata": {
        "id": "9mMYGar1VHiH"
      }
    },
    {
      "cell_type": "code",
      "source": [
        "# We create a Pandas DataFrame by passing it a dictionary of Pandas Series\n",
        "shopping_carts = pd.DataFrame(items)\n",
        "\n",
        "# We display the DataFrame\n",
        "shopping_carts"
      ],
      "metadata": {
        "colab": {
          "base_uri": "https://localhost:8080/"
        },
        "id": "Zu_886eTVKYT",
        "outputId": "913ccc35-57cf-4869-f7ef-72b9870a98ac"
      },
      "execution_count": null,
      "outputs": [
        {
          "output_type": "execute_result",
          "data": {
            "text/html": [
              "<div>\n",
              "<style scoped>\n",
              "    .dataframe tbody tr th:only-of-type {\n",
              "        vertical-align: middle;\n",
              "    }\n",
              "\n",
              "    .dataframe tbody tr th {\n",
              "        vertical-align: top;\n",
              "    }\n",
              "\n",
              "    .dataframe thead th {\n",
              "        text-align: right;\n",
              "    }\n",
              "</style>\n",
              "<table border=\"1\" class=\"dataframe\">\n",
              "  <thead>\n",
              "    <tr style=\"text-align: right;\">\n",
              "      <th></th>\n",
              "      <th>Bob</th>\n",
              "      <th>Alice</th>\n",
              "    </tr>\n",
              "  </thead>\n",
              "  <tbody>\n",
              "    <tr>\n",
              "      <th>bike</th>\n",
              "      <td>245.0</td>\n",
              "      <td>500.0</td>\n",
              "    </tr>\n",
              "    <tr>\n",
              "      <th>book</th>\n",
              "      <td>NaN</td>\n",
              "      <td>40.0</td>\n",
              "    </tr>\n",
              "    <tr>\n",
              "      <th>glasses</th>\n",
              "      <td>NaN</td>\n",
              "      <td>110.0</td>\n",
              "    </tr>\n",
              "    <tr>\n",
              "      <th>pants</th>\n",
              "      <td>25.0</td>\n",
              "      <td>45.0</td>\n",
              "    </tr>\n",
              "    <tr>\n",
              "      <th>watch</th>\n",
              "      <td>55.0</td>\n",
              "      <td>NaN</td>\n",
              "    </tr>\n",
              "  </tbody>\n",
              "</table>\n",
              "</div>"
            ],
            "text/plain": [
              "           Bob  Alice\n",
              "bike     245.0  500.0\n",
              "book       NaN   40.0\n",
              "glasses    NaN  110.0\n",
              "pants     25.0   45.0\n",
              "watch     55.0    NaN"
            ]
          },
          "metadata": {},
          "execution_count": 109
        }
      ]
    },
    {
      "cell_type": "markdown",
      "source": [
        "There are several things to notice here, as explained below:\n",
        "\n",
        "1. We see that DataFrames are displayed in tabular form, much like an Excel spreadsheet, with the labels of rows and columns in bold.\n",
        "\n",
        "2. Also, notice that the row labels of the DataFrame are built from the union of the index labels of the two Pandas Series we used to construct the dictionary. And the column labels of the DataFrame are taken from the keys of the dictionary.\n",
        "\n",
        "3. Another thing to notice is that the columns are arranged alphabetically and not in the order given in the dictionary. We will see later that this won't happen when we load data into a DataFrame from a data file.\n",
        "\n",
        "4. The last thing we want to point out is that we see some NaN values appear in the DataFrame. NaN stands for Not a Number, and is Pandas way of indicating that it doesn't have a value for that particular row and column index. For example, if we look at the column of Alice, we see that it has NaN in the watch index. You can see why this is the case by looking at the dictionary we created at the beginning. We clearly see that the dictionary has no item for Alice labeled watches. So whenever a DataFrame is created, if a particular column doesn't have values for a particular row index, Pandas will put a NaN value there.\n",
        "\n",
        "5. If we were to feed this data into a machine learning algorithm we will have to remove these NaN values first. In a later lesson, we will learn how to deal with NaN values and clean our data. For now, we will leave these values in our DataFrame."
      ],
      "metadata": {
        "id": "M9lsqEusVRTZ"
      }
    },
    {
      "cell_type": "markdown",
      "source": [
        "In the example above, we created a Pandas DataFrame from a dictionary of Pandas Series that had clearly defined indexes. If we don't provide index labels to the Pandas Series, Pandas will use numerical row indexes when it creates the DataFrame. Let's see an example:"
      ],
      "metadata": {
        "id": "ugnpQlNrVcUP"
      }
    },
    {
      "cell_type": "code",
      "source": [
        "# We create a dictionary of Pandas Series without indexes\n",
        "data = {'Bob' : pd.Series([245, 25, 55]),\n",
        "        'Alice' : pd.Series([40, 110, 500, 45])}\n",
        "\n",
        "# We create a DataFrame\n",
        "df = pd.DataFrame(data)\n",
        "\n",
        "# We display the DataFrame\n",
        "df"
      ],
      "metadata": {
        "colab": {
          "base_uri": "https://localhost:8080/"
        },
        "id": "85akdBoaVeIj",
        "outputId": "dc7ef811-801a-436d-cbe5-7ea233491c54"
      },
      "execution_count": null,
      "outputs": [
        {
          "output_type": "execute_result",
          "data": {
            "text/html": [
              "<div>\n",
              "<style scoped>\n",
              "    .dataframe tbody tr th:only-of-type {\n",
              "        vertical-align: middle;\n",
              "    }\n",
              "\n",
              "    .dataframe tbody tr th {\n",
              "        vertical-align: top;\n",
              "    }\n",
              "\n",
              "    .dataframe thead th {\n",
              "        text-align: right;\n",
              "    }\n",
              "</style>\n",
              "<table border=\"1\" class=\"dataframe\">\n",
              "  <thead>\n",
              "    <tr style=\"text-align: right;\">\n",
              "      <th></th>\n",
              "      <th>Bob</th>\n",
              "      <th>Alice</th>\n",
              "    </tr>\n",
              "  </thead>\n",
              "  <tbody>\n",
              "    <tr>\n",
              "      <th>0</th>\n",
              "      <td>245.0</td>\n",
              "      <td>40</td>\n",
              "    </tr>\n",
              "    <tr>\n",
              "      <th>1</th>\n",
              "      <td>25.0</td>\n",
              "      <td>110</td>\n",
              "    </tr>\n",
              "    <tr>\n",
              "      <th>2</th>\n",
              "      <td>55.0</td>\n",
              "      <td>500</td>\n",
              "    </tr>\n",
              "    <tr>\n",
              "      <th>3</th>\n",
              "      <td>NaN</td>\n",
              "      <td>45</td>\n",
              "    </tr>\n",
              "  </tbody>\n",
              "</table>\n",
              "</div>"
            ],
            "text/plain": [
              "     Bob  Alice\n",
              "0  245.0     40\n",
              "1   25.0    110\n",
              "2   55.0    500\n",
              "3    NaN     45"
            ]
          },
          "metadata": {},
          "execution_count": 110
        }
      ]
    },
    {
      "cell_type": "markdown",
      "source": [
        "We can see that Pandas indexes the rows of the DataFrame starting from 0, just like NumPy indexes ndarrays.\n",
        "\n",
        "Now, just like with Pandas Series we can also extract information from DataFrames using attributes. Let's print some information from our shopping_carts DataFrame"
      ],
      "metadata": {
        "id": "hfPKYfReVhKt"
      }
    },
    {
      "cell_type": "code",
      "source": [
        "# We print some information about shopping_carts\n",
        "print('shopping_carts has shape:', shopping_carts.shape)\n",
        "print('shopping_carts has dimension:', shopping_carts.ndim)\n",
        "print('shopping_carts has a total of:', shopping_carts.size, 'elements')\n",
        "print()\n",
        "print('The data in shopping_carts is:\\n', shopping_carts.values)\n",
        "print()\n",
        "print('The row index in shopping_carts is:', shopping_carts.index)\n",
        "print()\n",
        "print('The column index in shopping_carts is:', shopping_carts.columns)"
      ],
      "metadata": {
        "colab": {
          "base_uri": "https://localhost:8080/"
        },
        "id": "T-WHnRZ2Vjpt",
        "outputId": "5198bd57-23d1-4297-b927-556930a825a0"
      },
      "execution_count": null,
      "outputs": [
        {
          "output_type": "stream",
          "name": "stdout",
          "text": [
            "shopping_carts has shape: (5, 2)\n",
            "shopping_carts has dimension: 2\n",
            "shopping_carts has a total of: 10 elements\n",
            "\n",
            "The data in shopping_carts is:\n",
            " [[245. 500.]\n",
            " [ nan  40.]\n",
            " [ nan 110.]\n",
            " [ 25.  45.]\n",
            " [ 55.  nan]]\n",
            "\n",
            "The row index in shopping_carts is: Index(['bike', 'book', 'glasses', 'pants', 'watch'], dtype='object')\n",
            "\n",
            "The column index in shopping_carts is: Index(['Bob', 'Alice'], dtype='object')\n"
          ]
        }
      ]
    },
    {
      "cell_type": "markdown",
      "source": [
        "When creating the shopping_carts DataFrame we passed the entire dictionary to the pd.DataFrame() function. However, there might be cases when you are only interested in a subset of the data. Pandas allows us to select which data we want to put into our DataFrame by means of the keywords columns and index. Let's see some examples:"
      ],
      "metadata": {
        "id": "ctT9bjlmVpls"
      }
    },
    {
      "cell_type": "code",
      "source": [
        "# We Create a DataFrame that only has Bob's data\n",
        "bob_shopping_cart = pd.DataFrame(items, columns=['Bob'])\n",
        "\n",
        "# We display bob_shopping_cart\n",
        "bob_shopping_cart"
      ],
      "metadata": {
        "colab": {
          "base_uri": "https://localhost:8080/"
        },
        "id": "UjYnWwGsVsJE",
        "outputId": "d150a30d-aabc-4b16-f1a7-53ada414c790"
      },
      "execution_count": null,
      "outputs": [
        {
          "output_type": "execute_result",
          "data": {
            "text/html": [
              "<div>\n",
              "<style scoped>\n",
              "    .dataframe tbody tr th:only-of-type {\n",
              "        vertical-align: middle;\n",
              "    }\n",
              "\n",
              "    .dataframe tbody tr th {\n",
              "        vertical-align: top;\n",
              "    }\n",
              "\n",
              "    .dataframe thead th {\n",
              "        text-align: right;\n",
              "    }\n",
              "</style>\n",
              "<table border=\"1\" class=\"dataframe\">\n",
              "  <thead>\n",
              "    <tr style=\"text-align: right;\">\n",
              "      <th></th>\n",
              "      <th>Bob</th>\n",
              "    </tr>\n",
              "  </thead>\n",
              "  <tbody>\n",
              "    <tr>\n",
              "      <th>bike</th>\n",
              "      <td>245</td>\n",
              "    </tr>\n",
              "    <tr>\n",
              "      <th>pants</th>\n",
              "      <td>25</td>\n",
              "    </tr>\n",
              "    <tr>\n",
              "      <th>watch</th>\n",
              "      <td>55</td>\n",
              "    </tr>\n",
              "  </tbody>\n",
              "</table>\n",
              "</div>"
            ],
            "text/plain": [
              "       Bob\n",
              "bike   245\n",
              "pants   25\n",
              "watch   55"
            ]
          },
          "metadata": {},
          "execution_count": 112
        }
      ]
    },
    {
      "cell_type": "markdown",
      "source": [
        "You can also manually create DataFrames from a dictionary of lists (arrays). The procedure is the same as before, we start by creating the dictionary and then passing the dictionary to the pd.DataFrame() function. In this case, however, all the lists (arrays) in the dictionary must be of the same length. Let' see an example:"
      ],
      "metadata": {
        "id": "rdv66NhhVyPx"
      }
    },
    {
      "cell_type": "code",
      "source": [
        "# We create a dictionary of lists (arrays)\n",
        "data = {'Integers' : [1,2,3],\n",
        "        'Floats' : [4.5, 8.2, 9.6]}\n",
        "\n",
        "# We create a DataFrame \n",
        "df = pd.DataFrame(data)\n",
        "\n",
        "# We display the DataFrame\n",
        "df"
      ],
      "metadata": {
        "colab": {
          "base_uri": "https://localhost:8080/"
        },
        "id": "QKnoPjvlV0m0",
        "outputId": "d4aa6f35-456a-4c34-d932-70181fc119e8"
      },
      "execution_count": null,
      "outputs": [
        {
          "output_type": "execute_result",
          "data": {
            "text/html": [
              "<div>\n",
              "<style scoped>\n",
              "    .dataframe tbody tr th:only-of-type {\n",
              "        vertical-align: middle;\n",
              "    }\n",
              "\n",
              "    .dataframe tbody tr th {\n",
              "        vertical-align: top;\n",
              "    }\n",
              "\n",
              "    .dataframe thead th {\n",
              "        text-align: right;\n",
              "    }\n",
              "</style>\n",
              "<table border=\"1\" class=\"dataframe\">\n",
              "  <thead>\n",
              "    <tr style=\"text-align: right;\">\n",
              "      <th></th>\n",
              "      <th>Integers</th>\n",
              "      <th>Floats</th>\n",
              "    </tr>\n",
              "  </thead>\n",
              "  <tbody>\n",
              "    <tr>\n",
              "      <th>0</th>\n",
              "      <td>1</td>\n",
              "      <td>4.5</td>\n",
              "    </tr>\n",
              "    <tr>\n",
              "      <th>1</th>\n",
              "      <td>2</td>\n",
              "      <td>8.2</td>\n",
              "    </tr>\n",
              "    <tr>\n",
              "      <th>2</th>\n",
              "      <td>3</td>\n",
              "      <td>9.6</td>\n",
              "    </tr>\n",
              "  </tbody>\n",
              "</table>\n",
              "</div>"
            ],
            "text/plain": [
              "   Integers  Floats\n",
              "0         1     4.5\n",
              "1         2     8.2\n",
              "2         3     9.6"
            ]
          },
          "metadata": {},
          "execution_count": 113
        }
      ]
    },
    {
      "cell_type": "markdown",
      "source": [
        "Notice that since the data dictionary we created doesn't have label indices, Pandas automatically uses numerical row indexes when it creates the DataFrame. We can, however, put labels to the row index by using the index keyword in the pd.DataFrame() function. Let's see an example"
      ],
      "metadata": {
        "id": "mzIOIXk2WAXQ"
      }
    },
    {
      "cell_type": "code",
      "source": [
        "# We create a dictionary of lists (arrays)\n",
        "data = {'Integers' : [1,2,3],\n",
        "        'Floats' : [4.5, 8.2, 9.6]}\n",
        "\n",
        "# We create a DataFrame and provide the row index\n",
        "df = pd.DataFrame(data, index = ['label 1', 'label 2', 'label 3'])\n",
        "\n",
        "# We display the DataFrame\n",
        "df"
      ],
      "metadata": {
        "colab": {
          "base_uri": "https://localhost:8080/"
        },
        "id": "Ivg2RpfaWDki",
        "outputId": "bbe3420e-64a7-4550-9fcf-076afa4ed3f1"
      },
      "execution_count": null,
      "outputs": [
        {
          "output_type": "execute_result",
          "data": {
            "text/html": [
              "<div>\n",
              "<style scoped>\n",
              "    .dataframe tbody tr th:only-of-type {\n",
              "        vertical-align: middle;\n",
              "    }\n",
              "\n",
              "    .dataframe tbody tr th {\n",
              "        vertical-align: top;\n",
              "    }\n",
              "\n",
              "    .dataframe thead th {\n",
              "        text-align: right;\n",
              "    }\n",
              "</style>\n",
              "<table border=\"1\" class=\"dataframe\">\n",
              "  <thead>\n",
              "    <tr style=\"text-align: right;\">\n",
              "      <th></th>\n",
              "      <th>Integers</th>\n",
              "      <th>Floats</th>\n",
              "    </tr>\n",
              "  </thead>\n",
              "  <tbody>\n",
              "    <tr>\n",
              "      <th>label 1</th>\n",
              "      <td>1</td>\n",
              "      <td>4.5</td>\n",
              "    </tr>\n",
              "    <tr>\n",
              "      <th>label 2</th>\n",
              "      <td>2</td>\n",
              "      <td>8.2</td>\n",
              "    </tr>\n",
              "    <tr>\n",
              "      <th>label 3</th>\n",
              "      <td>3</td>\n",
              "      <td>9.6</td>\n",
              "    </tr>\n",
              "  </tbody>\n",
              "</table>\n",
              "</div>"
            ],
            "text/plain": [
              "         Integers  Floats\n",
              "label 1         1     4.5\n",
              "label 2         2     8.2\n",
              "label 3         3     9.6"
            ]
          },
          "metadata": {},
          "execution_count": 114
        }
      ]
    },
    {
      "cell_type": "code",
      "source": [
        "# We create a list of Python dictionaries\n",
        "items2 = [{'bikes': 20, 'pants': 30, 'watches': 35}, \n",
        "          {'watches': 10, 'glasses': 50, 'bikes': 15, 'pants':5}]\n",
        "\n",
        "# We create a DataFrame  and provide the row index\n",
        "store_items = pd.DataFrame(items2, index = ['store 1', 'store 2'])\n",
        "\n",
        "# We display the DataFrame\n",
        "store_items"
      ],
      "metadata": {
        "colab": {
          "base_uri": "https://localhost:8080/"
        },
        "id": "dWj2AkKvWV7B",
        "outputId": "6a4d683b-2ea7-4cb0-ec08-ee5c1f7d50ea"
      },
      "execution_count": null,
      "outputs": [
        {
          "output_type": "execute_result",
          "data": {
            "text/html": [
              "<div>\n",
              "<style scoped>\n",
              "    .dataframe tbody tr th:only-of-type {\n",
              "        vertical-align: middle;\n",
              "    }\n",
              "\n",
              "    .dataframe tbody tr th {\n",
              "        vertical-align: top;\n",
              "    }\n",
              "\n",
              "    .dataframe thead th {\n",
              "        text-align: right;\n",
              "    }\n",
              "</style>\n",
              "<table border=\"1\" class=\"dataframe\">\n",
              "  <thead>\n",
              "    <tr style=\"text-align: right;\">\n",
              "      <th></th>\n",
              "      <th>bikes</th>\n",
              "      <th>pants</th>\n",
              "      <th>watches</th>\n",
              "      <th>glasses</th>\n",
              "    </tr>\n",
              "  </thead>\n",
              "  <tbody>\n",
              "    <tr>\n",
              "      <th>store 1</th>\n",
              "      <td>20</td>\n",
              "      <td>30</td>\n",
              "      <td>35</td>\n",
              "      <td>NaN</td>\n",
              "    </tr>\n",
              "    <tr>\n",
              "      <th>store 2</th>\n",
              "      <td>15</td>\n",
              "      <td>5</td>\n",
              "      <td>10</td>\n",
              "      <td>50.0</td>\n",
              "    </tr>\n",
              "  </tbody>\n",
              "</table>\n",
              "</div>"
            ],
            "text/plain": [
              "         bikes  pants  watches  glasses\n",
              "store 1     20     30       35      NaN\n",
              "store 2     15      5       10     50.0"
            ]
          },
          "metadata": {},
          "execution_count": 115
        }
      ]
    },
    {
      "cell_type": "markdown",
      "source": [
        "###### Accessing Elements in Pandas DataFrames"
      ],
      "metadata": {
        "id": "ybZCH1M4Wb6Z"
      }
    },
    {
      "cell_type": "markdown",
      "source": [
        "We can access elements in Pandas DataFrames in many different ways. In general, we can access rows, columns, or individual elements of the DataFrame by using the row and column labels. We will use the same store_items DataFrame created in the previous lesson. Let's see some examples:"
      ],
      "metadata": {
        "id": "jOL95YRwWoz1"
      }
    },
    {
      "cell_type": "code",
      "source": [
        "# We print the store_items DataFrame\n",
        "print(store_items)\n",
        "\n",
        "# We access rows, columns and elements using labels\n",
        "print()\n",
        "print('How many bikes are in each store:\\n', store_items[['bikes']])\n",
        "print()\n",
        "print('How many bikes and pants are in each store:\\n', store_items[['bikes', 'pants']])\n",
        "print()\n",
        "print('What items are in Store 1:\\n', store_items.loc[['store 1']])\n",
        "print()\n",
        "print('How many bikes are in Store 2:', store_items['bikes']['store 2'])"
      ],
      "metadata": {
        "colab": {
          "base_uri": "https://localhost:8080/"
        },
        "id": "HTXB1euCWnpL",
        "outputId": "fcd45f8a-ff42-4acb-db47-3720a0712d31"
      },
      "execution_count": null,
      "outputs": [
        {
          "output_type": "stream",
          "name": "stdout",
          "text": [
            "         bikes  pants  watches  glasses\n",
            "store 1     20     30       35      NaN\n",
            "store 2     15      5       10     50.0\n",
            "\n",
            "How many bikes are in each store:\n",
            "          bikes\n",
            "store 1     20\n",
            "store 2     15\n",
            "\n",
            "How many bikes and pants are in each store:\n",
            "          bikes  pants\n",
            "store 1     20     30\n",
            "store 2     15      5\n",
            "\n",
            "What items are in Store 1:\n",
            "          bikes  pants  watches  glasses\n",
            "store 1     20     30       35      NaN\n",
            "\n",
            "How many bikes are in Store 2: 15\n"
          ]
        }
      ]
    },
    {
      "cell_type": "markdown",
      "source": [
        "It is important to know that when accessing individual elements in a DataFrame, as we did in the last example above, the labels should always be provided with the column label first, i.e. in the form dataframe[column][row]. For example, when retrieving the number bikes in store 2, we first used the column label bikes and then the row label store 2. If you provide the row label first you will get an error.\n",
        "\n",
        "We can also modify our DataFrames by adding rows or columns. Let's start by learning how to add new columns to our DataFrames. Let's suppose we decided to add shirts to the items we have in stock at each store. To do this, we will need to add a new column to our store_items DataFrame indicating how many shirts are in each store. Let's do that:"
      ],
      "metadata": {
        "id": "YJwE-ezUWvY3"
      }
    },
    {
      "cell_type": "code",
      "source": [
        "# We add a new column named shirts to our store_items DataFrame indicating the number of\n",
        "# shirts in stock at each store. We will put 15 shirts in store 1 and 2 shirts in store 2\n",
        "store_items['shirts'] = [15,2]\n",
        "\n",
        "# We display the modified DataFrame\n",
        "store_items"
      ],
      "metadata": {
        "colab": {
          "base_uri": "https://localhost:8080/"
        },
        "id": "qqKVLcXFWzj7",
        "outputId": "92317ef3-c483-4bcd-84c3-ffcdd7187059"
      },
      "execution_count": null,
      "outputs": [
        {
          "output_type": "execute_result",
          "data": {
            "text/html": [
              "<div>\n",
              "<style scoped>\n",
              "    .dataframe tbody tr th:only-of-type {\n",
              "        vertical-align: middle;\n",
              "    }\n",
              "\n",
              "    .dataframe tbody tr th {\n",
              "        vertical-align: top;\n",
              "    }\n",
              "\n",
              "    .dataframe thead th {\n",
              "        text-align: right;\n",
              "    }\n",
              "</style>\n",
              "<table border=\"1\" class=\"dataframe\">\n",
              "  <thead>\n",
              "    <tr style=\"text-align: right;\">\n",
              "      <th></th>\n",
              "      <th>bikes</th>\n",
              "      <th>pants</th>\n",
              "      <th>watches</th>\n",
              "      <th>glasses</th>\n",
              "      <th>shirts</th>\n",
              "    </tr>\n",
              "  </thead>\n",
              "  <tbody>\n",
              "    <tr>\n",
              "      <th>store 1</th>\n",
              "      <td>20</td>\n",
              "      <td>30</td>\n",
              "      <td>35</td>\n",
              "      <td>NaN</td>\n",
              "      <td>15</td>\n",
              "    </tr>\n",
              "    <tr>\n",
              "      <th>store 2</th>\n",
              "      <td>15</td>\n",
              "      <td>5</td>\n",
              "      <td>10</td>\n",
              "      <td>50.0</td>\n",
              "      <td>2</td>\n",
              "    </tr>\n",
              "  </tbody>\n",
              "</table>\n",
              "</div>"
            ],
            "text/plain": [
              "         bikes  pants  watches  glasses  shirts\n",
              "store 1     20     30       35      NaN      15\n",
              "store 2     15      5       10     50.0       2"
            ]
          },
          "metadata": {},
          "execution_count": 117
        }
      ]
    },
    {
      "cell_type": "markdown",
      "source": [
        "We can also add new columns to our DataFrame by using arithmetic operations between other columns in our DataFrame. Let's see an example"
      ],
      "metadata": {
        "id": "eo6mqagEWyEJ"
      }
    },
    {
      "cell_type": "code",
      "source": [
        "# We make a new column called suits by adding the number of shirts and pants\n",
        "store_items['suits'] = store_items['pants'] + store_items['shirts']\n",
        "\n",
        "# We display the modified DataFrame\n",
        "store_items"
      ],
      "metadata": {
        "id": "Iz1u7GX8W2jp"
      },
      "execution_count": null,
      "outputs": []
    },
    {
      "cell_type": "markdown",
      "source": [
        "Suppose now, that you opened a new store and you need to add the number of items in the stock of that new store into your DataFrame. We can do this by adding a new row to the store_items Dataframe. To add rows to our DataFrame we first have to create a new Dataframe and then append it to the original DataFrame. Let's see how this works"
      ],
      "metadata": {
        "id": "rcJFikhSW-Ti"
      }
    },
    {
      "cell_type": "code",
      "source": [
        "# We create a dictionary from a list of Python dictionaries that will contain the number of different items at the new store\n",
        "new_items = [{'bikes': 20, 'pants': 30, 'watches': 35, 'glasses': 4}]\n",
        "\n",
        "# We create new DataFrame with the new_items and provide and index labeled store 3\n",
        "new_store = pd.DataFrame(new_items, index = ['store 3'])\n",
        "\n",
        "# We display the items at the new store\n",
        "new_store\n",
        "\n",
        "# We append store 3 to our store_items DataFrame\n",
        "store_items = store_items.append(new_store)\n",
        "\n",
        "# We display the modified DataFrame\n",
        "store_items"
      ],
      "metadata": {
        "colab": {
          "base_uri": "https://localhost:8080/"
        },
        "id": "XVoht5iaXItz",
        "outputId": "8118513d-9826-40f4-9af9-2669877a0c34"
      },
      "execution_count": null,
      "outputs": [
        {
          "output_type": "execute_result",
          "data": {
            "text/html": [
              "<div>\n",
              "<style scoped>\n",
              "    .dataframe tbody tr th:only-of-type {\n",
              "        vertical-align: middle;\n",
              "    }\n",
              "\n",
              "    .dataframe tbody tr th {\n",
              "        vertical-align: top;\n",
              "    }\n",
              "\n",
              "    .dataframe thead th {\n",
              "        text-align: right;\n",
              "    }\n",
              "</style>\n",
              "<table border=\"1\" class=\"dataframe\">\n",
              "  <thead>\n",
              "    <tr style=\"text-align: right;\">\n",
              "      <th></th>\n",
              "      <th>bikes</th>\n",
              "      <th>pants</th>\n",
              "      <th>watches</th>\n",
              "      <th>glasses</th>\n",
              "      <th>shirts</th>\n",
              "    </tr>\n",
              "  </thead>\n",
              "  <tbody>\n",
              "    <tr>\n",
              "      <th>store 1</th>\n",
              "      <td>20</td>\n",
              "      <td>30</td>\n",
              "      <td>35</td>\n",
              "      <td>NaN</td>\n",
              "      <td>15.0</td>\n",
              "    </tr>\n",
              "    <tr>\n",
              "      <th>store 2</th>\n",
              "      <td>15</td>\n",
              "      <td>5</td>\n",
              "      <td>10</td>\n",
              "      <td>50.0</td>\n",
              "      <td>2.0</td>\n",
              "    </tr>\n",
              "    <tr>\n",
              "      <th>store 3</th>\n",
              "      <td>20</td>\n",
              "      <td>30</td>\n",
              "      <td>35</td>\n",
              "      <td>4.0</td>\n",
              "      <td>NaN</td>\n",
              "    </tr>\n",
              "  </tbody>\n",
              "</table>\n",
              "</div>"
            ],
            "text/plain": [
              "         bikes  pants  watches  glasses  shirts\n",
              "store 1     20     30       35      NaN    15.0\n",
              "store 2     15      5       10     50.0     2.0\n",
              "store 3     20     30       35      4.0     NaN"
            ]
          },
          "metadata": {},
          "execution_count": 118
        }
      ]
    },
    {
      "cell_type": "markdown",
      "source": [
        "Add new column that has data from the existing columns"
      ],
      "metadata": {
        "id": "caHJEey_XYWY"
      }
    },
    {
      "cell_type": "code",
      "source": [
        "# We add a new column using data from particular rows in the watches column\n",
        "store_items['new watches'] = store_items['watches'][1:]\n",
        "\n",
        "# We display the modified DataFrame\n",
        "store_items"
      ],
      "metadata": {
        "colab": {
          "base_uri": "https://localhost:8080/"
        },
        "id": "TMJdYxtJXZfB",
        "outputId": "74895624-eae0-4c19-fe8f-8b76b8996ff2"
      },
      "execution_count": null,
      "outputs": [
        {
          "output_type": "execute_result",
          "data": {
            "text/html": [
              "<div>\n",
              "<style scoped>\n",
              "    .dataframe tbody tr th:only-of-type {\n",
              "        vertical-align: middle;\n",
              "    }\n",
              "\n",
              "    .dataframe tbody tr th {\n",
              "        vertical-align: top;\n",
              "    }\n",
              "\n",
              "    .dataframe thead th {\n",
              "        text-align: right;\n",
              "    }\n",
              "</style>\n",
              "<table border=\"1\" class=\"dataframe\">\n",
              "  <thead>\n",
              "    <tr style=\"text-align: right;\">\n",
              "      <th></th>\n",
              "      <th>bikes</th>\n",
              "      <th>pants</th>\n",
              "      <th>watches</th>\n",
              "      <th>glasses</th>\n",
              "      <th>shirts</th>\n",
              "      <th>new watches</th>\n",
              "    </tr>\n",
              "  </thead>\n",
              "  <tbody>\n",
              "    <tr>\n",
              "      <th>store 1</th>\n",
              "      <td>20</td>\n",
              "      <td>30</td>\n",
              "      <td>35</td>\n",
              "      <td>NaN</td>\n",
              "      <td>15.0</td>\n",
              "      <td>NaN</td>\n",
              "    </tr>\n",
              "    <tr>\n",
              "      <th>store 2</th>\n",
              "      <td>15</td>\n",
              "      <td>5</td>\n",
              "      <td>10</td>\n",
              "      <td>50.0</td>\n",
              "      <td>2.0</td>\n",
              "      <td>10.0</td>\n",
              "    </tr>\n",
              "    <tr>\n",
              "      <th>store 3</th>\n",
              "      <td>20</td>\n",
              "      <td>30</td>\n",
              "      <td>35</td>\n",
              "      <td>4.0</td>\n",
              "      <td>NaN</td>\n",
              "      <td>35.0</td>\n",
              "    </tr>\n",
              "  </tbody>\n",
              "</table>\n",
              "</div>"
            ],
            "text/plain": [
              "         bikes  pants  watches  glasses  shirts  new watches\n",
              "store 1     20     30       35      NaN    15.0          NaN\n",
              "store 2     15      5       10     50.0     2.0         10.0\n",
              "store 3     20     30       35      4.0     NaN         35.0"
            ]
          },
          "metadata": {},
          "execution_count": 119
        }
      ]
    },
    {
      "cell_type": "markdown",
      "source": [
        "It is also possible, to insert new columns into the DataFrames anywhere we want. The dataframe.insert(loc,label,data) method allows us to insert a new column in the dataframe at location loc, with the given column label, and given data. Let's add new column named shoes right before the suits column. Since suits has numerical index value 4 then we will use this value as loc. Let's see how this works:"
      ],
      "metadata": {
        "id": "K9vWwaEkXnBl"
      }
    },
    {
      "cell_type": "code",
      "source": [
        "# We insert a new column with label shoes right before the column with numerical index 4\n",
        "store_items.insert(4, 'shoes', [8,5,0])\n",
        "\n",
        "# we display the modified DataFrame\n",
        "store_items"
      ],
      "metadata": {
        "colab": {
          "base_uri": "https://localhost:8080/"
        },
        "id": "YQoVM1bUXrTZ",
        "outputId": "50820884-1207-47c9-882f-ec4437c66a11"
      },
      "execution_count": null,
      "outputs": [
        {
          "output_type": "execute_result",
          "data": {
            "text/html": [
              "<div>\n",
              "<style scoped>\n",
              "    .dataframe tbody tr th:only-of-type {\n",
              "        vertical-align: middle;\n",
              "    }\n",
              "\n",
              "    .dataframe tbody tr th {\n",
              "        vertical-align: top;\n",
              "    }\n",
              "\n",
              "    .dataframe thead th {\n",
              "        text-align: right;\n",
              "    }\n",
              "</style>\n",
              "<table border=\"1\" class=\"dataframe\">\n",
              "  <thead>\n",
              "    <tr style=\"text-align: right;\">\n",
              "      <th></th>\n",
              "      <th>bikes</th>\n",
              "      <th>pants</th>\n",
              "      <th>watches</th>\n",
              "      <th>glasses</th>\n",
              "      <th>shoes</th>\n",
              "      <th>shirts</th>\n",
              "      <th>new watches</th>\n",
              "    </tr>\n",
              "  </thead>\n",
              "  <tbody>\n",
              "    <tr>\n",
              "      <th>store 1</th>\n",
              "      <td>20</td>\n",
              "      <td>30</td>\n",
              "      <td>35</td>\n",
              "      <td>NaN</td>\n",
              "      <td>8</td>\n",
              "      <td>15.0</td>\n",
              "      <td>NaN</td>\n",
              "    </tr>\n",
              "    <tr>\n",
              "      <th>store 2</th>\n",
              "      <td>15</td>\n",
              "      <td>5</td>\n",
              "      <td>10</td>\n",
              "      <td>50.0</td>\n",
              "      <td>5</td>\n",
              "      <td>2.0</td>\n",
              "      <td>10.0</td>\n",
              "    </tr>\n",
              "    <tr>\n",
              "      <th>store 3</th>\n",
              "      <td>20</td>\n",
              "      <td>30</td>\n",
              "      <td>35</td>\n",
              "      <td>4.0</td>\n",
              "      <td>0</td>\n",
              "      <td>NaN</td>\n",
              "      <td>35.0</td>\n",
              "    </tr>\n",
              "  </tbody>\n",
              "</table>\n",
              "</div>"
            ],
            "text/plain": [
              "         bikes  pants  watches  glasses  shoes  shirts  new watches\n",
              "store 1     20     30       35      NaN      8    15.0          NaN\n",
              "store 2     15      5       10     50.0      5     2.0         10.0\n",
              "store 3     20     30       35      4.0      0     NaN         35.0"
            ]
          },
          "metadata": {},
          "execution_count": 120
        }
      ]
    },
    {
      "cell_type": "markdown",
      "source": [
        "Just as we can add rows and columns we can also delete them. To delete rows and columns from our DataFrame we will use the .pop() and .drop() methods. The .pop() method only allows us to delete columns, while the .drop() method can be used to delete both rows and columns by use of the axis keyword. Let's see some examples"
      ],
      "metadata": {
        "id": "LmHh5T6PXxiC"
      }
    },
    {
      "cell_type": "code",
      "source": [
        "# We remove the new watches column\n",
        "store_items.pop('new watches')\n",
        "\n",
        "# we display the modified DataFrame\n",
        "store_items"
      ],
      "metadata": {
        "colab": {
          "base_uri": "https://localhost:8080/"
        },
        "id": "sYwSkeIKXz_h",
        "outputId": "b3b6735f-92f8-4bc6-a0dc-11704f33ae33"
      },
      "execution_count": null,
      "outputs": [
        {
          "output_type": "execute_result",
          "data": {
            "text/html": [
              "<div>\n",
              "<style scoped>\n",
              "    .dataframe tbody tr th:only-of-type {\n",
              "        vertical-align: middle;\n",
              "    }\n",
              "\n",
              "    .dataframe tbody tr th {\n",
              "        vertical-align: top;\n",
              "    }\n",
              "\n",
              "    .dataframe thead th {\n",
              "        text-align: right;\n",
              "    }\n",
              "</style>\n",
              "<table border=\"1\" class=\"dataframe\">\n",
              "  <thead>\n",
              "    <tr style=\"text-align: right;\">\n",
              "      <th></th>\n",
              "      <th>bikes</th>\n",
              "      <th>pants</th>\n",
              "      <th>watches</th>\n",
              "      <th>glasses</th>\n",
              "      <th>shoes</th>\n",
              "      <th>shirts</th>\n",
              "    </tr>\n",
              "  </thead>\n",
              "  <tbody>\n",
              "    <tr>\n",
              "      <th>store 1</th>\n",
              "      <td>20</td>\n",
              "      <td>30</td>\n",
              "      <td>35</td>\n",
              "      <td>NaN</td>\n",
              "      <td>8</td>\n",
              "      <td>15.0</td>\n",
              "    </tr>\n",
              "    <tr>\n",
              "      <th>store 2</th>\n",
              "      <td>15</td>\n",
              "      <td>5</td>\n",
              "      <td>10</td>\n",
              "      <td>50.0</td>\n",
              "      <td>5</td>\n",
              "      <td>2.0</td>\n",
              "    </tr>\n",
              "    <tr>\n",
              "      <th>store 3</th>\n",
              "      <td>20</td>\n",
              "      <td>30</td>\n",
              "      <td>35</td>\n",
              "      <td>4.0</td>\n",
              "      <td>0</td>\n",
              "      <td>NaN</td>\n",
              "    </tr>\n",
              "  </tbody>\n",
              "</table>\n",
              "</div>"
            ],
            "text/plain": [
              "         bikes  pants  watches  glasses  shoes  shirts\n",
              "store 1     20     30       35      NaN      8    15.0\n",
              "store 2     15      5       10     50.0      5     2.0\n",
              "store 3     20     30       35      4.0      0     NaN"
            ]
          },
          "metadata": {},
          "execution_count": 121
        }
      ]
    },
    {
      "cell_type": "code",
      "source": [
        "# We remove the watches and shoes columns\n",
        "store_items = store_items.drop(['watches', 'shoes'], axis = 1)\n",
        "\n",
        "# we display the modified DataFrame\n",
        "store_items"
      ],
      "metadata": {
        "colab": {
          "base_uri": "https://localhost:8080/"
        },
        "id": "90GB9ZSeX1ik",
        "outputId": "2449a438-11f4-4d67-d8d2-ccb657eab4f8"
      },
      "execution_count": null,
      "outputs": [
        {
          "output_type": "execute_result",
          "data": {
            "text/html": [
              "<div>\n",
              "<style scoped>\n",
              "    .dataframe tbody tr th:only-of-type {\n",
              "        vertical-align: middle;\n",
              "    }\n",
              "\n",
              "    .dataframe tbody tr th {\n",
              "        vertical-align: top;\n",
              "    }\n",
              "\n",
              "    .dataframe thead th {\n",
              "        text-align: right;\n",
              "    }\n",
              "</style>\n",
              "<table border=\"1\" class=\"dataframe\">\n",
              "  <thead>\n",
              "    <tr style=\"text-align: right;\">\n",
              "      <th></th>\n",
              "      <th>bikes</th>\n",
              "      <th>pants</th>\n",
              "      <th>glasses</th>\n",
              "      <th>shirts</th>\n",
              "    </tr>\n",
              "  </thead>\n",
              "  <tbody>\n",
              "    <tr>\n",
              "      <th>store 1</th>\n",
              "      <td>20</td>\n",
              "      <td>30</td>\n",
              "      <td>NaN</td>\n",
              "      <td>15.0</td>\n",
              "    </tr>\n",
              "    <tr>\n",
              "      <th>store 2</th>\n",
              "      <td>15</td>\n",
              "      <td>5</td>\n",
              "      <td>50.0</td>\n",
              "      <td>2.0</td>\n",
              "    </tr>\n",
              "    <tr>\n",
              "      <th>store 3</th>\n",
              "      <td>20</td>\n",
              "      <td>30</td>\n",
              "      <td>4.0</td>\n",
              "      <td>NaN</td>\n",
              "    </tr>\n",
              "  </tbody>\n",
              "</table>\n",
              "</div>"
            ],
            "text/plain": [
              "         bikes  pants  glasses  shirts\n",
              "store 1     20     30      NaN    15.0\n",
              "store 2     15      5     50.0     2.0\n",
              "store 3     20     30      4.0     NaN"
            ]
          },
          "metadata": {},
          "execution_count": 122
        }
      ]
    },
    {
      "cell_type": "code",
      "source": [
        "# We remove the store 2 and store 1 rows\n",
        "store_items = store_items.drop(['store 2', 'store 1'], axis = 0)\n",
        "\n",
        "# we display the modified DataFrame\n",
        "store_items"
      ],
      "metadata": {
        "colab": {
          "base_uri": "https://localhost:8080/"
        },
        "id": "EudBr7c-X3QQ",
        "outputId": "38aa4340-2345-48e6-f4b1-75d21a079769"
      },
      "execution_count": null,
      "outputs": [
        {
          "output_type": "execute_result",
          "data": {
            "text/html": [
              "<div>\n",
              "<style scoped>\n",
              "    .dataframe tbody tr th:only-of-type {\n",
              "        vertical-align: middle;\n",
              "    }\n",
              "\n",
              "    .dataframe tbody tr th {\n",
              "        vertical-align: top;\n",
              "    }\n",
              "\n",
              "    .dataframe thead th {\n",
              "        text-align: right;\n",
              "    }\n",
              "</style>\n",
              "<table border=\"1\" class=\"dataframe\">\n",
              "  <thead>\n",
              "    <tr style=\"text-align: right;\">\n",
              "      <th></th>\n",
              "      <th>bikes</th>\n",
              "      <th>pants</th>\n",
              "      <th>glasses</th>\n",
              "      <th>shirts</th>\n",
              "    </tr>\n",
              "  </thead>\n",
              "  <tbody>\n",
              "    <tr>\n",
              "      <th>store 3</th>\n",
              "      <td>20</td>\n",
              "      <td>30</td>\n",
              "      <td>4.0</td>\n",
              "      <td>NaN</td>\n",
              "    </tr>\n",
              "  </tbody>\n",
              "</table>\n",
              "</div>"
            ],
            "text/plain": [
              "         bikes  pants  glasses  shirts\n",
              "store 3     20     30      4.0     NaN"
            ]
          },
          "metadata": {},
          "execution_count": 123
        }
      ]
    },
    {
      "cell_type": "markdown",
      "source": [
        "Sometimes we might need to change the row and column labels. Let's change the bikes column label to hats using the .rename() method"
      ],
      "metadata": {
        "id": "Cta8nz2jX6c1"
      }
    },
    {
      "cell_type": "code",
      "source": [
        "# We change the column label bikes to hats\n",
        "store_items = store_items.rename(columns = {'bikes': 'hats'})\n",
        "\n",
        "# we display the modified DataFrame\n",
        "store_items"
      ],
      "metadata": {
        "colab": {
          "base_uri": "https://localhost:8080/"
        },
        "id": "v47tK2H4X3aw",
        "outputId": "bcc72015-d381-497e-ac39-f6816016b9d0"
      },
      "execution_count": null,
      "outputs": [
        {
          "output_type": "execute_result",
          "data": {
            "text/html": [
              "<div>\n",
              "<style scoped>\n",
              "    .dataframe tbody tr th:only-of-type {\n",
              "        vertical-align: middle;\n",
              "    }\n",
              "\n",
              "    .dataframe tbody tr th {\n",
              "        vertical-align: top;\n",
              "    }\n",
              "\n",
              "    .dataframe thead th {\n",
              "        text-align: right;\n",
              "    }\n",
              "</style>\n",
              "<table border=\"1\" class=\"dataframe\">\n",
              "  <thead>\n",
              "    <tr style=\"text-align: right;\">\n",
              "      <th></th>\n",
              "      <th>hats</th>\n",
              "      <th>pants</th>\n",
              "      <th>glasses</th>\n",
              "      <th>shirts</th>\n",
              "    </tr>\n",
              "  </thead>\n",
              "  <tbody>\n",
              "    <tr>\n",
              "      <th>store 3</th>\n",
              "      <td>20</td>\n",
              "      <td>30</td>\n",
              "      <td>4.0</td>\n",
              "      <td>NaN</td>\n",
              "    </tr>\n",
              "  </tbody>\n",
              "</table>\n",
              "</div>"
            ],
            "text/plain": [
              "         hats  pants  glasses  shirts\n",
              "store 3    20     30      4.0     NaN"
            ]
          },
          "metadata": {},
          "execution_count": 124
        }
      ]
    },
    {
      "cell_type": "code",
      "source": [
        "# We change the row label from store 3 to last store\n",
        "store_items = store_items.rename(index = {'store 3': 'last store'})\n",
        "\n",
        "# we display the modified DataFrame\n",
        "store_items"
      ],
      "metadata": {
        "colab": {
          "base_uri": "https://localhost:8080/"
        },
        "id": "Ut1eT7GKX8ew",
        "outputId": "9e603b87-a3d1-4226-9326-5b8e4a82171a"
      },
      "execution_count": null,
      "outputs": [
        {
          "output_type": "execute_result",
          "data": {
            "text/html": [
              "<div>\n",
              "<style scoped>\n",
              "    .dataframe tbody tr th:only-of-type {\n",
              "        vertical-align: middle;\n",
              "    }\n",
              "\n",
              "    .dataframe tbody tr th {\n",
              "        vertical-align: top;\n",
              "    }\n",
              "\n",
              "    .dataframe thead th {\n",
              "        text-align: right;\n",
              "    }\n",
              "</style>\n",
              "<table border=\"1\" class=\"dataframe\">\n",
              "  <thead>\n",
              "    <tr style=\"text-align: right;\">\n",
              "      <th></th>\n",
              "      <th>hats</th>\n",
              "      <th>pants</th>\n",
              "      <th>glasses</th>\n",
              "      <th>shirts</th>\n",
              "    </tr>\n",
              "  </thead>\n",
              "  <tbody>\n",
              "    <tr>\n",
              "      <th>last store</th>\n",
              "      <td>20</td>\n",
              "      <td>30</td>\n",
              "      <td>4.0</td>\n",
              "      <td>NaN</td>\n",
              "    </tr>\n",
              "  </tbody>\n",
              "</table>\n",
              "</div>"
            ],
            "text/plain": [
              "            hats  pants  glasses  shirts\n",
              "last store    20     30      4.0     NaN"
            ]
          },
          "metadata": {},
          "execution_count": 125
        }
      ]
    },
    {
      "cell_type": "markdown",
      "source": [
        "You can also change the index to be one of the columns in the DataFrame."
      ],
      "metadata": {
        "id": "F8KDaw__YGzs"
      }
    },
    {
      "cell_type": "code",
      "source": [
        "# We change the row index to be the data in the pants column\n",
        "store_items = store_items.set_index('pants')\n",
        "\n",
        "# we display the modified DataFrame\n",
        "store_items"
      ],
      "metadata": {
        "colab": {
          "base_uri": "https://localhost:8080/"
        },
        "id": "09ePYw4cYJ7b",
        "outputId": "ddbc01bb-3a0d-48ff-9c94-4747cda91bb2"
      },
      "execution_count": null,
      "outputs": [
        {
          "output_type": "execute_result",
          "data": {
            "text/html": [
              "<div>\n",
              "<style scoped>\n",
              "    .dataframe tbody tr th:only-of-type {\n",
              "        vertical-align: middle;\n",
              "    }\n",
              "\n",
              "    .dataframe tbody tr th {\n",
              "        vertical-align: top;\n",
              "    }\n",
              "\n",
              "    .dataframe thead th {\n",
              "        text-align: right;\n",
              "    }\n",
              "</style>\n",
              "<table border=\"1\" class=\"dataframe\">\n",
              "  <thead>\n",
              "    <tr style=\"text-align: right;\">\n",
              "      <th></th>\n",
              "      <th>hats</th>\n",
              "      <th>glasses</th>\n",
              "      <th>shirts</th>\n",
              "    </tr>\n",
              "    <tr>\n",
              "      <th>pants</th>\n",
              "      <th></th>\n",
              "      <th></th>\n",
              "      <th></th>\n",
              "    </tr>\n",
              "  </thead>\n",
              "  <tbody>\n",
              "    <tr>\n",
              "      <th>30</th>\n",
              "      <td>20</td>\n",
              "      <td>4.0</td>\n",
              "      <td>NaN</td>\n",
              "    </tr>\n",
              "  </tbody>\n",
              "</table>\n",
              "</div>"
            ],
            "text/plain": [
              "       hats  glasses  shirts\n",
              "pants                       \n",
              "30       20      4.0     NaN"
            ]
          },
          "metadata": {},
          "execution_count": 126
        }
      ]
    },
    {
      "cell_type": "markdown",
      "source": [
        "###### Dealing with NaN"
      ],
      "metadata": {
        "id": "GaEuBbZUYQuc"
      }
    },
    {
      "cell_type": "markdown",
      "source": [
        "As mentioned earlier, before we can begin training our learning algorithms with large datasets, we usually need to clean the data first. This means we need to have a method for detecting and correcting errors in our data. While any given dataset can have many types of bad data, such as outliers or incorrect values, the type of bad data we encounter almost always is missing values. As we saw earlier, Pandas assigns NaN values to missing data. In this lesson we will learn how to detect and deal with NaN values.\n",
        "\n",
        "We will begin by creating a DataFrame with some NaN values in it."
      ],
      "metadata": {
        "id": "9upY13lmYYFO"
      }
    },
    {
      "cell_type": "code",
      "source": [
        "# We create a list of Python dictionaries\n",
        "items2 = [{'bikes': 20, 'pants': 30, 'watches': 35, 'shirts': 15, 'shoes':8, 'suits':45},\n",
        "{'watches': 10, 'glasses': 50, 'bikes': 15, 'pants':5, 'shirts': 2, 'shoes':5, 'suits':7},\n",
        "{'bikes': 20, 'pants': 30, 'watches': 35, 'glasses': 4, 'shoes':10}]\n",
        "\n",
        "# We create a DataFrame  and provide the row index\n",
        "store_items = pd.DataFrame(items2, index = ['store 1', 'store 2', 'store 3'])\n",
        "\n",
        "# We display the DataFrame\n",
        "store_items"
      ],
      "metadata": {
        "colab": {
          "base_uri": "https://localhost:8080/"
        },
        "id": "miq_YnbeYTR7",
        "outputId": "3966f0d4-cc39-43b3-d1ef-c91903d2ad46"
      },
      "execution_count": null,
      "outputs": [
        {
          "output_type": "execute_result",
          "data": {
            "text/html": [
              "<div>\n",
              "<style scoped>\n",
              "    .dataframe tbody tr th:only-of-type {\n",
              "        vertical-align: middle;\n",
              "    }\n",
              "\n",
              "    .dataframe tbody tr th {\n",
              "        vertical-align: top;\n",
              "    }\n",
              "\n",
              "    .dataframe thead th {\n",
              "        text-align: right;\n",
              "    }\n",
              "</style>\n",
              "<table border=\"1\" class=\"dataframe\">\n",
              "  <thead>\n",
              "    <tr style=\"text-align: right;\">\n",
              "      <th></th>\n",
              "      <th>bikes</th>\n",
              "      <th>pants</th>\n",
              "      <th>watches</th>\n",
              "      <th>shirts</th>\n",
              "      <th>shoes</th>\n",
              "      <th>suits</th>\n",
              "      <th>glasses</th>\n",
              "    </tr>\n",
              "  </thead>\n",
              "  <tbody>\n",
              "    <tr>\n",
              "      <th>store 1</th>\n",
              "      <td>20</td>\n",
              "      <td>30</td>\n",
              "      <td>35</td>\n",
              "      <td>15.0</td>\n",
              "      <td>8</td>\n",
              "      <td>45.0</td>\n",
              "      <td>NaN</td>\n",
              "    </tr>\n",
              "    <tr>\n",
              "      <th>store 2</th>\n",
              "      <td>15</td>\n",
              "      <td>5</td>\n",
              "      <td>10</td>\n",
              "      <td>2.0</td>\n",
              "      <td>5</td>\n",
              "      <td>7.0</td>\n",
              "      <td>50.0</td>\n",
              "    </tr>\n",
              "    <tr>\n",
              "      <th>store 3</th>\n",
              "      <td>20</td>\n",
              "      <td>30</td>\n",
              "      <td>35</td>\n",
              "      <td>NaN</td>\n",
              "      <td>10</td>\n",
              "      <td>NaN</td>\n",
              "      <td>4.0</td>\n",
              "    </tr>\n",
              "  </tbody>\n",
              "</table>\n",
              "</div>"
            ],
            "text/plain": [
              "         bikes  pants  watches  shirts  shoes  suits  glasses\n",
              "store 1     20     30       35    15.0      8   45.0      NaN\n",
              "store 2     15      5       10     2.0      5    7.0     50.0\n",
              "store 3     20     30       35     NaN     10    NaN      4.0"
            ]
          },
          "metadata": {},
          "execution_count": 127
        }
      ]
    },
    {
      "cell_type": "markdown",
      "source": [
        "We can clearly see that the DataFrame we created has 3 NaN values: one in store 1 and two in store 3. However, in cases where we load very large datasets into a DataFrame, possibly with millions of items, the number of NaN values is not easily visualized. For these cases, we can use a combination of methods to count the number of NaN values in our data. The following example combines the .isnull() and the sum() methods to count the number of NaN values in our DataFrame"
      ],
      "metadata": {
        "id": "pkQSheyPYcPS"
      }
    },
    {
      "cell_type": "code",
      "source": [
        "# We count the number of NaN values in store_items\n",
        "x =  store_items.isnull().sum().sum()\n",
        "\n",
        "# We print x\n",
        "print('Number of NaN values in our DataFrame:', x)"
      ],
      "metadata": {
        "colab": {
          "base_uri": "https://localhost:8080/"
        },
        "id": "SbSoe7WdYevJ",
        "outputId": "e44b9303-58cf-4760-eaec-c60ee7edd965"
      },
      "execution_count": null,
      "outputs": [
        {
          "output_type": "stream",
          "name": "stdout",
          "text": [
            "Number of NaN values in our DataFrame: 3\n"
          ]
        }
      ]
    },
    {
      "cell_type": "markdown",
      "source": [
        "In the above example, the .isnull() method returns a Boolean DataFrame of the same size as store_items and indicates with True the elements that have NaN values and with False the elements that are not. Let's see an example:"
      ],
      "metadata": {
        "id": "axD0UWeWYhAX"
      }
    },
    {
      "cell_type": "code",
      "source": [
        "store_items.isnull()"
      ],
      "metadata": {
        "colab": {
          "base_uri": "https://localhost:8080/"
        },
        "id": "j8jnm0hPYj6e",
        "outputId": "196f262d-27f5-4599-8056-2adf21cffd15"
      },
      "execution_count": null,
      "outputs": [
        {
          "output_type": "execute_result",
          "data": {
            "text/html": [
              "<div>\n",
              "<style scoped>\n",
              "    .dataframe tbody tr th:only-of-type {\n",
              "        vertical-align: middle;\n",
              "    }\n",
              "\n",
              "    .dataframe tbody tr th {\n",
              "        vertical-align: top;\n",
              "    }\n",
              "\n",
              "    .dataframe thead th {\n",
              "        text-align: right;\n",
              "    }\n",
              "</style>\n",
              "<table border=\"1\" class=\"dataframe\">\n",
              "  <thead>\n",
              "    <tr style=\"text-align: right;\">\n",
              "      <th></th>\n",
              "      <th>bikes</th>\n",
              "      <th>pants</th>\n",
              "      <th>watches</th>\n",
              "      <th>shirts</th>\n",
              "      <th>shoes</th>\n",
              "      <th>suits</th>\n",
              "      <th>glasses</th>\n",
              "    </tr>\n",
              "  </thead>\n",
              "  <tbody>\n",
              "    <tr>\n",
              "      <th>store 1</th>\n",
              "      <td>False</td>\n",
              "      <td>False</td>\n",
              "      <td>False</td>\n",
              "      <td>False</td>\n",
              "      <td>False</td>\n",
              "      <td>False</td>\n",
              "      <td>True</td>\n",
              "    </tr>\n",
              "    <tr>\n",
              "      <th>store 2</th>\n",
              "      <td>False</td>\n",
              "      <td>False</td>\n",
              "      <td>False</td>\n",
              "      <td>False</td>\n",
              "      <td>False</td>\n",
              "      <td>False</td>\n",
              "      <td>False</td>\n",
              "    </tr>\n",
              "    <tr>\n",
              "      <th>store 3</th>\n",
              "      <td>False</td>\n",
              "      <td>False</td>\n",
              "      <td>False</td>\n",
              "      <td>True</td>\n",
              "      <td>False</td>\n",
              "      <td>True</td>\n",
              "      <td>False</td>\n",
              "    </tr>\n",
              "  </tbody>\n",
              "</table>\n",
              "</div>"
            ],
            "text/plain": [
              "         bikes  pants  watches  shirts  shoes  suits  glasses\n",
              "store 1  False  False    False   False  False  False     True\n",
              "store 2  False  False    False   False  False  False    False\n",
              "store 3  False  False    False    True  False   True    False"
            ]
          },
          "metadata": {},
          "execution_count": 129
        }
      ]
    },
    {
      "cell_type": "markdown",
      "source": [
        "In Pandas, logical True values have numerical value 1 and logical False values have numerical value 0. Therefore, we can count the number of NaN values by counting the number of logical True values. In order to count the total number of logical True values we use the .sum() method twice. We have to use it twice because the first sum returns a Pandas Series with the sums of logical True values along columns, as we see below:"
      ],
      "metadata": {
        "id": "rmwHKlJgYmiI"
      }
    },
    {
      "cell_type": "code",
      "source": [
        "store_items.isnull().sum()"
      ],
      "metadata": {
        "colab": {
          "base_uri": "https://localhost:8080/"
        },
        "id": "I1jj_MyaYodY",
        "outputId": "222d08fb-9a8e-4d53-bce9-a659124cf1ad"
      },
      "execution_count": null,
      "outputs": [
        {
          "output_type": "execute_result",
          "data": {
            "text/plain": [
              "bikes      0\n",
              "pants      0\n",
              "watches    0\n",
              "shirts     1\n",
              "shoes      0\n",
              "suits      1\n",
              "glasses    1\n",
              "dtype: int64"
            ]
          },
          "metadata": {},
          "execution_count": 130
        }
      ]
    },
    {
      "cell_type": "markdown",
      "source": [
        "The second sum will then add up the 1s in the above Pandas Series.\n",
        "\n",
        "Instead of counting the number of NaN values we can also do the opposite, we can count the number of non-NaN values. We can do this by using the .count() method as shown below:"
      ],
      "metadata": {
        "id": "sPZlQsmdYtDK"
      }
    },
    {
      "cell_type": "code",
      "source": [
        "# We print the number of non-NaN values in our DataFrame\n",
        "print()\n",
        "print('Number of non-NaN values in the columns of our DataFrame:\\n', store_items.count())"
      ],
      "metadata": {
        "colab": {
          "base_uri": "https://localhost:8080/"
        },
        "id": "5bwfpWX9Yvdx",
        "outputId": "4099952c-147f-41d6-f0bc-c3032134fbb1"
      },
      "execution_count": null,
      "outputs": [
        {
          "output_type": "stream",
          "name": "stdout",
          "text": [
            "\n",
            "Number of non-NaN values in the columns of our DataFrame:\n",
            " bikes      3\n",
            "pants      3\n",
            "watches    3\n",
            "shirts     2\n",
            "shoes      3\n",
            "suits      2\n",
            "glasses    2\n",
            "dtype: int64\n"
          ]
        }
      ]
    },
    {
      "cell_type": "markdown",
      "source": [
        "**Eliminating NaN Values**\n",
        "\n",
        "Now that we learned how to know if our dataset has any NaN values in it, the next step is to decide what to do with them. In general, we have two options, we can either delete or replace the NaN values. In the following examples, we will show you how to do both.\n",
        "\n",
        "We will start by learning how to eliminate rows or columns from our DataFrame that contain any NaN values. The .dropna(axis) method eliminates any rows with NaN values when axis = 0 is used and will eliminate any columns with NaN values when axis = 1 is used.\n",
        "\n",
        "Tip: Remember, you learned that you can read axis = 0 as \"down\" and axis = 1 as \"across\" the given Numpy ndarray or Pandas dataframe object."
      ],
      "metadata": {
        "id": "RlBTylGWYygk"
      }
    },
    {
      "cell_type": "code",
      "source": [
        "# We drop any rows with NaN values\n",
        "store_items.dropna(axis = 0)"
      ],
      "metadata": {
        "colab": {
          "base_uri": "https://localhost:8080/"
        },
        "id": "YvzSfhAuY3tr",
        "outputId": "0db9537c-131d-4104-e36d-73a78b33b704"
      },
      "execution_count": null,
      "outputs": [
        {
          "output_type": "execute_result",
          "data": {
            "text/html": [
              "<div>\n",
              "<style scoped>\n",
              "    .dataframe tbody tr th:only-of-type {\n",
              "        vertical-align: middle;\n",
              "    }\n",
              "\n",
              "    .dataframe tbody tr th {\n",
              "        vertical-align: top;\n",
              "    }\n",
              "\n",
              "    .dataframe thead th {\n",
              "        text-align: right;\n",
              "    }\n",
              "</style>\n",
              "<table border=\"1\" class=\"dataframe\">\n",
              "  <thead>\n",
              "    <tr style=\"text-align: right;\">\n",
              "      <th></th>\n",
              "      <th>bikes</th>\n",
              "      <th>pants</th>\n",
              "      <th>watches</th>\n",
              "      <th>shirts</th>\n",
              "      <th>shoes</th>\n",
              "      <th>suits</th>\n",
              "      <th>glasses</th>\n",
              "    </tr>\n",
              "  </thead>\n",
              "  <tbody>\n",
              "    <tr>\n",
              "      <th>store 2</th>\n",
              "      <td>15</td>\n",
              "      <td>5</td>\n",
              "      <td>10</td>\n",
              "      <td>2.0</td>\n",
              "      <td>5</td>\n",
              "      <td>7.0</td>\n",
              "      <td>50.0</td>\n",
              "    </tr>\n",
              "  </tbody>\n",
              "</table>\n",
              "</div>"
            ],
            "text/plain": [
              "         bikes  pants  watches  shirts  shoes  suits  glasses\n",
              "store 2     15      5       10     2.0      5    7.0     50.0"
            ]
          },
          "metadata": {},
          "execution_count": 132
        }
      ]
    },
    {
      "cell_type": "code",
      "source": [
        "# We drop any columns with NaN values\n",
        "store_items.dropna(axis = 1)"
      ],
      "metadata": {
        "colab": {
          "base_uri": "https://localhost:8080/"
        },
        "id": "sACBNCpFY9Vd",
        "outputId": "64c06255-f170-4719-a732-9f5db8da61a3"
      },
      "execution_count": null,
      "outputs": [
        {
          "output_type": "execute_result",
          "data": {
            "text/html": [
              "<div>\n",
              "<style scoped>\n",
              "    .dataframe tbody tr th:only-of-type {\n",
              "        vertical-align: middle;\n",
              "    }\n",
              "\n",
              "    .dataframe tbody tr th {\n",
              "        vertical-align: top;\n",
              "    }\n",
              "\n",
              "    .dataframe thead th {\n",
              "        text-align: right;\n",
              "    }\n",
              "</style>\n",
              "<table border=\"1\" class=\"dataframe\">\n",
              "  <thead>\n",
              "    <tr style=\"text-align: right;\">\n",
              "      <th></th>\n",
              "      <th>bikes</th>\n",
              "      <th>pants</th>\n",
              "      <th>watches</th>\n",
              "      <th>shoes</th>\n",
              "    </tr>\n",
              "  </thead>\n",
              "  <tbody>\n",
              "    <tr>\n",
              "      <th>store 1</th>\n",
              "      <td>20</td>\n",
              "      <td>30</td>\n",
              "      <td>35</td>\n",
              "      <td>8</td>\n",
              "    </tr>\n",
              "    <tr>\n",
              "      <th>store 2</th>\n",
              "      <td>15</td>\n",
              "      <td>5</td>\n",
              "      <td>10</td>\n",
              "      <td>5</td>\n",
              "    </tr>\n",
              "    <tr>\n",
              "      <th>store 3</th>\n",
              "      <td>20</td>\n",
              "      <td>30</td>\n",
              "      <td>35</td>\n",
              "      <td>10</td>\n",
              "    </tr>\n",
              "  </tbody>\n",
              "</table>\n",
              "</div>"
            ],
            "text/plain": [
              "         bikes  pants  watches  shoes\n",
              "store 1     20     30       35      8\n",
              "store 2     15      5       10      5\n",
              "store 3     20     30       35     10"
            ]
          },
          "metadata": {},
          "execution_count": 135
        }
      ]
    },
    {
      "cell_type": "markdown",
      "source": [
        "Notice that the .dropna() method eliminates (drops) the rows or columns with NaN values out of place. This means that the original DataFrame is not modified. You can always remove the desired rows or columns in place by setting the keyword inplace = True inside the dropna() function."
      ],
      "metadata": {
        "id": "L1u46X8pZEYT"
      }
    },
    {
      "cell_type": "markdown",
      "source": [
        "**Substituting NaN Values**\n",
        "\n",
        "Now, instead of eliminating NaN values, we can replace them with suitable values. We could choose for example to replace all NaN values with the value 0. We can do this by using the .fillna() method as shown below."
      ],
      "metadata": {
        "id": "2zFUn5q9ZHnf"
      }
    },
    {
      "cell_type": "code",
      "source": [
        "# We replace all NaN values with 0\n",
        "store_items.fillna(0)"
      ],
      "metadata": {
        "colab": {
          "base_uri": "https://localhost:8080/"
        },
        "id": "upIZU4rxZG2D",
        "outputId": "0609afec-e974-410c-e1e4-1db3ac5df264"
      },
      "execution_count": null,
      "outputs": [
        {
          "output_type": "execute_result",
          "data": {
            "text/html": [
              "<div>\n",
              "<style scoped>\n",
              "    .dataframe tbody tr th:only-of-type {\n",
              "        vertical-align: middle;\n",
              "    }\n",
              "\n",
              "    .dataframe tbody tr th {\n",
              "        vertical-align: top;\n",
              "    }\n",
              "\n",
              "    .dataframe thead th {\n",
              "        text-align: right;\n",
              "    }\n",
              "</style>\n",
              "<table border=\"1\" class=\"dataframe\">\n",
              "  <thead>\n",
              "    <tr style=\"text-align: right;\">\n",
              "      <th></th>\n",
              "      <th>bikes</th>\n",
              "      <th>pants</th>\n",
              "      <th>watches</th>\n",
              "      <th>shirts</th>\n",
              "      <th>shoes</th>\n",
              "      <th>suits</th>\n",
              "      <th>glasses</th>\n",
              "    </tr>\n",
              "  </thead>\n",
              "  <tbody>\n",
              "    <tr>\n",
              "      <th>store 1</th>\n",
              "      <td>20</td>\n",
              "      <td>30</td>\n",
              "      <td>35</td>\n",
              "      <td>15.0</td>\n",
              "      <td>8</td>\n",
              "      <td>45.0</td>\n",
              "      <td>0.0</td>\n",
              "    </tr>\n",
              "    <tr>\n",
              "      <th>store 2</th>\n",
              "      <td>15</td>\n",
              "      <td>5</td>\n",
              "      <td>10</td>\n",
              "      <td>2.0</td>\n",
              "      <td>5</td>\n",
              "      <td>7.0</td>\n",
              "      <td>50.0</td>\n",
              "    </tr>\n",
              "    <tr>\n",
              "      <th>store 3</th>\n",
              "      <td>20</td>\n",
              "      <td>30</td>\n",
              "      <td>35</td>\n",
              "      <td>0.0</td>\n",
              "      <td>10</td>\n",
              "      <td>0.0</td>\n",
              "      <td>4.0</td>\n",
              "    </tr>\n",
              "  </tbody>\n",
              "</table>\n",
              "</div>"
            ],
            "text/plain": [
              "         bikes  pants  watches  shirts  shoes  suits  glasses\n",
              "store 1     20     30       35    15.0      8   45.0      0.0\n",
              "store 2     15      5       10     2.0      5    7.0     50.0\n",
              "store 3     20     30       35     0.0     10    0.0      4.0"
            ]
          },
          "metadata": {},
          "execution_count": 136
        }
      ]
    },
    {
      "cell_type": "markdown",
      "source": [
        "We can also use the .fillna() method to replace NaN values with previous values in the DataFrame, this is known as forward filling. When replacing NaN values with forward filling, we can use previous values taken from columns or rows. The .fillna(method = 'ffill', axis) will use the forward filling (ffill) method to replace NaN values using the previous known value along the given axis. Let's see some examples:"
      ],
      "metadata": {
        "id": "0hRGlHfqZOc1"
      }
    },
    {
      "cell_type": "code",
      "source": [
        "# We replace NaN values with the previous value in the column\n",
        "store_items.fillna(method = 'ffill', axis = 0)"
      ],
      "metadata": {
        "colab": {
          "base_uri": "https://localhost:8080/"
        },
        "id": "S0wCU83yZRu6",
        "outputId": "9e6272dc-b3af-463a-a972-2aa6552c8210"
      },
      "execution_count": null,
      "outputs": [
        {
          "output_type": "execute_result",
          "data": {
            "text/html": [
              "<div>\n",
              "<style scoped>\n",
              "    .dataframe tbody tr th:only-of-type {\n",
              "        vertical-align: middle;\n",
              "    }\n",
              "\n",
              "    .dataframe tbody tr th {\n",
              "        vertical-align: top;\n",
              "    }\n",
              "\n",
              "    .dataframe thead th {\n",
              "        text-align: right;\n",
              "    }\n",
              "</style>\n",
              "<table border=\"1\" class=\"dataframe\">\n",
              "  <thead>\n",
              "    <tr style=\"text-align: right;\">\n",
              "      <th></th>\n",
              "      <th>bikes</th>\n",
              "      <th>pants</th>\n",
              "      <th>watches</th>\n",
              "      <th>shirts</th>\n",
              "      <th>shoes</th>\n",
              "      <th>suits</th>\n",
              "      <th>glasses</th>\n",
              "    </tr>\n",
              "  </thead>\n",
              "  <tbody>\n",
              "    <tr>\n",
              "      <th>store 1</th>\n",
              "      <td>20</td>\n",
              "      <td>30</td>\n",
              "      <td>35</td>\n",
              "      <td>15.0</td>\n",
              "      <td>8</td>\n",
              "      <td>45.0</td>\n",
              "      <td>NaN</td>\n",
              "    </tr>\n",
              "    <tr>\n",
              "      <th>store 2</th>\n",
              "      <td>15</td>\n",
              "      <td>5</td>\n",
              "      <td>10</td>\n",
              "      <td>2.0</td>\n",
              "      <td>5</td>\n",
              "      <td>7.0</td>\n",
              "      <td>50.0</td>\n",
              "    </tr>\n",
              "    <tr>\n",
              "      <th>store 3</th>\n",
              "      <td>20</td>\n",
              "      <td>30</td>\n",
              "      <td>35</td>\n",
              "      <td>2.0</td>\n",
              "      <td>10</td>\n",
              "      <td>7.0</td>\n",
              "      <td>4.0</td>\n",
              "    </tr>\n",
              "  </tbody>\n",
              "</table>\n",
              "</div>"
            ],
            "text/plain": [
              "         bikes  pants  watches  shirts  shoes  suits  glasses\n",
              "store 1     20     30       35    15.0      8   45.0      NaN\n",
              "store 2     15      5       10     2.0      5    7.0     50.0\n",
              "store 3     20     30       35     2.0     10    7.0      4.0"
            ]
          },
          "metadata": {},
          "execution_count": 137
        }
      ]
    },
    {
      "cell_type": "markdown",
      "source": [
        "Notice that the two NaN values in store 3 have been replaced with previous values in their columns. However, notice that the NaN value in store 1 didn't get replaced. That's because there are no previous values in this column, since the NaN value is the first value in that column. However, if we do forward fill using the previous row values, this won't happen. Let's take a look:"
      ],
      "metadata": {
        "id": "DfCGWQ5HZUQD"
      }
    },
    {
      "cell_type": "code",
      "source": [
        "# We replace NaN values with the previous value in the row\n",
        "store_items.fillna(method = 'ffill', axis = 1)"
      ],
      "metadata": {
        "colab": {
          "base_uri": "https://localhost:8080/"
        },
        "id": "9eyt4YZ3ZWk0",
        "outputId": "4d12feb0-3df9-4f9b-fa9c-e9b038ed6224"
      },
      "execution_count": null,
      "outputs": [
        {
          "output_type": "execute_result",
          "data": {
            "text/html": [
              "<div>\n",
              "<style scoped>\n",
              "    .dataframe tbody tr th:only-of-type {\n",
              "        vertical-align: middle;\n",
              "    }\n",
              "\n",
              "    .dataframe tbody tr th {\n",
              "        vertical-align: top;\n",
              "    }\n",
              "\n",
              "    .dataframe thead th {\n",
              "        text-align: right;\n",
              "    }\n",
              "</style>\n",
              "<table border=\"1\" class=\"dataframe\">\n",
              "  <thead>\n",
              "    <tr style=\"text-align: right;\">\n",
              "      <th></th>\n",
              "      <th>bikes</th>\n",
              "      <th>pants</th>\n",
              "      <th>watches</th>\n",
              "      <th>shirts</th>\n",
              "      <th>shoes</th>\n",
              "      <th>suits</th>\n",
              "      <th>glasses</th>\n",
              "    </tr>\n",
              "  </thead>\n",
              "  <tbody>\n",
              "    <tr>\n",
              "      <th>store 1</th>\n",
              "      <td>20.0</td>\n",
              "      <td>30.0</td>\n",
              "      <td>35.0</td>\n",
              "      <td>15.0</td>\n",
              "      <td>8.0</td>\n",
              "      <td>45.0</td>\n",
              "      <td>45.0</td>\n",
              "    </tr>\n",
              "    <tr>\n",
              "      <th>store 2</th>\n",
              "      <td>15.0</td>\n",
              "      <td>5.0</td>\n",
              "      <td>10.0</td>\n",
              "      <td>2.0</td>\n",
              "      <td>5.0</td>\n",
              "      <td>7.0</td>\n",
              "      <td>50.0</td>\n",
              "    </tr>\n",
              "    <tr>\n",
              "      <th>store 3</th>\n",
              "      <td>20.0</td>\n",
              "      <td>30.0</td>\n",
              "      <td>35.0</td>\n",
              "      <td>35.0</td>\n",
              "      <td>10.0</td>\n",
              "      <td>10.0</td>\n",
              "      <td>4.0</td>\n",
              "    </tr>\n",
              "  </tbody>\n",
              "</table>\n",
              "</div>"
            ],
            "text/plain": [
              "         bikes  pants  watches  shirts  shoes  suits  glasses\n",
              "store 1   20.0   30.0     35.0    15.0    8.0   45.0     45.0\n",
              "store 2   15.0    5.0     10.0     2.0    5.0    7.0     50.0\n",
              "store 3   20.0   30.0     35.0    35.0   10.0   10.0      4.0"
            ]
          },
          "metadata": {},
          "execution_count": 138
        }
      ]
    },
    {
      "cell_type": "markdown",
      "source": [
        "We see that in this case all the NaN values have been replaced with the previous row values.\n",
        "\n",
        "Similarly, you can choose to replace the NaN values with the values that go after them in the DataFrame, this is known as backward filling. The .fillna(method = 'backfill', axis) will use the backward filling (backfill) method to replace NaN values using the next known value along the given axis. Just like with forward filling we can choose to use row or column values. Let's see some examples:"
      ],
      "metadata": {
        "id": "TWw-_obGZZxz"
      }
    },
    {
      "cell_type": "code",
      "source": [
        "# We replace NaN values with the next value in the column\n",
        "store_items.fillna(method = 'backfill', axis = 0)"
      ],
      "metadata": {
        "colab": {
          "base_uri": "https://localhost:8080/"
        },
        "id": "kZnOLjSuZZVK",
        "outputId": "a709714a-a73d-4634-e8e2-232b661be8b0"
      },
      "execution_count": null,
      "outputs": [
        {
          "output_type": "execute_result",
          "data": {
            "text/html": [
              "<div>\n",
              "<style scoped>\n",
              "    .dataframe tbody tr th:only-of-type {\n",
              "        vertical-align: middle;\n",
              "    }\n",
              "\n",
              "    .dataframe tbody tr th {\n",
              "        vertical-align: top;\n",
              "    }\n",
              "\n",
              "    .dataframe thead th {\n",
              "        text-align: right;\n",
              "    }\n",
              "</style>\n",
              "<table border=\"1\" class=\"dataframe\">\n",
              "  <thead>\n",
              "    <tr style=\"text-align: right;\">\n",
              "      <th></th>\n",
              "      <th>bikes</th>\n",
              "      <th>pants</th>\n",
              "      <th>watches</th>\n",
              "      <th>shirts</th>\n",
              "      <th>shoes</th>\n",
              "      <th>suits</th>\n",
              "      <th>glasses</th>\n",
              "    </tr>\n",
              "  </thead>\n",
              "  <tbody>\n",
              "    <tr>\n",
              "      <th>store 1</th>\n",
              "      <td>20</td>\n",
              "      <td>30</td>\n",
              "      <td>35</td>\n",
              "      <td>15.0</td>\n",
              "      <td>8</td>\n",
              "      <td>45.0</td>\n",
              "      <td>50.0</td>\n",
              "    </tr>\n",
              "    <tr>\n",
              "      <th>store 2</th>\n",
              "      <td>15</td>\n",
              "      <td>5</td>\n",
              "      <td>10</td>\n",
              "      <td>2.0</td>\n",
              "      <td>5</td>\n",
              "      <td>7.0</td>\n",
              "      <td>50.0</td>\n",
              "    </tr>\n",
              "    <tr>\n",
              "      <th>store 3</th>\n",
              "      <td>20</td>\n",
              "      <td>30</td>\n",
              "      <td>35</td>\n",
              "      <td>NaN</td>\n",
              "      <td>10</td>\n",
              "      <td>NaN</td>\n",
              "      <td>4.0</td>\n",
              "    </tr>\n",
              "  </tbody>\n",
              "</table>\n",
              "</div>"
            ],
            "text/plain": [
              "         bikes  pants  watches  shirts  shoes  suits  glasses\n",
              "store 1     20     30       35    15.0      8   45.0     50.0\n",
              "store 2     15      5       10     2.0      5    7.0     50.0\n",
              "store 3     20     30       35     NaN     10    NaN      4.0"
            ]
          },
          "metadata": {},
          "execution_count": 139
        }
      ]
    },
    {
      "cell_type": "markdown",
      "source": [
        "Notice that the NaN value in store 1 has been replaced with the next value in its column. However, notice that the two NaN values in store 3 didn't get replaced. That's because there are no next values in these columns, since these NaN values are the last values in those columns. However, if we do backward fill using the next row values, this won't happen. Let's take a look:"
      ],
      "metadata": {
        "id": "IBom-8R4Zf2D"
      }
    },
    {
      "cell_type": "markdown",
      "source": [
        "Backward fill NaN values across (axis = 1) the dataframe"
      ],
      "metadata": {
        "id": "Mc8wAhiRZjHM"
      }
    },
    {
      "cell_type": "code",
      "source": [
        "# We replace NaN values with the next value in the row\n",
        "store_items.fillna(method = 'backfill', axis = 1)"
      ],
      "metadata": {
        "colab": {
          "base_uri": "https://localhost:8080/"
        },
        "id": "CNxIKRmuZlre",
        "outputId": "3e43956b-9ea9-4093-e632-6a10e34cc853"
      },
      "execution_count": null,
      "outputs": [
        {
          "output_type": "execute_result",
          "data": {
            "text/html": [
              "<div>\n",
              "<style scoped>\n",
              "    .dataframe tbody tr th:only-of-type {\n",
              "        vertical-align: middle;\n",
              "    }\n",
              "\n",
              "    .dataframe tbody tr th {\n",
              "        vertical-align: top;\n",
              "    }\n",
              "\n",
              "    .dataframe thead th {\n",
              "        text-align: right;\n",
              "    }\n",
              "</style>\n",
              "<table border=\"1\" class=\"dataframe\">\n",
              "  <thead>\n",
              "    <tr style=\"text-align: right;\">\n",
              "      <th></th>\n",
              "      <th>bikes</th>\n",
              "      <th>pants</th>\n",
              "      <th>watches</th>\n",
              "      <th>shirts</th>\n",
              "      <th>shoes</th>\n",
              "      <th>suits</th>\n",
              "      <th>glasses</th>\n",
              "    </tr>\n",
              "  </thead>\n",
              "  <tbody>\n",
              "    <tr>\n",
              "      <th>store 1</th>\n",
              "      <td>20.0</td>\n",
              "      <td>30.0</td>\n",
              "      <td>35.0</td>\n",
              "      <td>15.0</td>\n",
              "      <td>8.0</td>\n",
              "      <td>45.0</td>\n",
              "      <td>NaN</td>\n",
              "    </tr>\n",
              "    <tr>\n",
              "      <th>store 2</th>\n",
              "      <td>15.0</td>\n",
              "      <td>5.0</td>\n",
              "      <td>10.0</td>\n",
              "      <td>2.0</td>\n",
              "      <td>5.0</td>\n",
              "      <td>7.0</td>\n",
              "      <td>50.0</td>\n",
              "    </tr>\n",
              "    <tr>\n",
              "      <th>store 3</th>\n",
              "      <td>20.0</td>\n",
              "      <td>30.0</td>\n",
              "      <td>35.0</td>\n",
              "      <td>10.0</td>\n",
              "      <td>10.0</td>\n",
              "      <td>4.0</td>\n",
              "      <td>4.0</td>\n",
              "    </tr>\n",
              "  </tbody>\n",
              "</table>\n",
              "</div>"
            ],
            "text/plain": [
              "         bikes  pants  watches  shirts  shoes  suits  glasses\n",
              "store 1   20.0   30.0     35.0    15.0    8.0   45.0      NaN\n",
              "store 2   15.0    5.0     10.0     2.0    5.0    7.0     50.0\n",
              "store 3   20.0   30.0     35.0    10.0   10.0    4.0      4.0"
            ]
          },
          "metadata": {},
          "execution_count": 140
        }
      ]
    },
    {
      "cell_type": "markdown",
      "source": [
        "Notice that the .fillna() method replaces (fills) the NaN values out of place. This means that the original DataFrame is not modified. You can always replace the NaN values in place by setting the keyword inplace = True inside the fillna() function.\n",
        "\n",
        "We can also choose to replace NaN values by using different interpolation methods. For example, the .interpolate(method = 'linear', axis) method will use linear interpolation to replace NaN values using the values along the given axis. Let's see some examples:"
      ],
      "metadata": {
        "id": "PB0nsAnKZorw"
      }
    },
    {
      "cell_type": "code",
      "source": [
        "# We replace NaN values by using linear interpolation using column values\n",
        "store_items.interpolate(method = 'linear', axis = 0)"
      ],
      "metadata": {
        "colab": {
          "base_uri": "https://localhost:8080/"
        },
        "id": "UAtiFXtRZtkX",
        "outputId": "57746d4b-181a-4b58-eded-afda70d58b7c"
      },
      "execution_count": null,
      "outputs": [
        {
          "output_type": "execute_result",
          "data": {
            "text/html": [
              "<div>\n",
              "<style scoped>\n",
              "    .dataframe tbody tr th:only-of-type {\n",
              "        vertical-align: middle;\n",
              "    }\n",
              "\n",
              "    .dataframe tbody tr th {\n",
              "        vertical-align: top;\n",
              "    }\n",
              "\n",
              "    .dataframe thead th {\n",
              "        text-align: right;\n",
              "    }\n",
              "</style>\n",
              "<table border=\"1\" class=\"dataframe\">\n",
              "  <thead>\n",
              "    <tr style=\"text-align: right;\">\n",
              "      <th></th>\n",
              "      <th>bikes</th>\n",
              "      <th>pants</th>\n",
              "      <th>watches</th>\n",
              "      <th>shirts</th>\n",
              "      <th>shoes</th>\n",
              "      <th>suits</th>\n",
              "      <th>glasses</th>\n",
              "    </tr>\n",
              "  </thead>\n",
              "  <tbody>\n",
              "    <tr>\n",
              "      <th>store 1</th>\n",
              "      <td>20</td>\n",
              "      <td>30</td>\n",
              "      <td>35</td>\n",
              "      <td>15.0</td>\n",
              "      <td>8</td>\n",
              "      <td>45.0</td>\n",
              "      <td>NaN</td>\n",
              "    </tr>\n",
              "    <tr>\n",
              "      <th>store 2</th>\n",
              "      <td>15</td>\n",
              "      <td>5</td>\n",
              "      <td>10</td>\n",
              "      <td>2.0</td>\n",
              "      <td>5</td>\n",
              "      <td>7.0</td>\n",
              "      <td>50.0</td>\n",
              "    </tr>\n",
              "    <tr>\n",
              "      <th>store 3</th>\n",
              "      <td>20</td>\n",
              "      <td>30</td>\n",
              "      <td>35</td>\n",
              "      <td>2.0</td>\n",
              "      <td>10</td>\n",
              "      <td>7.0</td>\n",
              "      <td>4.0</td>\n",
              "    </tr>\n",
              "  </tbody>\n",
              "</table>\n",
              "</div>"
            ],
            "text/plain": [
              "         bikes  pants  watches  shirts  shoes  suits  glasses\n",
              "store 1     20     30       35    15.0      8   45.0      NaN\n",
              "store 2     15      5       10     2.0      5    7.0     50.0\n",
              "store 3     20     30       35     2.0     10    7.0      4.0"
            ]
          },
          "metadata": {},
          "execution_count": 141
        }
      ]
    },
    {
      "cell_type": "markdown",
      "source": [
        "Notice that the two NaN values in store 3 have been replaced with linear interpolated values. However, notice that the NaN value in store 1 didn't get replaced. That's because the NaN value is the first value in that column, and since there is no data before it, the interpolation function can't calculate a value. Now, let's interpolate using row values instead:"
      ],
      "metadata": {
        "id": "OBNTRa8rZu0Y"
      }
    },
    {
      "cell_type": "code",
      "source": [
        "# We replace NaN values by using linear interpolation using row values\n",
        "store_items.interpolate(method = 'linear', axis = 1)"
      ],
      "metadata": {
        "colab": {
          "base_uri": "https://localhost:8080/"
        },
        "id": "UV87whoyZx_9",
        "outputId": "97403b93-b409-471a-c39b-bfa2a49b987d"
      },
      "execution_count": null,
      "outputs": [
        {
          "output_type": "execute_result",
          "data": {
            "text/html": [
              "<div>\n",
              "<style scoped>\n",
              "    .dataframe tbody tr th:only-of-type {\n",
              "        vertical-align: middle;\n",
              "    }\n",
              "\n",
              "    .dataframe tbody tr th {\n",
              "        vertical-align: top;\n",
              "    }\n",
              "\n",
              "    .dataframe thead th {\n",
              "        text-align: right;\n",
              "    }\n",
              "</style>\n",
              "<table border=\"1\" class=\"dataframe\">\n",
              "  <thead>\n",
              "    <tr style=\"text-align: right;\">\n",
              "      <th></th>\n",
              "      <th>bikes</th>\n",
              "      <th>pants</th>\n",
              "      <th>watches</th>\n",
              "      <th>shirts</th>\n",
              "      <th>shoes</th>\n",
              "      <th>suits</th>\n",
              "      <th>glasses</th>\n",
              "    </tr>\n",
              "  </thead>\n",
              "  <tbody>\n",
              "    <tr>\n",
              "      <th>store 1</th>\n",
              "      <td>20.0</td>\n",
              "      <td>30.0</td>\n",
              "      <td>35.0</td>\n",
              "      <td>15.0</td>\n",
              "      <td>8.0</td>\n",
              "      <td>45.0</td>\n",
              "      <td>45.0</td>\n",
              "    </tr>\n",
              "    <tr>\n",
              "      <th>store 2</th>\n",
              "      <td>15.0</td>\n",
              "      <td>5.0</td>\n",
              "      <td>10.0</td>\n",
              "      <td>2.0</td>\n",
              "      <td>5.0</td>\n",
              "      <td>7.0</td>\n",
              "      <td>50.0</td>\n",
              "    </tr>\n",
              "    <tr>\n",
              "      <th>store 3</th>\n",
              "      <td>20.0</td>\n",
              "      <td>30.0</td>\n",
              "      <td>35.0</td>\n",
              "      <td>22.5</td>\n",
              "      <td>10.0</td>\n",
              "      <td>7.0</td>\n",
              "      <td>4.0</td>\n",
              "    </tr>\n",
              "  </tbody>\n",
              "</table>\n",
              "</div>"
            ],
            "text/plain": [
              "         bikes  pants  watches  shirts  shoes  suits  glasses\n",
              "store 1   20.0   30.0     35.0    15.0    8.0   45.0     45.0\n",
              "store 2   15.0    5.0     10.0     2.0    5.0    7.0     50.0\n",
              "store 3   20.0   30.0     35.0    22.5   10.0    7.0      4.0"
            ]
          },
          "metadata": {},
          "execution_count": 142
        }
      ]
    },
    {
      "cell_type": "markdown",
      "source": [
        "###### Loading and Manipulating Data"
      ],
      "metadata": {
        "id": "lq-C2RL5Z9rb"
      }
    },
    {
      "cell_type": "markdown",
      "source": [
        "The GOOG.csv and fake_company.csv are available to download at the bottom of this page. If it doesn't get downloaded upon clicking, try right-click and choose the \"Save As...\" option.\n",
        "\n",
        "In machine learning you will most likely use databases from many sources to train your learning algorithms. Pandas allows us to load databases of different formats into DataFrames. One of the most popular data formats used to store databases is csv. CSV stands for Comma Separated Values and offers a simple format to store data. We can load CSV files into Pandas DataFrames using the pd.read_csv() function. Let's load Google stock data into a Pandas DataFrame. The GOOG.csv file contains Google stock data from 8/19/2004 till 10/13/2017 taken from Yahoo Finance."
      ],
      "metadata": {
        "id": "ZbUXiQpjaBsL"
      }
    },
    {
      "cell_type": "code",
      "source": [
        "# We load Google stock data in a DataFrame\n",
        "Google_stock = pd.read_csv('/content/goog-1.csv')\n",
        "\n",
        "# We print some information about Google_stock\n",
        "print('Google_stock is of type:', type(Google_stock))\n",
        "print('Google_stock has shape:', Google_stock.shape)"
      ],
      "metadata": {
        "colab": {
          "base_uri": "https://localhost:8080/"
        },
        "id": "7BilXKILaCGt",
        "outputId": "12dd7e2d-3a75-4e25-f58f-a0aaa4041939"
      },
      "execution_count": null,
      "outputs": [
        {
          "output_type": "stream",
          "name": "stdout",
          "text": [
            "Google_stock is of type: <class 'pandas.core.frame.DataFrame'>\n",
            "Google_stock has shape: (3313, 7)\n"
          ]
        }
      ]
    },
    {
      "cell_type": "markdown",
      "source": [
        "We see that we have loaded the GOOG.csv file into a Pandas DataFrame and it consists of 3,313 rows and 7 columns. Now let's look at the stock data. \n",
        "\n",
        "We see that it is quite a large dataset and that Pandas has automatically assigned numerical row indices to the DataFrame. Pandas also used the labels that appear in the data in the CSV file to assign the column labels.\n",
        "\n",
        "When dealing with large datasets like this one, it is often useful just to take a look at the first few rows of data instead of the whole dataset. We can take a look at the first 5 rows of data using the .head() method, as shown below"
      ],
      "metadata": {
        "id": "uepgXvuFbsPW"
      }
    },
    {
      "cell_type": "code",
      "source": [
        "Google_stock.head()"
      ],
      "metadata": {
        "colab": {
          "base_uri": "https://localhost:8080/"
        },
        "id": "fhLS9-uebuPS",
        "outputId": "2a2f698d-ef33-4443-919f-ae499c9e5af6"
      },
      "execution_count": null,
      "outputs": [
        {
          "output_type": "execute_result",
          "data": {
            "text/html": [
              "<div>\n",
              "<style scoped>\n",
              "    .dataframe tbody tr th:only-of-type {\n",
              "        vertical-align: middle;\n",
              "    }\n",
              "\n",
              "    .dataframe tbody tr th {\n",
              "        vertical-align: top;\n",
              "    }\n",
              "\n",
              "    .dataframe thead th {\n",
              "        text-align: right;\n",
              "    }\n",
              "</style>\n",
              "<table border=\"1\" class=\"dataframe\">\n",
              "  <thead>\n",
              "    <tr style=\"text-align: right;\">\n",
              "      <th></th>\n",
              "      <th>Date</th>\n",
              "      <th>Open</th>\n",
              "      <th>High</th>\n",
              "      <th>Low</th>\n",
              "      <th>Close</th>\n",
              "      <th>Adj Close</th>\n",
              "      <th>Volume</th>\n",
              "    </tr>\n",
              "  </thead>\n",
              "  <tbody>\n",
              "    <tr>\n",
              "      <th>0</th>\n",
              "      <td>2004-08-19</td>\n",
              "      <td>49.676899</td>\n",
              "      <td>51.693783</td>\n",
              "      <td>47.669952</td>\n",
              "      <td>49.845802</td>\n",
              "      <td>49.845802</td>\n",
              "      <td>44994500</td>\n",
              "    </tr>\n",
              "    <tr>\n",
              "      <th>1</th>\n",
              "      <td>2004-08-20</td>\n",
              "      <td>50.178635</td>\n",
              "      <td>54.187561</td>\n",
              "      <td>49.925285</td>\n",
              "      <td>53.805050</td>\n",
              "      <td>53.805050</td>\n",
              "      <td>23005800</td>\n",
              "    </tr>\n",
              "    <tr>\n",
              "      <th>2</th>\n",
              "      <td>2004-08-23</td>\n",
              "      <td>55.017166</td>\n",
              "      <td>56.373344</td>\n",
              "      <td>54.172661</td>\n",
              "      <td>54.346527</td>\n",
              "      <td>54.346527</td>\n",
              "      <td>18393200</td>\n",
              "    </tr>\n",
              "    <tr>\n",
              "      <th>3</th>\n",
              "      <td>2004-08-24</td>\n",
              "      <td>55.260582</td>\n",
              "      <td>55.439419</td>\n",
              "      <td>51.450363</td>\n",
              "      <td>52.096165</td>\n",
              "      <td>52.096165</td>\n",
              "      <td>15361800</td>\n",
              "    </tr>\n",
              "    <tr>\n",
              "      <th>4</th>\n",
              "      <td>2004-08-25</td>\n",
              "      <td>52.140873</td>\n",
              "      <td>53.651051</td>\n",
              "      <td>51.604362</td>\n",
              "      <td>52.657513</td>\n",
              "      <td>52.657513</td>\n",
              "      <td>9257400</td>\n",
              "    </tr>\n",
              "  </tbody>\n",
              "</table>\n",
              "</div>"
            ],
            "text/plain": [
              "         Date       Open       High        Low      Close  Adj Close    Volume\n",
              "0  2004-08-19  49.676899  51.693783  47.669952  49.845802  49.845802  44994500\n",
              "1  2004-08-20  50.178635  54.187561  49.925285  53.805050  53.805050  23005800\n",
              "2  2004-08-23  55.017166  56.373344  54.172661  54.346527  54.346527  18393200\n",
              "3  2004-08-24  55.260582  55.439419  51.450363  52.096165  52.096165  15361800\n",
              "4  2004-08-25  52.140873  53.651051  51.604362  52.657513  52.657513   9257400"
            ]
          },
          "metadata": {},
          "execution_count": 146
        }
      ]
    },
    {
      "cell_type": "markdown",
      "source": [
        "We can also take a look at the last 5 rows of data by using the .tail() method:"
      ],
      "metadata": {
        "id": "3-w1fPzPb-42"
      }
    },
    {
      "cell_type": "code",
      "source": [
        "Google_stock.tail()"
      ],
      "metadata": {
        "colab": {
          "base_uri": "https://localhost:8080/"
        },
        "id": "3XmrVKh8cAH9",
        "outputId": "780d5d81-623f-4ed5-a435-e54a729a0b62"
      },
      "execution_count": null,
      "outputs": [
        {
          "output_type": "execute_result",
          "data": {
            "text/html": [
              "<div>\n",
              "<style scoped>\n",
              "    .dataframe tbody tr th:only-of-type {\n",
              "        vertical-align: middle;\n",
              "    }\n",
              "\n",
              "    .dataframe tbody tr th {\n",
              "        vertical-align: top;\n",
              "    }\n",
              "\n",
              "    .dataframe thead th {\n",
              "        text-align: right;\n",
              "    }\n",
              "</style>\n",
              "<table border=\"1\" class=\"dataframe\">\n",
              "  <thead>\n",
              "    <tr style=\"text-align: right;\">\n",
              "      <th></th>\n",
              "      <th>Date</th>\n",
              "      <th>Open</th>\n",
              "      <th>High</th>\n",
              "      <th>Low</th>\n",
              "      <th>Close</th>\n",
              "      <th>Adj Close</th>\n",
              "      <th>Volume</th>\n",
              "    </tr>\n",
              "  </thead>\n",
              "  <tbody>\n",
              "    <tr>\n",
              "      <th>3308</th>\n",
              "      <td>2017-10-09</td>\n",
              "      <td>980.000000</td>\n",
              "      <td>985.424988</td>\n",
              "      <td>976.109985</td>\n",
              "      <td>977.000000</td>\n",
              "      <td>977.000000</td>\n",
              "      <td>891400</td>\n",
              "    </tr>\n",
              "    <tr>\n",
              "      <th>3309</th>\n",
              "      <td>2017-10-10</td>\n",
              "      <td>980.000000</td>\n",
              "      <td>981.570007</td>\n",
              "      <td>966.080017</td>\n",
              "      <td>972.599976</td>\n",
              "      <td>972.599976</td>\n",
              "      <td>968400</td>\n",
              "    </tr>\n",
              "    <tr>\n",
              "      <th>3310</th>\n",
              "      <td>2017-10-11</td>\n",
              "      <td>973.719971</td>\n",
              "      <td>990.710022</td>\n",
              "      <td>972.250000</td>\n",
              "      <td>989.250000</td>\n",
              "      <td>989.250000</td>\n",
              "      <td>1693300</td>\n",
              "    </tr>\n",
              "    <tr>\n",
              "      <th>3311</th>\n",
              "      <td>2017-10-12</td>\n",
              "      <td>987.450012</td>\n",
              "      <td>994.119995</td>\n",
              "      <td>985.000000</td>\n",
              "      <td>987.830017</td>\n",
              "      <td>987.830017</td>\n",
              "      <td>1262400</td>\n",
              "    </tr>\n",
              "    <tr>\n",
              "      <th>3312</th>\n",
              "      <td>2017-10-13</td>\n",
              "      <td>992.000000</td>\n",
              "      <td>997.210022</td>\n",
              "      <td>989.000000</td>\n",
              "      <td>989.679993</td>\n",
              "      <td>989.679993</td>\n",
              "      <td>1157700</td>\n",
              "    </tr>\n",
              "  </tbody>\n",
              "</table>\n",
              "</div>"
            ],
            "text/plain": [
              "            Date        Open        High  ...       Close   Adj Close   Volume\n",
              "3308  2017-10-09  980.000000  985.424988  ...  977.000000  977.000000   891400\n",
              "3309  2017-10-10  980.000000  981.570007  ...  972.599976  972.599976   968400\n",
              "3310  2017-10-11  973.719971  990.710022  ...  989.250000  989.250000  1693300\n",
              "3311  2017-10-12  987.450012  994.119995  ...  987.830017  987.830017  1262400\n",
              "3312  2017-10-13  992.000000  997.210022  ...  989.679993  989.679993  1157700\n",
              "\n",
              "[5 rows x 7 columns]"
            ]
          },
          "metadata": {},
          "execution_count": 147
        }
      ]
    },
    {
      "cell_type": "markdown",
      "source": [
        "Let's do a quick check to see whether we have any NaN values in our dataset. To do this, we will use the .isnull() method followed by the .any() method to check whether any of the columns contain NaN values."
      ],
      "metadata": {
        "id": "BAPg45-vcF-j"
      }
    },
    {
      "cell_type": "code",
      "source": [
        "Google_stock.isnull().any()"
      ],
      "metadata": {
        "colab": {
          "base_uri": "https://localhost:8080/"
        },
        "id": "VIDoQzDXcHF4",
        "outputId": "07a3db88-a0f4-42b0-d230-29d436dc5942"
      },
      "execution_count": null,
      "outputs": [
        {
          "output_type": "execute_result",
          "data": {
            "text/plain": [
              "Date         False\n",
              "Open         False\n",
              "High         False\n",
              "Low          False\n",
              "Close        False\n",
              "Adj Close    False\n",
              "Volume       False\n",
              "dtype: bool"
            ]
          },
          "metadata": {},
          "execution_count": 148
        }
      ]
    },
    {
      "cell_type": "markdown",
      "source": [
        "We see that we have no NaN values.\n",
        "\n",
        "When dealing with large datasets, it is often useful to get statistical information from them. Pandas provides the .describe() method to get descriptive statistics on each column of the DataFrame. Let's see how this works:"
      ],
      "metadata": {
        "id": "r1lswZ9CcLdl"
      }
    },
    {
      "cell_type": "code",
      "source": [
        "# We get descriptive statistics on our stock data\n",
        "Google_stock.describe()"
      ],
      "metadata": {
        "colab": {
          "base_uri": "https://localhost:8080/"
        },
        "id": "9R8dDjzDcNsN",
        "outputId": "1f515ce8-0eac-422c-f9be-120550dd816b"
      },
      "execution_count": null,
      "outputs": [
        {
          "output_type": "execute_result",
          "data": {
            "text/html": [
              "<div>\n",
              "<style scoped>\n",
              "    .dataframe tbody tr th:only-of-type {\n",
              "        vertical-align: middle;\n",
              "    }\n",
              "\n",
              "    .dataframe tbody tr th {\n",
              "        vertical-align: top;\n",
              "    }\n",
              "\n",
              "    .dataframe thead th {\n",
              "        text-align: right;\n",
              "    }\n",
              "</style>\n",
              "<table border=\"1\" class=\"dataframe\">\n",
              "  <thead>\n",
              "    <tr style=\"text-align: right;\">\n",
              "      <th></th>\n",
              "      <th>Open</th>\n",
              "      <th>High</th>\n",
              "      <th>Low</th>\n",
              "      <th>Close</th>\n",
              "      <th>Adj Close</th>\n",
              "      <th>Volume</th>\n",
              "    </tr>\n",
              "  </thead>\n",
              "  <tbody>\n",
              "    <tr>\n",
              "      <th>count</th>\n",
              "      <td>3313.000000</td>\n",
              "      <td>3313.000000</td>\n",
              "      <td>3313.000000</td>\n",
              "      <td>3313.000000</td>\n",
              "      <td>3313.000000</td>\n",
              "      <td>3.313000e+03</td>\n",
              "    </tr>\n",
              "    <tr>\n",
              "      <th>mean</th>\n",
              "      <td>380.186092</td>\n",
              "      <td>383.493740</td>\n",
              "      <td>376.519309</td>\n",
              "      <td>380.072458</td>\n",
              "      <td>380.072458</td>\n",
              "      <td>8.038476e+06</td>\n",
              "    </tr>\n",
              "    <tr>\n",
              "      <th>std</th>\n",
              "      <td>223.818650</td>\n",
              "      <td>224.974534</td>\n",
              "      <td>222.473232</td>\n",
              "      <td>223.853780</td>\n",
              "      <td>223.853780</td>\n",
              "      <td>8.399521e+06</td>\n",
              "    </tr>\n",
              "    <tr>\n",
              "      <th>min</th>\n",
              "      <td>49.274517</td>\n",
              "      <td>50.541279</td>\n",
              "      <td>47.669952</td>\n",
              "      <td>49.681866</td>\n",
              "      <td>49.681866</td>\n",
              "      <td>7.900000e+03</td>\n",
              "    </tr>\n",
              "    <tr>\n",
              "      <th>25%</th>\n",
              "      <td>226.556473</td>\n",
              "      <td>228.394516</td>\n",
              "      <td>224.003082</td>\n",
              "      <td>226.407440</td>\n",
              "      <td>226.407440</td>\n",
              "      <td>2.584900e+06</td>\n",
              "    </tr>\n",
              "    <tr>\n",
              "      <th>50%</th>\n",
              "      <td>293.312286</td>\n",
              "      <td>295.433502</td>\n",
              "      <td>289.929291</td>\n",
              "      <td>293.029114</td>\n",
              "      <td>293.029114</td>\n",
              "      <td>5.281300e+06</td>\n",
              "    </tr>\n",
              "    <tr>\n",
              "      <th>75%</th>\n",
              "      <td>536.650024</td>\n",
              "      <td>540.000000</td>\n",
              "      <td>532.409973</td>\n",
              "      <td>536.690002</td>\n",
              "      <td>536.690002</td>\n",
              "      <td>1.065370e+07</td>\n",
              "    </tr>\n",
              "    <tr>\n",
              "      <th>max</th>\n",
              "      <td>992.000000</td>\n",
              "      <td>997.210022</td>\n",
              "      <td>989.000000</td>\n",
              "      <td>989.679993</td>\n",
              "      <td>989.679993</td>\n",
              "      <td>8.276810e+07</td>\n",
              "    </tr>\n",
              "  </tbody>\n",
              "</table>\n",
              "</div>"
            ],
            "text/plain": [
              "              Open         High  ...    Adj Close        Volume\n",
              "count  3313.000000  3313.000000  ...  3313.000000  3.313000e+03\n",
              "mean    380.186092   383.493740  ...   380.072458  8.038476e+06\n",
              "std     223.818650   224.974534  ...   223.853780  8.399521e+06\n",
              "min      49.274517    50.541279  ...    49.681866  7.900000e+03\n",
              "25%     226.556473   228.394516  ...   226.407440  2.584900e+06\n",
              "50%     293.312286   295.433502  ...   293.029114  5.281300e+06\n",
              "75%     536.650024   540.000000  ...   536.690002  1.065370e+07\n",
              "max     992.000000   997.210022  ...   989.679993  8.276810e+07\n",
              "\n",
              "[8 rows x 6 columns]"
            ]
          },
          "metadata": {},
          "execution_count": 149
        }
      ]
    },
    {
      "cell_type": "code",
      "source": [
        "# We get descriptive statistics on a single column of our DataFrame\n",
        "Google_stock['Adj Close'].describe()"
      ],
      "metadata": {
        "colab": {
          "base_uri": "https://localhost:8080/"
        },
        "id": "VqMEDasScXMH",
        "outputId": "ad1e5579-8c34-4408-a01a-8fe7524d5a26"
      },
      "execution_count": null,
      "outputs": [
        {
          "output_type": "execute_result",
          "data": {
            "text/plain": [
              "count    3313.000000\n",
              "mean      380.072458\n",
              "std       223.853780\n",
              "min        49.681866\n",
              "25%       226.407440\n",
              "50%       293.029114\n",
              "75%       536.690002\n",
              "max       989.679993\n",
              "Name: Adj Close, dtype: float64"
            ]
          },
          "metadata": {},
          "execution_count": 150
        }
      ]
    },
    {
      "cell_type": "markdown",
      "source": [
        "Similarly, you can also look at one statistic by using one of the many statistical functions Pandas provides. Let's look at some examples:"
      ],
      "metadata": {
        "id": "Tb0sDUJ2cdUn"
      }
    },
    {
      "cell_type": "code",
      "source": [
        "# We print information about our DataFrame  \n",
        "print()\n",
        "print('Maximum values of each column:\\n', Google_stock.max())\n",
        "print()\n",
        "print('Minimum Close value:', Google_stock['Close'].min())\n",
        "print()\n",
        "print('Average value of each column:\\n', Google_stock.mean())"
      ],
      "metadata": {
        "colab": {
          "base_uri": "https://localhost:8080/"
        },
        "id": "Usga71nCchdI",
        "outputId": "220a8ecc-20c6-4ef5-87b2-7f701a8712bf"
      },
      "execution_count": null,
      "outputs": [
        {
          "output_type": "stream",
          "name": "stdout",
          "text": [
            "\n",
            "Maximum values of each column:\n",
            " Date         2017-10-13\n",
            "Open                992\n",
            "High             997.21\n",
            "Low                 989\n",
            "Close            989.68\n",
            "Adj Close        989.68\n",
            "Volume         82768100\n",
            "dtype: object\n",
            "\n",
            "Minimum Close value: 49.681866\n",
            "\n",
            "Average value of each column:\n",
            " Open         3.801861e+02\n",
            "High         3.834937e+02\n",
            "Low          3.765193e+02\n",
            "Close        3.800725e+02\n",
            "Adj Close    3.800725e+02\n",
            "Volume       8.038476e+06\n",
            "dtype: float64\n"
          ]
        }
      ]
    },
    {
      "cell_type": "markdown",
      "source": [
        "Another important statistical measure is data correlation. Data correlation can tell us, for example, if the data in different columns are correlated. We can use the .corr() method to get the correlation between different columns, as shown below:"
      ],
      "metadata": {
        "id": "BALXknEdcruH"
      }
    },
    {
      "cell_type": "code",
      "source": [
        "# We display the correlation between columns\n",
        "Google_stock.corr()"
      ],
      "metadata": {
        "colab": {
          "base_uri": "https://localhost:8080/"
        },
        "id": "kFgnd0oVcvrc",
        "outputId": "ebcff0f6-072c-4240-b116-e094b8798140"
      },
      "execution_count": null,
      "outputs": [
        {
          "output_type": "execute_result",
          "data": {
            "text/html": [
              "<div>\n",
              "<style scoped>\n",
              "    .dataframe tbody tr th:only-of-type {\n",
              "        vertical-align: middle;\n",
              "    }\n",
              "\n",
              "    .dataframe tbody tr th {\n",
              "        vertical-align: top;\n",
              "    }\n",
              "\n",
              "    .dataframe thead th {\n",
              "        text-align: right;\n",
              "    }\n",
              "</style>\n",
              "<table border=\"1\" class=\"dataframe\">\n",
              "  <thead>\n",
              "    <tr style=\"text-align: right;\">\n",
              "      <th></th>\n",
              "      <th>Open</th>\n",
              "      <th>High</th>\n",
              "      <th>Low</th>\n",
              "      <th>Close</th>\n",
              "      <th>Adj Close</th>\n",
              "      <th>Volume</th>\n",
              "    </tr>\n",
              "  </thead>\n",
              "  <tbody>\n",
              "    <tr>\n",
              "      <th>Open</th>\n",
              "      <td>1.000000</td>\n",
              "      <td>0.999904</td>\n",
              "      <td>0.999845</td>\n",
              "      <td>0.999745</td>\n",
              "      <td>0.999745</td>\n",
              "      <td>-0.564258</td>\n",
              "    </tr>\n",
              "    <tr>\n",
              "      <th>High</th>\n",
              "      <td>0.999904</td>\n",
              "      <td>1.000000</td>\n",
              "      <td>0.999834</td>\n",
              "      <td>0.999868</td>\n",
              "      <td>0.999868</td>\n",
              "      <td>-0.562749</td>\n",
              "    </tr>\n",
              "    <tr>\n",
              "      <th>Low</th>\n",
              "      <td>0.999845</td>\n",
              "      <td>0.999834</td>\n",
              "      <td>1.000000</td>\n",
              "      <td>0.999899</td>\n",
              "      <td>0.999899</td>\n",
              "      <td>-0.567007</td>\n",
              "    </tr>\n",
              "    <tr>\n",
              "      <th>Close</th>\n",
              "      <td>0.999745</td>\n",
              "      <td>0.999868</td>\n",
              "      <td>0.999899</td>\n",
              "      <td>1.000000</td>\n",
              "      <td>1.000000</td>\n",
              "      <td>-0.564967</td>\n",
              "    </tr>\n",
              "    <tr>\n",
              "      <th>Adj Close</th>\n",
              "      <td>0.999745</td>\n",
              "      <td>0.999868</td>\n",
              "      <td>0.999899</td>\n",
              "      <td>1.000000</td>\n",
              "      <td>1.000000</td>\n",
              "      <td>-0.564967</td>\n",
              "    </tr>\n",
              "    <tr>\n",
              "      <th>Volume</th>\n",
              "      <td>-0.564258</td>\n",
              "      <td>-0.562749</td>\n",
              "      <td>-0.567007</td>\n",
              "      <td>-0.564967</td>\n",
              "      <td>-0.564967</td>\n",
              "      <td>1.000000</td>\n",
              "    </tr>\n",
              "  </tbody>\n",
              "</table>\n",
              "</div>"
            ],
            "text/plain": [
              "               Open      High       Low     Close  Adj Close    Volume\n",
              "Open       1.000000  0.999904  0.999845  0.999745   0.999745 -0.564258\n",
              "High       0.999904  1.000000  0.999834  0.999868   0.999868 -0.562749\n",
              "Low        0.999845  0.999834  1.000000  0.999899   0.999899 -0.567007\n",
              "Close      0.999745  0.999868  0.999899  1.000000   1.000000 -0.564967\n",
              "Adj Close  0.999745  0.999868  0.999899  1.000000   1.000000 -0.564967\n",
              "Volume    -0.564258 -0.562749 -0.567007 -0.564967  -0.564967  1.000000"
            ]
          },
          "metadata": {},
          "execution_count": 152
        }
      ]
    },
    {
      "cell_type": "markdown",
      "source": [
        "A correlation value of 1 tells us there is a high correlation and a correlation of 0 tells us that the data is not correlated at all."
      ],
      "metadata": {
        "id": "AuMII7TycyT3"
      }
    },
    {
      "cell_type": "markdown",
      "source": [
        "**groupby() method**\n",
        "\n",
        "We will end this Introduction to Pandas by taking a look at the .groupby() method. The .groupby() method allows us to group data in different ways. Let's see how we can group data to get different types of information. For the next examples, we are going to load fake data about a fictitious company."
      ],
      "metadata": {
        "id": "8604CilLc0rm"
      }
    },
    {
      "cell_type": "code",
      "source": [
        "# We load fake Company data in a DataFrame\n",
        "data = pd.read_csv('/content/fake-company.csv')\n",
        "\n",
        "data"
      ],
      "metadata": {
        "colab": {
          "base_uri": "https://localhost:8080/"
        },
        "id": "Mv6oJfQgc5Fr",
        "outputId": "4c6a1a9b-eb5f-4417-ada9-4a7bd470fa1c"
      },
      "execution_count": null,
      "outputs": [
        {
          "output_type": "execute_result",
          "data": {
            "text/html": [
              "<div>\n",
              "<style scoped>\n",
              "    .dataframe tbody tr th:only-of-type {\n",
              "        vertical-align: middle;\n",
              "    }\n",
              "\n",
              "    .dataframe tbody tr th {\n",
              "        vertical-align: top;\n",
              "    }\n",
              "\n",
              "    .dataframe thead th {\n",
              "        text-align: right;\n",
              "    }\n",
              "</style>\n",
              "<table border=\"1\" class=\"dataframe\">\n",
              "  <thead>\n",
              "    <tr style=\"text-align: right;\">\n",
              "      <th></th>\n",
              "      <th>Year</th>\n",
              "      <th>Name</th>\n",
              "      <th>Department</th>\n",
              "      <th>Age</th>\n",
              "      <th>Salary</th>\n",
              "    </tr>\n",
              "  </thead>\n",
              "  <tbody>\n",
              "    <tr>\n",
              "      <th>0</th>\n",
              "      <td>1990</td>\n",
              "      <td>Alice</td>\n",
              "      <td>HR</td>\n",
              "      <td>25</td>\n",
              "      <td>50000</td>\n",
              "    </tr>\n",
              "    <tr>\n",
              "      <th>1</th>\n",
              "      <td>1990</td>\n",
              "      <td>Bob</td>\n",
              "      <td>RD</td>\n",
              "      <td>30</td>\n",
              "      <td>48000</td>\n",
              "    </tr>\n",
              "    <tr>\n",
              "      <th>2</th>\n",
              "      <td>1990</td>\n",
              "      <td>Charlie</td>\n",
              "      <td>Admin</td>\n",
              "      <td>45</td>\n",
              "      <td>55000</td>\n",
              "    </tr>\n",
              "    <tr>\n",
              "      <th>3</th>\n",
              "      <td>1991</td>\n",
              "      <td>Dakota</td>\n",
              "      <td>HR</td>\n",
              "      <td>26</td>\n",
              "      <td>52000</td>\n",
              "    </tr>\n",
              "    <tr>\n",
              "      <th>4</th>\n",
              "      <td>1991</td>\n",
              "      <td>Elsa</td>\n",
              "      <td>RD</td>\n",
              "      <td>31</td>\n",
              "      <td>50000</td>\n",
              "    </tr>\n",
              "    <tr>\n",
              "      <th>5</th>\n",
              "      <td>1991</td>\n",
              "      <td>Frank</td>\n",
              "      <td>Admin</td>\n",
              "      <td>46</td>\n",
              "      <td>60000</td>\n",
              "    </tr>\n",
              "    <tr>\n",
              "      <th>6</th>\n",
              "      <td>1992</td>\n",
              "      <td>Grace</td>\n",
              "      <td>Admin</td>\n",
              "      <td>27</td>\n",
              "      <td>60000</td>\n",
              "    </tr>\n",
              "    <tr>\n",
              "      <th>7</th>\n",
              "      <td>1992</td>\n",
              "      <td>Hoffman</td>\n",
              "      <td>RD</td>\n",
              "      <td>32</td>\n",
              "      <td>52000</td>\n",
              "    </tr>\n",
              "    <tr>\n",
              "      <th>8</th>\n",
              "      <td>1992</td>\n",
              "      <td>Inaar</td>\n",
              "      <td>Admin</td>\n",
              "      <td>28</td>\n",
              "      <td>62000</td>\n",
              "    </tr>\n",
              "  </tbody>\n",
              "</table>\n",
              "</div>"
            ],
            "text/plain": [
              "   Year     Name Department  Age  Salary\n",
              "0  1990    Alice         HR   25   50000\n",
              "1  1990      Bob         RD   30   48000\n",
              "2  1990  Charlie      Admin   45   55000\n",
              "3  1991   Dakota         HR   26   52000\n",
              "4  1991     Elsa         RD   31   50000\n",
              "5  1991    Frank      Admin   46   60000\n",
              "6  1992    Grace      Admin   27   60000\n",
              "7  1992  Hoffman         RD   32   52000\n",
              "8  1992    Inaar      Admin   28   62000"
            ]
          },
          "metadata": {},
          "execution_count": 154
        }
      ]
    },
    {
      "cell_type": "markdown",
      "source": [
        "We see that the data contains information for the year 1990 through 1992. For each year we see name of the employees, the department they work for, their age, and their annual salary. Now, let's use the .groupby() method to get information.\n",
        "\n",
        "Example 10. Demonstrate groupby() and sum() method\n",
        "Let's calculate how much money the company spent on salaries each year. To do this, we will group the data by Year using the .groupby() method and then we will add up the salaries of all the employees by using the .sum() method."
      ],
      "metadata": {
        "id": "AWJWeaAxc_ru"
      }
    },
    {
      "cell_type": "code",
      "source": [
        "# We display the total amount of money spent in salaries each year\n",
        "data.groupby(['Year'])['Salary'].sum()"
      ],
      "metadata": {
        "colab": {
          "base_uri": "https://localhost:8080/"
        },
        "id": "RtUvZOoRdDWt",
        "outputId": "6efbc199-e4ab-49a7-855c-786d4d59c0d3"
      },
      "execution_count": null,
      "outputs": [
        {
          "output_type": "execute_result",
          "data": {
            "text/plain": [
              "Year\n",
              "1990    153000\n",
              "1991    162000\n",
              "1992    174000\n",
              "Name: Salary, dtype: int64"
            ]
          },
          "metadata": {},
          "execution_count": 155
        }
      ]
    },
    {
      "cell_type": "markdown",
      "source": [
        "Now, let's suppose I want to know what was the average salary for each year. In this case, we will group the data by Year using the .groupby() method, just as we did before, and then we use the .mean() method to get the average salary. Let's see how this works\n",
        "\n"
      ],
      "metadata": {
        "id": "i4P0KoFCdGnO"
      }
    },
    {
      "cell_type": "code",
      "source": [
        "# We display the average salary per year\n",
        "data.groupby(['Year'])['Salary'].mean()"
      ],
      "metadata": {
        "colab": {
          "base_uri": "https://localhost:8080/"
        },
        "id": "Ir1FJVKcdI3B",
        "outputId": "6f458f89-cf6e-457f-c88d-758a48902030"
      },
      "execution_count": null,
      "outputs": [
        {
          "output_type": "execute_result",
          "data": {
            "text/plain": [
              "Year\n",
              "1990    51000\n",
              "1991    54000\n",
              "1992    58000\n",
              "Name: Salary, dtype: int64"
            ]
          },
          "metadata": {},
          "execution_count": 156
        }
      ]
    },
    {
      "cell_type": "markdown",
      "source": [
        "Now let's see how much did each employee gets paid in those three years. In this case, we will group the data by Name using the .groupby() method and then we will add up the salaries for each year. Let's see the result"
      ],
      "metadata": {
        "id": "CZ_8tKQIdMDK"
      }
    },
    {
      "cell_type": "code",
      "source": [
        "# We display the total salary each employee received in all the years they worked for the company\n",
        "data.groupby(['Name'])['Salary'].sum()"
      ],
      "metadata": {
        "colab": {
          "base_uri": "https://localhost:8080/"
        },
        "id": "MCXdlEnudOhq",
        "outputId": "7ed4c947-9483-435e-d556-918b45511714"
      },
      "execution_count": null,
      "outputs": [
        {
          "output_type": "execute_result",
          "data": {
            "text/plain": [
              "Name\n",
              "Alice      50000\n",
              "Bob        48000\n",
              "Charlie    55000\n",
              "Dakota     52000\n",
              "Elsa       50000\n",
              "Frank      60000\n",
              "Grace      60000\n",
              "Hoffman    52000\n",
              "Inaar      62000\n",
              "Name: Salary, dtype: int64"
            ]
          },
          "metadata": {},
          "execution_count": 157
        }
      ]
    },
    {
      "cell_type": "markdown",
      "source": [
        "Now let's see what was the salary distribution per department per year. In this case, we will group the data by Year and by Department using the .groupby() method and then we will add up the salaries for each department. Let's see the result"
      ],
      "metadata": {
        "id": "vdRUN9_RdRJy"
      }
    },
    {
      "cell_type": "code",
      "source": [
        "# We display the salary distribution per department per year.\n",
        "data.groupby(['Year', 'Department'])['Salary'].sum()"
      ],
      "metadata": {
        "colab": {
          "base_uri": "https://localhost:8080/"
        },
        "id": "E4xvVOd4dT87",
        "outputId": "e7c3c7bb-9553-4972-cd0b-b0069367a261"
      },
      "execution_count": null,
      "outputs": [
        {
          "output_type": "execute_result",
          "data": {
            "text/plain": [
              "Year  Department\n",
              "1990  Admin          55000\n",
              "      HR             50000\n",
              "      RD             48000\n",
              "1991  Admin          60000\n",
              "      HR             52000\n",
              "      RD             50000\n",
              "1992  Admin         122000\n",
              "      RD             52000\n",
              "Name: Salary, dtype: int64"
            ]
          },
          "metadata": {},
          "execution_count": 158
        }
      ]
    },
    {
      "cell_type": "markdown",
      "source": [
        "We see that in 1990 the Admin department paid 55,000 dollars in salaries,the HR department paid 50,000, and the RD department 48,0000. While in 1992 the Admin department paid 122,000 dollars in salaries and the RD department paid 52,000."
      ],
      "metadata": {
        "id": "Bf8Xy3t7dZM3"
      }
    },
    {
      "cell_type": "markdown",
      "source": [
        "https://pandas.pydata.org/pandas-docs/stable/user_guide/10min.html"
      ],
      "metadata": {
        "id": "gRx8Kt-ldgKX"
      }
    },
    {
      "cell_type": "markdown",
      "source": [
        "ADD HERE TWO MINI PROJECTS\n",
        "\n",
        "LINK: https://github.com/udacity/AIPND"
      ],
      "metadata": {
        "id": "7Amm20LXd0-I"
      }
    }
  ]
}