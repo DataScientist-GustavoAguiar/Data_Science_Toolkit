{
  "nbformat": 4,
  "nbformat_minor": 0,
  "metadata": {
    "colab": {
      "name": "Software_Engineering_Python_Practices.ipynb",
      "provenance": [],
      "collapsed_sections": [
        "SJ3haQZWn_pX",
        "7-MK-YrTi0nt",
        "niCLApGGjGji",
        "PMO9jnd7jWEp",
        "gQw__Q-1j_r7",
        "kvOdMOWUkou-",
        "tb74a7dAlCpP",
        "6l02EtHklP48",
        "QParStvilWwO",
        "EVqoTDD-lsmV",
        "FK9BvNQQnBiJ",
        "1Wycf-BSnJSC",
        "qqaZjOiun0DP",
        "DsuzeLodpY9F",
        "CwaZjv2Fp3Cn",
        "-8mst8V8p4_x",
        "aDXZHGCAr6Yw",
        "ddpIp8O3sIZK",
        "Gc7B1I6msO6V"
      ]
    },
    "kernelspec": {
      "name": "python3",
      "display_name": "Python 3"
    },
    "language_info": {
      "name": "python"
    }
  },
  "cells": [
    {
      "cell_type": "markdown",
      "source": [
        "## Software Engineering Practices"
      ],
      "metadata": {
        "id": "SJ3haQZWn_pX"
      }
    },
    {
      "cell_type": "markdown",
      "source": [
        "### Clean and Modular Code"
      ],
      "metadata": {
        "id": "7-MK-YrTi0nt"
      }
    },
    {
      "cell_type": "markdown",
      "source": [
        "* Production code: Software running on production servers to handle live users and data of the intended audience. Note that this is different from production-quality code, which describes code that meets expectations for production in reliability, efficiency, and other aspects. Ideally, all code in production meets these expectations, but this is not always the case.\n",
        "\n",
        "* Clean code: Code that is readable, simple, and concise. Clean production-quality code is crucial for collaboration and maintainability in software development.\n",
        "\n",
        "* Modular code: Code that is logically broken up into functions and modules. Modular production-quality code that makes your code more organized, efficient, and reusable.\n",
        "\n",
        "* Module: A file. Modules allow code to be reused by encapsulating them into files that can be imported into other files."
      ],
      "metadata": {
        "id": "5_vdtOs0i4kj"
      }
    },
    {
      "cell_type": "markdown",
      "source": [
        "#### Refactoring Code"
      ],
      "metadata": {
        "id": "niCLApGGjGji"
      }
    },
    {
      "cell_type": "markdown",
      "source": [
        "* Refactoring: Restructuring your code to improve its internal structure without changing its external functionality. This gives you a chance to clean and modularize your program after you've got it working.\n",
        "\n",
        "Since it isn't easy to write your best code while you're still trying to just get it working, allocating time to do this is essential to producing high-quality code. Despite the initial time and effort required, this really pays off by speeding up your development time in the long run.\n",
        "\n",
        "You become a much stronger programmer when you're constantly looking to improve your code. The more you refactor, the easier it will be to structure and write good code the first time."
      ],
      "metadata": {
        "id": "c2esu1evjIKl"
      }
    },
    {
      "cell_type": "markdown",
      "source": [
        "#### Writing clean code"
      ],
      "metadata": {
        "id": "PMO9jnd7jWEp"
      }
    },
    {
      "cell_type": "markdown",
      "source": [
        "Use meaningful names.\n",
        "\n",
        "* Be descriptive and imply type: For booleans, you can prefix with is_ or has_ to make it clear it is a condition. You can also use parts of speech to imply types, like using verbs for functions and nouns for variables.\n",
        "\n",
        "* Be consistent but clearly differentiate: age_list and age is easier to differentiate than ages and age.\n",
        "\n",
        "* Avoid abbreviations and single letters: You can determine when to make these exceptions based on the audience for your code. If you work with other data scientists, certain variables may be common knowledge. While if you work with full stack engineers, it might be necessary to provide more descriptive names in these cases as well. (Exceptions include counters and common math variables.)\n",
        "Long names aren't the same as descriptive names: You should be descriptive, but only with relevant information. For example, good function names describe what they do well without including details about implementation or highly specific uses.\n",
        "\n",
        "Try testing how effective your names are by asking a fellow programmer to guess the purpose of a function or variable based on its name, without looking at your code. Coming up with meaningful names often requires effort to get right."
      ],
      "metadata": {
        "id": "XF8dr3S8jiTO"
      }
    },
    {
      "cell_type": "markdown",
      "source": [
        "Use whitespace properly.\n",
        "\n",
        "* Organize your code with consistent indentation: the standard is to use four spaces for each indent. You can make this a default in your text editor.\n",
        "\n",
        "* Separate sections with blank lines to keep your code well organized and readable.\n",
        "\n",
        "* Try to limit your lines to around 79 characters, which is the guideline given in the PEP 8 style guide. In many good text editors, there is a setting to display a subtle line that indicates where the 79 character limit is.\n",
        "\n",
        "For more guidelines, check out the code layout section of PEP 8 in the following notes."
      ],
      "metadata": {
        "id": "Ni7cg4-ajygK"
      }
    },
    {
      "cell_type": "markdown",
      "source": [
        "#### Writing Modular Codes"
      ],
      "metadata": {
        "id": "gQw__Q-1j_r7"
      }
    },
    {
      "cell_type": "markdown",
      "source": [
        "* DRY (Don't Repeat Yourself). Don't repeat yourself! Modularization allows you to reuse parts of your code. Generalize and consolidate repeated code in functions or loops.\n",
        "\n",
        "* Abstract out logic to improve readability. Abstracting out code into a function not only makes it less repetitive, but also improves readability with descriptive function names. Although your code can become more readable when you abstract out logic into functions, it is possible to over-engineer this and have way too many modules, so use your judgement.\n",
        "\n",
        "* Minimize the number of entities (functions, classes, modules, etc.) There are trade-offs to having function calls instead of inline logic. If you have broken up your code into an unnecessary amount of functions and modules, you'll have to jump around everywhere if you want to view the implementation details for something that may be too small to be worth it. Creating more modules doesn't necessarily result in effective modularization.\n",
        "\n",
        "* Functions should do one thing. Each function you write should be focused on doing one thing. If a function is doing multiple things, it becomes more difficult to generalize and reuse. Generally, if there's an \"and\" in your function name, consider refactoring.\n",
        "\n",
        "* Arbitrary variable names can be more effective in certain functions. Arbitrary variable names in general functions can actually make the code more readable.\n",
        "\n",
        "* Try to use fewer than three arguments per function\n",
        "Try to use no more than three arguments when possible. This is not a hard rule and there are times when it is more appropriate to use many parameters. But in many cases, it's more effective to use fewer arguments. Remember we are modularizing to simplify our code and make it more efficient. If your function has a lot of parameters, you may want to rethink how you are splitting this up"
      ],
      "metadata": {
        "id": "fBqM1nwgkEIZ"
      }
    },
    {
      "cell_type": "markdown",
      "source": [
        "### Efficient Code"
      ],
      "metadata": {
        "id": "kvOdMOWUkou-"
      }
    },
    {
      "cell_type": "markdown",
      "source": [
        "Knowing how to write code that runs efficiently is another essential skill in software development. Optimizing code to be more efficient can mean making it:\n",
        "\n",
        "* Execute faster\n",
        "* Take up less space in memory/storage\n",
        "\n",
        "The project on which you're working determines which of these is more important to optimize for your company or product. When you're performing lots of different transformations on large amounts of data, this can make orders of magnitudes of difference in performance."
      ],
      "metadata": {
        "id": "RLUllllXksG4"
      }
    },
    {
      "cell_type": "markdown",
      "source": [
        "### Documentation"
      ],
      "metadata": {
        "id": "tb74a7dAlCpP"
      }
    },
    {
      "cell_type": "markdown",
      "source": [
        "Documentation: Additional text or illustrated information that comes with or is embedded in the code of software Documentation is helpful for clarifying complex parts of code, making your code easier to navigate, and quickly conveying how and why different components of your program are used.\n",
        "\n",
        "Several types of documentation can be added at different levels of your program:\n",
        "\n",
        "* Inline comments - line level\n",
        "* Docstrings - module and function level\n",
        "* Project documentation - project level"
      ],
      "metadata": {
        "id": "uhzh5ij_lEK0"
      }
    },
    {
      "cell_type": "markdown",
      "source": [
        "### Inline Comments"
      ],
      "metadata": {
        "id": "6l02EtHklP48"
      }
    },
    {
      "cell_type": "markdown",
      "source": [
        "Inline comments are text following hash symbols throughout your code. They are used to explain parts of your code, and really help future contributors understand your work.\n",
        "\n",
        "Comments often document the major steps of complex code. Readers may not have to understand the code to follow what it does if the comments explain it. However, others would argue that this is using comments to justify bad code, and that if code requires comments to follow, it is a sign refactoring is needed.\n",
        "\n",
        "Comments are valuable for explaining where code cannot. For example, the history behind why a certain method was implemented a specific way. Sometimes an unconventional or seemingly arbitrary approach may be applied because of some obscure external variable causing side effects. These things are difficult to explain with code."
      ],
      "metadata": {
        "id": "43ffduCllR2F"
      }
    },
    {
      "cell_type": "markdown",
      "source": [
        "### Docstrings"
      ],
      "metadata": {
        "id": "QParStvilWwO"
      }
    },
    {
      "cell_type": "markdown",
      "source": [
        "Docstring, or documentation strings, are valuable pieces of documentation that explain the functionality of any function or module in your code. Ideally, each of your functions should always have a docstring.\n",
        "\n",
        "Docstrings are surrounded by triple quotes. The first line of the docstring is a brief explanation of the function's purpose."
      ],
      "metadata": {
        "id": "7tCuJVsIlikf"
      }
    },
    {
      "cell_type": "code",
      "source": [
        "def population_density(population, land_area):\n",
        "    \"\"\"Calculate the population density of an area.\"\"\"\n",
        "    return population / land_area"
      ],
      "metadata": {
        "id": "vfcPsEWvlkyM"
      },
      "execution_count": null,
      "outputs": []
    },
    {
      "cell_type": "code",
      "source": [
        "def population_density(population, land_area):\n",
        "    \"\"\"Calculate the population density of an area.\n",
        "\n",
        "    Args:\n",
        "    population: int. The population of the area\n",
        "    land_area: int or float. This function is unit-agnostic, if you pass in values in terms of square km or square miles the function will return a density in those units.\n",
        "\n",
        "    Returns:\n",
        "    population_density: population/land_area. The population density of a \n",
        "    particular area.\n",
        "    \"\"\"\n",
        "    return population / land_area"
      ],
      "metadata": {
        "id": "P8rQrggClmHz"
      },
      "execution_count": null,
      "outputs": []
    },
    {
      "cell_type": "markdown",
      "source": [
        "The next element of a docstring is an explanation of the function's arguments. Here, you list the arguments, state their purpose, and state what types the arguments should be. Finally, it is common to provide some description of the output of the function. Every piece of the docstring is optional; however, doc strings are a part of good coding practice."
      ],
      "metadata": {
        "id": "I-DABcqhlphq"
      }
    },
    {
      "cell_type": "markdown",
      "source": [
        "### Project Documentation"
      ],
      "metadata": {
        "id": "EVqoTDD-lsmV"
      }
    },
    {
      "cell_type": "markdown",
      "source": [
        "Project documentation is essential for getting others to understand why and how your code is relevant to them, whether they are potentials users of your project or developers who may contribute to your code. A great first step in project documentation is your README file. It will often be the first interaction most users will have with your project.\n",
        "\n",
        "Whether it's an application or a package, your project should absolutely come with a README file. At a minimum, this should explain what it does, list its dependencies, and provide sufficiently detailed instructions on how to use it. Make it as simple as possible for others to understand the purpose of your project and quickly get something working.\n",
        "\n",
        "Translating all your ideas and thoughts formally on paper can be a little difficult, but you'll get better over time, and doing so makes a significant difference in helping others realize the value of your project. Writing this documentation can also help you improve the design of your code, as you're forced to think through your design decisions more thoroughly. It also helps future contributors to follow your original intentions."
      ],
      "metadata": {
        "id": "nDRKXz6clwtV"
      }
    },
    {
      "cell_type": "markdown",
      "source": [
        "### Testing"
      ],
      "metadata": {
        "id": "FK9BvNQQnBiJ"
      }
    },
    {
      "cell_type": "markdown",
      "source": [
        "Testing your code is essential before deployment. It helps you catch errors and faulty conclusions before they make any major impact. Today, employers are looking for data scientists with the skills to properly prepare their code for an industry setting, which includes testing their code."
      ],
      "metadata": {
        "id": "O86evdRAnFTR"
      }
    },
    {
      "cell_type": "markdown",
      "source": [
        "#### Testing And Data Science"
      ],
      "metadata": {
        "id": "1Wycf-BSnJSC"
      }
    },
    {
      "cell_type": "markdown",
      "source": [
        "* Problems that could occur in data science aren’t always easily detectable; you might have values being encoded incorrectly, features being used inappropriately, or unexpected data breaking assumptions.\n",
        "\n",
        "* To catch these errors, you have to check for the quality and accuracy of your analysis in addition to the quality of your code. Proper testing is necessary to avoid unexpected surprises and have confidence in your results.\n",
        "\n",
        "* Test-driven development (TDD): A development process in which you write tests for tasks before you even write the code to implement those tasks.\n",
        "\n",
        "* Unit test: A type of test that covers a “unit” of code—usually a single function—independently from the rest of the program."
      ],
      "metadata": {
        "id": "gaPJUY6xnL_0"
      }
    },
    {
      "cell_type": "markdown",
      "source": [
        "#### Unit Test"
      ],
      "metadata": {
        "id": "qqaZjOiun0DP"
      }
    },
    {
      "cell_type": "markdown",
      "source": [
        "We want to test our functions in a way that is repeatable and automated. Ideally, we'd run a test program that runs all our unit tests and cleanly lets us know which ones failed and which ones succeeded. Fortunately, there are great tools available in Python that we can use to create effective unit tests!\n",
        "\n",
        "The advantage of unit tests is that they are isolated from the rest of your program, and thus, no dependencies are involved. They don't require access to databases, APIs, or other external sources of information. However, passing unit tests isn’t always enough to prove that our program is working successfully. To show that all the parts of our program work with each other properly, communicating and transferring data between them correctly, we use integration tests. In this lesson, we'll focus on unit tests; however, when you start building larger programs, you will want to use integration tests as well.\n",
        "\n",
        "To learn more about integration testing and how integration tests relate to unit tests, see Integration Testing. That article contains other very useful links as well.\n",
        "\n",
        "* Unit Testing Tools\n",
        "\n",
        "To install pytest, run pip install -U pytest in your terminal. You can see more information on getting started here.\n",
        "\n",
        "Create a test file starting with test_.\n",
        "Define unit test functions that start with test_ inside the test file.\n",
        "\n",
        "Enter pytest into your terminal in the directory of your test file and it detects these tests for you.\n",
        "test_ is the default; if you wish to change this, you can learn how in this pytest configuration.\n",
        "\n",
        "In the test output, periods represent successful unit tests and Fs represent failed unit tests. Since all you see is which test functions failed, it's wise to have only one assert statement per test. Otherwise, you won't know exactly how many tests failed or which tests failed.\n",
        "\n",
        "Your test won't be stopped by failed assert statements, but it will stop if you have syntax errors."
      ],
      "metadata": {
        "id": "jmPjVm5Hn139"
      }
    },
    {
      "cell_type": "markdown",
      "source": [
        "#### Test-driven development and data science"
      ],
      "metadata": {
        "id": "DsuzeLodpY9F"
      }
    },
    {
      "cell_type": "markdown",
      "source": [
        "Test-driven development: Writing tests before you write the code that’s being tested. Your test fails at first, and you know you’ve finished implementing a task when the test passes.\n",
        "\n",
        "Tests can check for different scenarios and edge cases before you even start to write your function. When start implementing your function, you can run the test to get immediate feedback on whether it works or not as you tweak your function.\n",
        "\n",
        "When refactoring or adding to your code, tests help you rest assured that the rest of your code didn't break while you were making those changes. Tests also helps ensure that your function behavior is repeatable, regardless of external parameters such as hardware and time.\n",
        "\n",
        "Test-driven development for data science is relatively new and is experiencing a lot of experimentation and breakthroughs. You can learn more about it by exploring the following resources."
      ],
      "metadata": {
        "id": "ITI-n-9gn96J"
      }
    },
    {
      "cell_type": "markdown",
      "source": [
        "https://www.linkedin.com/pulse/data-science-test-driven-development-sam-savage/"
      ],
      "metadata": {
        "id": "dUzrPm3mpai0"
      }
    },
    {
      "cell_type": "markdown",
      "source": [
        "http://engineering.pivotal.io/post/test-driven-development-for-data-science/"
      ],
      "metadata": {
        "id": "kB-5QimopdWR"
      }
    },
    {
      "cell_type": "markdown",
      "source": [
        "http://docs.python-guide.org/en/latest/writing/tests/"
      ],
      "metadata": {
        "id": "NeMkdiGWpffq"
      }
    },
    {
      "cell_type": "markdown",
      "source": [
        "Logging is valuable for understanding the events that occur while running your program. For example, if you run your model overnight and the results the following morning are not what you expect, log messages can help you understand more about the context in those results occurred. Let's learn about the qualities that make a log message effective."
      ],
      "metadata": {
        "id": "Pgdp65FDpk2s"
      }
    },
    {
      "cell_type": "markdown",
      "source": [
        "### Code Review"
      ],
      "metadata": {
        "id": "CwaZjv2Fp3Cn"
      }
    },
    {
      "cell_type": "markdown",
      "source": [
        "#### Best Practices"
      ],
      "metadata": {
        "id": "-8mst8V8p4_x"
      }
    },
    {
      "cell_type": "markdown",
      "source": [
        "At my current company, we do a fair amount of code reviews. I had never done one before I started here so it was a new experience for me. I think it’s a good idea to crystalize some of the things I look for when I’m doing code reviews and talk about the best way I’ve found to approach them.\n",
        "\n",
        "Briefly, a code review is a discussion between two or more developers about changes to the code to address an issue. Many articles talk about the benefits of code reviews, including knowledge sharing, code quality, and developer growth. I’ve found fewer that talk about what to look for in a review and how to discuss code under review."
      ],
      "metadata": {
        "id": "dy522IYBp-Rx"
      }
    },
    {
      "cell_type": "markdown",
      "source": [
        "https://www.kevinlondon.com/2015/05/05/code-review-best-practices.html"
      ],
      "metadata": {
        "id": "yYSrqOtXqBWc"
      }
    },
    {
      "cell_type": "markdown",
      "source": [
        "Questions to ask yourself when conducting a code review\n",
        "\n",
        "First, let's look over some of the questions we might ask ourselves while reviewing code. These are drawn from the concepts we've covered in these last two lessons.\n",
        "\n",
        "1. Is the code clean and modular?\n",
        "\n",
        "* Can I understand the code easily?\n",
        "* Does it use meaningful names and whitespace?\n",
        "* Is there duplicated code?\n",
        "* Can I provide another layer of abstraction?\n",
        "* Is each function and module necessary?\n",
        "* Is each function or module too long?\n",
        "\n",
        "\n",
        "2. Is the code efficient?\n",
        "\n",
        "* Are there loops or other steps I can vectorize?\n",
        "* Can I use better data structures to optimize any steps?\n",
        "* Can I shorten the number of calculations needed for any steps?\n",
        "* Can I use generators or multiprocessing to optimize any steps?\n",
        "\n",
        "\n",
        "3. Is the documentation effective?\n",
        "\n",
        "* Are inline comments concise and meaningful?\n",
        "* Is there complex code that's missing documentation?\n",
        "* Do functions use effective docstrings?\n",
        "* Is the necessary project documentation provided?\n",
        "\n",
        "\n",
        "4. Is the code well tested?\n",
        "\n",
        "* Does the code high test coverage?\n",
        "* Do tests check for interesting cases?\n",
        "* Are the tests readable?\n",
        "* Can the tests be made more efficient?\n",
        "\n",
        "\n",
        "5. Is the logging effective?\n",
        "\n",
        "* Are log messages clear, concise, and professional?\n",
        "* Do they include all relevant and useful information?\n",
        "* Do they use the appropriate logging level?"
      ],
      "metadata": {
        "id": "bDik0QaTqJDa"
      }
    },
    {
      "cell_type": "markdown",
      "source": [
        "Now that we know what we're looking for, let's go over some tips on how to actually write your code review. When your coworker finishes up some code that they want to merge to the team's code base, they might send it to you for review. You provide feedback and suggestions, and then they may make changes and send it back to you. When you are happy with the code, you approve it and it gets merged to the team's code base.\n",
        "\n",
        "As you may have noticed, with code reviews you are now dealing with people, not just computers. So it's important to be thoughtful of their ideas and efforts. You are in a team and there will be differences in preferences. The goal of code review isn't to make all code follow your personal preferences, but to ensure it meets a standard of quality for the whole team.\n",
        "\n",
        "* Tip: Use a code linter\n",
        "\n",
        "This isn't really a tip for code review, but it can save you lots of time in a code review. Using a Python code linter like pylint can automatically check for coding standards and PEP 8 guidelines for you. It's also a good idea to agree on a style guide as a team to handle disagreements on code style, whether that's an existing style guide or one you create together incrementally as a team."
      ],
      "metadata": {
        "id": "9EPzisRXqxrO"
      }
    },
    {
      "cell_type": "markdown",
      "source": [
        "Rather than commanding people to change their code a specific way because it's better, it will go a long way to explain to them the consequences of the current code and suggest changes to improve it. They will be much more receptive to your feedback if they understand your thought process and are accepting recommendations, rather than following commands. They also may have done it a certain way intentionally, and framing it as a suggestion promotes a constructive discussion, rather than opposition."
      ],
      "metadata": {
        "id": "13AFgZxwrH7B"
      }
    },
    {
      "cell_type": "code",
      "source": [
        "BAD: Make model evaluation code its own module - too repetitive.\n",
        "\n",
        "BETTER: Make the model evaluation code its own module. This will simplify model\n",
        "s.py to be less repetitive and focus primarily on building models.\n",
        "\n",
        "GOOD: How about we consider making the model evaluation code its own module? \n",
        "This would simplify models.py to only include code for building models. \n",
        "Organizing these evaluations methods into separate functions would also allow \n",
        "us to reuse them with different models without repeating code."
      ],
      "metadata": {
        "id": "XgJ0vH5ErJX-"
      },
      "execution_count": null,
      "outputs": []
    },
    {
      "cell_type": "code",
      "source": [
        "BAD: I wouldnt groupby genre twice like you did here... \n",
        "Just compute it once and use that for your aggregations.\n",
        "\n",
        "BAD: You create this groupby dataframe twice here. Just compute it once, save \n",
        "it as groupby_genre and then use that to get your average prices and views.\n",
        "\n",
        "GOOD: Can we group by genre at the beginning of the function and then save that\n",
        " as a groupby object? We could then reference that object to get the average \n",
        " prices and views without computing groupby twice."
      ],
      "metadata": {
        "id": "g0FlZmT-rTrA"
      },
      "execution_count": null,
      "outputs": []
    },
    {
      "cell_type": "markdown",
      "source": [
        "When providing a code review, you can save the author time and make it easy for them to act on your feedback by writing out your code suggestions. This shows you are willing to spend some extra time to review their code and help them out. It can also just be much quicker for you to demonstrate concepts through code rather than explanations."
      ],
      "metadata": {
        "id": "rQ2O3OdUrfk-"
      }
    },
    {
      "cell_type": "code",
      "source": [
        "BAD: You can do this all in one step by using the pandas str.split method.\n",
        "GOOD: We can actually simplify this step to the line below using the pandas \n",
        "str.split method. Found this on this stack overflow \n",
        "post: https://stackoverflow.com/questions/14745022/how-to-split-a-column-into-two-columns\n",
        "\n",
        "df['first_name'], df['last_name'] = df['name'].str.split(' ', 1).str"
      ],
      "metadata": {
        "id": "itun8tKLrjHm"
      },
      "execution_count": null,
      "outputs": []
    },
    {
      "cell_type": "markdown",
      "source": [
        "### Introduction to Object-Oriented Programming"
      ],
      "metadata": {
        "id": "aDXZHGCAr6Yw"
      }
    },
    {
      "cell_type": "markdown",
      "source": [
        "### Upload a package to PyPi"
      ],
      "metadata": {
        "id": "ddpIp8O3sIZK"
      }
    },
    {
      "cell_type": "markdown",
      "source": [
        "### Deploy a web data dashboard"
      ],
      "metadata": {
        "id": "Gc7B1I6msO6V"
      }
    }
  ]
}